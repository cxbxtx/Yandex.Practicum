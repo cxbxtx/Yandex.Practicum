{
 "cells": [
  {
   "cell_type": "markdown",
   "id": "fffd2282",
   "metadata": {},
   "source": [
    "# Прогнозирование температуры звезды"
   ]
  },
  {
   "cell_type": "markdown",
   "id": "8f5e07b8",
   "metadata": {},
   "source": [
    "Поставлена задача от обсерватории, придумать, как с помощью нейросети определять температуру на поверхности обнаруженных звёзд.\n",
    "\n",
    "Для расчёта температуры учёные пользуются следующими методами:\n",
    "- Закон смещения Вина.\n",
    "- Закон Стефана-Больцмана.\n",
    "- Спектральный анализ.\n",
    "\n",
    "Каждый из них имеет плюсы и минусы. Обсерватория хочет внедрить технологии машинного обучения для предсказания температуры звёзд, надеясь, что этот метод будет наиболее точным и удобным.\n",
    "В базе обсерватории есть характеристики уже изученных 240 звёзд.\n",
    "\n",
    "Характеристики:\n",
    "- `Относительная светимость L/Lo` — светимость звезды относительно Солнца.\n",
    "- `Относительный радиус R/Ro` — радиус звезды относительно радиуса Солнца.\n",
    "- `Абсолютная звёздная величина Mv` — физическая величина, характеризующая блеск звезды.\n",
    "- `Звёздный цвет` (white, red, blue, yellow, yellow-orange и др.) — цвет звезды, который определяют на основе спектрального анализа.\n",
    "- `Тип звезды`.\n",
    "\n",
    "    Тип звезды и номер, соответствующий типу:\n",
    "    - Коричневый карлик\t- 0\n",
    "    - Красный карлик - 1\n",
    "    - Белый карлик\t2\n",
    "    - Звёзды главной последовательности\t- 3\n",
    "    - Сверхгигант - 4\n",
    "    - Гипергигант - 5\n",
    "- `Абсолютная температура T(K)` — температура на поверхности звезды в Кельвинах."
   ]
  },
  {
   "cell_type": "code",
   "execution_count": 1,
   "id": "07600fc7",
   "metadata": {
    "scrolled": true
   },
   "outputs": [],
   "source": [
    "#!pip install -q torch"
   ]
  },
  {
   "cell_type": "code",
   "execution_count": 2,
   "id": "d8157998",
   "metadata": {
    "scrolled": false
   },
   "outputs": [],
   "source": [
    "#!pip install -q skorch"
   ]
  },
  {
   "cell_type": "markdown",
   "id": "corresponding-armstrong",
   "metadata": {
    "ExecuteTime": {
     "end_time": "2022-05-05T04:58:05.692448Z",
     "start_time": "2022-05-05T04:58:05.688565Z"
    }
   },
   "source": [
    "## Шаг 1. Загрузка данных"
   ]
  },
  {
   "cell_type": "markdown",
   "id": "cd004f48",
   "metadata": {},
   "source": [
    "Импортируем библиотеки:"
   ]
  },
  {
   "cell_type": "code",
   "execution_count": 3,
   "id": "spectacular-folder",
   "metadata": {},
   "outputs": [],
   "source": [
    "from math import ceil\n",
    "from math import sqrt\n",
    "import random\n",
    "import itertools\n",
    "\n",
    "import pandas as pd\n",
    "import numpy as np\n",
    "import seaborn as sns\n",
    "import matplotlib.pyplot as plt\n",
    "import matplotlib.lines as lines\n",
    "\n",
    "from sklearn.preprocessing import StandardScaler, OneHotEncoder\n",
    "from sklearn.model_selection import train_test_split, RandomizedSearchCV, GridSearchCV\n",
    "from sklearn.metrics import mean_squared_error, make_scorer\n",
    "from skorch.callbacks import EpochScoring, EarlyStopping\n",
    "from skorch.regressor import NeuralNetRegressor\n",
    "from skorch.dataset import ValidSplit\n",
    "import torch\n",
    "from torch import nn\n",
    "\n",
    "\n",
    "SEED=777"
   ]
  },
  {
   "cell_type": "markdown",
   "id": "a8adc420",
   "metadata": {},
   "source": [
    "Прочитаем датасет и сохраним в переменную:"
   ]
  },
  {
   "cell_type": "code",
   "execution_count": 4,
   "id": "ea3a7e45",
   "metadata": {},
   "outputs": [],
   "source": [
    "df = pd.read_csv('/datasets/6_class.csv', index_col=0)"
   ]
  },
  {
   "cell_type": "markdown",
   "id": "2d9a6289",
   "metadata": {},
   "source": [
    "Выведем 7 случайных строк датасета:"
   ]
  },
  {
   "cell_type": "code",
   "execution_count": 5,
   "id": "bd1667f0",
   "metadata": {},
   "outputs": [
    {
     "data": {
      "text/html": [
       "<div>\n",
       "<style scoped>\n",
       "    .dataframe tbody tr th:only-of-type {\n",
       "        vertical-align: middle;\n",
       "    }\n",
       "\n",
       "    .dataframe tbody tr th {\n",
       "        vertical-align: top;\n",
       "    }\n",
       "\n",
       "    .dataframe thead th {\n",
       "        text-align: right;\n",
       "    }\n",
       "</style>\n",
       "<table border=\"1\" class=\"dataframe\">\n",
       "  <thead>\n",
       "    <tr style=\"text-align: right;\">\n",
       "      <th></th>\n",
       "      <th>Temperature (K)</th>\n",
       "      <th>Luminosity(L/Lo)</th>\n",
       "      <th>Radius(R/Ro)</th>\n",
       "      <th>Absolute magnitude(Mv)</th>\n",
       "      <th>Star type</th>\n",
       "      <th>Star color</th>\n",
       "    </tr>\n",
       "  </thead>\n",
       "  <tbody>\n",
       "    <tr>\n",
       "      <th>189</th>\n",
       "      <td>3523</td>\n",
       "      <td>0.000957</td>\n",
       "      <td>0.12900</td>\n",
       "      <td>16.35</td>\n",
       "      <td>0</td>\n",
       "      <td>Red</td>\n",
       "    </tr>\n",
       "    <tr>\n",
       "      <th>160</th>\n",
       "      <td>25390</td>\n",
       "      <td>223000.000000</td>\n",
       "      <td>57.00000</td>\n",
       "      <td>-5.92</td>\n",
       "      <td>4</td>\n",
       "      <td>Blue</td>\n",
       "    </tr>\n",
       "    <tr>\n",
       "      <th>2</th>\n",
       "      <td>2600</td>\n",
       "      <td>0.000300</td>\n",
       "      <td>0.10200</td>\n",
       "      <td>18.70</td>\n",
       "      <td>0</td>\n",
       "      <td>Red</td>\n",
       "    </tr>\n",
       "    <tr>\n",
       "      <th>186</th>\n",
       "      <td>2968</td>\n",
       "      <td>0.000461</td>\n",
       "      <td>0.11900</td>\n",
       "      <td>17.45</td>\n",
       "      <td>0</td>\n",
       "      <td>Red</td>\n",
       "    </tr>\n",
       "    <tr>\n",
       "      <th>133</th>\n",
       "      <td>2989</td>\n",
       "      <td>0.008700</td>\n",
       "      <td>0.34000</td>\n",
       "      <td>13.12</td>\n",
       "      <td>1</td>\n",
       "      <td>Red</td>\n",
       "    </tr>\n",
       "    <tr>\n",
       "      <th>145</th>\n",
       "      <td>8924</td>\n",
       "      <td>0.000280</td>\n",
       "      <td>0.00879</td>\n",
       "      <td>14.87</td>\n",
       "      <td>2</td>\n",
       "      <td>Blue white</td>\n",
       "    </tr>\n",
       "    <tr>\n",
       "      <th>119</th>\n",
       "      <td>3780</td>\n",
       "      <td>200000.000000</td>\n",
       "      <td>1324.00000</td>\n",
       "      <td>-10.70</td>\n",
       "      <td>5</td>\n",
       "      <td>Red</td>\n",
       "    </tr>\n",
       "  </tbody>\n",
       "</table>\n",
       "</div>"
      ],
      "text/plain": [
       "     Temperature (K)  Luminosity(L/Lo)  Radius(R/Ro)  Absolute magnitude(Mv)  \\\n",
       "189             3523          0.000957       0.12900                   16.35   \n",
       "160            25390     223000.000000      57.00000                   -5.92   \n",
       "2               2600          0.000300       0.10200                   18.70   \n",
       "186             2968          0.000461       0.11900                   17.45   \n",
       "133             2989          0.008700       0.34000                   13.12   \n",
       "145             8924          0.000280       0.00879                   14.87   \n",
       "119             3780     200000.000000    1324.00000                  -10.70   \n",
       "\n",
       "     Star type  Star color  \n",
       "189          0         Red  \n",
       "160          4        Blue  \n",
       "2            0         Red  \n",
       "186          0         Red  \n",
       "133          1         Red  \n",
       "145          2  Blue white  \n",
       "119          5         Red  "
      ]
     },
     "execution_count": 5,
     "metadata": {},
     "output_type": "execute_result"
    }
   ],
   "source": [
    "df.sample(7)"
   ]
  },
  {
   "cell_type": "markdown",
   "id": "ab5d0e5d",
   "metadata": {},
   "source": [
    "Выведем общую информацию о данных в датасете:"
   ]
  },
  {
   "cell_type": "code",
   "execution_count": 6,
   "id": "12ad62ca",
   "metadata": {},
   "outputs": [
    {
     "name": "stdout",
     "output_type": "stream",
     "text": [
      "<class 'pandas.core.frame.DataFrame'>\n",
      "Int64Index: 240 entries, 0 to 239\n",
      "Data columns (total 6 columns):\n",
      " #   Column                  Non-Null Count  Dtype  \n",
      "---  ------                  --------------  -----  \n",
      " 0   Temperature (K)         240 non-null    int64  \n",
      " 1   Luminosity(L/Lo)        240 non-null    float64\n",
      " 2   Radius(R/Ro)            240 non-null    float64\n",
      " 3   Absolute magnitude(Mv)  240 non-null    float64\n",
      " 4   Star type               240 non-null    int64  \n",
      " 5   Star color              240 non-null    object \n",
      "dtypes: float64(3), int64(2), object(1)\n",
      "memory usage: 13.1+ KB\n"
     ]
    }
   ],
   "source": [
    "df.info()"
   ]
  },
  {
   "cell_type": "code",
   "execution_count": 7,
   "id": "52c589d9",
   "metadata": {},
   "outputs": [
    {
     "data": {
      "text/html": [
       "<div>\n",
       "<style scoped>\n",
       "    .dataframe tbody tr th:only-of-type {\n",
       "        vertical-align: middle;\n",
       "    }\n",
       "\n",
       "    .dataframe tbody tr th {\n",
       "        vertical-align: top;\n",
       "    }\n",
       "\n",
       "    .dataframe thead th {\n",
       "        text-align: right;\n",
       "    }\n",
       "</style>\n",
       "<table border=\"1\" class=\"dataframe\">\n",
       "  <thead>\n",
       "    <tr style=\"text-align: right;\">\n",
       "      <th></th>\n",
       "      <th>Temperature (K)</th>\n",
       "      <th>Luminosity(L/Lo)</th>\n",
       "      <th>Radius(R/Ro)</th>\n",
       "      <th>Absolute magnitude(Mv)</th>\n",
       "      <th>Star type</th>\n",
       "    </tr>\n",
       "  </thead>\n",
       "  <tbody>\n",
       "    <tr>\n",
       "      <th>count</th>\n",
       "      <td>240.000000</td>\n",
       "      <td>240.000000</td>\n",
       "      <td>240.000000</td>\n",
       "      <td>240.000000</td>\n",
       "      <td>240.000000</td>\n",
       "    </tr>\n",
       "    <tr>\n",
       "      <th>mean</th>\n",
       "      <td>10497.462500</td>\n",
       "      <td>107188.361635</td>\n",
       "      <td>237.157781</td>\n",
       "      <td>4.382396</td>\n",
       "      <td>2.500000</td>\n",
       "    </tr>\n",
       "    <tr>\n",
       "      <th>std</th>\n",
       "      <td>9552.425037</td>\n",
       "      <td>179432.244940</td>\n",
       "      <td>517.155763</td>\n",
       "      <td>10.532512</td>\n",
       "      <td>1.711394</td>\n",
       "    </tr>\n",
       "    <tr>\n",
       "      <th>min</th>\n",
       "      <td>1939.000000</td>\n",
       "      <td>0.000080</td>\n",
       "      <td>0.008400</td>\n",
       "      <td>-11.920000</td>\n",
       "      <td>0.000000</td>\n",
       "    </tr>\n",
       "    <tr>\n",
       "      <th>25%</th>\n",
       "      <td>3344.250000</td>\n",
       "      <td>0.000865</td>\n",
       "      <td>0.102750</td>\n",
       "      <td>-6.232500</td>\n",
       "      <td>1.000000</td>\n",
       "    </tr>\n",
       "    <tr>\n",
       "      <th>50%</th>\n",
       "      <td>5776.000000</td>\n",
       "      <td>0.070500</td>\n",
       "      <td>0.762500</td>\n",
       "      <td>8.313000</td>\n",
       "      <td>2.500000</td>\n",
       "    </tr>\n",
       "    <tr>\n",
       "      <th>75%</th>\n",
       "      <td>15055.500000</td>\n",
       "      <td>198050.000000</td>\n",
       "      <td>42.750000</td>\n",
       "      <td>13.697500</td>\n",
       "      <td>4.000000</td>\n",
       "    </tr>\n",
       "    <tr>\n",
       "      <th>max</th>\n",
       "      <td>40000.000000</td>\n",
       "      <td>849420.000000</td>\n",
       "      <td>1948.500000</td>\n",
       "      <td>20.060000</td>\n",
       "      <td>5.000000</td>\n",
       "    </tr>\n",
       "  </tbody>\n",
       "</table>\n",
       "</div>"
      ],
      "text/plain": [
       "       Temperature (K)  Luminosity(L/Lo)  Radius(R/Ro)  \\\n",
       "count       240.000000        240.000000    240.000000   \n",
       "mean      10497.462500     107188.361635    237.157781   \n",
       "std        9552.425037     179432.244940    517.155763   \n",
       "min        1939.000000          0.000080      0.008400   \n",
       "25%        3344.250000          0.000865      0.102750   \n",
       "50%        5776.000000          0.070500      0.762500   \n",
       "75%       15055.500000     198050.000000     42.750000   \n",
       "max       40000.000000     849420.000000   1948.500000   \n",
       "\n",
       "       Absolute magnitude(Mv)   Star type  \n",
       "count              240.000000  240.000000  \n",
       "mean                 4.382396    2.500000  \n",
       "std                 10.532512    1.711394  \n",
       "min                -11.920000    0.000000  \n",
       "25%                 -6.232500    1.000000  \n",
       "50%                  8.313000    2.500000  \n",
       "75%                 13.697500    4.000000  \n",
       "max                 20.060000    5.000000  "
      ]
     },
     "execution_count": 7,
     "metadata": {},
     "output_type": "execute_result"
    }
   ],
   "source": [
    "df.describe()"
   ]
  },
  {
   "cell_type": "markdown",
   "id": "82f9621e",
   "metadata": {},
   "source": [
    "В датасете 240 строк и 6 столбцов. Тип данных в столбцах - `float64`, `int64` и `object` - соответствует содержащимся в них типам данных. \n",
    "\n",
    "К признакам относятся следующие колонки:\n",
    "\n",
    "- `Absolute magnitude(Mv)` - абсолютная звёздная величина Mv, характеризующая блеск звезды;\n",
    "- `Luminosity(L/Lo)` - светимость звезды относительно Солнца;\n",
    "- `Radius(R/Ro)` - радиус звезды относительно радиуса Солнца;\n",
    "- `Star color` - звёздный цвет (white, red, blue, yellow, yellow-orange и др.) — цвет звезды, который определяют на основе спектрального анализа;\n",
    "- `Star type` - тип звезды.\n",
    "\n",
    "Целевой признак:\n",
    "\n",
    "- `Temperature (K)` - температура звезды в Кельвинах.\n",
    "\n",
    "Столбцы `Luminosity(L/Lo)`, `Radius(R/Ro)`, `Absolute magnitude(Mv)` - количественные; данные значения нужно масштабировать.\n",
    "Столбцы `Star type` и `Star color` - категориальные; данные в них необходимо категоризовать для обучения модели."
   ]
  },
  {
   "cell_type": "markdown",
   "id": "simple-subdivision",
   "metadata": {},
   "source": [
    "## Шаг 2. Предобработка и анализ данных"
   ]
  },
  {
   "cell_type": "markdown",
   "id": "e82dad2d",
   "metadata": {},
   "source": [
    "### Предобработка данных"
   ]
  },
  {
   "cell_type": "markdown",
   "id": "b9c7f738",
   "metadata": {},
   "source": [
    "Переименуем столбцы в соответствие с snake_case:"
   ]
  },
  {
   "cell_type": "code",
   "execution_count": 8,
   "id": "flush-dream",
   "metadata": {},
   "outputs": [],
   "source": [
    "df = df.rename(columns = \n",
    "              {'Temperature (K)' : 'temperature',\n",
    "               'Luminosity(L/Lo)' : 'luminosity',\n",
    "               'Radius(R/Ro)' : 'radius',\n",
    "               'Absolute magnitude(Mv)' : 'absolute_magnitude',\n",
    "               'Star type' : 'star_type',\n",
    "               'Star color' : 'star_color'}\n",
    "              )"
   ]
  },
  {
   "cell_type": "code",
   "execution_count": 9,
   "id": "769f0671",
   "metadata": {
    "scrolled": true
   },
   "outputs": [
    {
     "data": {
      "text/html": [
       "<div>\n",
       "<style scoped>\n",
       "    .dataframe tbody tr th:only-of-type {\n",
       "        vertical-align: middle;\n",
       "    }\n",
       "\n",
       "    .dataframe tbody tr th {\n",
       "        vertical-align: top;\n",
       "    }\n",
       "\n",
       "    .dataframe thead th {\n",
       "        text-align: right;\n",
       "    }\n",
       "</style>\n",
       "<table border=\"1\" class=\"dataframe\">\n",
       "  <thead>\n",
       "    <tr style=\"text-align: right;\">\n",
       "      <th></th>\n",
       "      <th>temperature</th>\n",
       "      <th>luminosity</th>\n",
       "      <th>radius</th>\n",
       "      <th>absolute_magnitude</th>\n",
       "      <th>star_type</th>\n",
       "      <th>star_color</th>\n",
       "    </tr>\n",
       "  </thead>\n",
       "  <tbody>\n",
       "    <tr>\n",
       "      <th>209</th>\n",
       "      <td>19360</td>\n",
       "      <td>0.00125</td>\n",
       "      <td>0.00998</td>\n",
       "      <td>11.62</td>\n",
       "      <td>2</td>\n",
       "      <td>Blue</td>\n",
       "    </tr>\n",
       "    <tr>\n",
       "      <th>109</th>\n",
       "      <td>33421</td>\n",
       "      <td>352000.00000</td>\n",
       "      <td>67.00000</td>\n",
       "      <td>-5.79</td>\n",
       "      <td>4</td>\n",
       "      <td>Blue</td>\n",
       "    </tr>\n",
       "    <tr>\n",
       "      <th>224</th>\n",
       "      <td>16787</td>\n",
       "      <td>246730.00000</td>\n",
       "      <td>62.00000</td>\n",
       "      <td>-6.35</td>\n",
       "      <td>4</td>\n",
       "      <td>Blue</td>\n",
       "    </tr>\n",
       "  </tbody>\n",
       "</table>\n",
       "</div>"
      ],
      "text/plain": [
       "     temperature    luminosity    radius  absolute_magnitude  star_type  \\\n",
       "209        19360       0.00125   0.00998               11.62          2   \n",
       "109        33421  352000.00000  67.00000               -5.79          4   \n",
       "224        16787  246730.00000  62.00000               -6.35          4   \n",
       "\n",
       "    star_color  \n",
       "209       Blue  \n",
       "109       Blue  \n",
       "224       Blue  "
      ]
     },
     "execution_count": 9,
     "metadata": {},
     "output_type": "execute_result"
    }
   ],
   "source": [
    "df.sample(3)"
   ]
  },
  {
   "cell_type": "markdown",
   "id": "d57f27b6",
   "metadata": {},
   "source": [
    "Столбцы переименованы. Проверим явные дубликаты:"
   ]
  },
  {
   "cell_type": "code",
   "execution_count": 10,
   "id": "f9bf9a13",
   "metadata": {},
   "outputs": [
    {
     "data": {
      "text/plain": [
       "0"
      ]
     },
     "execution_count": 10,
     "metadata": {},
     "output_type": "execute_result"
    }
   ],
   "source": [
    "df.duplicated().sum()"
   ]
  },
  {
   "cell_type": "markdown",
   "id": "f36be436",
   "metadata": {},
   "source": [
    "Явных дубликатов нет. Проверим неявные дубликаты в столбце `star_color` с категориальныим данными:"
   ]
  },
  {
   "cell_type": "code",
   "execution_count": 11,
   "id": "fcd14b47",
   "metadata": {},
   "outputs": [
    {
     "data": {
      "text/plain": [
       "array(['Red', 'Blue White', 'White', 'Yellowish White', 'Blue white',\n",
       "       'Pale yellow orange', 'Blue', 'Blue-white', 'Whitish',\n",
       "       'yellow-white', 'Orange', 'White-Yellow', 'white', 'Blue ',\n",
       "       'yellowish', 'Yellowish', 'Orange-Red', 'Blue white ',\n",
       "       'Blue-White'], dtype=object)"
      ]
     },
     "execution_count": 11,
     "metadata": {},
     "output_type": "execute_result"
    }
   ],
   "source": [
    "df['star_color'].unique()"
   ]
  },
  {
   "cell_type": "markdown",
   "id": "08d3fa11",
   "metadata": {},
   "source": [
    "В столбце присутствуют значения с пробелами в конце, значения разного регистра и дефисы, исправим это:"
   ]
  },
  {
   "cell_type": "code",
   "execution_count": 12,
   "id": "77a3611d",
   "metadata": {},
   "outputs": [
    {
     "data": {
      "text/plain": [
       "array(['red', 'blue white', 'white', 'yellowish white',\n",
       "       'pale yellow orange', 'blue', 'whitish', 'yellow white', 'orange',\n",
       "       'yellowish', 'orange red'], dtype=object)"
      ]
     },
     "execution_count": 12,
     "metadata": {},
     "output_type": "execute_result"
    }
   ],
   "source": [
    "df['star_color'] = df['star_color'].str.strip().str.lower().str.replace('-', ' ')\n",
    "df['star_color'] = df['star_color'].replace('white yellow', 'yellow white')\n",
    "\n",
    "df['star_color'].unique()"
   ]
  },
  {
   "cell_type": "markdown",
   "id": "39ced2a7",
   "metadata": {},
   "source": [
    "Неявные дубликаты преобразованы."
   ]
  },
  {
   "cell_type": "markdown",
   "id": "9f4d84dd",
   "metadata": {},
   "source": [
    "### Анализ данных"
   ]
  },
  {
   "cell_type": "markdown",
   "id": "e520d581",
   "metadata": {},
   "source": [
    "Посмотрим на распределение количественных признаков:"
   ]
  },
  {
   "cell_type": "code",
   "execution_count": 16,
   "id": "0afa8d7c",
   "metadata": {},
   "outputs": [
    {
     "data": {
      "image/png": "[encoded data removed]",
      "text/plain": [
       "<Figure size 864x864 with 4 Axes>"
      ]
     },
     "metadata": {
      "needs_background": "light"
     },
     "output_type": "display_data"
    }
   ],
   "source": [
    "column_list = ['temperature',\n",
    "               'luminosity',\n",
    "               'radius',\n",
    "               'absolute_magnitude']\n",
    "cnt = 1\n",
    "plt.figure(figsize=(12, 12))\n",
    "for column in column_list:\n",
    "    plt.subplot(2, 2, cnt)\n",
    "    df[column].hist(bins=10)\n",
    "    plt.ylabel('Плотность')\n",
    "    plt.title(column)\n",
    "    cnt += 1"
   ]
  },
  {
   "cell_type": "markdown",
   "id": "cb8e8e56",
   "metadata": {},
   "source": [
    "Согласно полученным графикам, представленные в выборке величины не имеют нормального распределения.Температура, светимость и радиус на графике имеют высокий пик слева и длинный хвость справа. Абсолютная магнитуда имеет два максимума.\n",
    "\n",
    "Построим матрицу корреляции количественных признаков:"
   ]
  },
  {
   "cell_type": "code",
   "execution_count": 17,
   "id": "ea93a984",
   "metadata": {},
   "outputs": [
    {
     "data": {
      "image/png": "[encoded data removed]",
      "text/plain": [
       "<Figure size 720x720 with 2 Axes>"
      ]
     },
     "metadata": {
      "needs_background": "light"
     },
     "output_type": "display_data"
    }
   ],
   "source": [
    "plt.figure(figsize=(10,10))\n",
    "plt.title('Матрица корреляции')\n",
    "matrix = np.triu(df[column_list].corr())\n",
    "sns.heatmap(df[column_list].corr(), annot=True, fmt='.2f', mask=matrix)\n",
    "None"
   ]
  },
  {
   "cell_type": "markdown",
   "id": "29de0f2f",
   "metadata": {},
   "source": [
    "Согласно полученной матрицы, у абсолютной звёздной величины существует достаточно высокая обратная зависимость по отношению к другим характеристикам - светимости (-0,69), радиусу (-0,61) и температуре (-0,42). Также достаточно высокая прямая зависимость радиуса и светимости (-0,53).\n",
    "\n",
    "Посмотрим на точечные диаграммы количественных величин:"
   ]
  },
  {
   "cell_type": "code",
   "execution_count": 18,
   "id": "e0dd8533",
   "metadata": {},
   "outputs": [
    {
     "data": {
      "image/png": "[encoded data removed]",
      "text/plain": [
       "<Figure size 864x864 with 16 Axes>"
      ]
     },
     "metadata": {
      "needs_background": "light"
     },
     "output_type": "display_data"
    }
   ],
   "source": [
    "pd.plotting.scatter_matrix(df[[\n",
    "    'temperature',\n",
    "    'luminosity',\n",
    "    'radius',\n",
    "    'absolute_magnitude']], figsize=(12, 12))\n",
    "None"
   ]
  },
  {
   "cell_type": "markdown",
   "id": "fd14975d",
   "metadata": {},
   "source": [
    "Как видно из полученных графиков какой-то определенной взаимосвязи признаков с целевой переменной нет. \n",
    "\n",
    "Посмотрим на распределение категориальных признаков:"
   ]
  },
  {
   "cell_type": "code",
   "execution_count": 19,
   "id": "574db969",
   "metadata": {},
   "outputs": [
    {
     "data": {
      "image/png": "[encoded data removed]",
      "text/plain": [
       "<Figure size 1296x432 with 1 Axes>"
      ]
     },
     "metadata": {
      "needs_background": "light"
     },
     "output_type": "display_data"
    }
   ],
   "source": [
    "plt.figure(figsize=(18, 6))\n",
    "sns.barplot(y='temperature', x='star_color', data=df)\n",
    "plt.title('Цвет звезды и ее температура', fontsize=16)\n",
    "plt.xlabel('Цвет звезды', fontsize=12)\n",
    "plt.ylabel('Температура', fontsize=12)\n",
    "None"
   ]
  },
  {
   "cell_type": "code",
   "execution_count": 20,
   "id": "9188670f",
   "metadata": {},
   "outputs": [
    {
     "data": {
      "image/png": "[encoded data removed]",
      "text/plain": [
       "<Figure size 720x432 with 1 Axes>"
      ]
     },
     "metadata": {
      "needs_background": "light"
     },
     "output_type": "display_data"
    }
   ],
   "source": [
    "plt.figure(figsize=(10, 6))\n",
    "sns.barplot(y='temperature', x='star_type', data=df)\n",
    "plt.title('Тип  звезды и ее температура', fontsize=16)\n",
    "plt.xlabel('Тип звезды', fontsize=12)\n",
    "plt.ylabel('Температура', fontsize=12)\n",
    "None"
   ]
  },
  {
   "cell_type": "markdown",
   "id": "a3a753d5",
   "metadata": {},
   "source": [
    "Как видно из графиков, \n",
    "- самая высокая температура у звезд 2-5 типа, самая низкая - соответственно у 0 и 1; \n",
    "- ниабольшая температура у звезд, имеющих цвет 'blue' и 'blue white', наименьшая - у звезд 'red' и 'orange'."
   ]
  },
  {
   "cell_type": "markdown",
   "id": "668d82b4",
   "metadata": {},
   "source": [
    "## Шаг 3. Подготовка данных к построению модели"
   ]
  },
  {
   "cell_type": "markdown",
   "id": "79b1d31d",
   "metadata": {},
   "source": [
    "Разделим датасет на обучающую и тестовую выборку:"
   ]
  },
  {
   "cell_type": "code",
   "execution_count": 21,
   "id": "7531a90d",
   "metadata": {},
   "outputs": [
    {
     "name": "stdout",
     "output_type": "stream",
     "text": [
      "Размеры получившихся выборок:\n",
      " X_train: (180, 5) \n",
      " X_test: (60, 5) \n",
      " y_train: (180,) \n",
      " y_test: (60,)\n"
     ]
    }
   ],
   "source": [
    "X_train, X_test, y_train, y_test = train_test_split(df.drop('temperature', axis=1),\n",
    "                                                    df['temperature'],\n",
    "                                                    test_size=0.25,\n",
    "                                                    random_state=SEED)\n",
    "\n",
    "print('Размеры получившихся выборок:\\n '\n",
    "      'X_train:',X_train.shape, '\\n',\n",
    "      'X_test:', X_test.shape, '\\n',\n",
    "      'y_train:', y_train.shape, '\\n',\n",
    "      'y_test:', y_test.shape)"
   ]
  },
  {
   "cell_type": "markdown",
   "id": "ba50e7e2",
   "metadata": {},
   "source": [
    "Преобразуем категориальные признаки в численные с помощью техники One-Hot Encoding:"
   ]
  },
  {
   "cell_type": "code",
   "execution_count": 22,
   "id": "726af6bc",
   "metadata": {},
   "outputs": [],
   "source": [
    "categorical = ['star_color', 'star_type']\n",
    "ohe = OneHotEncoder()\n",
    "ohe.fit(X_train[categorical])\n",
    "\n",
    "train_ohe = ohe.transform(X_train[categorical]).toarray()\n",
    "\n",
    "test_ohe = ohe.transform(X_test[categorical]).toarray()\n",
    "\n",
    "cats = ohe.get_feature_names()\n",
    "\n",
    "X_train = pd.concat([pd.DataFrame(train_ohe, columns=cats),\n",
    "                     X_train.drop(['star_color', 'star_type'], axis=1).reset_index(drop=True)],axis=1)\n",
    "\n",
    "X_test = pd.concat([pd.DataFrame(test_ohe, columns=cats),\n",
    "                    X_test.drop(['star_color', 'star_type'], axis=1).reset_index(drop=True)],axis=1)"
   ]
  },
  {
   "cell_type": "markdown",
   "id": "c9e73216",
   "metadata": {},
   "source": [
    "А числовые данные отмасштабируем с помощью структуры StandardScaler:"
   ]
  },
  {
   "cell_type": "code",
   "execution_count": 23,
   "id": "451db7a5",
   "metadata": {},
   "outputs": [],
   "source": [
    "numeric = ['luminosity', 'radius', 'absolute_magnitude']\n",
    "scaler = StandardScaler()\n",
    "scaler.fit(X_train[numeric])\n",
    "X_train[numeric] = scaler.transform(X_train[numeric])\n",
    "X_test[numeric] = scaler.transform(X_test[numeric])\n",
    "#display(X_train.head(), X_test.head())"
   ]
  },
  {
   "cell_type": "markdown",
   "id": "87157a12",
   "metadata": {},
   "source": [
    "Значения тренировочной и тестовой выборки преобразуем в тензоры:"
   ]
  },
  {
   "cell_type": "code",
   "execution_count": 24,
   "id": "d8bde0f2",
   "metadata": {},
   "outputs": [],
   "source": [
    "X_train = torch.FloatTensor(X_train.values)\n",
    "X_test = torch.FloatTensor(X_test.values)\n",
    "y_train = torch.FloatTensor(y_train.values)\n",
    "y_test  = torch.FloatTensor(y_test .values)"
   ]
  },
  {
   "cell_type": "markdown",
   "id": "funded-electric",
   "metadata": {},
   "source": [
    "## Шаг 4. Построение базовой нейронной сети"
   ]
  },
  {
   "cell_type": "markdown",
   "id": "32d36842",
   "metadata": {},
   "source": [
    "Построим нейросеть с одним скрытым слоем:"
   ]
  },
  {
   "cell_type": "code",
   "execution_count": 25,
   "id": "forced-concentrate",
   "metadata": {},
   "outputs": [],
   "source": [
    "class Net(nn.Module):\n",
    "    \n",
    "    def __init__(self, n_in_neurons, n_hidden_neurons, n_out_neurons):\n",
    "        super().__init__()\n",
    "        self.fc1 = nn.Linear(n_in_neurons, n_hidden_neurons)\n",
    "        self.act1 = nn.ReLU()\n",
    "        self.fc2 = nn.Linear(n_hidden_neurons, n_out_neurons)\n",
    "        \n",
    "        nn.init.kaiming_normal_(self.fc1.weight, nonlinearity='relu')\n",
    "        nn.init.normal_(self.fc1.bias, mean=0, std=(2/n_in_neurons)**0.5)\n",
    "        \n",
    "    def forward(self, x):\n",
    "        x = self.fc1(x)\n",
    "        x = self.act1(x)\n",
    "        x = self.fc2(x)\n",
    "        return x"
   ]
  },
  {
   "cell_type": "markdown",
   "id": "dd5bbdd7",
   "metadata": {},
   "source": [
    "Напишем функцию обучения нейронной сети:"
   ]
  },
  {
   "cell_type": "code",
   "execution_count": 26,
   "id": "1eea5ced",
   "metadata": {},
   "outputs": [],
   "source": [
    "def train_func(\n",
    "    net,\n",
    "    num_epochs,\n",
    "    batch_size,\n",
    "    loss,\n",
    "    optimizer,\n",
    "    X_train,\n",
    "    y_train,\n",
    "    X_test,\n",
    "    y_test\n",
    "):\n",
    "    \n",
    "    optimizer = optimizer\n",
    "    num_batches = ceil(len(X_train)/batch_size)\n",
    "    best_rmse = 10**6\n",
    "    best_epoch = None\n",
    "    best_preds = None\n",
    "    \n",
    "\n",
    "    for epoch in range(1, num_epochs+1):\n",
    "        net.train()\n",
    "        order = np.random.permutation(len(X_train))\n",
    "\n",
    "        for batch_idx in range(num_batches):\n",
    "            start_index = batch_idx * batch_size\n",
    "            optimizer.zero_grad()\n",
    "            batch_indexes = order[start_index:start_index+batch_size]\n",
    "            X_batch = X_train[batch_indexes]\n",
    "            y_batch = y_train[batch_indexes]\n",
    "            preds = net.forward(X_batch).flatten(start_dim=-2)\n",
    "            loss_value = loss(preds, y_batch)\n",
    "            loss_value.backward()\n",
    "            optimizer.step()\n",
    "            \n",
    "        if epoch % (num_epochs / 10) == 0 or epoch == num_epochs :\n",
    "            with torch.no_grad():\n",
    "                net.eval()\n",
    "                test_preds = net.forward(X_test)\n",
    "                rmse = mean_squared_error(y_test, test_preds.detach().numpy(), squared=False)\n",
    "                print(f'Эпоха: {epoch}, RMSE: {rmse}')\n",
    "        \n",
    "            if rmse < best_rmse:\n",
    "                best_rmse = rmse\n",
    "                best_epoch = epoch\n",
    "                best_preds = test_preds\n",
    "\n",
    "    print(f'Лучшее RMSE: {best_rmse}',\n",
    "          f'Лучшая эпоха: {best_epoch}',\n",
    "          sep='\\n')\n",
    "    \n",
    "    return best_preds"
   ]
  },
  {
   "cell_type": "markdown",
   "id": "09ce042f",
   "metadata": {},
   "source": [
    "Ранняя остановка, чтобы остановить тренировку, когда потеря не улучшается после определенной эпохи:"
   ]
  },
  {
   "cell_type": "code",
   "execution_count": 27,
   "id": "b8fa3a85",
   "metadata": {},
   "outputs": [],
   "source": [
    "class CustomEarlyStopping():\n",
    "    \"\"\"\n",
    "    Ранняя остановка, чтобы остановить тренировку, когда потеря не улучшается после определенной эпохи.\n",
    "    \"\"\"\n",
    "    def __init__(self, patience=5, min_delta=100):\n",
    "        \"\"\"\n",
    "        :param patience: сколько эпох ждать, прежде чем остановиться, когда потеря не улучшается\n",
    "        :param min_delta: минимальная разница между loss/метриками, если улучшений нет, то остановим обучение\n",
    "        \"\"\"\n",
    "        self.patience = patience\n",
    "        self.min_delta = min_delta\n",
    "        self.counter = 0\n",
    "        self.best_loss = None\n",
    "        self.early_stop = False\n",
    "\n",
    "    def __call__(self, val_loss):\n",
    "        if self.best_loss == None:\n",
    "            self.best_loss = val_loss\n",
    "        elif self.best_loss - val_loss > self.min_delta:\n",
    "            self.best_loss = val_loss\n",
    "            # reset counter if validation loss improves\n",
    "            self.counter = 0\n",
    "        elif self.best_loss - val_loss < self.min_delta:\n",
    "            self.counter += 1\n",
    "            print(f\"INFO: Early stopping counter {self.counter} of {self.patience}\")\n",
    "            if self.counter >= self.patience:\n",
    "                print('INFO: Early stopping', f'delta={self.best_loss - val_loss}')\n",
    "                self.early_stop = True"
   ]
  },
  {
   "cell_type": "code",
   "execution_count": 28,
   "id": "b848078d",
   "metadata": {},
   "outputs": [
    {
     "name": "stdout",
     "output_type": "stream",
     "text": [
      "RMSE:  10000\n",
      "RMSE:  9500\n",
      "RMSE:  9000\n",
      "RMSE:  8500\n",
      "RMSE:  8000\n",
      "RMSE:  7500\n",
      "RMSE:  7000\n",
      "RMSE:  6500\n",
      "RMSE:  6000\n",
      "RMSE:  5500\n",
      "RMSE:  1000\n",
      "RMSE:  1100\n",
      "INFO: Early stopping counter 1 of 2\n",
      "RMSE:  1200\n",
      "INFO: Early stopping counter 2 of 2\n",
      "INFO: Early stopping delta=-200\n",
      "CPU times: user 1.35 ms, sys: 210 µs, total: 1.56 ms\n",
      "Wall time: 905 µs\n"
     ]
    }
   ],
   "source": [
    "%%time\n",
    "\n",
    "test_rmse = list(range(10000, 5000, -500)) + list(range(1000, 6000, 100))\n",
    "\n",
    "early_stopping = CustomEarlyStopping(patience=2, min_delta=10) #эти параметры можно подбирать\n",
    "\n",
    "for i in test_rmse:\n",
    "    print(\"RMSE: \", i)\n",
    "    early_stopping(i)\n",
    "    if early_stopping.early_stop:\n",
    "        break"
   ]
  },
  {
   "cell_type": "markdown",
   "id": "72c1f559",
   "metadata": {},
   "source": [
    "Вызовем функцию:"
   ]
  },
  {
   "cell_type": "code",
   "execution_count": 29,
   "id": "515b4cb1",
   "metadata": {},
   "outputs": [
    {
     "name": "stdout",
     "output_type": "stream",
     "text": [
      "Эпоха: 2000, RMSE: 9385.908203125\n",
      "Эпоха: 4000, RMSE: 6192.1142578125\n",
      "Эпоха: 6000, RMSE: 5233.583984375\n",
      "Эпоха: 8000, RMSE: 4733.22265625\n",
      "Эпоха: 10000, RMSE: 4579.5859375\n",
      "Эпоха: 12000, RMSE: 4531.94482421875\n",
      "Эпоха: 14000, RMSE: 4532.56103515625\n",
      "Эпоха: 16000, RMSE: 4545.3896484375\n",
      "Эпоха: 18000, RMSE: 4558.46435546875\n",
      "Эпоха: 20000, RMSE: 4576.9443359375\n",
      "Лучшее RMSE: 4531.94482421875\n",
      "Лучшая эпоха: 12000\n",
      "CPU times: user 26.6 s, sys: 136 ms, total: 26.7 s\n",
      "Wall time: 26.8 s\n"
     ]
    }
   ],
   "source": [
    "%%time\n",
    "num_epochs = 20000\n",
    "n_in_neurons = X_train.shape[1]\n",
    "n_hidden_neurons = 8\n",
    "n_out_neurons = 1\n",
    "batch_size = 100\n",
    "\n",
    "random.seed(SEED)\n",
    "np.random.seed(SEED)\n",
    "torch.manual_seed(SEED)\n",
    "torch.use_deterministic_algorithms(True)\n",
    "\n",
    "net = Net(\n",
    "    n_in_neurons, \n",
    "    n_hidden_neurons, \n",
    "    n_out_neurons\n",
    ")\n",
    "\n",
    "loss = nn.MSELoss()\n",
    "optimizer = torch.optim.Adam(net.parameters(), lr=0.003)\n",
    "\n",
    "preds = train_func(net,\n",
    "                 num_epochs,\n",
    "                 batch_size,\n",
    "                 loss,\n",
    "                 optimizer,\n",
    "                 X_train,\n",
    "                 y_train,\n",
    "                 X_test,\n",
    "                 y_test\n",
    "                )"
   ]
  },
  {
   "cell_type": "markdown",
   "id": "f7a88722",
   "metadata": {},
   "source": [
    "Таким образом, для рассмотренной нейросети с одним скрытым слоем наилучший показатель метрики RMSE получился равным 4531.94, данная метрика достигается на эпохе 12000. "
   ]
  },
  {
   "cell_type": "markdown",
   "id": "4e24ecdb",
   "metadata": {},
   "source": [
    "Рассмотрим модель с двумя скрытыми слоями и в одном слое используем функцию активации Exponential Linear Unit - ELU():"
   ]
  },
  {
   "cell_type": "code",
   "execution_count": 30,
   "id": "fbc4f769",
   "metadata": {},
   "outputs": [],
   "source": [
    "class Net2(nn.Module):\n",
    "    \n",
    "    def __init__(\n",
    "        self,\n",
    "        n_in_neurons,\n",
    "        n_hidden_neurons_1,\n",
    "        n_hidden_neurons_2,\n",
    "        #n_hidden_neurons_3,\n",
    "        n_out_neurons,\n",
    "        activation,\n",
    "        dropout\n",
    "    ):\n",
    "        super().__init__()\n",
    "        self.fc1 = nn.Linear(n_in_neurons, n_hidden_neurons_1)\n",
    "        self.act1 = activation\n",
    "        self.dp = nn.Dropout(dropout)\n",
    "        self.fc2 = nn.Linear(n_hidden_neurons_1, n_hidden_neurons_2)\n",
    "        self.act2 = nn.ReLU()\n",
    "        #self.fc3 = nn.Linear(n_hidden_neurons_1, n_hidden_neurons_3)\n",
    "        #self.act3 = nn.ReLU()\n",
    "        self.fc4 = nn.Linear(n_hidden_neurons_2, n_out_neurons)\n",
    "        \n",
    "        nn.init.kaiming_normal_(self.fc1.weight, nonlinearity='relu')\n",
    "        nn.init.normal_(self.fc1.bias, mean=0, std=(2/n_in_neurons)**0.5)\n",
    "        nn.init.kaiming_normal_(self.fc2.weight, nonlinearity='relu')\n",
    "        nn.init.normal_(self.fc2.bias, mean=0, std=(2/n_hidden_neurons_1)**0.5)\n",
    "        #nn.init.kaiming_normal_(self.fc3.weight, nonlinearity='relu')\n",
    "        #nn.init.normal_(self.fc3.bias, mean=0, std=(2/n_hidden_neurons_2)**0.5)\n",
    "        \n",
    "    def forward(self, x):\n",
    "        x = self.fc1(x)\n",
    "        x = self.dp(x)\n",
    "        x = self.act1(x)\n",
    "        x = self.fc2(x)\n",
    "        x = self.act2(x)\n",
    "        #x = self.fc3(x)\n",
    "        #x = self.act3(x)\n",
    "        x = self.fc4(x)\n",
    "        return x"
   ]
  },
  {
   "cell_type": "markdown",
   "id": "d957fe51",
   "metadata": {},
   "source": [
    "Зададим параметры сети и вызовем функцию"
   ]
  },
  {
   "cell_type": "code",
   "execution_count": 31,
   "id": "97b1334c",
   "metadata": {
    "scrolled": false
   },
   "outputs": [
    {
     "name": "stdout",
     "output_type": "stream",
     "text": [
      "Эпоха: 200, RMSE: 12633.8486328125\n",
      "Эпоха: 400, RMSE: 7152.04638671875\n",
      "Эпоха: 600, RMSE: 5825.4365234375\n",
      "Эпоха: 800, RMSE: 5157.5556640625\n",
      "Эпоха: 1000, RMSE: 4728.89990234375\n",
      "Эпоха: 1200, RMSE: 4554.72314453125\n",
      "Эпоха: 1400, RMSE: 4405.69775390625\n",
      "Эпоха: 1600, RMSE: 4335.943359375\n",
      "Эпоха: 1800, RMSE: 4328.90673828125\n",
      "Эпоха: 2000, RMSE: 4340.76611328125\n",
      "Лучшее RMSE: 4328.90673828125\n",
      "Лучшая эпоха: 1800\n",
      "CPU times: user 3.53 s, sys: 15.4 ms, total: 3.55 s\n",
      "Wall time: 3.58 s\n"
     ]
    }
   ],
   "source": [
    "%%time\n",
    "num_epochs = 2000\n",
    "n_in_neurons = X_train.shape[1]\n",
    "n_hidden_neurons_1 = 8\n",
    "n_hidden_neurons_2 = 10\n",
    "#n_hidden_neurons_3 = 10\n",
    "n_out_neurons = 1\n",
    "batch_size = 100\n",
    "\n",
    "random.seed(SEED)\n",
    "np.random.seed(SEED)\n",
    "torch.manual_seed(SEED)\n",
    "torch.use_deterministic_algorithms(True)\n",
    "\n",
    "net = Net2(\n",
    "    n_in_neurons, \n",
    "    n_hidden_neurons_1, \n",
    "    n_hidden_neurons_2,\n",
    "    #n_hidden_neurons_3,\n",
    "    n_out_neurons, \n",
    "    nn.ELU(), \n",
    "    0\n",
    ")\n",
    "\n",
    "loss = nn.MSELoss()\n",
    "optimizer = torch.optim.Adam(net.parameters(), lr=0.003)\n",
    "\n",
    "preds = train_func(net,\n",
    "                 num_epochs,\n",
    "                 batch_size,\n",
    "                 loss,\n",
    "                 optimizer,\n",
    "                 X_train,\n",
    "                 y_train,\n",
    "                 X_test,\n",
    "                 y_test\n",
    "                )"
   ]
  },
  {
   "cell_type": "markdown",
   "id": "97c20b84",
   "metadata": {},
   "source": [
    "Вторая сеть показала результаты лучше и в 6 раз быстрее обучилась: метрика RMSE равна 4328.91 и была достигнута на эпохе 1800. В принципе, получившаяся метрика качества удовлетворяет требованиям к проекту. Возьмем эту модель в качестве базовой.\n",
    "\n",
    "Построим график «Факт — Прогноз» с фактическими и предсказанными значениями базовой модели:"
   ]
  },
  {
   "cell_type": "code",
   "execution_count": 32,
   "id": "cc5d64ed",
   "metadata": {
    "scrolled": true
   },
   "outputs": [],
   "source": [
    "#d.head()"
   ]
  },
  {
   "cell_type": "code",
   "execution_count": 33,
   "id": "7352b8bb",
   "metadata": {},
   "outputs": [
    {
     "data": {
      "image/png": "[encoded data removed]",
      "text/plain": [
       "<Figure size 1728x864 with 1 Axes>"
      ]
     },
     "metadata": {
      "needs_background": "light"
     },
     "output_type": "display_data"
    }
   ],
   "source": [
    "fig, ax = plt.subplots(figsize=(24,12))\n",
    "ax.bar(\n",
    "    range(len(y_test)), y_test, label='target', alpha=0.5, width=0.9, color='#89e2e8'\n",
    ")\n",
    "ax.bar(\n",
    "    range(len(y_test)), np.hstack(preds.detach().numpy()),\n",
    "    label='predicted', alpha=0.8, width=0.4, color='#ffc001'\n",
    ")\n",
    "plt.xlabel('Номер звезды в таблице данных', fontsize=20)\n",
    "plt.ylabel('Температура, K', fontsize=20)\n",
    "plt.title('График \"Факт-Прогноз\" базовой модели', fontsize=24)\n",
    "ax.legend(['Факт', 'Прогноз'], fontsize='x-large')\n",
    "None"
   ]
  },
  {
   "cell_type": "markdown",
   "id": "f2342832",
   "metadata": {},
   "source": [
    "По полученному графику можно сделать вывод, что при фактической температуре звезды менее 10000 Кельвинов базовая модель с наименьшей ошибкой делает предсказание, а, соответственно, при температуре более 10000 Кельвинов - ошибается сильнее."
   ]
  },
  {
   "cell_type": "markdown",
   "id": "growing-supply",
   "metadata": {},
   "source": [
    "## Шаг 5. Улучшение нейронной сети"
   ]
  },
  {
   "cell_type": "markdown",
   "id": "b8443816",
   "metadata": {},
   "source": [
    "Улучшим базовую модель, подобрав ей параметры dropout, размер batch и learning rate через GridSearchCV и skorch:"
   ]
  },
  {
   "cell_type": "code",
   "execution_count": 34,
   "id": "16606570",
   "metadata": {},
   "outputs": [],
   "source": [
    "def rmse(y_true, y_pred):\n",
    "    return mean_squared_error(y_true, y_pred, squared=False)\n",
    "\n",
    "rmse_scorer = make_scorer(rmse)"
   ]
  },
  {
   "cell_type": "code",
   "execution_count": 35,
   "id": "acceptable-forwarding",
   "metadata": {
    "scrolled": false
   },
   "outputs": [
    {
     "name": "stdout",
     "output_type": "stream",
     "text": [
      "CPU times: user 5min 32s, sys: 12 s, total: 5min 44s\n",
      "Wall time: 5min 47s\n"
     ]
    },
    {
     "data": {
      "text/plain": [
       "GridSearchCV(cv=3,\n",
       "             estimator=<class 'skorch.regressor.NeuralNetRegressor'>[uninitialized](\n",
       "  module=Net2(\n",
       "    (fc1): Linear(in_features=20, out_features=8, bias=True)\n",
       "    (act1): ELU(alpha=1.0)\n",
       "    (dp): Dropout(p=0, inplace=False)\n",
       "    (fc2): Linear(in_features=8, out_features=10, bias=True)\n",
       "    (act2): ReLU()\n",
       "    (fc4): Linear(in_features=10, out_features=1, bias=True)\n",
       "  ),\n",
       "),\n",
       "             n_jobs=-1,\n",
       "             param_grid={'batch_size': [50, 100], 'lr': [0.003, 0.004],\n",
       "                         'module__activation': [ELU(alpha=1.0)],\n",
       "                         'module__dropout': [0, 0.1, 0.5],\n",
       "                         'module__n_hidden_neurons_1': [8],\n",
       "                         'module__n_hidden_neurons_2': [10],\n",
       "                         'module__n_in_neurons': [20],\n",
       "                         'module__n_out_neurons': [1]},\n",
       "             scoring='neg_root_mean_squared_error', verbose=False)"
      ]
     },
     "execution_count": 35,
     "metadata": {},
     "output_type": "execute_result"
    }
   ],
   "source": [
    "%%time\n",
    "#CPU times: user 5min 22s, sys: 9.9 s, total: 5min 32s\n",
    "#Wall time: 5min 44s\n",
    "\n",
    "skorch_regressor = NeuralNetRegressor(\n",
    "    module=net, \n",
    "    device='cpu',  \n",
    "    verbose=0,\n",
    "    batch_size=100,\n",
    "    optimizer=torch.optim.Adam, \n",
    "    max_epochs=2000,\n",
    "    lr=0.003,\n",
    "    train_split=ValidSplit(cv=5),\n",
    "    criterion=nn.MSELoss,\n",
    "    callbacks=[\n",
    "               ('val_rmse',\n",
    "                EpochScoring(scoring=rmse_scorer,\n",
    "                             lower_is_better=True,\n",
    "                             name='RMSE')),\n",
    "               ('estoper',\n",
    "                EarlyStopping(lower_is_better=True,\n",
    "                                         monitor='RMSE',\n",
    "                                         patience=500))\n",
    "              ]\n",
    ")\n",
    "\n",
    "params = {\n",
    "          'module__n_in_neurons': [X_train.shape[1]],\n",
    "          'module__n_hidden_neurons_1': [8],\n",
    "          'module__n_hidden_neurons_2': [10],\n",
    "          #'module__n_hidden_neurons_3': [10],\n",
    "          'module__n_out_neurons': [1],\n",
    "          'module__dropout': [0, 0.1, 0.5],\n",
    "          'module__activation': [nn.ELU()],\n",
    "          'lr': [3e-3, 4e-3],\n",
    "          'batch_size':[50, 100]\n",
    "         }\n",
    "\n",
    "grid = GridSearchCV(skorch_regressor,\n",
    "                    params,\n",
    "                    cv=3,\n",
    "                    scoring=\"neg_root_mean_squared_error\",\n",
    "                    verbose=False,\n",
    "                    n_jobs=-1\n",
    "                   ) \n",
    "grid.fit(X_train, y_train.reshape(-1,1))"
   ]
  },
  {
   "cell_type": "markdown",
   "id": "504de9f6",
   "metadata": {},
   "source": [
    "Найдем оптимизированные параметры улучшенной модели и ее метрику качества RMSE на тестовой выборке:"
   ]
  },
  {
   "cell_type": "code",
   "execution_count": 36,
   "id": "56122091",
   "metadata": {
    "scrolled": true
   },
   "outputs": [
    {
     "name": "stdout",
     "output_type": "stream",
     "text": [
      "Оптимизированные параметры улучшенной модели:\n",
      " {'batch_size': 100, 'lr': 0.004, 'module__activation': ELU(alpha=1.0), 'module__dropout': 0, 'module__n_hidden_neurons_1': 8, 'module__n_hidden_neurons_2': 10, 'module__n_in_neurons': 20, 'module__n_out_neurons': 1}\n",
      "RMSE на кросс-валидации: 4767.005696614583\n",
      "RMSE на тесте: 4198.7412109375\n"
     ]
    }
   ],
   "source": [
    "preds_best_model = grid.predict(X_test)\n",
    "rmse = mean_squared_error(preds_best_model, y_test, squared=False)\n",
    "print(f'Оптимизированные параметры улучшенной модели:\\n {grid.best_params_}',\n",
    "      f'RMSE на кросс-валидации: {abs(grid.best_score_)}',\n",
    "      f'RMSE на тесте: {rmse}',\n",
    "      sep='\\n')"
   ]
  },
  {
   "cell_type": "markdown",
   "id": "cfd6da89",
   "metadata": {},
   "source": [
    "RMSE на тестовой выборке получилась равной 4198.74, что выше, чем у базовой модели (4328.91) и также удовлетворяет требованиям проекта."
   ]
  },
  {
   "cell_type": "markdown",
   "id": "6063b825",
   "metadata": {},
   "source": [
    "Аналогично построим график «Факт — Прогноз» с фактическими и предсказанными значениями улучшенной модели:"
   ]
  },
  {
   "cell_type": "code",
   "execution_count": 37,
   "id": "0e21354e",
   "metadata": {},
   "outputs": [],
   "source": [
    "best_preds = torch.FloatTensor(preds_best_model)"
   ]
  },
  {
   "cell_type": "code",
   "execution_count": 38,
   "id": "c58a613b",
   "metadata": {},
   "outputs": [
    {
     "data": {
      "image/png": "[encoded data removed]",
      "text/plain": [
       "<Figure size 1728x864 with 1 Axes>"
      ]
     },
     "metadata": {
      "needs_background": "light"
     },
     "output_type": "display_data"
    }
   ],
   "source": [
    "fig, ax = plt.subplots(figsize=(24,12))\n",
    "ax.bar(\n",
    "    range(len(y_test)), y_test, label='target', alpha=0.5, width=0.9, color='#89e2e8'\n",
    ")\n",
    "ax.bar(\n",
    "    range(len(y_test)), np.hstack(best_preds.detach().numpy()),\n",
    "    label='predicted', alpha=0.8, width=0.4, color='#ffc001'\n",
    ")\n",
    "plt.xlabel('Номер звезды в таблице данных', fontsize=20)\n",
    "plt.ylabel('Температура, K', fontsize=20)\n",
    "plt.title('График \"Факт-Прогноз\" улучшенной модели', fontsize=24)\n",
    "ax.legend(['Факт', 'Прогноз'], fontsize='x-large')\n",
    "None"
   ]
  },
  {
   "cell_type": "markdown",
   "id": "25a1b02d",
   "metadata": {},
   "source": [
    "Визуально полученный график не сильно отличается от полученного ранее - при фактической температуре звезды менее 10000 Кельвинов улучшенная модель ошибается меньше, а, соответственно, при температуре более 10000 Кельвинов - ошибается сильнее. Тем не менее метрика качества улучшенной модели выше."
   ]
  },
  {
   "cell_type": "markdown",
   "id": "accurate-infrastructure",
   "metadata": {},
   "source": [
    "## Выводы"
   ]
  },
  {
   "cell_type": "markdown",
   "id": "febc7686",
   "metadata": {},
   "source": [
    "В рамках данного проекта от обсерватории была поставлена задача разработать нейросеть, способную определять температуру на поверхности обнаруженных звезд. В качестве критерия оценки модели используется метрика качества RMSE.\n",
    "Для решения поставленной задачи были рассмотрены 2 нейросети - базовая и улучшенная, полученная на основе базовой модели с перебором гиперпараметров.\n",
    "\n",
    "Архитектура нейросети была выбрана следующая:\n",
    " - полносвязная нейронная сеть FNN;\n",
    " - на входном слое 20 нейронов - по числу признаков;\n",
    " - 2 скрытых слоя с количеством нейронов 8 и 10 соответственно;\n",
    " - на выходном слое 1 нейрон, поскольку решается задача регрессии с одним целевым признаком;\n",
    " - используемые функции активации ReLU и ELU;\n",
    " - функция потерь - среднеквадратичное отклонение MSELoss;\n",
    " - инициализация параметров сети по Каймингу, поскольку функция активации ReLU - несимметричная;\n",
    " - оптимизатор параметров модели - ADAM.\n",
    " \n",
    "Метрика качества RMSE у базовой модели получилась равной 4328.91. Перебором с помощью GridSearchCV были подобраны наилучшие параметры для улучшенной модели:\n",
    "- dropout - 0;\n",
    "- learning_rate - 0.004;\n",
    "- batch_size - 100.\n",
    "\n",
    "Благодаря оптимизации этих параметров, улучшенной модели удалось достичь RMSE на тестовой выборке 4198.74, что удовлетворяет требованиям проекта."
   ]
  }
 ],
 "metadata": {
  "ExecuteTimeLog": [
   {
    "duration": 1190,
    "start_time": "2022-11-10T19:54:48.737Z"
   },
   {
    "duration": 23839,
    "start_time": "2022-11-10T19:55:16.536Z"
   },
   {
    "duration": 2263,
    "start_time": "2022-11-10T19:55:51.193Z"
   },
   {
    "duration": 2251,
    "start_time": "2022-11-10T19:56:06.000Z"
   },
   {
    "duration": 2109,
    "start_time": "2022-11-10T19:56:08.253Z"
   },
   {
    "duration": 179,
    "start_time": "2022-11-10T20:06:29.419Z"
   },
   {
    "duration": 905,
    "start_time": "2022-11-10T20:07:07.513Z"
   },
   {
    "duration": 3228,
    "start_time": "2022-11-10T20:07:13.721Z"
   },
   {
    "duration": 184,
    "start_time": "2022-11-10T20:07:56.070Z"
   },
   {
    "duration": 33,
    "start_time": "2022-11-10T20:08:32.442Z"
   },
   {
    "duration": 87,
    "start_time": "2022-11-10T20:08:54.914Z"
   },
   {
    "duration": 16,
    "start_time": "2022-11-10T20:09:19.041Z"
   },
   {
    "duration": 17,
    "start_time": "2022-11-10T20:09:22.877Z"
   },
   {
    "duration": 20,
    "start_time": "2022-11-10T20:09:59.939Z"
   },
   {
    "duration": 27,
    "start_time": "2022-11-10T20:11:04.121Z"
   },
   {
    "duration": 11,
    "start_time": "2022-11-10T20:11:06.197Z"
   },
   {
    "duration": 17,
    "start_time": "2022-11-10T20:14:37.932Z"
   },
   {
    "duration": 35,
    "start_time": "2022-11-10T20:14:48.255Z"
   },
   {
    "duration": 11,
    "start_time": "2022-11-10T20:21:22.214Z"
   },
   {
    "duration": 12,
    "start_time": "2022-11-10T20:21:46.436Z"
   },
   {
    "duration": 14,
    "start_time": "2022-11-10T20:21:52.276Z"
   },
   {
    "duration": 4,
    "start_time": "2022-11-10T20:21:59.342Z"
   },
   {
    "duration": 10,
    "start_time": "2022-11-10T20:22:01.903Z"
   },
   {
    "duration": 2270,
    "start_time": "2022-11-10T20:22:11.058Z"
   },
   {
    "duration": 2124,
    "start_time": "2022-11-10T20:22:13.330Z"
   },
   {
    "duration": 1867,
    "start_time": "2022-11-10T20:22:15.456Z"
   },
   {
    "duration": 27,
    "start_time": "2022-11-10T20:22:17.325Z"
   },
   {
    "duration": 14,
    "start_time": "2022-11-10T20:22:17.354Z"
   },
   {
    "duration": 38,
    "start_time": "2022-11-10T20:22:17.370Z"
   },
   {
    "duration": 45,
    "start_time": "2022-11-10T20:22:17.409Z"
   },
   {
    "duration": 36,
    "start_time": "2022-11-10T20:22:17.456Z"
   },
   {
    "duration": 32,
    "start_time": "2022-11-10T20:22:17.494Z"
   },
   {
    "duration": 6,
    "start_time": "2022-11-10T20:27:13.695Z"
   },
   {
    "duration": 5,
    "start_time": "2022-11-10T20:27:58.206Z"
   },
   {
    "duration": 5,
    "start_time": "2022-11-10T20:29:24.094Z"
   },
   {
    "duration": 7,
    "start_time": "2022-11-10T20:29:33.162Z"
   },
   {
    "duration": 7,
    "start_time": "2022-11-10T20:29:58.261Z"
   },
   {
    "duration": 2156,
    "start_time": "2022-11-10T20:30:09.872Z"
   },
   {
    "duration": 2264,
    "start_time": "2022-11-10T20:30:12.030Z"
   },
   {
    "duration": 1897,
    "start_time": "2022-11-10T20:30:14.296Z"
   },
   {
    "duration": 28,
    "start_time": "2022-11-10T20:30:16.195Z"
   },
   {
    "duration": 16,
    "start_time": "2022-11-10T20:30:16.226Z"
   },
   {
    "duration": 18,
    "start_time": "2022-11-10T20:30:16.243Z"
   },
   {
    "duration": 37,
    "start_time": "2022-11-10T20:30:16.263Z"
   },
   {
    "duration": 4,
    "start_time": "2022-11-10T20:30:16.301Z"
   },
   {
    "duration": 21,
    "start_time": "2022-11-10T20:30:16.307Z"
   },
   {
    "duration": 17,
    "start_time": "2022-11-10T20:30:16.331Z"
   },
   {
    "duration": 11,
    "start_time": "2022-11-10T20:30:16.350Z"
   },
   {
    "duration": 12,
    "start_time": "2022-11-10T20:30:16.362Z"
   },
   {
    "duration": 7,
    "start_time": "2022-11-10T20:30:28.917Z"
   },
   {
    "duration": 2178,
    "start_time": "2022-11-10T20:30:43.179Z"
   },
   {
    "duration": 2240,
    "start_time": "2022-11-10T20:30:45.360Z"
   },
   {
    "duration": 1865,
    "start_time": "2022-11-10T20:30:47.601Z"
   },
   {
    "duration": 36,
    "start_time": "2022-11-10T20:30:49.468Z"
   },
   {
    "duration": 35,
    "start_time": "2022-11-10T20:30:49.507Z"
   },
   {
    "duration": 21,
    "start_time": "2022-11-10T20:30:49.544Z"
   },
   {
    "duration": 36,
    "start_time": "2022-11-10T20:30:49.566Z"
   },
   {
    "duration": 13,
    "start_time": "2022-11-10T20:30:49.605Z"
   },
   {
    "duration": 18,
    "start_time": "2022-11-10T20:30:49.620Z"
   },
   {
    "duration": 12,
    "start_time": "2022-11-10T20:30:49.640Z"
   },
   {
    "duration": 5,
    "start_time": "2022-11-10T20:30:49.653Z"
   },
   {
    "duration": 15,
    "start_time": "2022-11-10T20:30:49.660Z"
   },
   {
    "duration": 691,
    "start_time": "2022-11-10T20:42:31.977Z"
   },
   {
    "duration": 599,
    "start_time": "2022-11-10T20:42:58.661Z"
   },
   {
    "duration": 557,
    "start_time": "2022-11-10T20:43:27.178Z"
   },
   {
    "duration": 787,
    "start_time": "2022-11-10T20:43:32.614Z"
   },
   {
    "duration": 318,
    "start_time": "2022-11-10T20:45:45.977Z"
   },
   {
    "duration": 277,
    "start_time": "2022-11-10T20:45:53.695Z"
   },
   {
    "duration": 311,
    "start_time": "2022-11-10T20:46:01.234Z"
   },
   {
    "duration": 359,
    "start_time": "2022-11-10T20:46:36.652Z"
   },
   {
    "duration": 298,
    "start_time": "2022-11-10T20:46:46.094Z"
   },
   {
    "duration": 326,
    "start_time": "2022-11-10T20:46:57.466Z"
   },
   {
    "duration": 365,
    "start_time": "2022-11-10T20:47:29.338Z"
   },
   {
    "duration": 1171,
    "start_time": "2022-11-10T20:57:20.413Z"
   },
   {
    "duration": 1048,
    "start_time": "2022-11-10T20:58:07.304Z"
   },
   {
    "duration": 1092,
    "start_time": "2022-11-10T20:58:31.057Z"
   },
   {
    "duration": 931,
    "start_time": "2022-11-10T20:58:38.872Z"
   },
   {
    "duration": 282,
    "start_time": "2022-11-10T21:09:42.558Z"
   },
   {
    "duration": 388,
    "start_time": "2022-11-10T21:10:27.226Z"
   },
   {
    "duration": 600,
    "start_time": "2022-11-10T21:10:37.523Z"
   },
   {
    "duration": 354,
    "start_time": "2022-11-10T21:11:11.698Z"
   },
   {
    "duration": 563,
    "start_time": "2022-11-10T21:11:17.449Z"
   },
   {
    "duration": 561,
    "start_time": "2022-11-10T21:11:29.302Z"
   },
   {
    "duration": 548,
    "start_time": "2022-11-10T21:12:11.714Z"
   },
   {
    "duration": 402,
    "start_time": "2022-11-10T21:12:37.190Z"
   },
   {
    "duration": 506,
    "start_time": "2022-11-10T21:13:26.456Z"
   },
   {
    "duration": 348,
    "start_time": "2022-11-10T21:14:11.554Z"
   },
   {
    "duration": 372,
    "start_time": "2022-11-10T21:15:04.534Z"
   },
   {
    "duration": 310,
    "start_time": "2022-11-10T21:15:30.902Z"
   },
   {
    "duration": 275,
    "start_time": "2022-11-10T21:15:36.597Z"
   },
   {
    "duration": 350,
    "start_time": "2022-11-10T21:16:00.094Z"
   },
   {
    "duration": 266,
    "start_time": "2022-11-10T21:16:04.229Z"
   },
   {
    "duration": 281,
    "start_time": "2022-11-10T21:16:08.537Z"
   },
   {
    "duration": 365,
    "start_time": "2022-11-10T21:16:56.156Z"
   },
   {
    "duration": 403,
    "start_time": "2022-11-10T21:17:05.073Z"
   },
   {
    "duration": 397,
    "start_time": "2022-11-10T21:17:22.474Z"
   },
   {
    "duration": 380,
    "start_time": "2022-11-10T21:17:26.976Z"
   },
   {
    "duration": 491,
    "start_time": "2022-11-10T21:18:16.079Z"
   },
   {
    "duration": 356,
    "start_time": "2022-11-10T21:18:20.540Z"
   },
   {
    "duration": 255,
    "start_time": "2022-11-10T21:18:36.257Z"
   },
   {
    "duration": 381,
    "start_time": "2022-11-10T21:18:38.174Z"
   },
   {
    "duration": 82,
    "start_time": "2022-11-10T21:22:29.477Z"
   },
   {
    "duration": 55,
    "start_time": "2022-11-10T21:23:04.367Z"
   },
   {
    "duration": 178,
    "start_time": "2022-11-10T21:24:01.425Z"
   },
   {
    "duration": 7690,
    "start_time": "2022-11-10T21:24:24.021Z"
   },
   {
    "duration": 7852,
    "start_time": "2022-11-10T21:24:56.062Z"
   },
   {
    "duration": 165,
    "start_time": "2022-11-10T21:25:08.231Z"
   },
   {
    "duration": 405,
    "start_time": "2022-11-10T21:25:50.850Z"
   },
   {
    "duration": 6,
    "start_time": "2022-11-10T21:36:40.995Z"
   },
   {
    "duration": 2314,
    "start_time": "2022-11-10T21:37:27.042Z"
   },
   {
    "duration": 2213,
    "start_time": "2022-11-10T21:37:29.359Z"
   },
   {
    "duration": 2030,
    "start_time": "2022-11-10T21:37:31.574Z"
   },
   {
    "duration": 29,
    "start_time": "2022-11-10T21:37:33.607Z"
   },
   {
    "duration": 17,
    "start_time": "2022-11-10T21:37:33.638Z"
   },
   {
    "duration": 16,
    "start_time": "2022-11-10T21:37:33.656Z"
   },
   {
    "duration": 57,
    "start_time": "2022-11-10T21:37:33.674Z"
   },
   {
    "duration": 16,
    "start_time": "2022-11-10T21:37:33.734Z"
   },
   {
    "duration": 71,
    "start_time": "2022-11-10T21:37:33.752Z"
   },
   {
    "duration": 27,
    "start_time": "2022-11-10T21:37:33.825Z"
   },
   {
    "duration": 12,
    "start_time": "2022-11-10T21:37:33.854Z"
   },
   {
    "duration": 30,
    "start_time": "2022-11-10T21:37:33.868Z"
   },
   {
    "duration": 639,
    "start_time": "2022-11-10T21:37:33.899Z"
   },
   {
    "duration": 370,
    "start_time": "2022-11-10T21:37:34.540Z"
   },
   {
    "duration": 962,
    "start_time": "2022-11-10T21:37:34.911Z"
   },
   {
    "duration": 483,
    "start_time": "2022-11-10T21:37:35.875Z"
   },
   {
    "duration": 272,
    "start_time": "2022-11-10T21:37:36.359Z"
   },
   {
    "duration": 7,
    "start_time": "2022-11-10T21:37:36.633Z"
   },
   {
    "duration": 8,
    "start_time": "2022-11-10T21:38:00.941Z"
   },
   {
    "duration": 7,
    "start_time": "2022-11-10T21:38:29.251Z"
   },
   {
    "duration": 10,
    "start_time": "2022-11-10T21:38:35.833Z"
   },
   {
    "duration": 8,
    "start_time": "2022-11-10T21:38:40.848Z"
   },
   {
    "duration": 8,
    "start_time": "2022-11-10T21:39:05.670Z"
   },
   {
    "duration": 13,
    "start_time": "2022-11-10T21:42:05.932Z"
   },
   {
    "duration": 156,
    "start_time": "2022-11-10T21:42:42.071Z"
   },
   {
    "duration": 16,
    "start_time": "2022-11-10T21:42:52.102Z"
   },
   {
    "duration": 15,
    "start_time": "2022-11-10T21:42:57.103Z"
   },
   {
    "duration": 17,
    "start_time": "2022-11-10T21:43:35.095Z"
   },
   {
    "duration": 2210,
    "start_time": "2022-11-10T21:43:48.129Z"
   },
   {
    "duration": 2161,
    "start_time": "2022-11-10T21:43:50.341Z"
   },
   {
    "duration": 1794,
    "start_time": "2022-11-10T21:43:52.505Z"
   },
   {
    "duration": 27,
    "start_time": "2022-11-10T21:43:54.301Z"
   },
   {
    "duration": 14,
    "start_time": "2022-11-10T21:43:54.331Z"
   },
   {
    "duration": 19,
    "start_time": "2022-11-10T21:43:54.346Z"
   },
   {
    "duration": 28,
    "start_time": "2022-11-10T21:43:54.367Z"
   },
   {
    "duration": 3,
    "start_time": "2022-11-10T21:43:54.397Z"
   },
   {
    "duration": 20,
    "start_time": "2022-11-10T21:43:54.402Z"
   },
   {
    "duration": 14,
    "start_time": "2022-11-10T21:43:54.424Z"
   },
   {
    "duration": 6,
    "start_time": "2022-11-10T21:43:54.439Z"
   },
   {
    "duration": 9,
    "start_time": "2022-11-10T21:43:54.446Z"
   },
   {
    "duration": 608,
    "start_time": "2022-11-10T21:43:54.457Z"
   },
   {
    "duration": 358,
    "start_time": "2022-11-10T21:43:55.067Z"
   },
   {
    "duration": 990,
    "start_time": "2022-11-10T21:43:55.427Z"
   },
   {
    "duration": 475,
    "start_time": "2022-11-10T21:43:56.419Z"
   },
   {
    "duration": 300,
    "start_time": "2022-11-10T21:43:56.896Z"
   },
   {
    "duration": 9,
    "start_time": "2022-11-10T21:43:57.198Z"
   },
   {
    "duration": 31,
    "start_time": "2022-11-10T21:43:57.209Z"
   },
   {
    "duration": 13,
    "start_time": "2022-11-10T21:46:18.493Z"
   },
   {
    "duration": 13,
    "start_time": "2022-11-10T21:46:23.505Z"
   },
   {
    "duration": 148,
    "start_time": "2022-11-10T21:46:25.728Z"
   },
   {
    "duration": 15,
    "start_time": "2022-11-10T21:47:23.227Z"
   },
   {
    "duration": 53,
    "start_time": "2022-11-10T21:47:59.137Z"
   },
   {
    "duration": 19,
    "start_time": "2022-11-10T21:48:09.980Z"
   },
   {
    "duration": 11,
    "start_time": "2022-11-10T21:48:44.106Z"
   },
   {
    "duration": 2389,
    "start_time": "2022-11-10T21:49:00.678Z"
   },
   {
    "duration": 2327,
    "start_time": "2022-11-10T21:49:03.070Z"
   },
   {
    "duration": 1942,
    "start_time": "2022-11-10T21:49:05.399Z"
   },
   {
    "duration": 28,
    "start_time": "2022-11-10T21:49:07.343Z"
   },
   {
    "duration": 34,
    "start_time": "2022-11-10T21:49:07.374Z"
   },
   {
    "duration": 16,
    "start_time": "2022-11-10T21:49:07.410Z"
   },
   {
    "duration": 26,
    "start_time": "2022-11-10T21:49:07.428Z"
   },
   {
    "duration": 4,
    "start_time": "2022-11-10T21:49:07.456Z"
   },
   {
    "duration": 18,
    "start_time": "2022-11-10T21:49:07.462Z"
   },
   {
    "duration": 42,
    "start_time": "2022-11-10T21:49:07.482Z"
   },
   {
    "duration": 17,
    "start_time": "2022-11-10T21:49:07.526Z"
   },
   {
    "duration": 12,
    "start_time": "2022-11-10T21:49:07.545Z"
   },
   {
    "duration": 692,
    "start_time": "2022-11-10T21:49:07.558Z"
   },
   {
    "duration": 364,
    "start_time": "2022-11-10T21:49:08.253Z"
   },
   {
    "duration": 1047,
    "start_time": "2022-11-10T21:49:08.618Z"
   },
   {
    "duration": 517,
    "start_time": "2022-11-10T21:49:09.668Z"
   },
   {
    "duration": 282,
    "start_time": "2022-11-10T21:49:10.187Z"
   },
   {
    "duration": 13,
    "start_time": "2022-11-10T21:49:10.471Z"
   },
   {
    "duration": 176,
    "start_time": "2022-11-10T21:49:10.487Z"
   },
   {
    "duration": 0,
    "start_time": "2022-11-10T21:49:10.664Z"
   },
   {
    "duration": 13,
    "start_time": "2022-11-10T21:49:30.001Z"
   },
   {
    "duration": 34,
    "start_time": "2022-11-10T21:49:34.883Z"
   },
   {
    "duration": 2377,
    "start_time": "2022-11-10T21:49:41.880Z"
   },
   {
    "duration": 2347,
    "start_time": "2022-11-10T21:49:44.259Z"
   },
   {
    "duration": 1999,
    "start_time": "2022-11-10T21:49:46.608Z"
   },
   {
    "duration": 28,
    "start_time": "2022-11-10T21:49:48.609Z"
   },
   {
    "duration": 29,
    "start_time": "2022-11-10T21:49:48.641Z"
   },
   {
    "duration": 59,
    "start_time": "2022-11-10T21:49:48.671Z"
   },
   {
    "duration": 44,
    "start_time": "2022-11-10T21:49:48.731Z"
   },
   {
    "duration": 41,
    "start_time": "2022-11-10T21:49:48.777Z"
   },
   {
    "duration": 37,
    "start_time": "2022-11-10T21:49:48.820Z"
   },
   {
    "duration": 52,
    "start_time": "2022-11-10T21:49:48.858Z"
   },
   {
    "duration": 41,
    "start_time": "2022-11-10T21:49:48.912Z"
   },
   {
    "duration": 32,
    "start_time": "2022-11-10T21:49:48.954Z"
   },
   {
    "duration": 800,
    "start_time": "2022-11-10T21:49:48.988Z"
   },
   {
    "duration": 332,
    "start_time": "2022-11-10T21:49:49.791Z"
   },
   {
    "duration": 1032,
    "start_time": "2022-11-10T21:49:50.125Z"
   },
   {
    "duration": 512,
    "start_time": "2022-11-10T21:49:51.159Z"
   },
   {
    "duration": 281,
    "start_time": "2022-11-10T21:49:51.685Z"
   },
   {
    "duration": 24,
    "start_time": "2022-11-10T21:49:51.967Z"
   },
   {
    "duration": 13,
    "start_time": "2022-11-10T21:49:51.995Z"
   },
   {
    "duration": 37,
    "start_time": "2022-11-10T21:49:52.009Z"
   },
   {
    "duration": 167,
    "start_time": "2022-11-10T21:49:54.376Z"
   },
   {
    "duration": 2204,
    "start_time": "2022-11-10T21:50:22.478Z"
   },
   {
    "duration": 2220,
    "start_time": "2022-11-10T21:50:24.684Z"
   },
   {
    "duration": 1881,
    "start_time": "2022-11-10T21:50:26.907Z"
   },
   {
    "duration": 30,
    "start_time": "2022-11-10T21:50:28.793Z"
   },
   {
    "duration": 22,
    "start_time": "2022-11-10T21:50:28.827Z"
   },
   {
    "duration": 25,
    "start_time": "2022-11-10T21:50:28.851Z"
   },
   {
    "duration": 62,
    "start_time": "2022-11-10T21:50:28.878Z"
   },
   {
    "duration": 20,
    "start_time": "2022-11-10T21:50:28.941Z"
   },
   {
    "duration": 45,
    "start_time": "2022-11-10T21:50:28.963Z"
   },
   {
    "duration": 33,
    "start_time": "2022-11-10T21:50:29.010Z"
   },
   {
    "duration": 56,
    "start_time": "2022-11-10T21:50:29.045Z"
   },
   {
    "duration": 36,
    "start_time": "2022-11-10T21:50:29.103Z"
   },
   {
    "duration": 656,
    "start_time": "2022-11-10T21:50:29.141Z"
   },
   {
    "duration": 322,
    "start_time": "2022-11-10T21:50:29.800Z"
   },
   {
    "duration": 1070,
    "start_time": "2022-11-10T21:50:30.124Z"
   },
   {
    "duration": 491,
    "start_time": "2022-11-10T21:50:31.196Z"
   },
   {
    "duration": 283,
    "start_time": "2022-11-10T21:50:31.689Z"
   },
   {
    "duration": 18,
    "start_time": "2022-11-10T21:50:31.983Z"
   },
   {
    "duration": 21,
    "start_time": "2022-11-10T21:50:32.003Z"
   },
   {
    "duration": 32,
    "start_time": "2022-11-10T21:50:32.025Z"
   },
   {
    "duration": 6,
    "start_time": "2022-11-10T21:52:44.537Z"
   },
   {
    "duration": 47,
    "start_time": "2022-11-10T21:52:56.994Z"
   },
   {
    "duration": 7,
    "start_time": "2022-11-10T21:54:25.762Z"
   },
   {
    "duration": 145,
    "start_time": "2022-11-10T21:56:06.194Z"
   },
   {
    "duration": 23,
    "start_time": "2022-11-10T21:56:18.917Z"
   },
   {
    "duration": 2231,
    "start_time": "2022-11-10T21:57:05.610Z"
   },
   {
    "duration": 2220,
    "start_time": "2022-11-10T21:57:07.843Z"
   },
   {
    "duration": 1875,
    "start_time": "2022-11-10T21:57:10.065Z"
   },
   {
    "duration": 27,
    "start_time": "2022-11-10T21:57:11.942Z"
   },
   {
    "duration": 24,
    "start_time": "2022-11-10T21:57:11.971Z"
   },
   {
    "duration": 13,
    "start_time": "2022-11-10T21:57:11.997Z"
   },
   {
    "duration": 30,
    "start_time": "2022-11-10T21:57:12.023Z"
   },
   {
    "duration": 5,
    "start_time": "2022-11-10T21:57:12.055Z"
   },
   {
    "duration": 26,
    "start_time": "2022-11-10T21:57:12.061Z"
   },
   {
    "duration": 19,
    "start_time": "2022-11-10T21:57:12.089Z"
   },
   {
    "duration": 9,
    "start_time": "2022-11-10T21:57:12.110Z"
   },
   {
    "duration": 12,
    "start_time": "2022-11-10T21:57:12.121Z"
   },
   {
    "duration": 746,
    "start_time": "2022-11-10T21:57:12.135Z"
   },
   {
    "duration": 324,
    "start_time": "2022-11-10T21:57:12.883Z"
   },
   {
    "duration": 940,
    "start_time": "2022-11-10T21:57:13.209Z"
   },
   {
    "duration": 464,
    "start_time": "2022-11-10T21:57:14.151Z"
   },
   {
    "duration": 281,
    "start_time": "2022-11-10T21:57:14.617Z"
   },
   {
    "duration": 7,
    "start_time": "2022-11-10T21:57:14.900Z"
   },
   {
    "duration": 17,
    "start_time": "2022-11-10T21:57:14.909Z"
   },
   {
    "duration": 24,
    "start_time": "2022-11-10T21:57:14.928Z"
   },
   {
    "duration": 9,
    "start_time": "2022-11-10T21:57:14.954Z"
   },
   {
    "duration": 14,
    "start_time": "2022-11-10T21:57:14.964Z"
   },
   {
    "duration": 184,
    "start_time": "2022-11-10T21:57:14.979Z"
   },
   {
    "duration": 12,
    "start_time": "2022-11-10T21:59:32.703Z"
   },
   {
    "duration": 27,
    "start_time": "2022-11-10T21:59:34.272Z"
   },
   {
    "duration": 28,
    "start_time": "2022-11-10T21:59:42.807Z"
   },
   {
    "duration": 24,
    "start_time": "2022-11-10T22:00:18.666Z"
   },
   {
    "duration": 8,
    "start_time": "2022-11-10T22:00:24.740Z"
   },
   {
    "duration": 20,
    "start_time": "2022-11-10T22:01:04.321Z"
   },
   {
    "duration": 2102,
    "start_time": "2022-11-10T22:05:46.144Z"
   },
   {
    "duration": 2215,
    "start_time": "2022-11-10T22:05:48.248Z"
   },
   {
    "duration": 1853,
    "start_time": "2022-11-10T22:05:50.465Z"
   },
   {
    "duration": 27,
    "start_time": "2022-11-10T22:05:52.320Z"
   },
   {
    "duration": 14,
    "start_time": "2022-11-10T22:05:52.349Z"
   },
   {
    "duration": 11,
    "start_time": "2022-11-10T22:05:52.364Z"
   },
   {
    "duration": 49,
    "start_time": "2022-11-10T22:05:52.377Z"
   },
   {
    "duration": 10,
    "start_time": "2022-11-10T22:05:52.429Z"
   },
   {
    "duration": 18,
    "start_time": "2022-11-10T22:05:52.441Z"
   },
   {
    "duration": 10,
    "start_time": "2022-11-10T22:05:52.463Z"
   },
   {
    "duration": 7,
    "start_time": "2022-11-10T22:05:52.475Z"
   },
   {
    "duration": 19,
    "start_time": "2022-11-10T22:05:52.493Z"
   },
   {
    "duration": 637,
    "start_time": "2022-11-10T22:05:52.514Z"
   },
   {
    "duration": 349,
    "start_time": "2022-11-10T22:05:53.152Z"
   },
   {
    "duration": 986,
    "start_time": "2022-11-10T22:05:53.502Z"
   },
   {
    "duration": 453,
    "start_time": "2022-11-10T22:05:54.493Z"
   },
   {
    "duration": 251,
    "start_time": "2022-11-10T22:05:54.948Z"
   },
   {
    "duration": 7,
    "start_time": "2022-11-10T22:05:55.201Z"
   },
   {
    "duration": 12,
    "start_time": "2022-11-10T22:05:55.209Z"
   },
   {
    "duration": 19,
    "start_time": "2022-11-10T22:05:55.222Z"
   },
   {
    "duration": 3,
    "start_time": "2022-11-10T22:05:55.242Z"
   },
   {
    "duration": 7,
    "start_time": "2022-11-10T22:05:55.247Z"
   },
   {
    "duration": 6,
    "start_time": "2022-11-10T22:05:55.256Z"
   },
   {
    "duration": 194,
    "start_time": "2022-11-10T22:05:55.263Z"
   },
   {
    "duration": 11,
    "start_time": "2022-11-10T22:08:35.210Z"
   },
   {
    "duration": 2191,
    "start_time": "2022-11-10T22:09:12.599Z"
   },
   {
    "duration": 2277,
    "start_time": "2022-11-10T22:09:14.792Z"
   },
   {
    "duration": 1895,
    "start_time": "2022-11-10T22:09:17.071Z"
   },
   {
    "duration": 31,
    "start_time": "2022-11-10T22:09:18.968Z"
   },
   {
    "duration": 16,
    "start_time": "2022-11-10T22:09:19.002Z"
   },
   {
    "duration": 12,
    "start_time": "2022-11-10T22:09:19.020Z"
   },
   {
    "duration": 33,
    "start_time": "2022-11-10T22:09:19.034Z"
   },
   {
    "duration": 4,
    "start_time": "2022-11-10T22:09:19.069Z"
   },
   {
    "duration": 30,
    "start_time": "2022-11-10T22:09:19.084Z"
   },
   {
    "duration": 25,
    "start_time": "2022-11-10T22:09:19.116Z"
   },
   {
    "duration": 15,
    "start_time": "2022-11-10T22:09:19.143Z"
   },
   {
    "duration": 32,
    "start_time": "2022-11-10T22:09:19.160Z"
   },
   {
    "duration": 681,
    "start_time": "2022-11-10T22:09:19.194Z"
   },
   {
    "duration": 339,
    "start_time": "2022-11-10T22:09:19.883Z"
   },
   {
    "duration": 1070,
    "start_time": "2022-11-10T22:09:20.224Z"
   },
   {
    "duration": 497,
    "start_time": "2022-11-10T22:09:21.296Z"
   },
   {
    "duration": 256,
    "start_time": "2022-11-10T22:09:21.794Z"
   },
   {
    "duration": 8,
    "start_time": "2022-11-10T22:09:22.051Z"
   },
   {
    "duration": 31,
    "start_time": "2022-11-10T22:09:22.061Z"
   },
   {
    "duration": 163,
    "start_time": "2022-11-10T22:09:22.094Z"
   },
   {
    "duration": 0,
    "start_time": "2022-11-10T22:09:22.258Z"
   },
   {
    "duration": 0,
    "start_time": "2022-11-10T22:09:22.259Z"
   },
   {
    "duration": 0,
    "start_time": "2022-11-10T22:09:22.261Z"
   },
   {
    "duration": 0,
    "start_time": "2022-11-10T22:09:22.262Z"
   },
   {
    "duration": 56,
    "start_time": "2022-11-10T22:10:34.280Z"
   },
   {
    "duration": 2314,
    "start_time": "2022-11-10T22:11:10.570Z"
   },
   {
    "duration": 2169,
    "start_time": "2022-11-10T22:11:12.887Z"
   },
   {
    "duration": 1883,
    "start_time": "2022-11-10T22:11:15.058Z"
   },
   {
    "duration": 29,
    "start_time": "2022-11-10T22:11:16.942Z"
   },
   {
    "duration": 24,
    "start_time": "2022-11-10T22:11:16.973Z"
   },
   {
    "duration": 17,
    "start_time": "2022-11-10T22:11:16.998Z"
   },
   {
    "duration": 28,
    "start_time": "2022-11-10T22:11:17.016Z"
   },
   {
    "duration": 3,
    "start_time": "2022-11-10T22:11:17.046Z"
   },
   {
    "duration": 18,
    "start_time": "2022-11-10T22:11:17.050Z"
   },
   {
    "duration": 24,
    "start_time": "2022-11-10T22:11:17.070Z"
   },
   {
    "duration": 11,
    "start_time": "2022-11-10T22:11:17.095Z"
   },
   {
    "duration": 10,
    "start_time": "2022-11-10T22:11:17.107Z"
   },
   {
    "duration": 673,
    "start_time": "2022-11-10T22:11:17.119Z"
   },
   {
    "duration": 328,
    "start_time": "2022-11-10T22:11:17.795Z"
   },
   {
    "duration": 1112,
    "start_time": "2022-11-10T22:11:18.125Z"
   },
   {
    "duration": 635,
    "start_time": "2022-11-10T22:11:19.240Z"
   },
   {
    "duration": 304,
    "start_time": "2022-11-10T22:11:19.880Z"
   },
   {
    "duration": 10,
    "start_time": "2022-11-10T22:11:20.194Z"
   },
   {
    "duration": 27,
    "start_time": "2022-11-10T22:11:20.206Z"
   },
   {
    "duration": 72,
    "start_time": "2022-11-10T22:11:20.235Z"
   },
   {
    "duration": 4,
    "start_time": "2022-11-10T22:11:20.309Z"
   },
   {
    "duration": 6,
    "start_time": "2022-11-10T22:11:20.315Z"
   },
   {
    "duration": 9,
    "start_time": "2022-11-10T22:11:20.323Z"
   },
   {
    "duration": 79495,
    "start_time": "2022-11-10T22:11:20.334Z"
   },
   {
    "duration": 2250,
    "start_time": "2022-11-10T22:12:49.666Z"
   },
   {
    "duration": 2409,
    "start_time": "2022-11-10T22:12:51.919Z"
   },
   {
    "duration": 1926,
    "start_time": "2022-11-10T22:12:54.330Z"
   },
   {
    "duration": 31,
    "start_time": "2022-11-10T22:12:56.258Z"
   },
   {
    "duration": 14,
    "start_time": "2022-11-10T22:12:56.295Z"
   },
   {
    "duration": 11,
    "start_time": "2022-11-10T22:12:56.311Z"
   },
   {
    "duration": 22,
    "start_time": "2022-11-10T22:12:56.324Z"
   },
   {
    "duration": 5,
    "start_time": "2022-11-10T22:12:56.348Z"
   },
   {
    "duration": 42,
    "start_time": "2022-11-10T22:12:56.355Z"
   },
   {
    "duration": 10,
    "start_time": "2022-11-10T22:12:56.399Z"
   },
   {
    "duration": 4,
    "start_time": "2022-11-10T22:12:56.411Z"
   },
   {
    "duration": 10,
    "start_time": "2022-11-10T22:12:56.417Z"
   },
   {
    "duration": 722,
    "start_time": "2022-11-10T22:12:56.429Z"
   },
   {
    "duration": 381,
    "start_time": "2022-11-10T22:12:57.154Z"
   },
   {
    "duration": 1057,
    "start_time": "2022-11-10T22:12:57.536Z"
   },
   {
    "duration": 511,
    "start_time": "2022-11-10T22:12:58.597Z"
   },
   {
    "duration": 285,
    "start_time": "2022-11-10T22:12:59.110Z"
   },
   {
    "duration": 7,
    "start_time": "2022-11-10T22:12:59.397Z"
   },
   {
    "duration": 10,
    "start_time": "2022-11-10T22:12:59.406Z"
   },
   {
    "duration": 46,
    "start_time": "2022-11-10T22:12:59.418Z"
   },
   {
    "duration": 8,
    "start_time": "2022-11-10T22:12:59.480Z"
   },
   {
    "duration": 16,
    "start_time": "2022-11-10T22:12:59.489Z"
   },
   {
    "duration": 9,
    "start_time": "2022-11-10T22:12:59.506Z"
   },
   {
    "duration": 73934,
    "start_time": "2022-11-10T22:12:59.517Z"
   },
   {
    "duration": 2205,
    "start_time": "2022-11-10T22:16:45.442Z"
   },
   {
    "duration": 2292,
    "start_time": "2022-11-10T22:16:47.649Z"
   },
   {
    "duration": 1787,
    "start_time": "2022-11-10T22:16:49.943Z"
   },
   {
    "duration": 28,
    "start_time": "2022-11-10T22:16:51.732Z"
   },
   {
    "duration": 13,
    "start_time": "2022-11-10T22:16:51.762Z"
   },
   {
    "duration": 19,
    "start_time": "2022-11-10T22:16:51.776Z"
   },
   {
    "duration": 23,
    "start_time": "2022-11-10T22:16:51.798Z"
   },
   {
    "duration": 3,
    "start_time": "2022-11-10T22:16:51.822Z"
   },
   {
    "duration": 17,
    "start_time": "2022-11-10T22:16:51.827Z"
   },
   {
    "duration": 10,
    "start_time": "2022-11-10T22:16:51.846Z"
   },
   {
    "duration": 8,
    "start_time": "2022-11-10T22:16:51.857Z"
   },
   {
    "duration": 14,
    "start_time": "2022-11-10T22:16:51.880Z"
   },
   {
    "duration": 623,
    "start_time": "2022-11-10T22:16:51.895Z"
   },
   {
    "duration": 334,
    "start_time": "2022-11-10T22:16:52.521Z"
   },
   {
    "duration": 916,
    "start_time": "2022-11-10T22:16:52.857Z"
   },
   {
    "duration": 482,
    "start_time": "2022-11-10T22:16:53.775Z"
   },
   {
    "duration": 250,
    "start_time": "2022-11-10T22:16:54.258Z"
   },
   {
    "duration": 8,
    "start_time": "2022-11-10T22:16:54.509Z"
   },
   {
    "duration": 35,
    "start_time": "2022-11-10T22:16:54.519Z"
   },
   {
    "duration": 46,
    "start_time": "2022-11-10T22:16:54.555Z"
   },
   {
    "duration": 25,
    "start_time": "2022-11-10T22:16:54.602Z"
   },
   {
    "duration": 27,
    "start_time": "2022-11-10T22:16:54.628Z"
   },
   {
    "duration": 36,
    "start_time": "2022-11-10T22:16:54.657Z"
   },
   {
    "duration": 1241,
    "start_time": "2022-11-10T22:16:54.695Z"
   },
   {
    "duration": 6,
    "start_time": "2022-11-10T22:17:21.747Z"
   },
   {
    "duration": 59883,
    "start_time": "2022-11-10T22:17:23.830Z"
   },
   {
    "duration": 6,
    "start_time": "2022-11-10T22:19:41.951Z"
   },
   {
    "duration": 163,
    "start_time": "2022-11-10T22:19:42.975Z"
   },
   {
    "duration": 6,
    "start_time": "2022-11-10T22:19:54.764Z"
   },
   {
    "duration": 25923,
    "start_time": "2022-11-10T22:19:55.598Z"
   },
   {
    "duration": 6,
    "start_time": "2022-11-10T22:21:46.542Z"
   },
   {
    "duration": 24546,
    "start_time": "2022-11-10T22:21:47.472Z"
   },
   {
    "duration": 7,
    "start_time": "2022-11-10T22:22:29.948Z"
   },
   {
    "duration": 24354,
    "start_time": "2022-11-10T22:22:30.544Z"
   },
   {
    "duration": 24451,
    "start_time": "2022-11-10T22:26:30.263Z"
   },
   {
    "duration": 24861,
    "start_time": "2022-11-10T22:26:59.816Z"
   },
   {
    "duration": 6,
    "start_time": "2022-11-10T22:27:50.722Z"
   },
   {
    "duration": 9,
    "start_time": "2022-11-10T22:28:16.894Z"
   },
   {
    "duration": 0,
    "start_time": "2022-11-10T22:28:16.904Z"
   },
   {
    "duration": 7,
    "start_time": "2022-11-10T22:28:35.608Z"
   },
   {
    "duration": 24183,
    "start_time": "2022-11-10T22:28:37.634Z"
   },
   {
    "duration": 2161,
    "start_time": "2022-11-10T22:30:07.345Z"
   },
   {
    "duration": 2111,
    "start_time": "2022-11-10T22:30:09.508Z"
   },
   {
    "duration": 1915,
    "start_time": "2022-11-10T22:30:11.622Z"
   },
   {
    "duration": 26,
    "start_time": "2022-11-10T22:30:13.539Z"
   },
   {
    "duration": 18,
    "start_time": "2022-11-10T22:30:13.568Z"
   },
   {
    "duration": 35,
    "start_time": "2022-11-10T22:30:13.588Z"
   },
   {
    "duration": 35,
    "start_time": "2022-11-10T22:30:13.625Z"
   },
   {
    "duration": 4,
    "start_time": "2022-11-10T22:30:13.662Z"
   },
   {
    "duration": 23,
    "start_time": "2022-11-10T22:30:13.668Z"
   },
   {
    "duration": 8,
    "start_time": "2022-11-10T22:30:13.707Z"
   },
   {
    "duration": 19,
    "start_time": "2022-11-10T22:30:13.716Z"
   },
   {
    "duration": 12,
    "start_time": "2022-11-10T22:30:13.737Z"
   },
   {
    "duration": 623,
    "start_time": "2022-11-10T22:30:13.751Z"
   },
   {
    "duration": 343,
    "start_time": "2022-11-10T22:30:14.377Z"
   },
   {
    "duration": 971,
    "start_time": "2022-11-10T22:30:14.722Z"
   },
   {
    "duration": 471,
    "start_time": "2022-11-10T22:30:15.695Z"
   },
   {
    "duration": 281,
    "start_time": "2022-11-10T22:30:16.167Z"
   },
   {
    "duration": 10,
    "start_time": "2022-11-10T22:30:16.451Z"
   },
   {
    "duration": 57,
    "start_time": "2022-11-10T22:30:16.462Z"
   },
   {
    "duration": 33,
    "start_time": "2022-11-10T22:30:16.521Z"
   },
   {
    "duration": 20,
    "start_time": "2022-11-10T22:30:16.556Z"
   },
   {
    "duration": 37,
    "start_time": "2022-11-10T22:30:16.578Z"
   },
   {
    "duration": 38,
    "start_time": "2022-11-10T22:30:16.619Z"
   },
   {
    "duration": 25491,
    "start_time": "2022-11-10T22:30:16.659Z"
   },
   {
    "duration": 26199,
    "start_time": "2022-11-10T22:31:22.906Z"
   },
   {
    "duration": 3,
    "start_time": "2022-11-10T22:34:09.367Z"
   },
   {
    "duration": 5,
    "start_time": "2022-11-10T22:35:07.990Z"
   },
   {
    "duration": 142,
    "start_time": "2022-11-10T22:36:56.789Z"
   },
   {
    "duration": 3,
    "start_time": "2022-11-10T22:37:19.114Z"
   },
   {
    "duration": 2,
    "start_time": "2022-11-10T22:37:20.624Z"
   },
   {
    "duration": 5,
    "start_time": "2022-11-10T22:37:21.213Z"
   },
   {
    "duration": 55827,
    "start_time": "2022-11-10T22:37:21.668Z"
   },
   {
    "duration": 13,
    "start_time": "2022-11-10T22:39:36.499Z"
   },
   {
    "duration": 6,
    "start_time": "2022-11-10T22:39:38.472Z"
   },
   {
    "duration": 14,
    "start_time": "2022-11-10T22:39:38.928Z"
   },
   {
    "duration": 32225,
    "start_time": "2022-11-10T22:39:46.043Z"
   },
   {
    "duration": 187073,
    "start_time": "2022-11-10T22:40:42.917Z"
   },
   {
    "duration": 26373,
    "start_time": "2022-11-10T22:43:49.992Z"
   },
   {
    "duration": 26293,
    "start_time": "2022-11-10T22:44:42.401Z"
   },
   {
    "duration": 26941,
    "start_time": "2022-11-10T22:45:28.107Z"
   },
   {
    "duration": 2380,
    "start_time": "2022-11-10T22:47:32.606Z"
   },
   {
    "duration": 2401,
    "start_time": "2022-11-10T22:47:34.989Z"
   },
   {
    "duration": 1916,
    "start_time": "2022-11-10T22:47:37.395Z"
   },
   {
    "duration": 28,
    "start_time": "2022-11-10T22:47:39.313Z"
   },
   {
    "duration": 15,
    "start_time": "2022-11-10T22:47:39.342Z"
   },
   {
    "duration": 26,
    "start_time": "2022-11-10T22:47:39.358Z"
   },
   {
    "duration": 47,
    "start_time": "2022-11-10T22:47:39.387Z"
   },
   {
    "duration": 18,
    "start_time": "2022-11-10T22:47:39.436Z"
   },
   {
    "duration": 30,
    "start_time": "2022-11-10T22:47:39.456Z"
   },
   {
    "duration": 39,
    "start_time": "2022-11-10T22:47:39.488Z"
   },
   {
    "duration": 14,
    "start_time": "2022-11-10T22:47:39.529Z"
   },
   {
    "duration": 24,
    "start_time": "2022-11-10T22:47:39.544Z"
   },
   {
    "duration": 690,
    "start_time": "2022-11-10T22:47:39.572Z"
   },
   {
    "duration": 360,
    "start_time": "2022-11-10T22:47:40.264Z"
   },
   {
    "duration": 1011,
    "start_time": "2022-11-10T22:47:40.626Z"
   },
   {
    "duration": 490,
    "start_time": "2022-11-10T22:47:41.639Z"
   },
   {
    "duration": 310,
    "start_time": "2022-11-10T22:47:42.131Z"
   },
   {
    "duration": 10,
    "start_time": "2022-11-10T22:47:42.443Z"
   },
   {
    "duration": 32,
    "start_time": "2022-11-10T22:47:42.455Z"
   },
   {
    "duration": 51,
    "start_time": "2022-11-10T22:47:42.489Z"
   },
   {
    "duration": 12,
    "start_time": "2022-11-10T22:47:42.543Z"
   },
   {
    "duration": 11,
    "start_time": "2022-11-10T22:47:42.558Z"
   },
   {
    "duration": 52,
    "start_time": "2022-11-10T22:47:42.571Z"
   },
   {
    "duration": 25668,
    "start_time": "2022-11-10T22:47:42.624Z"
   },
   {
    "duration": 8,
    "start_time": "2022-11-10T22:48:08.293Z"
   },
   {
    "duration": 32725,
    "start_time": "2022-11-10T22:48:08.302Z"
   },
   {
    "duration": 2258,
    "start_time": "2022-11-10T22:51:49.367Z"
   },
   {
    "duration": 2274,
    "start_time": "2022-11-10T22:51:51.628Z"
   },
   {
    "duration": 1881,
    "start_time": "2022-11-10T22:51:53.904Z"
   },
   {
    "duration": 28,
    "start_time": "2022-11-10T22:51:55.792Z"
   },
   {
    "duration": 15,
    "start_time": "2022-11-10T22:51:55.822Z"
   },
   {
    "duration": 29,
    "start_time": "2022-11-10T22:51:55.838Z"
   },
   {
    "duration": 32,
    "start_time": "2022-11-10T22:51:55.869Z"
   },
   {
    "duration": 11,
    "start_time": "2022-11-10T22:51:55.903Z"
   },
   {
    "duration": 14,
    "start_time": "2022-11-10T22:51:55.915Z"
   },
   {
    "duration": 17,
    "start_time": "2022-11-10T22:51:55.931Z"
   },
   {
    "duration": 7,
    "start_time": "2022-11-10T22:51:55.949Z"
   },
   {
    "duration": 17,
    "start_time": "2022-11-10T22:51:55.958Z"
   },
   {
    "duration": 661,
    "start_time": "2022-11-10T22:51:55.977Z"
   },
   {
    "duration": 394,
    "start_time": "2022-11-10T22:51:56.641Z"
   },
   {
    "duration": 1025,
    "start_time": "2022-11-10T22:51:57.037Z"
   },
   {
    "duration": 498,
    "start_time": "2022-11-10T22:51:58.064Z"
   },
   {
    "duration": 302,
    "start_time": "2022-11-10T22:51:58.564Z"
   },
   {
    "duration": 25,
    "start_time": "2022-11-10T22:51:58.867Z"
   },
   {
    "duration": 21,
    "start_time": "2022-11-10T22:51:58.895Z"
   },
   {
    "duration": 19,
    "start_time": "2022-11-10T22:51:58.918Z"
   },
   {
    "duration": 4,
    "start_time": "2022-11-10T22:51:58.939Z"
   },
   {
    "duration": 7,
    "start_time": "2022-11-10T22:51:58.945Z"
   },
   {
    "duration": 16,
    "start_time": "2022-11-10T22:51:58.953Z"
   },
   {
    "duration": 25857,
    "start_time": "2022-11-10T22:51:58.970Z"
   },
   {
    "duration": 6,
    "start_time": "2022-11-10T22:52:24.829Z"
   },
   {
    "duration": 33734,
    "start_time": "2022-11-10T22:52:24.837Z"
   },
   {
    "duration": 6,
    "start_time": "2022-11-10T22:57:09.706Z"
   },
   {
    "duration": 149,
    "start_time": "2022-11-10T23:00:38.795Z"
   },
   {
    "duration": 2203,
    "start_time": "2022-11-10T23:02:49.810Z"
   },
   {
    "duration": 2292,
    "start_time": "2022-11-10T23:02:52.015Z"
   },
   {
    "duration": 1906,
    "start_time": "2022-11-10T23:02:54.310Z"
   },
   {
    "duration": 28,
    "start_time": "2022-11-10T23:02:56.217Z"
   },
   {
    "duration": 13,
    "start_time": "2022-11-10T23:02:56.247Z"
   },
   {
    "duration": 17,
    "start_time": "2022-11-10T23:02:56.262Z"
   },
   {
    "duration": 45,
    "start_time": "2022-11-10T23:02:56.283Z"
   },
   {
    "duration": 4,
    "start_time": "2022-11-10T23:02:56.330Z"
   },
   {
    "duration": 20,
    "start_time": "2022-11-10T23:02:56.336Z"
   },
   {
    "duration": 13,
    "start_time": "2022-11-10T23:02:56.358Z"
   },
   {
    "duration": 21,
    "start_time": "2022-11-10T23:02:56.373Z"
   },
   {
    "duration": 19,
    "start_time": "2022-11-10T23:02:56.397Z"
   },
   {
    "duration": 697,
    "start_time": "2022-11-10T23:02:56.418Z"
   },
   {
    "duration": 314,
    "start_time": "2022-11-10T23:02:57.119Z"
   },
   {
    "duration": 1023,
    "start_time": "2022-11-10T23:02:57.435Z"
   },
   {
    "duration": 496,
    "start_time": "2022-11-10T23:02:58.460Z"
   },
   {
    "duration": 272,
    "start_time": "2022-11-10T23:02:58.957Z"
   },
   {
    "duration": 8,
    "start_time": "2022-11-10T23:02:59.231Z"
   },
   {
    "duration": 14,
    "start_time": "2022-11-10T23:02:59.240Z"
   },
   {
    "duration": 32,
    "start_time": "2022-11-10T23:02:59.256Z"
   },
   {
    "duration": 19,
    "start_time": "2022-11-10T23:02:59.291Z"
   },
   {
    "duration": 11,
    "start_time": "2022-11-10T23:02:59.312Z"
   },
   {
    "duration": 12,
    "start_time": "2022-11-10T23:02:59.325Z"
   },
   {
    "duration": 24503,
    "start_time": "2022-11-10T23:02:59.339Z"
   },
   {
    "duration": 5,
    "start_time": "2022-11-10T23:03:23.844Z"
   },
   {
    "duration": 33278,
    "start_time": "2022-11-10T23:03:23.850Z"
   },
   {
    "duration": 6,
    "start_time": "2022-11-10T23:03:57.130Z"
   },
   {
    "duration": 182,
    "start_time": "2022-11-10T23:03:57.138Z"
   },
   {
    "duration": 271,
    "start_time": "2022-11-10T23:06:39.095Z"
   },
   {
    "duration": 471,
    "start_time": "2022-11-10T23:07:12.171Z"
   },
   {
    "duration": 394,
    "start_time": "2022-11-10T23:07:44.856Z"
   },
   {
    "duration": 438,
    "start_time": "2022-11-10T23:07:52.137Z"
   },
   {
    "duration": 514,
    "start_time": "2022-11-10T23:08:46.328Z"
   },
   {
    "duration": 403,
    "start_time": "2022-11-10T23:08:50.540Z"
   },
   {
    "duration": 510,
    "start_time": "2022-11-10T23:09:21.528Z"
   },
   {
    "duration": 428,
    "start_time": "2022-11-10T23:09:28.461Z"
   },
   {
    "duration": 397,
    "start_time": "2022-11-10T23:09:32.699Z"
   },
   {
    "duration": 405,
    "start_time": "2022-11-10T23:09:42.002Z"
   },
   {
    "duration": 506,
    "start_time": "2022-11-10T23:11:01.495Z"
   },
   {
    "duration": 410,
    "start_time": "2022-11-10T23:11:30.204Z"
   },
   {
    "duration": 399,
    "start_time": "2022-11-10T23:15:37.252Z"
   },
   {
    "duration": 401,
    "start_time": "2022-11-10T23:15:56.494Z"
   },
   {
    "duration": 390,
    "start_time": "2022-11-10T23:16:11.040Z"
   },
   {
    "duration": 508,
    "start_time": "2022-11-10T23:16:24.602Z"
   },
   {
    "duration": 441,
    "start_time": "2022-11-10T23:16:40.393Z"
   },
   {
    "duration": 413,
    "start_time": "2022-11-10T23:16:50.913Z"
   },
   {
    "duration": 426,
    "start_time": "2022-11-10T23:27:49.808Z"
   },
   {
    "duration": 380,
    "start_time": "2022-11-10T23:27:53.958Z"
   },
   {
    "duration": 56,
    "start_time": "2022-11-10T23:39:45.817Z"
   },
   {
    "duration": 3,
    "start_time": "2022-11-10T23:40:44.914Z"
   },
   {
    "duration": 1107561,
    "start_time": "2022-11-10T23:40:45.727Z"
   },
   {
    "duration": 6,
    "start_time": "2022-11-11T00:01:53.326Z"
   },
   {
    "duration": 7,
    "start_time": "2022-11-11T00:02:18.611Z"
   },
   {
    "duration": 7,
    "start_time": "2022-11-11T00:02:55.035Z"
   },
   {
    "duration": 6,
    "start_time": "2022-11-11T00:03:15.341Z"
   },
   {
    "duration": 13,
    "start_time": "2022-11-11T00:04:23.476Z"
   },
   {
    "duration": 3,
    "start_time": "2022-11-11T00:16:22.776Z"
   },
   {
    "duration": 499,
    "start_time": "2022-11-11T00:17:44.340Z"
   },
   {
    "duration": 2176,
    "start_time": "2022-11-11T00:34:42.228Z"
   },
   {
    "duration": 2201,
    "start_time": "2022-11-11T00:34:44.406Z"
   },
   {
    "duration": 1803,
    "start_time": "2022-11-11T00:34:46.610Z"
   },
   {
    "duration": 27,
    "start_time": "2022-11-11T00:34:48.415Z"
   },
   {
    "duration": 14,
    "start_time": "2022-11-11T00:34:48.443Z"
   },
   {
    "duration": 15,
    "start_time": "2022-11-11T00:34:48.458Z"
   },
   {
    "duration": 41,
    "start_time": "2022-11-11T00:34:48.474Z"
   },
   {
    "duration": 3,
    "start_time": "2022-11-11T00:34:48.517Z"
   },
   {
    "duration": 16,
    "start_time": "2022-11-11T00:34:48.522Z"
   },
   {
    "duration": 10,
    "start_time": "2022-11-11T00:34:48.541Z"
   },
   {
    "duration": 13,
    "start_time": "2022-11-11T00:34:48.553Z"
   },
   {
    "duration": 38,
    "start_time": "2022-11-11T00:34:48.568Z"
   },
   {
    "duration": 699,
    "start_time": "2022-11-11T00:34:48.607Z"
   },
   {
    "duration": 320,
    "start_time": "2022-11-11T00:34:49.308Z"
   },
   {
    "duration": 1012,
    "start_time": "2022-11-11T00:34:49.629Z"
   },
   {
    "duration": 484,
    "start_time": "2022-11-11T00:34:50.643Z"
   },
   {
    "duration": 284,
    "start_time": "2022-11-11T00:34:51.129Z"
   },
   {
    "duration": 8,
    "start_time": "2022-11-11T00:34:51.415Z"
   },
   {
    "duration": 34,
    "start_time": "2022-11-11T00:34:51.425Z"
   },
   {
    "duration": 26,
    "start_time": "2022-11-11T00:34:51.461Z"
   },
   {
    "duration": 20,
    "start_time": "2022-11-11T00:34:51.492Z"
   },
   {
    "duration": 10,
    "start_time": "2022-11-11T00:34:51.514Z"
   },
   {
    "duration": 29,
    "start_time": "2022-11-11T00:34:51.526Z"
   },
   {
    "duration": 23841,
    "start_time": "2022-11-11T00:34:51.557Z"
   },
   {
    "duration": 5,
    "start_time": "2022-11-11T00:35:15.401Z"
   },
   {
    "duration": 30187,
    "start_time": "2022-11-11T00:35:15.408Z"
   },
   {
    "duration": 423,
    "start_time": "2022-11-11T00:35:45.597Z"
   },
   {
    "duration": 3,
    "start_time": "2022-11-11T00:35:46.023Z"
   },
   {
    "duration": 536828,
    "start_time": "2022-11-11T00:35:46.027Z"
   },
   {
    "duration": 6,
    "start_time": "2022-11-11T00:44:42.857Z"
   },
   {
    "duration": 21,
    "start_time": "2022-11-11T00:44:42.864Z"
   },
   {
    "duration": 435,
    "start_time": "2022-11-11T00:44:42.886Z"
   },
   {
    "duration": 2249,
    "start_time": "2022-11-11T00:52:21.570Z"
   },
   {
    "duration": 2228,
    "start_time": "2022-11-11T00:52:23.821Z"
   },
   {
    "duration": 1753,
    "start_time": "2022-11-11T00:52:26.051Z"
   },
   {
    "duration": 28,
    "start_time": "2022-11-11T00:52:27.806Z"
   },
   {
    "duration": 13,
    "start_time": "2022-11-11T00:52:27.837Z"
   },
   {
    "duration": 48,
    "start_time": "2022-11-11T00:52:27.852Z"
   },
   {
    "duration": 37,
    "start_time": "2022-11-11T00:52:27.901Z"
   },
   {
    "duration": 34,
    "start_time": "2022-11-11T00:52:27.939Z"
   },
   {
    "duration": 51,
    "start_time": "2022-11-11T00:52:27.975Z"
   },
   {
    "duration": 42,
    "start_time": "2022-11-11T00:52:28.028Z"
   },
   {
    "duration": 25,
    "start_time": "2022-11-11T00:52:28.071Z"
   },
   {
    "duration": 23,
    "start_time": "2022-11-11T00:52:28.098Z"
   },
   {
    "duration": 676,
    "start_time": "2022-11-11T00:52:28.123Z"
   },
   {
    "duration": 314,
    "start_time": "2022-11-11T00:52:28.803Z"
   },
   {
    "duration": 934,
    "start_time": "2022-11-11T00:52:29.119Z"
   },
   {
    "duration": 464,
    "start_time": "2022-11-11T00:52:30.055Z"
   },
   {
    "duration": 257,
    "start_time": "2022-11-11T00:52:30.521Z"
   },
   {
    "duration": 9,
    "start_time": "2022-11-11T00:52:30.783Z"
   },
   {
    "duration": 95,
    "start_time": "2022-11-11T00:52:30.793Z"
   },
   {
    "duration": 44,
    "start_time": "2022-11-11T00:52:30.889Z"
   },
   {
    "duration": 17,
    "start_time": "2022-11-11T00:52:30.934Z"
   },
   {
    "duration": 38,
    "start_time": "2022-11-11T00:52:30.953Z"
   },
   {
    "duration": 22,
    "start_time": "2022-11-11T00:52:30.993Z"
   },
   {
    "duration": 23497,
    "start_time": "2022-11-11T00:52:31.017Z"
   },
   {
    "duration": 5,
    "start_time": "2022-11-11T00:52:54.516Z"
   },
   {
    "duration": 32276,
    "start_time": "2022-11-11T00:52:54.522Z"
   },
   {
    "duration": 528,
    "start_time": "2022-11-11T00:53:26.800Z"
   },
   {
    "duration": 3,
    "start_time": "2022-11-11T00:53:27.330Z"
   },
   {
    "duration": 523435,
    "start_time": "2022-11-11T00:53:27.335Z"
   },
   {
    "duration": 22,
    "start_time": "2022-11-11T01:02:10.772Z"
   },
   {
    "duration": 48,
    "start_time": "2022-11-11T01:02:10.796Z"
   },
   {
    "duration": 471,
    "start_time": "2022-11-11T01:02:10.846Z"
   },
   {
    "duration": 2098,
    "start_time": "2022-11-11T01:05:07.422Z"
   },
   {
    "duration": 2169,
    "start_time": "2022-11-11T01:05:09.522Z"
   },
   {
    "duration": 1860,
    "start_time": "2022-11-11T01:05:11.693Z"
   },
   {
    "duration": 37,
    "start_time": "2022-11-11T01:05:13.555Z"
   },
   {
    "duration": 27,
    "start_time": "2022-11-11T01:05:13.594Z"
   },
   {
    "duration": 23,
    "start_time": "2022-11-11T01:05:13.623Z"
   },
   {
    "duration": 47,
    "start_time": "2022-11-11T01:05:13.648Z"
   },
   {
    "duration": 34,
    "start_time": "2022-11-11T01:05:13.697Z"
   },
   {
    "duration": 35,
    "start_time": "2022-11-11T01:05:13.733Z"
   },
   {
    "duration": 35,
    "start_time": "2022-11-11T01:05:13.771Z"
   },
   {
    "duration": 25,
    "start_time": "2022-11-11T01:05:13.807Z"
   },
   {
    "duration": 17,
    "start_time": "2022-11-11T01:05:13.833Z"
   },
   {
    "duration": 615,
    "start_time": "2022-11-11T01:05:13.852Z"
   },
   {
    "duration": 328,
    "start_time": "2022-11-11T01:05:14.469Z"
   },
   {
    "duration": 979,
    "start_time": "2022-11-11T01:05:14.798Z"
   },
   {
    "duration": 480,
    "start_time": "2022-11-11T01:05:15.779Z"
   },
   {
    "duration": 271,
    "start_time": "2022-11-11T01:05:16.261Z"
   },
   {
    "duration": 8,
    "start_time": "2022-11-11T01:05:16.534Z"
   },
   {
    "duration": 48,
    "start_time": "2022-11-11T01:05:16.544Z"
   },
   {
    "duration": 30,
    "start_time": "2022-11-11T01:05:16.594Z"
   },
   {
    "duration": 21,
    "start_time": "2022-11-11T01:05:16.626Z"
   },
   {
    "duration": 26,
    "start_time": "2022-11-11T01:05:16.649Z"
   },
   {
    "duration": 27,
    "start_time": "2022-11-11T01:05:16.676Z"
   },
   {
    "duration": 23087,
    "start_time": "2022-11-11T01:05:16.705Z"
   },
   {
    "duration": 7,
    "start_time": "2022-11-11T01:05:39.794Z"
   },
   {
    "duration": 30365,
    "start_time": "2022-11-11T01:05:39.802Z"
   },
   {
    "duration": 400,
    "start_time": "2022-11-11T01:06:10.169Z"
   },
   {
    "duration": 3,
    "start_time": "2022-11-11T01:06:10.572Z"
   },
   {
    "duration": 652428,
    "start_time": "2022-11-11T01:06:10.578Z"
   },
   {
    "duration": 7,
    "start_time": "2022-11-11T01:17:03.007Z"
   },
   {
    "duration": 22,
    "start_time": "2022-11-11T01:17:03.016Z"
   },
   {
    "duration": 434,
    "start_time": "2022-11-11T01:17:03.040Z"
   },
   {
    "duration": 2208,
    "start_time": "2022-11-11T01:23:25.843Z"
   },
   {
    "duration": 2220,
    "start_time": "2022-11-11T01:23:28.053Z"
   },
   {
    "duration": 1867,
    "start_time": "2022-11-11T01:23:30.276Z"
   },
   {
    "duration": 28,
    "start_time": "2022-11-11T01:23:32.145Z"
   },
   {
    "duration": 23,
    "start_time": "2022-11-11T01:23:32.174Z"
   },
   {
    "duration": 29,
    "start_time": "2022-11-11T01:23:32.199Z"
   },
   {
    "duration": 28,
    "start_time": "2022-11-11T01:23:32.230Z"
   },
   {
    "duration": 26,
    "start_time": "2022-11-11T01:23:32.259Z"
   },
   {
    "duration": 33,
    "start_time": "2022-11-11T01:23:32.292Z"
   },
   {
    "duration": 8,
    "start_time": "2022-11-11T01:23:32.328Z"
   },
   {
    "duration": 11,
    "start_time": "2022-11-11T01:23:32.338Z"
   },
   {
    "duration": 13,
    "start_time": "2022-11-11T01:23:32.351Z"
   },
   {
    "duration": 688,
    "start_time": "2022-11-11T01:23:32.366Z"
   },
   {
    "duration": 344,
    "start_time": "2022-11-11T01:23:33.056Z"
   },
   {
    "duration": 968,
    "start_time": "2022-11-11T01:23:33.401Z"
   },
   {
    "duration": 488,
    "start_time": "2022-11-11T01:23:34.371Z"
   },
   {
    "duration": 267,
    "start_time": "2022-11-11T01:23:34.861Z"
   },
   {
    "duration": 8,
    "start_time": "2022-11-11T01:23:35.130Z"
   },
   {
    "duration": 36,
    "start_time": "2022-11-11T01:23:35.140Z"
   },
   {
    "duration": 31,
    "start_time": "2022-11-11T01:23:35.181Z"
   },
   {
    "duration": 15,
    "start_time": "2022-11-11T01:23:35.213Z"
   },
   {
    "duration": 16,
    "start_time": "2022-11-11T01:23:35.229Z"
   },
   {
    "duration": 55,
    "start_time": "2022-11-11T01:23:35.247Z"
   },
   {
    "duration": 23149,
    "start_time": "2022-11-11T01:23:35.304Z"
   },
   {
    "duration": 5,
    "start_time": "2022-11-11T01:23:58.455Z"
   },
   {
    "duration": 30982,
    "start_time": "2022-11-11T01:23:58.462Z"
   },
   {
    "duration": 418,
    "start_time": "2022-11-11T01:24:29.445Z"
   },
   {
    "duration": 4,
    "start_time": "2022-11-11T01:24:29.866Z"
   },
   {
    "duration": 583170,
    "start_time": "2022-11-11T01:24:29.879Z"
   },
   {
    "duration": 8,
    "start_time": "2022-11-11T01:34:13.051Z"
   },
   {
    "duration": 9,
    "start_time": "2022-11-11T01:34:13.060Z"
   },
   {
    "duration": 386,
    "start_time": "2022-11-11T01:34:13.071Z"
   },
   {
    "duration": 2104,
    "start_time": "2022-11-11T01:37:42.037Z"
   },
   {
    "duration": 2158,
    "start_time": "2022-11-11T01:37:44.144Z"
   },
   {
    "duration": 1791,
    "start_time": "2022-11-11T01:37:46.304Z"
   },
   {
    "duration": 27,
    "start_time": "2022-11-11T01:37:48.097Z"
   },
   {
    "duration": 14,
    "start_time": "2022-11-11T01:37:48.125Z"
   },
   {
    "duration": 15,
    "start_time": "2022-11-11T01:37:48.141Z"
   },
   {
    "duration": 36,
    "start_time": "2022-11-11T01:37:48.158Z"
   },
   {
    "duration": 5,
    "start_time": "2022-11-11T01:37:48.195Z"
   },
   {
    "duration": 23,
    "start_time": "2022-11-11T01:37:48.201Z"
   },
   {
    "duration": 9,
    "start_time": "2022-11-11T01:37:48.226Z"
   },
   {
    "duration": 13,
    "start_time": "2022-11-11T01:37:48.237Z"
   },
   {
    "duration": 10,
    "start_time": "2022-11-11T01:37:48.251Z"
   },
   {
    "duration": 655,
    "start_time": "2022-11-11T01:37:48.262Z"
   },
   {
    "duration": 337,
    "start_time": "2022-11-11T01:37:48.919Z"
   },
   {
    "duration": 943,
    "start_time": "2022-11-11T01:37:49.258Z"
   },
   {
    "duration": 489,
    "start_time": "2022-11-11T01:37:50.203Z"
   },
   {
    "duration": 264,
    "start_time": "2022-11-11T01:37:50.695Z"
   },
   {
    "duration": 7,
    "start_time": "2022-11-11T01:37:50.961Z"
   },
   {
    "duration": 15,
    "start_time": "2022-11-11T01:37:50.989Z"
   },
   {
    "duration": 24,
    "start_time": "2022-11-11T01:37:51.006Z"
   },
   {
    "duration": 10,
    "start_time": "2022-11-11T01:37:51.032Z"
   },
   {
    "duration": 17,
    "start_time": "2022-11-11T01:37:51.043Z"
   },
   {
    "duration": 8,
    "start_time": "2022-11-11T01:37:51.061Z"
   },
   {
    "duration": 23349,
    "start_time": "2022-11-11T01:37:51.071Z"
   },
   {
    "duration": 6,
    "start_time": "2022-11-11T01:38:14.422Z"
   },
   {
    "duration": 30826,
    "start_time": "2022-11-11T01:38:14.429Z"
   },
   {
    "duration": 436,
    "start_time": "2022-11-11T01:38:45.257Z"
   },
   {
    "duration": 3,
    "start_time": "2022-11-11T01:38:45.696Z"
   },
   {
    "duration": 1065962,
    "start_time": "2022-11-11T01:38:45.701Z"
   },
   {
    "duration": 6,
    "start_time": "2022-11-11T01:56:31.664Z"
   },
   {
    "duration": 25,
    "start_time": "2022-11-11T01:56:31.672Z"
   },
   {
    "duration": 398,
    "start_time": "2022-11-11T01:56:31.699Z"
   },
   {
    "duration": 2332,
    "start_time": "2022-11-11T09:03:38.272Z"
   },
   {
    "duration": 2270,
    "start_time": "2022-11-11T09:03:40.607Z"
   },
   {
    "duration": 14,
    "start_time": "2022-11-11T09:03:42.879Z"
   },
   {
    "duration": 35,
    "start_time": "2022-11-11T09:03:42.897Z"
   },
   {
    "duration": 13,
    "start_time": "2022-11-11T09:03:42.934Z"
   },
   {
    "duration": 39,
    "start_time": "2022-11-11T09:03:42.949Z"
   },
   {
    "duration": 37,
    "start_time": "2022-11-11T09:03:42.989Z"
   },
   {
    "duration": 3,
    "start_time": "2022-11-11T09:03:43.028Z"
   },
   {
    "duration": 24,
    "start_time": "2022-11-11T09:03:43.033Z"
   },
   {
    "duration": 10,
    "start_time": "2022-11-11T09:03:43.061Z"
   },
   {
    "duration": 20,
    "start_time": "2022-11-11T09:03:43.073Z"
   },
   {
    "duration": 11,
    "start_time": "2022-11-11T09:03:43.097Z"
   },
   {
    "duration": 703,
    "start_time": "2022-11-11T09:03:43.110Z"
   },
   {
    "duration": 412,
    "start_time": "2022-11-11T09:03:43.815Z"
   },
   {
    "duration": 1041,
    "start_time": "2022-11-11T09:03:44.229Z"
   },
   {
    "duration": 422,
    "start_time": "2022-11-11T09:03:45.271Z"
   },
   {
    "duration": 262,
    "start_time": "2022-11-11T09:03:45.696Z"
   },
   {
    "duration": 8,
    "start_time": "2022-11-11T09:03:45.959Z"
   },
   {
    "duration": 26,
    "start_time": "2022-11-11T09:03:45.969Z"
   },
   {
    "duration": 19,
    "start_time": "2022-11-11T09:03:45.997Z"
   },
   {
    "duration": 10,
    "start_time": "2022-11-11T09:03:46.018Z"
   },
   {
    "duration": 9,
    "start_time": "2022-11-11T09:03:46.030Z"
   },
   {
    "duration": 9,
    "start_time": "2022-11-11T09:03:46.040Z"
   },
   {
    "duration": 24963,
    "start_time": "2022-11-11T09:03:46.050Z"
   },
   {
    "duration": 6,
    "start_time": "2022-11-11T09:04:11.015Z"
   },
   {
    "duration": 292,
    "start_time": "2022-11-11T09:04:11.022Z"
   },
   {
    "duration": 78,
    "start_time": "2022-11-11T09:07:48.377Z"
   },
   {
    "duration": 39857,
    "start_time": "2022-11-11T09:08:02.745Z"
   },
   {
    "duration": 2353,
    "start_time": "2022-11-11T09:13:09.267Z"
   },
   {
    "duration": 2243,
    "start_time": "2022-11-11T09:13:11.622Z"
   },
   {
    "duration": 6,
    "start_time": "2022-11-11T09:13:13.867Z"
   },
   {
    "duration": 48,
    "start_time": "2022-11-11T09:13:13.874Z"
   },
   {
    "duration": 11,
    "start_time": "2022-11-11T09:13:13.925Z"
   },
   {
    "duration": 15,
    "start_time": "2022-11-11T09:13:13.937Z"
   },
   {
    "duration": 40,
    "start_time": "2022-11-11T09:13:13.953Z"
   },
   {
    "duration": 4,
    "start_time": "2022-11-11T09:13:13.995Z"
   },
   {
    "duration": 16,
    "start_time": "2022-11-11T09:13:14.000Z"
   },
   {
    "duration": 10,
    "start_time": "2022-11-11T09:13:14.018Z"
   },
   {
    "duration": 9,
    "start_time": "2022-11-11T09:13:14.029Z"
   },
   {
    "duration": 10,
    "start_time": "2022-11-11T09:13:14.039Z"
   },
   {
    "duration": 608,
    "start_time": "2022-11-11T09:13:14.050Z"
   },
   {
    "duration": 385,
    "start_time": "2022-11-11T09:13:14.662Z"
   },
   {
    "duration": 1108,
    "start_time": "2022-11-11T09:13:15.050Z"
   },
   {
    "duration": 384,
    "start_time": "2022-11-11T09:13:16.160Z"
   },
   {
    "duration": 272,
    "start_time": "2022-11-11T09:13:16.546Z"
   },
   {
    "duration": 8,
    "start_time": "2022-11-11T09:13:16.820Z"
   },
   {
    "duration": 12,
    "start_time": "2022-11-11T09:13:16.829Z"
   },
   {
    "duration": 24,
    "start_time": "2022-11-11T09:13:16.842Z"
   },
   {
    "duration": 20,
    "start_time": "2022-11-11T09:13:16.868Z"
   },
   {
    "duration": 14,
    "start_time": "2022-11-11T09:13:16.891Z"
   },
   {
    "duration": 22,
    "start_time": "2022-11-11T09:13:16.907Z"
   },
   {
    "duration": 25807,
    "start_time": "2022-11-11T09:13:16.931Z"
   },
   {
    "duration": 7,
    "start_time": "2022-11-11T09:13:42.740Z"
   },
   {
    "duration": 884,
    "start_time": "2022-11-11T09:13:42.751Z"
   },
   {
    "duration": 4136,
    "start_time": "2022-11-11T09:21:31.521Z"
   },
   {
    "duration": 4291,
    "start_time": "2022-11-11T09:22:00.146Z"
   },
   {
    "duration": 125,
    "start_time": "2022-11-11T09:22:15.455Z"
   },
   {
    "duration": 114,
    "start_time": "2022-11-11T09:22:26.702Z"
   },
   {
    "duration": 4095,
    "start_time": "2022-11-11T09:22:33.036Z"
   },
   {
    "duration": 97,
    "start_time": "2022-11-11T09:32:37.142Z"
   },
   {
    "duration": 4213,
    "start_time": "2022-11-11T09:34:59.105Z"
   },
   {
    "duration": 3,
    "start_time": "2022-11-11T09:38:16.468Z"
   },
   {
    "duration": 6,
    "start_time": "2022-11-11T09:38:18.950Z"
   },
   {
    "duration": 15,
    "start_time": "2022-11-11T09:39:00.381Z"
   },
   {
    "duration": 3,
    "start_time": "2022-11-11T09:39:09.499Z"
   },
   {
    "duration": 5,
    "start_time": "2022-11-11T09:39:13.694Z"
   },
   {
    "duration": 65,
    "start_time": "2022-11-11T09:39:54.094Z"
   },
   {
    "duration": 67,
    "start_time": "2022-11-11T09:41:46.562Z"
   },
   {
    "duration": 41,
    "start_time": "2022-11-11T09:42:05.002Z"
   },
   {
    "duration": 6043,
    "start_time": "2022-11-11T09:43:38.031Z"
   },
   {
    "duration": 60115,
    "start_time": "2022-11-11T09:43:53.399Z"
   },
   {
    "duration": 121587,
    "start_time": "2022-11-11T09:46:55.414Z"
   },
   {
    "duration": 3,
    "start_time": "2022-11-11T09:51:49.953Z"
   },
   {
    "duration": 5,
    "start_time": "2022-11-11T09:51:51.271Z"
   },
   {
    "duration": 106204,
    "start_time": "2022-11-11T09:51:51.858Z"
   },
   {
    "duration": 4298,
    "start_time": "2022-11-11T09:54:44.963Z"
   },
   {
    "duration": 6,
    "start_time": "2022-11-11T09:59:58.452Z"
   },
   {
    "duration": 75,
    "start_time": "2022-11-11T10:00:01.042Z"
   },
   {
    "duration": 4287,
    "start_time": "2022-11-11T10:00:13.153Z"
   },
   {
    "duration": 85,
    "start_time": "2022-11-11T10:01:14.250Z"
   },
   {
    "duration": 4049,
    "start_time": "2022-11-11T10:01:35.377Z"
   },
   {
    "duration": 4094,
    "start_time": "2022-11-11T10:01:55.606Z"
   },
   {
    "duration": 4127,
    "start_time": "2022-11-11T10:02:04.174Z"
   },
   {
    "duration": 386,
    "start_time": "2022-11-11T10:04:40.668Z"
   },
   {
    "duration": 2222,
    "start_time": "2022-11-11T10:04:51.443Z"
   },
   {
    "duration": 2136,
    "start_time": "2022-11-11T10:04:53.668Z"
   },
   {
    "duration": 1943,
    "start_time": "2022-11-11T10:04:55.806Z"
   },
   {
    "duration": 27,
    "start_time": "2022-11-11T10:04:57.751Z"
   },
   {
    "duration": 16,
    "start_time": "2022-11-11T10:04:57.790Z"
   },
   {
    "duration": 22,
    "start_time": "2022-11-11T10:04:57.808Z"
   },
   {
    "duration": 36,
    "start_time": "2022-11-11T10:04:57.832Z"
   },
   {
    "duration": 6,
    "start_time": "2022-11-11T10:04:57.870Z"
   },
   {
    "duration": 38,
    "start_time": "2022-11-11T10:04:57.878Z"
   },
   {
    "duration": 14,
    "start_time": "2022-11-11T10:04:57.919Z"
   },
   {
    "duration": 32,
    "start_time": "2022-11-11T10:04:57.934Z"
   },
   {
    "duration": 40,
    "start_time": "2022-11-11T10:04:57.968Z"
   },
   {
    "duration": 646,
    "start_time": "2022-11-11T10:04:58.010Z"
   },
   {
    "duration": 357,
    "start_time": "2022-11-11T10:04:58.658Z"
   },
   {
    "duration": 977,
    "start_time": "2022-11-11T10:04:59.017Z"
   },
   {
    "duration": 475,
    "start_time": "2022-11-11T10:04:59.995Z"
   },
   {
    "duration": 286,
    "start_time": "2022-11-11T10:05:00.472Z"
   },
   {
    "duration": 7,
    "start_time": "2022-11-11T10:05:00.760Z"
   },
   {
    "duration": 66,
    "start_time": "2022-11-11T10:05:00.779Z"
   },
   {
    "duration": 53,
    "start_time": "2022-11-11T10:05:00.847Z"
   },
   {
    "duration": 28,
    "start_time": "2022-11-11T10:05:00.902Z"
   },
   {
    "duration": 19,
    "start_time": "2022-11-11T10:05:00.931Z"
   },
   {
    "duration": 48,
    "start_time": "2022-11-11T10:05:00.951Z"
   },
   {
    "duration": 24096,
    "start_time": "2022-11-11T10:05:01.000Z"
   },
   {
    "duration": 6,
    "start_time": "2022-11-11T10:05:25.097Z"
   },
   {
    "duration": 3922,
    "start_time": "2022-11-11T10:05:25.105Z"
   },
   {
    "duration": 401,
    "start_time": "2022-11-11T10:05:29.029Z"
   },
   {
    "duration": 3,
    "start_time": "2022-11-11T10:05:29.434Z"
   },
   {
    "duration": 273,
    "start_time": "2022-11-11T10:05:29.438Z"
   },
   {
    "duration": 18,
    "start_time": "2022-11-11T10:05:29.713Z"
   },
   {
    "duration": 0,
    "start_time": "2022-11-11T10:05:29.733Z"
   },
   {
    "duration": 0,
    "start_time": "2022-11-11T10:05:29.734Z"
   },
   {
    "duration": 122,
    "start_time": "2022-11-11T10:07:01.197Z"
   },
   {
    "duration": 130,
    "start_time": "2022-11-11T10:08:28.005Z"
   },
   {
    "duration": 400555,
    "start_time": "2022-11-11T10:15:26.691Z"
   },
   {
    "duration": 8,
    "start_time": "2022-11-11T10:22:30.894Z"
   },
   {
    "duration": 5,
    "start_time": "2022-11-11T10:27:22.992Z"
   },
   {
    "duration": 7,
    "start_time": "2022-11-11T10:27:25.432Z"
   },
   {
    "duration": 25118,
    "start_time": "2022-11-11T10:27:27.911Z"
   },
   {
    "duration": 8,
    "start_time": "2022-11-11T10:31:07.135Z"
   },
   {
    "duration": 3960,
    "start_time": "2022-11-11T10:31:11.794Z"
   },
   {
    "duration": 395,
    "start_time": "2022-11-11T10:31:58.228Z"
   },
   {
    "duration": 3,
    "start_time": "2022-11-11T10:32:08.009Z"
   },
   {
    "duration": 386719,
    "start_time": "2022-11-11T10:32:50.094Z"
   },
   {
    "duration": 7,
    "start_time": "2022-11-11T10:41:09.054Z"
   },
   {
    "duration": 2215,
    "start_time": "2022-11-11T10:43:39.990Z"
   },
   {
    "duration": 2305,
    "start_time": "2022-11-11T10:43:42.208Z"
   },
   {
    "duration": 1879,
    "start_time": "2022-11-11T10:43:44.515Z"
   },
   {
    "duration": 29,
    "start_time": "2022-11-11T10:43:46.396Z"
   },
   {
    "duration": 16,
    "start_time": "2022-11-11T10:43:46.428Z"
   },
   {
    "duration": 15,
    "start_time": "2022-11-11T10:43:46.446Z"
   },
   {
    "duration": 35,
    "start_time": "2022-11-11T10:43:46.464Z"
   },
   {
    "duration": 5,
    "start_time": "2022-11-11T10:43:46.501Z"
   },
   {
    "duration": 15,
    "start_time": "2022-11-11T10:43:46.508Z"
   },
   {
    "duration": 9,
    "start_time": "2022-11-11T10:43:46.525Z"
   },
   {
    "duration": 9,
    "start_time": "2022-11-11T10:43:46.535Z"
   },
   {
    "duration": 10,
    "start_time": "2022-11-11T10:43:46.546Z"
   },
   {
    "duration": 661,
    "start_time": "2022-11-11T10:43:46.557Z"
   },
   {
    "duration": 332,
    "start_time": "2022-11-11T10:43:47.221Z"
   },
   {
    "duration": 966,
    "start_time": "2022-11-11T10:43:47.555Z"
   },
   {
    "duration": 519,
    "start_time": "2022-11-11T10:43:48.523Z"
   },
   {
    "duration": 318,
    "start_time": "2022-11-11T10:43:49.044Z"
   },
   {
    "duration": 8,
    "start_time": "2022-11-11T10:43:49.363Z"
   },
   {
    "duration": 23,
    "start_time": "2022-11-11T10:43:49.389Z"
   },
   {
    "duration": 25,
    "start_time": "2022-11-11T10:43:49.414Z"
   },
   {
    "duration": 27,
    "start_time": "2022-11-11T10:43:49.441Z"
   },
   {
    "duration": 29,
    "start_time": "2022-11-11T10:43:49.470Z"
   },
   {
    "duration": 15,
    "start_time": "2022-11-11T10:43:49.500Z"
   },
   {
    "duration": 23978,
    "start_time": "2022-11-11T10:43:49.517Z"
   },
   {
    "duration": 8,
    "start_time": "2022-11-11T10:44:13.497Z"
   },
   {
    "duration": 3945,
    "start_time": "2022-11-11T10:44:13.506Z"
   },
   {
    "duration": 427,
    "start_time": "2022-11-11T10:44:17.453Z"
   },
   {
    "duration": 4,
    "start_time": "2022-11-11T10:44:17.893Z"
   },
   {
    "duration": 395990,
    "start_time": "2022-11-11T10:44:17.898Z"
   },
   {
    "duration": 10,
    "start_time": "2022-11-11T10:50:53.890Z"
   },
   {
    "duration": 15,
    "start_time": "2022-11-11T10:50:53.901Z"
   },
   {
    "duration": 416,
    "start_time": "2022-11-11T10:50:53.918Z"
   },
   {
    "duration": 2273,
    "start_time": "2022-11-11T10:52:06.801Z"
   },
   {
    "duration": 2384,
    "start_time": "2022-11-11T10:52:09.077Z"
   },
   {
    "duration": 1941,
    "start_time": "2022-11-11T10:52:11.463Z"
   },
   {
    "duration": 29,
    "start_time": "2022-11-11T10:52:13.406Z"
   },
   {
    "duration": 16,
    "start_time": "2022-11-11T10:52:13.437Z"
   },
   {
    "duration": 16,
    "start_time": "2022-11-11T10:52:13.454Z"
   },
   {
    "duration": 28,
    "start_time": "2022-11-11T10:52:13.472Z"
   },
   {
    "duration": 14,
    "start_time": "2022-11-11T10:52:13.502Z"
   },
   {
    "duration": 18,
    "start_time": "2022-11-11T10:52:13.517Z"
   },
   {
    "duration": 8,
    "start_time": "2022-11-11T10:52:13.539Z"
   },
   {
    "duration": 9,
    "start_time": "2022-11-11T10:52:13.548Z"
   },
   {
    "duration": 25,
    "start_time": "2022-11-11T10:52:13.559Z"
   },
   {
    "duration": 627,
    "start_time": "2022-11-11T10:52:13.589Z"
   },
   {
    "duration": 325,
    "start_time": "2022-11-11T10:52:14.218Z"
   },
   {
    "duration": 1011,
    "start_time": "2022-11-11T10:52:14.546Z"
   },
   {
    "duration": 497,
    "start_time": "2022-11-11T10:52:15.559Z"
   },
   {
    "duration": 288,
    "start_time": "2022-11-11T10:52:16.057Z"
   },
   {
    "duration": 8,
    "start_time": "2022-11-11T10:52:16.347Z"
   },
   {
    "duration": 18,
    "start_time": "2022-11-11T10:52:16.356Z"
   },
   {
    "duration": 31,
    "start_time": "2022-11-11T10:52:16.375Z"
   },
   {
    "duration": 7,
    "start_time": "2022-11-11T10:52:16.408Z"
   },
   {
    "duration": 14,
    "start_time": "2022-11-11T10:52:16.416Z"
   },
   {
    "duration": 21,
    "start_time": "2022-11-11T10:52:16.432Z"
   },
   {
    "duration": 24540,
    "start_time": "2022-11-11T10:52:16.455Z"
   },
   {
    "duration": 11,
    "start_time": "2022-11-11T10:52:40.997Z"
   },
   {
    "duration": 3947,
    "start_time": "2022-11-11T10:52:41.010Z"
   },
   {
    "duration": 452,
    "start_time": "2022-11-11T10:52:44.960Z"
   },
   {
    "duration": 4,
    "start_time": "2022-11-11T10:52:45.416Z"
   },
   {
    "duration": 511895,
    "start_time": "2022-11-11T10:52:45.422Z"
   },
   {
    "duration": 7,
    "start_time": "2022-11-11T11:01:17.319Z"
   },
   {
    "duration": 52,
    "start_time": "2022-11-11T11:01:17.328Z"
   },
   {
    "duration": 475,
    "start_time": "2022-11-11T11:01:17.386Z"
   },
   {
    "duration": 2353,
    "start_time": "2022-11-11T11:02:39.092Z"
   },
   {
    "duration": 2358,
    "start_time": "2022-11-11T11:02:41.447Z"
   },
   {
    "duration": 7,
    "start_time": "2022-11-11T11:02:43.808Z"
   },
   {
    "duration": 102,
    "start_time": "2022-11-11T11:02:43.817Z"
   },
   {
    "duration": 26,
    "start_time": "2022-11-11T11:02:43.921Z"
   },
   {
    "duration": 77,
    "start_time": "2022-11-11T11:02:43.949Z"
   },
   {
    "duration": 178,
    "start_time": "2022-11-11T11:02:44.028Z"
   },
   {
    "duration": 4,
    "start_time": "2022-11-11T11:02:44.208Z"
   },
   {
    "duration": 59,
    "start_time": "2022-11-11T11:02:44.213Z"
   },
   {
    "duration": 56,
    "start_time": "2022-11-11T11:02:44.273Z"
   },
   {
    "duration": 41,
    "start_time": "2022-11-11T11:02:44.330Z"
   },
   {
    "duration": 62,
    "start_time": "2022-11-11T11:02:44.373Z"
   },
   {
    "duration": 701,
    "start_time": "2022-11-11T11:02:44.437Z"
   },
   {
    "duration": 418,
    "start_time": "2022-11-11T11:02:45.140Z"
   },
   {
    "duration": 945,
    "start_time": "2022-11-11T11:02:45.559Z"
   },
   {
    "duration": 410,
    "start_time": "2022-11-11T11:02:46.505Z"
   },
   {
    "duration": 392,
    "start_time": "2022-11-11T11:02:46.917Z"
   },
   {
    "duration": 7,
    "start_time": "2022-11-11T11:02:47.311Z"
   },
   {
    "duration": 186,
    "start_time": "2022-11-11T11:02:47.320Z"
   },
   {
    "duration": 0,
    "start_time": "2022-11-11T11:02:47.507Z"
   },
   {
    "duration": 0,
    "start_time": "2022-11-11T11:02:47.508Z"
   },
   {
    "duration": 0,
    "start_time": "2022-11-11T11:02:47.509Z"
   },
   {
    "duration": 0,
    "start_time": "2022-11-11T11:02:47.510Z"
   },
   {
    "duration": 1,
    "start_time": "2022-11-11T11:02:47.511Z"
   },
   {
    "duration": 0,
    "start_time": "2022-11-11T11:02:47.512Z"
   },
   {
    "duration": 0,
    "start_time": "2022-11-11T11:02:47.514Z"
   },
   {
    "duration": 2372,
    "start_time": "2022-11-11T11:03:21.775Z"
   },
   {
    "duration": 2332,
    "start_time": "2022-11-11T11:03:24.149Z"
   },
   {
    "duration": 1960,
    "start_time": "2022-11-11T11:03:26.486Z"
   },
   {
    "duration": 28,
    "start_time": "2022-11-11T11:03:28.448Z"
   },
   {
    "duration": 26,
    "start_time": "2022-11-11T11:03:28.478Z"
   },
   {
    "duration": 32,
    "start_time": "2022-11-11T11:03:28.507Z"
   },
   {
    "duration": 53,
    "start_time": "2022-11-11T11:03:28.541Z"
   },
   {
    "duration": 14,
    "start_time": "2022-11-11T11:03:28.595Z"
   },
   {
    "duration": 52,
    "start_time": "2022-11-11T11:03:28.611Z"
   },
   {
    "duration": 36,
    "start_time": "2022-11-11T11:03:28.666Z"
   },
   {
    "duration": 19,
    "start_time": "2022-11-11T11:03:28.703Z"
   },
   {
    "duration": 28,
    "start_time": "2022-11-11T11:03:28.724Z"
   },
   {
    "duration": 722,
    "start_time": "2022-11-11T11:03:28.754Z"
   },
   {
    "duration": 357,
    "start_time": "2022-11-11T11:03:29.478Z"
   },
   {
    "duration": 1035,
    "start_time": "2022-11-11T11:03:29.839Z"
   },
   {
    "duration": 507,
    "start_time": "2022-11-11T11:03:30.875Z"
   },
   {
    "duration": 276,
    "start_time": "2022-11-11T11:03:31.394Z"
   },
   {
    "duration": 17,
    "start_time": "2022-11-11T11:03:31.671Z"
   },
   {
    "duration": 181,
    "start_time": "2022-11-11T11:03:31.696Z"
   },
   {
    "duration": 0,
    "start_time": "2022-11-11T11:03:31.878Z"
   },
   {
    "duration": 0,
    "start_time": "2022-11-11T11:03:31.879Z"
   },
   {
    "duration": 0,
    "start_time": "2022-11-11T11:03:31.884Z"
   },
   {
    "duration": 0,
    "start_time": "2022-11-11T11:03:31.885Z"
   },
   {
    "duration": 0,
    "start_time": "2022-11-11T11:03:31.886Z"
   },
   {
    "duration": 0,
    "start_time": "2022-11-11T11:03:31.888Z"
   },
   {
    "duration": 0,
    "start_time": "2022-11-11T11:03:31.889Z"
   },
   {
    "duration": 21,
    "start_time": "2022-11-11T11:03:44.265Z"
   },
   {
    "duration": 2434,
    "start_time": "2022-11-11T11:04:11.000Z"
   },
   {
    "duration": 2423,
    "start_time": "2022-11-11T11:04:13.438Z"
   },
   {
    "duration": 1978,
    "start_time": "2022-11-11T11:04:15.867Z"
   },
   {
    "duration": 27,
    "start_time": "2022-11-11T11:04:17.847Z"
   },
   {
    "duration": 22,
    "start_time": "2022-11-11T11:04:17.877Z"
   },
   {
    "duration": 11,
    "start_time": "2022-11-11T11:04:17.901Z"
   },
   {
    "duration": 36,
    "start_time": "2022-11-11T11:04:17.914Z"
   },
   {
    "duration": 4,
    "start_time": "2022-11-11T11:04:17.952Z"
   },
   {
    "duration": 22,
    "start_time": "2022-11-11T11:04:17.958Z"
   },
   {
    "duration": 23,
    "start_time": "2022-11-11T11:04:17.993Z"
   },
   {
    "duration": 15,
    "start_time": "2022-11-11T11:04:18.018Z"
   },
   {
    "duration": 16,
    "start_time": "2022-11-11T11:04:18.035Z"
   },
   {
    "duration": 672,
    "start_time": "2022-11-11T11:04:18.053Z"
   },
   {
    "duration": 399,
    "start_time": "2022-11-11T11:04:18.728Z"
   },
   {
    "duration": 1109,
    "start_time": "2022-11-11T11:04:19.129Z"
   },
   {
    "duration": 529,
    "start_time": "2022-11-11T11:04:20.240Z"
   },
   {
    "duration": 327,
    "start_time": "2022-11-11T11:04:20.770Z"
   },
   {
    "duration": 9,
    "start_time": "2022-11-11T11:04:21.098Z"
   },
   {
    "duration": 166,
    "start_time": "2022-11-11T11:04:21.109Z"
   },
   {
    "duration": 0,
    "start_time": "2022-11-11T11:04:21.276Z"
   },
   {
    "duration": 0,
    "start_time": "2022-11-11T11:04:21.278Z"
   },
   {
    "duration": 0,
    "start_time": "2022-11-11T11:04:21.282Z"
   },
   {
    "duration": 0,
    "start_time": "2022-11-11T11:04:21.284Z"
   },
   {
    "duration": 0,
    "start_time": "2022-11-11T11:04:21.285Z"
   },
   {
    "duration": 0,
    "start_time": "2022-11-11T11:04:21.288Z"
   },
   {
    "duration": 0,
    "start_time": "2022-11-11T11:04:21.289Z"
   },
   {
    "duration": 0,
    "start_time": "2022-11-11T11:04:21.290Z"
   },
   {
    "duration": 2173,
    "start_time": "2022-11-11T11:06:05.552Z"
   },
   {
    "duration": 2283,
    "start_time": "2022-11-11T11:06:07.729Z"
   },
   {
    "duration": 6,
    "start_time": "2022-11-11T11:06:10.015Z"
   },
   {
    "duration": 74,
    "start_time": "2022-11-11T11:06:10.024Z"
   },
   {
    "duration": 30,
    "start_time": "2022-11-11T11:06:10.100Z"
   },
   {
    "duration": 23,
    "start_time": "2022-11-11T11:06:10.131Z"
   },
   {
    "duration": 45,
    "start_time": "2022-11-11T11:06:10.155Z"
   },
   {
    "duration": 24,
    "start_time": "2022-11-11T11:06:10.202Z"
   },
   {
    "duration": 44,
    "start_time": "2022-11-11T11:06:10.228Z"
   },
   {
    "duration": 26,
    "start_time": "2022-11-11T11:06:10.275Z"
   },
   {
    "duration": 32,
    "start_time": "2022-11-11T11:06:10.303Z"
   },
   {
    "duration": 35,
    "start_time": "2022-11-11T11:06:10.338Z"
   },
   {
    "duration": 683,
    "start_time": "2022-11-11T11:06:10.375Z"
   },
   {
    "duration": 374,
    "start_time": "2022-11-11T11:06:11.060Z"
   },
   {
    "duration": 1109,
    "start_time": "2022-11-11T11:06:11.436Z"
   },
   {
    "duration": 466,
    "start_time": "2022-11-11T11:06:12.547Z"
   },
   {
    "duration": 292,
    "start_time": "2022-11-11T11:06:13.015Z"
   },
   {
    "duration": 9,
    "start_time": "2022-11-11T11:06:13.308Z"
   },
   {
    "duration": 32,
    "start_time": "2022-11-11T11:06:13.319Z"
   },
   {
    "duration": 0,
    "start_time": "2022-11-11T11:06:13.353Z"
   },
   {
    "duration": 3,
    "start_time": "2022-11-11T11:06:38.196Z"
   },
   {
    "duration": 12,
    "start_time": "2022-11-11T11:06:50.762Z"
   },
   {
    "duration": 9,
    "start_time": "2022-11-11T11:07:02.692Z"
   },
   {
    "duration": 10,
    "start_time": "2022-11-11T11:07:07.300Z"
   },
   {
    "duration": 2436,
    "start_time": "2022-11-11T11:07:16.539Z"
   },
   {
    "duration": 2431,
    "start_time": "2022-11-11T11:07:18.978Z"
   },
   {
    "duration": 2155,
    "start_time": "2022-11-11T11:07:21.411Z"
   },
   {
    "duration": 44,
    "start_time": "2022-11-11T11:07:23.568Z"
   },
   {
    "duration": 17,
    "start_time": "2022-11-11T11:07:23.614Z"
   },
   {
    "duration": 23,
    "start_time": "2022-11-11T11:07:23.633Z"
   },
   {
    "duration": 43,
    "start_time": "2022-11-11T11:07:23.657Z"
   },
   {
    "duration": 12,
    "start_time": "2022-11-11T11:07:23.702Z"
   },
   {
    "duration": 24,
    "start_time": "2022-11-11T11:07:23.717Z"
   },
   {
    "duration": 16,
    "start_time": "2022-11-11T11:07:23.744Z"
   },
   {
    "duration": 38,
    "start_time": "2022-11-11T11:07:23.762Z"
   },
   {
    "duration": 24,
    "start_time": "2022-11-11T11:07:23.802Z"
   },
   {
    "duration": 681,
    "start_time": "2022-11-11T11:07:23.828Z"
   },
   {
    "duration": 479,
    "start_time": "2022-11-11T11:07:24.512Z"
   },
   {
    "duration": 1069,
    "start_time": "2022-11-11T11:07:24.993Z"
   },
   {
    "duration": 552,
    "start_time": "2022-11-11T11:07:26.064Z"
   },
   {
    "duration": 290,
    "start_time": "2022-11-11T11:07:26.618Z"
   },
   {
    "duration": 9,
    "start_time": "2022-11-11T11:07:26.911Z"
   },
   {
    "duration": 180,
    "start_time": "2022-11-11T11:07:26.922Z"
   },
   {
    "duration": 0,
    "start_time": "2022-11-11T11:07:27.105Z"
   },
   {
    "duration": 0,
    "start_time": "2022-11-11T11:07:27.106Z"
   },
   {
    "duration": 0,
    "start_time": "2022-11-11T11:07:27.108Z"
   },
   {
    "duration": 0,
    "start_time": "2022-11-11T11:07:27.110Z"
   },
   {
    "duration": 0,
    "start_time": "2022-11-11T11:07:27.112Z"
   },
   {
    "duration": 0,
    "start_time": "2022-11-11T11:07:27.113Z"
   },
   {
    "duration": 0,
    "start_time": "2022-11-11T11:07:27.115Z"
   },
   {
    "duration": 0,
    "start_time": "2022-11-11T11:07:27.116Z"
   },
   {
    "duration": 0,
    "start_time": "2022-11-11T11:07:27.118Z"
   },
   {
    "duration": 0,
    "start_time": "2022-11-11T11:07:27.120Z"
   },
   {
    "duration": 0,
    "start_time": "2022-11-11T11:07:27.121Z"
   },
   {
    "duration": 0,
    "start_time": "2022-11-11T11:07:27.122Z"
   },
   {
    "duration": 0,
    "start_time": "2022-11-11T11:07:27.124Z"
   },
   {
    "duration": 0,
    "start_time": "2022-11-11T11:07:27.124Z"
   },
   {
    "duration": 2242,
    "start_time": "2022-11-11T11:08:03.673Z"
   },
   {
    "duration": 2205,
    "start_time": "2022-11-11T11:08:05.917Z"
   },
   {
    "duration": 1989,
    "start_time": "2022-11-11T11:08:08.125Z"
   },
   {
    "duration": 28,
    "start_time": "2022-11-11T11:08:10.116Z"
   },
   {
    "duration": 14,
    "start_time": "2022-11-11T11:08:10.146Z"
   },
   {
    "duration": 13,
    "start_time": "2022-11-11T11:08:10.162Z"
   },
   {
    "duration": 49,
    "start_time": "2022-11-11T11:08:10.176Z"
   },
   {
    "duration": 3,
    "start_time": "2022-11-11T11:08:10.227Z"
   },
   {
    "duration": 16,
    "start_time": "2022-11-11T11:08:10.232Z"
   },
   {
    "duration": 12,
    "start_time": "2022-11-11T11:08:10.251Z"
   },
   {
    "duration": 12,
    "start_time": "2022-11-11T11:08:10.265Z"
   },
   {
    "duration": 30,
    "start_time": "2022-11-11T11:08:10.281Z"
   },
   {
    "duration": 679,
    "start_time": "2022-11-11T11:08:10.314Z"
   },
   {
    "duration": 351,
    "start_time": "2022-11-11T11:08:10.994Z"
   },
   {
    "duration": 1043,
    "start_time": "2022-11-11T11:08:11.347Z"
   },
   {
    "duration": 665,
    "start_time": "2022-11-11T11:08:12.394Z"
   },
   {
    "duration": 291,
    "start_time": "2022-11-11T11:08:13.061Z"
   },
   {
    "duration": 8,
    "start_time": "2022-11-11T11:08:13.354Z"
   },
   {
    "duration": 31,
    "start_time": "2022-11-11T11:08:13.363Z"
   },
   {
    "duration": 22,
    "start_time": "2022-11-11T11:08:13.395Z"
   },
   {
    "duration": 16,
    "start_time": "2022-11-11T11:08:13.418Z"
   },
   {
    "duration": 15,
    "start_time": "2022-11-11T11:08:13.436Z"
   },
   {
    "duration": 15,
    "start_time": "2022-11-11T11:08:13.453Z"
   },
   {
    "duration": 25533,
    "start_time": "2022-11-11T11:08:13.469Z"
   },
   {
    "duration": 8,
    "start_time": "2022-11-11T11:08:39.003Z"
   },
   {
    "duration": 4332,
    "start_time": "2022-11-11T11:08:39.013Z"
   },
   {
    "duration": 451,
    "start_time": "2022-11-11T11:08:43.347Z"
   },
   {
    "duration": 147,
    "start_time": "2022-11-11T11:08:43.802Z"
   },
   {
    "duration": 0,
    "start_time": "2022-11-11T11:08:43.951Z"
   },
   {
    "duration": 0,
    "start_time": "2022-11-11T11:08:43.954Z"
   },
   {
    "duration": 0,
    "start_time": "2022-11-11T11:08:43.955Z"
   },
   {
    "duration": 0,
    "start_time": "2022-11-11T11:08:43.957Z"
   },
   {
    "duration": 0,
    "start_time": "2022-11-11T11:08:43.959Z"
   },
   {
    "duration": 2470,
    "start_time": "2022-11-11T11:09:08.154Z"
   },
   {
    "duration": 2507,
    "start_time": "2022-11-11T11:09:10.627Z"
   },
   {
    "duration": 1963,
    "start_time": "2022-11-11T11:09:13.137Z"
   },
   {
    "duration": 28,
    "start_time": "2022-11-11T11:09:15.102Z"
   },
   {
    "duration": 19,
    "start_time": "2022-11-11T11:09:15.133Z"
   },
   {
    "duration": 16,
    "start_time": "2022-11-11T11:09:15.154Z"
   },
   {
    "duration": 34,
    "start_time": "2022-11-11T11:09:15.173Z"
   },
   {
    "duration": 4,
    "start_time": "2022-11-11T11:09:15.210Z"
   },
   {
    "duration": 22,
    "start_time": "2022-11-11T11:09:15.216Z"
   },
   {
    "duration": 20,
    "start_time": "2022-11-11T11:09:15.240Z"
   },
   {
    "duration": 6,
    "start_time": "2022-11-11T11:09:15.262Z"
   },
   {
    "duration": 28,
    "start_time": "2022-11-11T11:09:15.270Z"
   },
   {
    "duration": 763,
    "start_time": "2022-11-11T11:09:15.302Z"
   },
   {
    "duration": 364,
    "start_time": "2022-11-11T11:09:16.070Z"
   },
   {
    "duration": 1162,
    "start_time": "2022-11-11T11:09:16.435Z"
   },
   {
    "duration": 482,
    "start_time": "2022-11-11T11:09:17.599Z"
   },
   {
    "duration": 286,
    "start_time": "2022-11-11T11:09:18.084Z"
   },
   {
    "duration": 18,
    "start_time": "2022-11-11T11:09:18.372Z"
   },
   {
    "duration": 185,
    "start_time": "2022-11-11T11:09:18.399Z"
   },
   {
    "duration": 0,
    "start_time": "2022-11-11T11:09:18.587Z"
   },
   {
    "duration": 0,
    "start_time": "2022-11-11T11:09:18.588Z"
   },
   {
    "duration": 0,
    "start_time": "2022-11-11T11:09:18.589Z"
   },
   {
    "duration": 0,
    "start_time": "2022-11-11T11:09:18.590Z"
   },
   {
    "duration": 0,
    "start_time": "2022-11-11T11:09:18.591Z"
   },
   {
    "duration": 0,
    "start_time": "2022-11-11T11:09:18.592Z"
   },
   {
    "duration": 0,
    "start_time": "2022-11-11T11:09:18.593Z"
   },
   {
    "duration": 0,
    "start_time": "2022-11-11T11:09:18.594Z"
   },
   {
    "duration": 0,
    "start_time": "2022-11-11T11:09:18.595Z"
   },
   {
    "duration": 1,
    "start_time": "2022-11-11T11:09:18.600Z"
   },
   {
    "duration": 0,
    "start_time": "2022-11-11T11:09:18.602Z"
   },
   {
    "duration": 0,
    "start_time": "2022-11-11T11:09:18.604Z"
   },
   {
    "duration": 0,
    "start_time": "2022-11-11T11:09:18.605Z"
   },
   {
    "duration": 0,
    "start_time": "2022-11-11T11:09:18.607Z"
   },
   {
    "duration": 2246,
    "start_time": "2022-11-11T11:09:52.453Z"
   },
   {
    "duration": 2198,
    "start_time": "2022-11-11T11:09:54.705Z"
   },
   {
    "duration": 1865,
    "start_time": "2022-11-11T11:09:56.905Z"
   },
   {
    "duration": 34,
    "start_time": "2022-11-11T11:09:58.773Z"
   },
   {
    "duration": 19,
    "start_time": "2022-11-11T11:09:58.809Z"
   },
   {
    "duration": 11,
    "start_time": "2022-11-11T11:09:58.830Z"
   },
   {
    "duration": 27,
    "start_time": "2022-11-11T11:09:58.843Z"
   },
   {
    "duration": 9,
    "start_time": "2022-11-11T11:09:58.871Z"
   },
   {
    "duration": 27,
    "start_time": "2022-11-11T11:09:58.884Z"
   },
   {
    "duration": 9,
    "start_time": "2022-11-11T11:09:58.912Z"
   },
   {
    "duration": 6,
    "start_time": "2022-11-11T11:09:58.922Z"
   },
   {
    "duration": 10,
    "start_time": "2022-11-11T11:09:58.930Z"
   },
   {
    "duration": 694,
    "start_time": "2022-11-11T11:09:58.942Z"
   },
   {
    "duration": 362,
    "start_time": "2022-11-11T11:09:59.638Z"
   },
   {
    "duration": 992,
    "start_time": "2022-11-11T11:10:00.002Z"
   },
   {
    "duration": 487,
    "start_time": "2022-11-11T11:10:00.996Z"
   },
   {
    "duration": 265,
    "start_time": "2022-11-11T11:10:01.484Z"
   },
   {
    "duration": 9,
    "start_time": "2022-11-11T11:10:01.751Z"
   },
   {
    "duration": 176,
    "start_time": "2022-11-11T11:10:01.761Z"
   },
   {
    "duration": 0,
    "start_time": "2022-11-11T11:10:01.938Z"
   },
   {
    "duration": 0,
    "start_time": "2022-11-11T11:10:01.940Z"
   },
   {
    "duration": 0,
    "start_time": "2022-11-11T11:10:01.941Z"
   },
   {
    "duration": 0,
    "start_time": "2022-11-11T11:10:01.942Z"
   },
   {
    "duration": 0,
    "start_time": "2022-11-11T11:10:01.943Z"
   },
   {
    "duration": 0,
    "start_time": "2022-11-11T11:10:01.944Z"
   },
   {
    "duration": 0,
    "start_time": "2022-11-11T11:10:01.945Z"
   },
   {
    "duration": 0,
    "start_time": "2022-11-11T11:10:01.946Z"
   },
   {
    "duration": 0,
    "start_time": "2022-11-11T11:10:01.947Z"
   },
   {
    "duration": 0,
    "start_time": "2022-11-11T11:10:01.949Z"
   },
   {
    "duration": 0,
    "start_time": "2022-11-11T11:10:01.950Z"
   },
   {
    "duration": 0,
    "start_time": "2022-11-11T11:10:01.951Z"
   },
   {
    "duration": 0,
    "start_time": "2022-11-11T11:10:01.952Z"
   },
   {
    "duration": 0,
    "start_time": "2022-11-11T11:10:01.953Z"
   },
   {
    "duration": 2321,
    "start_time": "2022-11-11T11:10:23.213Z"
   },
   {
    "duration": 2463,
    "start_time": "2022-11-11T11:10:25.536Z"
   },
   {
    "duration": 3039,
    "start_time": "2022-11-11T11:10:28.002Z"
   },
   {
    "duration": 30,
    "start_time": "2022-11-11T11:10:31.043Z"
   },
   {
    "duration": 45,
    "start_time": "2022-11-11T11:10:31.075Z"
   },
   {
    "duration": 37,
    "start_time": "2022-11-11T11:10:31.122Z"
   },
   {
    "duration": 82,
    "start_time": "2022-11-11T11:10:31.161Z"
   },
   {
    "duration": 12,
    "start_time": "2022-11-11T11:10:31.245Z"
   },
   {
    "duration": 36,
    "start_time": "2022-11-11T11:10:31.259Z"
   },
   {
    "duration": 34,
    "start_time": "2022-11-11T11:10:31.298Z"
   },
   {
    "duration": 22,
    "start_time": "2022-11-11T11:10:31.334Z"
   },
   {
    "duration": 27,
    "start_time": "2022-11-11T11:10:31.358Z"
   },
   {
    "duration": 768,
    "start_time": "2022-11-11T11:10:31.388Z"
   },
   {
    "duration": 390,
    "start_time": "2022-11-11T11:10:32.159Z"
   },
   {
    "duration": 1107,
    "start_time": "2022-11-11T11:10:32.551Z"
   },
   {
    "duration": 503,
    "start_time": "2022-11-11T11:10:33.660Z"
   },
   {
    "duration": 305,
    "start_time": "2022-11-11T11:10:34.166Z"
   },
   {
    "duration": 13,
    "start_time": "2022-11-11T11:10:34.479Z"
   },
   {
    "duration": 164,
    "start_time": "2022-11-11T11:10:34.495Z"
   },
   {
    "duration": 0,
    "start_time": "2022-11-11T11:10:34.662Z"
   },
   {
    "duration": 0,
    "start_time": "2022-11-11T11:10:34.664Z"
   },
   {
    "duration": 0,
    "start_time": "2022-11-11T11:10:34.666Z"
   },
   {
    "duration": 0,
    "start_time": "2022-11-11T11:10:34.668Z"
   },
   {
    "duration": 0,
    "start_time": "2022-11-11T11:10:34.683Z"
   },
   {
    "duration": 0,
    "start_time": "2022-11-11T11:10:34.685Z"
   },
   {
    "duration": 0,
    "start_time": "2022-11-11T11:10:34.686Z"
   },
   {
    "duration": 0,
    "start_time": "2022-11-11T11:10:34.687Z"
   },
   {
    "duration": 0,
    "start_time": "2022-11-11T11:10:34.689Z"
   },
   {
    "duration": 0,
    "start_time": "2022-11-11T11:10:34.692Z"
   },
   {
    "duration": 0,
    "start_time": "2022-11-11T11:10:34.694Z"
   },
   {
    "duration": 0,
    "start_time": "2022-11-11T11:10:34.694Z"
   },
   {
    "duration": 0,
    "start_time": "2022-11-11T11:10:34.698Z"
   },
   {
    "duration": 0,
    "start_time": "2022-11-11T11:10:34.700Z"
   },
   {
    "duration": 2350,
    "start_time": "2022-11-11T11:10:51.455Z"
   },
   {
    "duration": 2280,
    "start_time": "2022-11-11T11:10:53.808Z"
   },
   {
    "duration": 2060,
    "start_time": "2022-11-11T11:10:56.091Z"
   },
   {
    "duration": 33,
    "start_time": "2022-11-11T11:10:58.153Z"
   },
   {
    "duration": 32,
    "start_time": "2022-11-11T11:10:58.188Z"
   },
   {
    "duration": 23,
    "start_time": "2022-11-11T11:10:58.222Z"
   },
   {
    "duration": 43,
    "start_time": "2022-11-11T11:10:58.246Z"
   },
   {
    "duration": 5,
    "start_time": "2022-11-11T11:10:58.291Z"
   },
   {
    "duration": 29,
    "start_time": "2022-11-11T11:10:58.298Z"
   },
   {
    "duration": 41,
    "start_time": "2022-11-11T11:10:58.331Z"
   },
   {
    "duration": 7,
    "start_time": "2022-11-11T11:10:58.374Z"
   },
   {
    "duration": 37,
    "start_time": "2022-11-11T11:10:58.384Z"
   },
   {
    "duration": 1299,
    "start_time": "2022-11-11T11:10:58.423Z"
   },
   {
    "duration": 672,
    "start_time": "2022-11-11T11:10:59.725Z"
   },
   {
    "duration": 1554,
    "start_time": "2022-11-11T11:11:00.399Z"
   },
   {
    "duration": 552,
    "start_time": "2022-11-11T11:11:01.955Z"
   },
   {
    "duration": 430,
    "start_time": "2022-11-11T11:11:02.509Z"
   },
   {
    "duration": 8,
    "start_time": "2022-11-11T11:11:02.941Z"
   },
   {
    "duration": 34,
    "start_time": "2022-11-11T11:11:02.951Z"
   },
   {
    "duration": 22,
    "start_time": "2022-11-11T11:11:02.987Z"
   },
   {
    "duration": 9,
    "start_time": "2022-11-11T11:11:03.011Z"
   },
   {
    "duration": 10,
    "start_time": "2022-11-11T11:11:03.022Z"
   },
   {
    "duration": 8,
    "start_time": "2022-11-11T11:11:03.034Z"
   },
   {
    "duration": 25200,
    "start_time": "2022-11-11T11:11:03.043Z"
   },
   {
    "duration": 7,
    "start_time": "2022-11-11T11:11:28.245Z"
   },
   {
    "duration": 2338,
    "start_time": "2022-11-11T11:11:32.940Z"
   },
   {
    "duration": 2552,
    "start_time": "2022-11-11T11:11:35.284Z"
   },
   {
    "duration": 2354,
    "start_time": "2022-11-11T11:11:37.839Z"
   },
   {
    "duration": 28,
    "start_time": "2022-11-11T11:11:40.205Z"
   },
   {
    "duration": 16,
    "start_time": "2022-11-11T11:11:40.235Z"
   },
   {
    "duration": 17,
    "start_time": "2022-11-11T11:11:40.254Z"
   },
   {
    "duration": 59,
    "start_time": "2022-11-11T11:11:40.273Z"
   },
   {
    "duration": 5,
    "start_time": "2022-11-11T11:11:40.336Z"
   },
   {
    "duration": 19,
    "start_time": "2022-11-11T11:11:40.343Z"
   },
   {
    "duration": 20,
    "start_time": "2022-11-11T11:11:40.366Z"
   },
   {
    "duration": 66,
    "start_time": "2022-11-11T11:11:40.391Z"
   },
   {
    "duration": 18,
    "start_time": "2022-11-11T11:11:40.459Z"
   },
   {
    "duration": 920,
    "start_time": "2022-11-11T11:11:40.479Z"
   },
   {
    "duration": 354,
    "start_time": "2022-11-11T11:11:41.402Z"
   },
   {
    "duration": 1420,
    "start_time": "2022-11-11T11:11:41.757Z"
   },
   {
    "duration": 683,
    "start_time": "2022-11-11T11:11:43.180Z"
   },
   {
    "duration": 374,
    "start_time": "2022-11-11T11:11:43.866Z"
   },
   {
    "duration": 12,
    "start_time": "2022-11-11T11:11:44.246Z"
   },
   {
    "duration": 84,
    "start_time": "2022-11-11T11:11:44.263Z"
   },
   {
    "duration": 77,
    "start_time": "2022-11-11T11:11:44.351Z"
   },
   {
    "duration": 26,
    "start_time": "2022-11-11T11:11:44.432Z"
   },
   {
    "duration": 71,
    "start_time": "2022-11-11T11:11:44.460Z"
   },
   {
    "duration": 91,
    "start_time": "2022-11-11T11:11:44.534Z"
   },
   {
    "duration": 28583,
    "start_time": "2022-11-11T11:11:44.640Z"
   },
   {
    "duration": 7,
    "start_time": "2022-11-11T11:12:13.225Z"
   },
   {
    "duration": 4429,
    "start_time": "2022-11-11T11:12:13.234Z"
   },
   {
    "duration": 588,
    "start_time": "2022-11-11T11:12:17.665Z"
   },
   {
    "duration": 190,
    "start_time": "2022-11-11T11:12:18.257Z"
   },
   {
    "duration": 0,
    "start_time": "2022-11-11T11:12:18.450Z"
   },
   {
    "duration": 0,
    "start_time": "2022-11-11T11:12:18.451Z"
   },
   {
    "duration": 0,
    "start_time": "2022-11-11T11:12:18.453Z"
   },
   {
    "duration": 0,
    "start_time": "2022-11-11T11:12:18.455Z"
   },
   {
    "duration": 0,
    "start_time": "2022-11-11T11:12:18.456Z"
   },
   {
    "duration": 2294,
    "start_time": "2022-11-11T11:12:53.499Z"
   },
   {
    "duration": 2229,
    "start_time": "2022-11-11T11:12:55.797Z"
   },
   {
    "duration": 1849,
    "start_time": "2022-11-11T11:12:58.028Z"
   },
   {
    "duration": 43,
    "start_time": "2022-11-11T11:12:59.881Z"
   },
   {
    "duration": 17,
    "start_time": "2022-11-11T11:12:59.926Z"
   },
   {
    "duration": 16,
    "start_time": "2022-11-11T11:12:59.945Z"
   },
   {
    "duration": 34,
    "start_time": "2022-11-11T11:12:59.963Z"
   },
   {
    "duration": 4,
    "start_time": "2022-11-11T11:13:00.000Z"
   },
   {
    "duration": 20,
    "start_time": "2022-11-11T11:13:00.005Z"
   },
   {
    "duration": 15,
    "start_time": "2022-11-11T11:13:00.029Z"
   },
   {
    "duration": 18,
    "start_time": "2022-11-11T11:13:00.046Z"
   },
   {
    "duration": 43,
    "start_time": "2022-11-11T11:13:00.066Z"
   },
   {
    "duration": 662,
    "start_time": "2022-11-11T11:13:00.111Z"
   },
   {
    "duration": 350,
    "start_time": "2022-11-11T11:13:00.775Z"
   },
   {
    "duration": 970,
    "start_time": "2022-11-11T11:13:01.127Z"
   },
   {
    "duration": 585,
    "start_time": "2022-11-11T11:13:02.100Z"
   },
   {
    "duration": 432,
    "start_time": "2022-11-11T11:13:02.687Z"
   },
   {
    "duration": 7,
    "start_time": "2022-11-11T11:13:03.121Z"
   },
   {
    "duration": 43,
    "start_time": "2022-11-11T11:13:03.130Z"
   },
   {
    "duration": 44,
    "start_time": "2022-11-11T11:13:03.175Z"
   },
   {
    "duration": 20,
    "start_time": "2022-11-11T11:13:03.221Z"
   },
   {
    "duration": 34,
    "start_time": "2022-11-11T11:13:03.243Z"
   },
   {
    "duration": 47,
    "start_time": "2022-11-11T11:13:03.279Z"
   },
   {
    "duration": 27694,
    "start_time": "2022-11-11T11:13:03.328Z"
   },
   {
    "duration": 12,
    "start_time": "2022-11-11T11:13:31.024Z"
   },
   {
    "duration": 4552,
    "start_time": "2022-11-11T11:13:31.038Z"
   },
   {
    "duration": 474,
    "start_time": "2022-11-11T11:13:35.591Z"
   },
   {
    "duration": 3,
    "start_time": "2022-11-11T11:13:36.069Z"
   },
   {
    "duration": 344010,
    "start_time": "2022-11-11T11:13:36.083Z"
   },
   {
    "duration": 8,
    "start_time": "2022-11-11T11:19:20.094Z"
   },
   {
    "duration": 6,
    "start_time": "2022-11-11T11:19:20.103Z"
   },
   {
    "duration": 481,
    "start_time": "2022-11-11T11:19:20.110Z"
   },
   {
    "duration": 288396,
    "start_time": "2022-11-11T11:23:57.720Z"
   },
   {
    "duration": 7,
    "start_time": "2022-11-11T11:28:46.118Z"
   },
   {
    "duration": 8,
    "start_time": "2022-11-11T11:29:44.345Z"
   },
   {
    "duration": 6,
    "start_time": "2022-11-11T11:29:47.266Z"
   },
   {
    "duration": 1074909,
    "start_time": "2022-11-11T11:31:38.912Z"
   },
   {
    "duration": 7,
    "start_time": "2022-11-11T11:49:33.823Z"
   },
   {
    "duration": 2227,
    "start_time": "2022-11-11T11:51:27.734Z"
   },
   {
    "duration": 2299,
    "start_time": "2022-11-11T11:51:29.963Z"
   },
   {
    "duration": 1989,
    "start_time": "2022-11-11T11:51:32.264Z"
   },
   {
    "duration": 38,
    "start_time": "2022-11-11T11:51:34.255Z"
   },
   {
    "duration": 15,
    "start_time": "2022-11-11T11:51:34.294Z"
   },
   {
    "duration": 33,
    "start_time": "2022-11-11T11:51:34.311Z"
   },
   {
    "duration": 44,
    "start_time": "2022-11-11T11:51:34.346Z"
   },
   {
    "duration": 21,
    "start_time": "2022-11-11T11:51:34.392Z"
   },
   {
    "duration": 21,
    "start_time": "2022-11-11T11:51:34.415Z"
   },
   {
    "duration": 18,
    "start_time": "2022-11-11T11:51:34.438Z"
   },
   {
    "duration": 34,
    "start_time": "2022-11-11T11:51:34.458Z"
   },
   {
    "duration": 17,
    "start_time": "2022-11-11T11:51:34.494Z"
   },
   {
    "duration": 643,
    "start_time": "2022-11-11T11:51:34.513Z"
   },
   {
    "duration": 380,
    "start_time": "2022-11-11T11:51:35.158Z"
   },
   {
    "duration": 1009,
    "start_time": "2022-11-11T11:51:35.540Z"
   },
   {
    "duration": 501,
    "start_time": "2022-11-11T11:51:36.551Z"
   },
   {
    "duration": 271,
    "start_time": "2022-11-11T11:51:37.053Z"
   },
   {
    "duration": 8,
    "start_time": "2022-11-11T11:51:37.326Z"
   },
   {
    "duration": 167,
    "start_time": "2022-11-11T11:51:37.336Z"
   },
   {
    "duration": 0,
    "start_time": "2022-11-11T11:51:37.505Z"
   },
   {
    "duration": 0,
    "start_time": "2022-11-11T11:51:37.506Z"
   },
   {
    "duration": 0,
    "start_time": "2022-11-11T11:51:37.507Z"
   },
   {
    "duration": 0,
    "start_time": "2022-11-11T11:51:37.509Z"
   },
   {
    "duration": 0,
    "start_time": "2022-11-11T11:51:37.510Z"
   },
   {
    "duration": 0,
    "start_time": "2022-11-11T11:51:37.511Z"
   },
   {
    "duration": 0,
    "start_time": "2022-11-11T11:51:37.512Z"
   },
   {
    "duration": 0,
    "start_time": "2022-11-11T11:51:37.513Z"
   },
   {
    "duration": 0,
    "start_time": "2022-11-11T11:51:37.514Z"
   },
   {
    "duration": 0,
    "start_time": "2022-11-11T11:51:37.515Z"
   },
   {
    "duration": 0,
    "start_time": "2022-11-11T11:51:37.517Z"
   },
   {
    "duration": 0,
    "start_time": "2022-11-11T11:51:37.517Z"
   },
   {
    "duration": 0,
    "start_time": "2022-11-11T11:51:37.518Z"
   },
   {
    "duration": 2310,
    "start_time": "2022-11-11T11:53:30.746Z"
   },
   {
    "duration": 2863,
    "start_time": "2022-11-11T11:53:33.058Z"
   },
   {
    "duration": 2092,
    "start_time": "2022-11-11T11:53:35.923Z"
   },
   {
    "duration": 29,
    "start_time": "2022-11-11T11:53:38.017Z"
   },
   {
    "duration": 15,
    "start_time": "2022-11-11T11:53:38.048Z"
   },
   {
    "duration": 11,
    "start_time": "2022-11-11T11:53:38.065Z"
   },
   {
    "duration": 44,
    "start_time": "2022-11-11T11:53:38.078Z"
   },
   {
    "duration": 4,
    "start_time": "2022-11-11T11:53:38.124Z"
   },
   {
    "duration": 27,
    "start_time": "2022-11-11T11:53:38.130Z"
   },
   {
    "duration": 29,
    "start_time": "2022-11-11T11:53:38.159Z"
   },
   {
    "duration": 12,
    "start_time": "2022-11-11T11:53:38.193Z"
   },
   {
    "duration": 19,
    "start_time": "2022-11-11T11:53:38.206Z"
   },
   {
    "duration": 665,
    "start_time": "2022-11-11T11:53:38.226Z"
   },
   {
    "duration": 317,
    "start_time": "2022-11-11T11:53:38.901Z"
   },
   {
    "duration": 972,
    "start_time": "2022-11-11T11:53:39.220Z"
   },
   {
    "duration": 521,
    "start_time": "2022-11-11T11:53:40.194Z"
   },
   {
    "duration": 275,
    "start_time": "2022-11-11T11:53:40.717Z"
   },
   {
    "duration": 7,
    "start_time": "2022-11-11T11:53:40.994Z"
   },
   {
    "duration": 190,
    "start_time": "2022-11-11T11:53:41.002Z"
   },
   {
    "duration": 0,
    "start_time": "2022-11-11T11:53:41.194Z"
   },
   {
    "duration": 0,
    "start_time": "2022-11-11T11:53:41.195Z"
   },
   {
    "duration": 0,
    "start_time": "2022-11-11T11:53:41.197Z"
   },
   {
    "duration": 0,
    "start_time": "2022-11-11T11:53:41.198Z"
   },
   {
    "duration": 0,
    "start_time": "2022-11-11T11:53:41.199Z"
   },
   {
    "duration": 0,
    "start_time": "2022-11-11T11:53:41.200Z"
   },
   {
    "duration": 0,
    "start_time": "2022-11-11T11:53:41.201Z"
   },
   {
    "duration": 0,
    "start_time": "2022-11-11T11:53:41.202Z"
   },
   {
    "duration": 0,
    "start_time": "2022-11-11T11:53:41.203Z"
   },
   {
    "duration": 0,
    "start_time": "2022-11-11T11:53:41.204Z"
   },
   {
    "duration": 0,
    "start_time": "2022-11-11T11:53:41.206Z"
   },
   {
    "duration": 0,
    "start_time": "2022-11-11T11:53:41.207Z"
   },
   {
    "duration": 0,
    "start_time": "2022-11-11T11:53:41.208Z"
   },
   {
    "duration": 2414,
    "start_time": "2022-11-11T11:53:53.979Z"
   },
   {
    "duration": 2958,
    "start_time": "2022-11-11T11:53:56.395Z"
   },
   {
    "duration": 1900,
    "start_time": "2022-11-11T11:53:59.355Z"
   },
   {
    "duration": 41,
    "start_time": "2022-11-11T11:54:01.256Z"
   },
   {
    "duration": 32,
    "start_time": "2022-11-11T11:54:01.300Z"
   },
   {
    "duration": 42,
    "start_time": "2022-11-11T11:54:01.334Z"
   },
   {
    "duration": 57,
    "start_time": "2022-11-11T11:54:01.377Z"
   },
   {
    "duration": 28,
    "start_time": "2022-11-11T11:54:01.436Z"
   },
   {
    "duration": 44,
    "start_time": "2022-11-11T11:54:01.466Z"
   },
   {
    "duration": 39,
    "start_time": "2022-11-11T11:54:01.512Z"
   },
   {
    "duration": 23,
    "start_time": "2022-11-11T11:54:01.553Z"
   },
   {
    "duration": 41,
    "start_time": "2022-11-11T11:54:01.578Z"
   },
   {
    "duration": 675,
    "start_time": "2022-11-11T11:54:01.620Z"
   },
   {
    "duration": 364,
    "start_time": "2022-11-11T11:54:02.298Z"
   },
   {
    "duration": 1033,
    "start_time": "2022-11-11T11:54:02.664Z"
   },
   {
    "duration": 489,
    "start_time": "2022-11-11T11:54:03.699Z"
   },
   {
    "duration": 266,
    "start_time": "2022-11-11T11:54:04.193Z"
   },
   {
    "duration": 7,
    "start_time": "2022-11-11T11:54:04.461Z"
   },
   {
    "duration": 166,
    "start_time": "2022-11-11T11:54:04.470Z"
   },
   {
    "duration": 0,
    "start_time": "2022-11-11T11:54:04.637Z"
   },
   {
    "duration": 0,
    "start_time": "2022-11-11T11:54:04.639Z"
   },
   {
    "duration": 0,
    "start_time": "2022-11-11T11:54:04.641Z"
   },
   {
    "duration": 0,
    "start_time": "2022-11-11T11:54:04.642Z"
   },
   {
    "duration": 0,
    "start_time": "2022-11-11T11:54:04.643Z"
   },
   {
    "duration": 0,
    "start_time": "2022-11-11T11:54:04.645Z"
   },
   {
    "duration": 0,
    "start_time": "2022-11-11T11:54:04.646Z"
   },
   {
    "duration": 1,
    "start_time": "2022-11-11T11:54:04.647Z"
   },
   {
    "duration": 0,
    "start_time": "2022-11-11T11:54:04.649Z"
   },
   {
    "duration": 0,
    "start_time": "2022-11-11T11:54:04.650Z"
   },
   {
    "duration": 0,
    "start_time": "2022-11-11T11:54:04.652Z"
   },
   {
    "duration": 0,
    "start_time": "2022-11-11T11:54:04.654Z"
   },
   {
    "duration": 0,
    "start_time": "2022-11-11T11:54:04.655Z"
   },
   {
    "duration": 2451,
    "start_time": "2022-11-11T11:54:13.573Z"
   },
   {
    "duration": 3052,
    "start_time": "2022-11-11T11:54:16.026Z"
   },
   {
    "duration": 1869,
    "start_time": "2022-11-11T11:54:19.081Z"
   },
   {
    "duration": 40,
    "start_time": "2022-11-11T11:54:20.952Z"
   },
   {
    "duration": 15,
    "start_time": "2022-11-11T11:54:20.995Z"
   },
   {
    "duration": 17,
    "start_time": "2022-11-11T11:54:21.011Z"
   },
   {
    "duration": 36,
    "start_time": "2022-11-11T11:54:21.030Z"
   },
   {
    "duration": 4,
    "start_time": "2022-11-11T11:54:21.068Z"
   },
   {
    "duration": 28,
    "start_time": "2022-11-11T11:54:21.073Z"
   },
   {
    "duration": 13,
    "start_time": "2022-11-11T11:54:21.103Z"
   },
   {
    "duration": 24,
    "start_time": "2022-11-11T11:54:21.117Z"
   },
   {
    "duration": 27,
    "start_time": "2022-11-11T11:54:21.143Z"
   },
   {
    "duration": 666,
    "start_time": "2022-11-11T11:54:21.171Z"
   },
   {
    "duration": 381,
    "start_time": "2022-11-11T11:54:21.840Z"
   },
   {
    "duration": 1034,
    "start_time": "2022-11-11T11:54:22.223Z"
   },
   {
    "duration": 489,
    "start_time": "2022-11-11T11:54:23.259Z"
   },
   {
    "duration": 274,
    "start_time": "2022-11-11T11:54:23.750Z"
   },
   {
    "duration": 8,
    "start_time": "2022-11-11T11:54:24.025Z"
   },
   {
    "duration": 182,
    "start_time": "2022-11-11T11:54:24.034Z"
   },
   {
    "duration": 0,
    "start_time": "2022-11-11T11:54:24.218Z"
   },
   {
    "duration": 0,
    "start_time": "2022-11-11T11:54:24.219Z"
   },
   {
    "duration": 0,
    "start_time": "2022-11-11T11:54:24.220Z"
   },
   {
    "duration": 0,
    "start_time": "2022-11-11T11:54:24.221Z"
   },
   {
    "duration": 0,
    "start_time": "2022-11-11T11:54:24.222Z"
   },
   {
    "duration": 0,
    "start_time": "2022-11-11T11:54:24.223Z"
   },
   {
    "duration": 0,
    "start_time": "2022-11-11T11:54:24.223Z"
   },
   {
    "duration": 0,
    "start_time": "2022-11-11T11:54:24.224Z"
   },
   {
    "duration": 0,
    "start_time": "2022-11-11T11:54:24.225Z"
   },
   {
    "duration": 0,
    "start_time": "2022-11-11T11:54:24.226Z"
   },
   {
    "duration": 0,
    "start_time": "2022-11-11T11:54:24.227Z"
   },
   {
    "duration": 0,
    "start_time": "2022-11-11T11:54:24.228Z"
   },
   {
    "duration": 0,
    "start_time": "2022-11-11T11:54:24.229Z"
   },
   {
    "duration": 6,
    "start_time": "2022-11-11T11:56:30.192Z"
   },
   {
    "duration": 18,
    "start_time": "2022-11-11T12:00:33.094Z"
   },
   {
    "duration": 8,
    "start_time": "2022-11-11T12:00:43.680Z"
   },
   {
    "duration": 15,
    "start_time": "2022-11-11T12:01:07.322Z"
   },
   {
    "duration": 6,
    "start_time": "2022-11-11T12:01:14.356Z"
   },
   {
    "duration": 6,
    "start_time": "2022-11-11T12:01:22.738Z"
   },
   {
    "duration": 6,
    "start_time": "2022-11-11T12:01:30.604Z"
   },
   {
    "duration": 6,
    "start_time": "2022-11-11T12:01:35.146Z"
   },
   {
    "duration": 7,
    "start_time": "2022-11-11T12:03:27.007Z"
   },
   {
    "duration": 6,
    "start_time": "2022-11-11T12:03:31.652Z"
   },
   {
    "duration": 11,
    "start_time": "2022-11-11T12:03:47.180Z"
   },
   {
    "duration": 7,
    "start_time": "2022-11-11T12:04:35.100Z"
   },
   {
    "duration": 17,
    "start_time": "2022-11-11T12:06:00.152Z"
   },
   {
    "duration": 6,
    "start_time": "2022-11-11T12:06:50.190Z"
   },
   {
    "duration": 5,
    "start_time": "2022-11-11T12:06:54.745Z"
   },
   {
    "duration": 11,
    "start_time": "2022-11-11T12:07:04.190Z"
   },
   {
    "duration": 3,
    "start_time": "2022-11-11T12:07:07.119Z"
   },
   {
    "duration": 27,
    "start_time": "2022-11-11T12:07:17.101Z"
   },
   {
    "duration": 10,
    "start_time": "2022-11-11T12:07:49.206Z"
   },
   {
    "duration": 5,
    "start_time": "2022-11-11T12:08:12.048Z"
   },
   {
    "duration": 2442,
    "start_time": "2022-11-11T12:08:21.848Z"
   },
   {
    "duration": 2429,
    "start_time": "2022-11-11T12:08:24.292Z"
   },
   {
    "duration": 6,
    "start_time": "2022-11-11T12:08:26.724Z"
   },
   {
    "duration": 36,
    "start_time": "2022-11-11T12:08:26.731Z"
   },
   {
    "duration": 13,
    "start_time": "2022-11-11T12:08:26.768Z"
   },
   {
    "duration": 31,
    "start_time": "2022-11-11T12:08:26.782Z"
   },
   {
    "duration": 22,
    "start_time": "2022-11-11T12:08:26.816Z"
   },
   {
    "duration": 4,
    "start_time": "2022-11-11T12:08:26.842Z"
   },
   {
    "duration": 15,
    "start_time": "2022-11-11T12:08:26.848Z"
   },
   {
    "duration": 30,
    "start_time": "2022-11-11T12:08:26.866Z"
   },
   {
    "duration": 5,
    "start_time": "2022-11-11T12:08:26.899Z"
   },
   {
    "duration": 10,
    "start_time": "2022-11-11T12:08:26.905Z"
   },
   {
    "duration": 6,
    "start_time": "2022-11-11T12:09:27.010Z"
   },
   {
    "duration": 5,
    "start_time": "2022-11-11T12:09:35.798Z"
   },
   {
    "duration": 10,
    "start_time": "2022-11-11T12:09:36.390Z"
   },
   {
    "duration": 11,
    "start_time": "2022-11-11T12:09:49.052Z"
   },
   {
    "duration": 6,
    "start_time": "2022-11-11T12:10:30.508Z"
   },
   {
    "duration": 6,
    "start_time": "2022-11-11T12:10:42.598Z"
   },
   {
    "duration": 2158,
    "start_time": "2022-11-11T12:10:53.614Z"
   },
   {
    "duration": 2281,
    "start_time": "2022-11-11T12:10:55.774Z"
   },
   {
    "duration": 5,
    "start_time": "2022-11-11T12:10:58.057Z"
   },
   {
    "duration": 68,
    "start_time": "2022-11-11T12:10:58.064Z"
   },
   {
    "duration": 12,
    "start_time": "2022-11-11T12:10:58.133Z"
   },
   {
    "duration": 20,
    "start_time": "2022-11-11T12:10:58.147Z"
   },
   {
    "duration": 46,
    "start_time": "2022-11-11T12:10:58.169Z"
   },
   {
    "duration": 4,
    "start_time": "2022-11-11T12:10:58.216Z"
   },
   {
    "duration": 14,
    "start_time": "2022-11-11T12:10:58.221Z"
   },
   {
    "duration": 9,
    "start_time": "2022-11-11T12:10:58.237Z"
   },
   {
    "duration": 9,
    "start_time": "2022-11-11T12:10:58.247Z"
   },
   {
    "duration": 13,
    "start_time": "2022-11-11T12:10:58.257Z"
   },
   {
    "duration": 21,
    "start_time": "2022-11-11T12:10:58.271Z"
   },
   {
    "duration": 5,
    "start_time": "2022-11-11T12:11:01.023Z"
   },
   {
    "duration": 6,
    "start_time": "2022-11-11T12:11:01.585Z"
   },
   {
    "duration": 4,
    "start_time": "2022-11-11T12:11:07.857Z"
   },
   {
    "duration": 5,
    "start_time": "2022-11-11T12:11:14.194Z"
   },
   {
    "duration": 2191,
    "start_time": "2022-11-11T12:11:22.144Z"
   },
   {
    "duration": 2117,
    "start_time": "2022-11-11T12:11:24.337Z"
   },
   {
    "duration": 5,
    "start_time": "2022-11-11T12:11:26.456Z"
   },
   {
    "duration": 77,
    "start_time": "2022-11-11T12:11:26.462Z"
   },
   {
    "duration": 11,
    "start_time": "2022-11-11T12:11:26.542Z"
   },
   {
    "duration": 48,
    "start_time": "2022-11-11T12:11:26.554Z"
   },
   {
    "duration": 30,
    "start_time": "2022-11-11T12:11:26.604Z"
   },
   {
    "duration": 27,
    "start_time": "2022-11-11T12:11:26.635Z"
   },
   {
    "duration": 38,
    "start_time": "2022-11-11T12:11:26.664Z"
   },
   {
    "duration": 22,
    "start_time": "2022-11-11T12:11:26.704Z"
   },
   {
    "duration": 18,
    "start_time": "2022-11-11T12:11:26.728Z"
   },
   {
    "duration": 18,
    "start_time": "2022-11-11T12:11:26.747Z"
   },
   {
    "duration": 6,
    "start_time": "2022-11-11T12:11:40.794Z"
   },
   {
    "duration": 18,
    "start_time": "2022-11-11T12:12:21.390Z"
   },
   {
    "duration": 4,
    "start_time": "2022-11-11T12:12:25.732Z"
   },
   {
    "duration": 12,
    "start_time": "2022-11-11T12:12:28.321Z"
   },
   {
    "duration": 6,
    "start_time": "2022-11-11T12:12:53.365Z"
   },
   {
    "duration": 2189,
    "start_time": "2022-11-11T12:13:13.401Z"
   },
   {
    "duration": 2321,
    "start_time": "2022-11-11T12:13:15.592Z"
   },
   {
    "duration": 1924,
    "start_time": "2022-11-11T12:13:17.915Z"
   },
   {
    "duration": 27,
    "start_time": "2022-11-11T12:13:19.841Z"
   },
   {
    "duration": 14,
    "start_time": "2022-11-11T12:13:19.870Z"
   },
   {
    "duration": 24,
    "start_time": "2022-11-11T12:13:19.886Z"
   },
   {
    "duration": 24,
    "start_time": "2022-11-11T12:13:19.911Z"
   },
   {
    "duration": 4,
    "start_time": "2022-11-11T12:13:19.937Z"
   },
   {
    "duration": 14,
    "start_time": "2022-11-11T12:13:19.942Z"
   },
   {
    "duration": 8,
    "start_time": "2022-11-11T12:13:19.959Z"
   },
   {
    "duration": 24,
    "start_time": "2022-11-11T12:13:19.969Z"
   },
   {
    "duration": 13,
    "start_time": "2022-11-11T12:13:19.995Z"
   },
   {
    "duration": 32,
    "start_time": "2022-11-11T12:13:20.009Z"
   },
   {
    "duration": 21,
    "start_time": "2022-11-11T12:13:20.043Z"
   },
   {
    "duration": 29,
    "start_time": "2022-11-11T12:13:20.065Z"
   },
   {
    "duration": 566,
    "start_time": "2022-11-11T12:13:20.096Z"
   },
   {
    "duration": 372,
    "start_time": "2022-11-11T12:13:20.664Z"
   },
   {
    "duration": 1020,
    "start_time": "2022-11-11T12:13:21.038Z"
   },
   {
    "duration": 382,
    "start_time": "2022-11-11T12:13:22.059Z"
   },
   {
    "duration": 312,
    "start_time": "2022-11-11T12:13:22.443Z"
   },
   {
    "duration": 6,
    "start_time": "2022-11-11T12:13:22.757Z"
   },
   {
    "duration": 23,
    "start_time": "2022-11-11T12:13:22.765Z"
   },
   {
    "duration": 25,
    "start_time": "2022-11-11T12:13:22.794Z"
   },
   {
    "duration": 7,
    "start_time": "2022-11-11T12:13:22.821Z"
   },
   {
    "duration": 18,
    "start_time": "2022-11-11T12:13:22.830Z"
   },
   {
    "duration": 42,
    "start_time": "2022-11-11T12:13:22.850Z"
   },
   {
    "duration": 24006,
    "start_time": "2022-11-11T12:13:22.897Z"
   },
   {
    "duration": 7,
    "start_time": "2022-11-11T12:13:46.906Z"
   },
   {
    "duration": 3990,
    "start_time": "2022-11-11T12:13:46.915Z"
   },
   {
    "duration": 514,
    "start_time": "2022-11-11T12:13:50.906Z"
   },
   {
    "duration": 3,
    "start_time": "2022-11-11T12:13:51.422Z"
   },
   {
    "duration": 781061,
    "start_time": "2022-11-11T12:13:51.426Z"
   },
   {
    "duration": 8,
    "start_time": "2022-11-11T12:26:52.488Z"
   },
   {
    "duration": 28,
    "start_time": "2022-11-11T12:26:52.498Z"
   },
   {
    "duration": 499,
    "start_time": "2022-11-11T12:26:52.528Z"
   },
   {
    "duration": 139,
    "start_time": "2022-11-11T12:30:00.171Z"
   },
   {
    "duration": 2266,
    "start_time": "2022-11-11T12:30:06.851Z"
   },
   {
    "duration": 2218,
    "start_time": "2022-11-11T12:30:09.119Z"
   },
   {
    "duration": 1868,
    "start_time": "2022-11-11T12:30:11.339Z"
   },
   {
    "duration": 27,
    "start_time": "2022-11-11T12:30:13.210Z"
   },
   {
    "duration": 14,
    "start_time": "2022-11-11T12:30:13.239Z"
   },
   {
    "duration": 16,
    "start_time": "2022-11-11T12:30:13.254Z"
   },
   {
    "duration": 48,
    "start_time": "2022-11-11T12:30:13.271Z"
   },
   {
    "duration": 3,
    "start_time": "2022-11-11T12:30:13.321Z"
   },
   {
    "duration": 19,
    "start_time": "2022-11-11T12:30:13.326Z"
   },
   {
    "duration": 16,
    "start_time": "2022-11-11T12:30:13.348Z"
   },
   {
    "duration": 31,
    "start_time": "2022-11-11T12:30:13.366Z"
   },
   {
    "duration": 23,
    "start_time": "2022-11-11T12:30:13.399Z"
   },
   {
    "duration": 17,
    "start_time": "2022-11-11T12:30:13.424Z"
   },
   {
    "duration": 24,
    "start_time": "2022-11-11T12:30:13.442Z"
   },
   {
    "duration": 11,
    "start_time": "2022-11-11T12:30:13.467Z"
   },
   {
    "duration": 588,
    "start_time": "2022-11-11T12:30:13.479Z"
   },
   {
    "duration": 340,
    "start_time": "2022-11-11T12:30:14.069Z"
   },
   {
    "duration": 1007,
    "start_time": "2022-11-11T12:30:14.411Z"
   },
   {
    "duration": 381,
    "start_time": "2022-11-11T12:30:15.420Z"
   },
   {
    "duration": 288,
    "start_time": "2022-11-11T12:30:15.803Z"
   },
   {
    "duration": 7,
    "start_time": "2022-11-11T12:30:16.093Z"
   },
   {
    "duration": 32,
    "start_time": "2022-11-11T12:30:16.102Z"
   },
   {
    "duration": 24,
    "start_time": "2022-11-11T12:30:16.135Z"
   },
   {
    "duration": 17,
    "start_time": "2022-11-11T12:30:16.161Z"
   },
   {
    "duration": 21,
    "start_time": "2022-11-11T12:30:16.180Z"
   },
   {
    "duration": 20,
    "start_time": "2022-11-11T12:30:16.203Z"
   },
   {
    "duration": 24732,
    "start_time": "2022-11-11T12:30:16.225Z"
   },
   {
    "duration": 7,
    "start_time": "2022-11-11T12:30:40.960Z"
   },
   {
    "duration": 7827,
    "start_time": "2022-11-11T12:30:40.979Z"
   },
   {
    "duration": 165,
    "start_time": "2022-11-11T12:30:48.808Z"
   },
   {
    "duration": 0,
    "start_time": "2022-11-11T12:30:48.974Z"
   },
   {
    "duration": 0,
    "start_time": "2022-11-11T12:30:48.983Z"
   },
   {
    "duration": 0,
    "start_time": "2022-11-11T12:30:48.984Z"
   },
   {
    "duration": 0,
    "start_time": "2022-11-11T12:30:48.985Z"
   },
   {
    "duration": 0,
    "start_time": "2022-11-11T12:30:48.992Z"
   },
   {
    "duration": 0,
    "start_time": "2022-11-11T12:30:48.993Z"
   },
   {
    "duration": 2274,
    "start_time": "2022-11-11T12:32:36.003Z"
   },
   {
    "duration": 2265,
    "start_time": "2022-11-11T12:32:38.280Z"
   },
   {
    "duration": 2900,
    "start_time": "2022-11-11T12:32:40.547Z"
   },
   {
    "duration": 28,
    "start_time": "2022-11-11T12:32:43.450Z"
   },
   {
    "duration": 21,
    "start_time": "2022-11-11T12:32:43.482Z"
   },
   {
    "duration": 36,
    "start_time": "2022-11-11T12:32:43.505Z"
   },
   {
    "duration": 72,
    "start_time": "2022-11-11T12:32:43.543Z"
   },
   {
    "duration": 4,
    "start_time": "2022-11-11T12:32:43.616Z"
   },
   {
    "duration": 16,
    "start_time": "2022-11-11T12:32:43.621Z"
   },
   {
    "duration": 20,
    "start_time": "2022-11-11T12:32:43.639Z"
   },
   {
    "duration": 8,
    "start_time": "2022-11-11T12:32:43.661Z"
   },
   {
    "duration": 31,
    "start_time": "2022-11-11T12:32:43.671Z"
   },
   {
    "duration": 24,
    "start_time": "2022-11-11T12:32:43.704Z"
   },
   {
    "duration": 14,
    "start_time": "2022-11-11T12:32:43.730Z"
   },
   {
    "duration": 14,
    "start_time": "2022-11-11T12:32:43.746Z"
   },
   {
    "duration": 549,
    "start_time": "2022-11-11T12:32:43.761Z"
   },
   {
    "duration": 311,
    "start_time": "2022-11-11T12:32:44.311Z"
   },
   {
    "duration": 990,
    "start_time": "2022-11-11T12:32:44.623Z"
   },
   {
    "duration": 358,
    "start_time": "2022-11-11T12:32:45.615Z"
   },
   {
    "duration": 295,
    "start_time": "2022-11-11T12:32:45.974Z"
   },
   {
    "duration": 23,
    "start_time": "2022-11-11T12:32:46.270Z"
   },
   {
    "duration": 18,
    "start_time": "2022-11-11T12:32:46.294Z"
   },
   {
    "duration": 55,
    "start_time": "2022-11-11T12:32:46.313Z"
   },
   {
    "duration": 43,
    "start_time": "2022-11-11T12:32:46.369Z"
   },
   {
    "duration": 12,
    "start_time": "2022-11-11T12:32:46.413Z"
   },
   {
    "duration": 25,
    "start_time": "2022-11-11T12:32:46.427Z"
   },
   {
    "duration": 24539,
    "start_time": "2022-11-11T12:32:46.454Z"
   },
   {
    "duration": 6,
    "start_time": "2022-11-11T12:33:10.997Z"
   },
   {
    "duration": 8103,
    "start_time": "2022-11-11T12:33:11.005Z"
   },
   {
    "duration": 191,
    "start_time": "2022-11-11T12:33:19.110Z"
   },
   {
    "duration": 0,
    "start_time": "2022-11-11T12:33:19.303Z"
   },
   {
    "duration": 0,
    "start_time": "2022-11-11T12:33:19.305Z"
   },
   {
    "duration": 0,
    "start_time": "2022-11-11T12:33:19.306Z"
   },
   {
    "duration": 0,
    "start_time": "2022-11-11T12:33:19.308Z"
   },
   {
    "duration": 0,
    "start_time": "2022-11-11T12:33:19.309Z"
   },
   {
    "duration": 0,
    "start_time": "2022-11-11T12:33:19.310Z"
   },
   {
    "duration": 2299,
    "start_time": "2022-11-11T12:34:17.891Z"
   },
   {
    "duration": 2321,
    "start_time": "2022-11-11T12:34:20.193Z"
   },
   {
    "duration": 1831,
    "start_time": "2022-11-11T12:34:22.517Z"
   },
   {
    "duration": 30,
    "start_time": "2022-11-11T12:34:24.350Z"
   },
   {
    "duration": 20,
    "start_time": "2022-11-11T12:34:24.382Z"
   },
   {
    "duration": 13,
    "start_time": "2022-11-11T12:34:24.404Z"
   },
   {
    "duration": 38,
    "start_time": "2022-11-11T12:34:24.419Z"
   },
   {
    "duration": 3,
    "start_time": "2022-11-11T12:34:24.459Z"
   },
   {
    "duration": 31,
    "start_time": "2022-11-11T12:34:24.464Z"
   },
   {
    "duration": 10,
    "start_time": "2022-11-11T12:34:24.497Z"
   },
   {
    "duration": 9,
    "start_time": "2022-11-11T12:34:24.508Z"
   },
   {
    "duration": 13,
    "start_time": "2022-11-11T12:34:24.519Z"
   },
   {
    "duration": 20,
    "start_time": "2022-11-11T12:34:24.533Z"
   },
   {
    "duration": 6,
    "start_time": "2022-11-11T12:34:24.556Z"
   },
   {
    "duration": 11,
    "start_time": "2022-11-11T12:34:24.563Z"
   },
   {
    "duration": 611,
    "start_time": "2022-11-11T12:34:24.576Z"
   },
   {
    "duration": 333,
    "start_time": "2022-11-11T12:34:25.193Z"
   },
   {
    "duration": 961,
    "start_time": "2022-11-11T12:34:25.527Z"
   },
   {
    "duration": 351,
    "start_time": "2022-11-11T12:34:26.494Z"
   },
   {
    "duration": 283,
    "start_time": "2022-11-11T12:34:26.846Z"
   },
   {
    "duration": 8,
    "start_time": "2022-11-11T12:34:27.130Z"
   },
   {
    "duration": 35,
    "start_time": "2022-11-11T12:34:27.140Z"
   },
   {
    "duration": 40,
    "start_time": "2022-11-11T12:34:27.176Z"
   },
   {
    "duration": 27,
    "start_time": "2022-11-11T12:34:27.218Z"
   },
   {
    "duration": 44,
    "start_time": "2022-11-11T12:34:27.247Z"
   },
   {
    "duration": 44,
    "start_time": "2022-11-11T12:34:27.293Z"
   },
   {
    "duration": 24466,
    "start_time": "2022-11-11T12:34:27.339Z"
   },
   {
    "duration": 7,
    "start_time": "2022-11-11T12:34:51.807Z"
   },
   {
    "duration": 8087,
    "start_time": "2022-11-11T12:34:51.816Z"
   },
   {
    "duration": 144,
    "start_time": "2022-11-11T12:34:59.905Z"
   },
   {
    "duration": 0,
    "start_time": "2022-11-11T12:35:00.051Z"
   },
   {
    "duration": 0,
    "start_time": "2022-11-11T12:35:00.052Z"
   },
   {
    "duration": 0,
    "start_time": "2022-11-11T12:35:00.053Z"
   },
   {
    "duration": 0,
    "start_time": "2022-11-11T12:35:00.055Z"
   },
   {
    "duration": 0,
    "start_time": "2022-11-11T12:35:00.056Z"
   },
   {
    "duration": 0,
    "start_time": "2022-11-11T12:35:00.057Z"
   },
   {
    "duration": 8,
    "start_time": "2022-11-11T12:36:10.305Z"
   },
   {
    "duration": 2289,
    "start_time": "2022-11-11T12:37:23.432Z"
   },
   {
    "duration": 2231,
    "start_time": "2022-11-11T12:37:25.723Z"
   },
   {
    "duration": 1934,
    "start_time": "2022-11-11T12:37:27.958Z"
   },
   {
    "duration": 28,
    "start_time": "2022-11-11T12:37:29.894Z"
   },
   {
    "duration": 34,
    "start_time": "2022-11-11T12:37:29.924Z"
   },
   {
    "duration": 55,
    "start_time": "2022-11-11T12:37:29.960Z"
   },
   {
    "duration": 41,
    "start_time": "2022-11-11T12:37:30.017Z"
   },
   {
    "duration": 49,
    "start_time": "2022-11-11T12:37:30.060Z"
   },
   {
    "duration": 52,
    "start_time": "2022-11-11T12:37:30.111Z"
   },
   {
    "duration": 64,
    "start_time": "2022-11-11T12:37:30.165Z"
   },
   {
    "duration": 65,
    "start_time": "2022-11-11T12:37:30.231Z"
   },
   {
    "duration": 48,
    "start_time": "2022-11-11T12:37:30.298Z"
   },
   {
    "duration": 52,
    "start_time": "2022-11-11T12:37:30.349Z"
   },
   {
    "duration": 35,
    "start_time": "2022-11-11T12:37:30.403Z"
   },
   {
    "duration": 57,
    "start_time": "2022-11-11T12:37:30.440Z"
   },
   {
    "duration": 596,
    "start_time": "2022-11-11T12:37:30.499Z"
   },
   {
    "duration": 328,
    "start_time": "2022-11-11T12:37:31.097Z"
   },
   {
    "duration": 1006,
    "start_time": "2022-11-11T12:37:31.427Z"
   },
   {
    "duration": 425,
    "start_time": "2022-11-11T12:37:32.436Z"
   },
   {
    "duration": 277,
    "start_time": "2022-11-11T12:37:32.863Z"
   },
   {
    "duration": 7,
    "start_time": "2022-11-11T12:37:33.142Z"
   },
   {
    "duration": 37,
    "start_time": "2022-11-11T12:37:33.151Z"
   },
   {
    "duration": 13,
    "start_time": "2022-11-11T12:37:33.193Z"
   },
   {
    "duration": 13,
    "start_time": "2022-11-11T12:37:33.209Z"
   },
   {
    "duration": 9,
    "start_time": "2022-11-11T12:37:33.224Z"
   },
   {
    "duration": 14,
    "start_time": "2022-11-11T12:37:33.234Z"
   },
   {
    "duration": 24175,
    "start_time": "2022-11-11T12:37:33.250Z"
   },
   {
    "duration": 7,
    "start_time": "2022-11-11T12:37:57.426Z"
   },
   {
    "duration": 7900,
    "start_time": "2022-11-11T12:37:57.434Z"
   },
   {
    "duration": 171,
    "start_time": "2022-11-11T12:38:05.336Z"
   },
   {
    "duration": 0,
    "start_time": "2022-11-11T12:38:05.509Z"
   },
   {
    "duration": 0,
    "start_time": "2022-11-11T12:38:05.510Z"
   },
   {
    "duration": 0,
    "start_time": "2022-11-11T12:38:05.511Z"
   },
   {
    "duration": 0,
    "start_time": "2022-11-11T12:38:05.512Z"
   },
   {
    "duration": 0,
    "start_time": "2022-11-11T12:38:05.513Z"
   },
   {
    "duration": 0,
    "start_time": "2022-11-11T12:38:05.515Z"
   },
   {
    "duration": 2396,
    "start_time": "2022-11-11T12:38:47.263Z"
   },
   {
    "duration": 2308,
    "start_time": "2022-11-11T12:38:49.661Z"
   },
   {
    "duration": 1998,
    "start_time": "2022-11-11T12:38:51.972Z"
   },
   {
    "duration": 36,
    "start_time": "2022-11-11T12:38:53.973Z"
   },
   {
    "duration": 17,
    "start_time": "2022-11-11T12:38:54.011Z"
   },
   {
    "duration": 12,
    "start_time": "2022-11-11T12:38:54.030Z"
   },
   {
    "duration": 26,
    "start_time": "2022-11-11T12:38:54.044Z"
   },
   {
    "duration": 4,
    "start_time": "2022-11-11T12:38:54.072Z"
   },
   {
    "duration": 34,
    "start_time": "2022-11-11T12:38:54.078Z"
   },
   {
    "duration": 15,
    "start_time": "2022-11-11T12:38:54.114Z"
   },
   {
    "duration": 14,
    "start_time": "2022-11-11T12:38:54.130Z"
   },
   {
    "duration": 15,
    "start_time": "2022-11-11T12:38:54.146Z"
   },
   {
    "duration": 35,
    "start_time": "2022-11-11T12:38:54.163Z"
   },
   {
    "duration": 9,
    "start_time": "2022-11-11T12:38:54.200Z"
   },
   {
    "duration": 10,
    "start_time": "2022-11-11T12:38:54.210Z"
   },
   {
    "duration": 627,
    "start_time": "2022-11-11T12:38:54.221Z"
   },
   {
    "duration": 380,
    "start_time": "2022-11-11T12:38:54.850Z"
   },
   {
    "duration": 1035,
    "start_time": "2022-11-11T12:38:55.231Z"
   },
   {
    "duration": 356,
    "start_time": "2022-11-11T12:38:56.268Z"
   },
   {
    "duration": 297,
    "start_time": "2022-11-11T12:38:56.626Z"
   },
   {
    "duration": 9,
    "start_time": "2022-11-11T12:38:56.925Z"
   },
   {
    "duration": 68,
    "start_time": "2022-11-11T12:38:56.935Z"
   },
   {
    "duration": 20,
    "start_time": "2022-11-11T12:38:57.005Z"
   },
   {
    "duration": 10,
    "start_time": "2022-11-11T12:38:57.027Z"
   },
   {
    "duration": 9,
    "start_time": "2022-11-11T12:38:57.039Z"
   },
   {
    "duration": 20,
    "start_time": "2022-11-11T12:38:57.050Z"
   },
   {
    "duration": 25024,
    "start_time": "2022-11-11T12:38:57.073Z"
   },
   {
    "duration": 7,
    "start_time": "2022-11-11T12:39:22.101Z"
   },
   {
    "duration": 7864,
    "start_time": "2022-11-11T12:39:22.110Z"
   },
   {
    "duration": 15,
    "start_time": "2022-11-11T12:39:29.975Z"
   },
   {
    "duration": 455,
    "start_time": "2022-11-11T12:39:29.992Z"
   },
   {
    "duration": 4,
    "start_time": "2022-11-11T12:39:30.449Z"
   },
   {
    "duration": 1666771,
    "start_time": "2022-11-11T12:39:30.455Z"
   },
   {
    "duration": 8,
    "start_time": "2022-11-11T13:07:17.228Z"
   },
   {
    "duration": 55,
    "start_time": "2022-11-11T13:07:17.238Z"
   },
   {
    "duration": 526,
    "start_time": "2022-11-11T13:07:17.296Z"
   },
   {
    "duration": 2,
    "start_time": "2022-11-11T13:16:09.105Z"
   },
   {
    "duration": 2,
    "start_time": "2022-11-11T13:16:10.397Z"
   },
   {
    "duration": 3,
    "start_time": "2022-11-11T13:16:11.098Z"
   },
   {
    "duration": 4046,
    "start_time": "2022-11-11T13:17:07.555Z"
   },
   {
    "duration": 2255,
    "start_time": "2022-11-11T13:17:25.297Z"
   },
   {
    "duration": 2270,
    "start_time": "2022-11-11T13:17:27.555Z"
   },
   {
    "duration": 1848,
    "start_time": "2022-11-11T13:17:29.826Z"
   },
   {
    "duration": 30,
    "start_time": "2022-11-11T13:17:31.675Z"
   },
   {
    "duration": 25,
    "start_time": "2022-11-11T13:17:31.708Z"
   },
   {
    "duration": 26,
    "start_time": "2022-11-11T13:17:31.735Z"
   },
   {
    "duration": 46,
    "start_time": "2022-11-11T13:17:31.762Z"
   },
   {
    "duration": 39,
    "start_time": "2022-11-11T13:17:31.810Z"
   },
   {
    "duration": 61,
    "start_time": "2022-11-11T13:17:31.851Z"
   },
   {
    "duration": 11,
    "start_time": "2022-11-11T13:17:31.914Z"
   },
   {
    "duration": 29,
    "start_time": "2022-11-11T13:17:31.926Z"
   },
   {
    "duration": 16,
    "start_time": "2022-11-11T13:17:31.957Z"
   },
   {
    "duration": 36,
    "start_time": "2022-11-11T13:17:31.974Z"
   },
   {
    "duration": 10,
    "start_time": "2022-11-11T13:17:32.014Z"
   },
   {
    "duration": 13,
    "start_time": "2022-11-11T13:17:32.026Z"
   },
   {
    "duration": 745,
    "start_time": "2022-11-11T13:17:32.040Z"
   },
   {
    "duration": 323,
    "start_time": "2022-11-11T13:17:32.786Z"
   },
   {
    "duration": 954,
    "start_time": "2022-11-11T13:17:33.111Z"
   },
   {
    "duration": 473,
    "start_time": "2022-11-11T13:17:34.067Z"
   },
   {
    "duration": 287,
    "start_time": "2022-11-11T13:17:34.543Z"
   },
   {
    "duration": 9,
    "start_time": "2022-11-11T13:17:34.833Z"
   },
   {
    "duration": 25,
    "start_time": "2022-11-11T13:17:34.843Z"
   },
   {
    "duration": 41,
    "start_time": "2022-11-11T13:17:34.869Z"
   },
   {
    "duration": 21,
    "start_time": "2022-11-11T13:17:34.912Z"
   },
   {
    "duration": 9,
    "start_time": "2022-11-11T13:17:34.934Z"
   },
   {
    "duration": 15,
    "start_time": "2022-11-11T13:17:34.944Z"
   },
   {
    "duration": 25315,
    "start_time": "2022-11-11T13:17:34.960Z"
   },
   {
    "duration": 13,
    "start_time": "2022-11-11T13:18:00.277Z"
   },
   {
    "duration": 4059,
    "start_time": "2022-11-11T13:18:00.292Z"
   },
   {
    "duration": 158,
    "start_time": "2022-11-11T13:18:04.353Z"
   },
   {
    "duration": 0,
    "start_time": "2022-11-11T13:18:04.512Z"
   },
   {
    "duration": 0,
    "start_time": "2022-11-11T13:18:04.514Z"
   },
   {
    "duration": 0,
    "start_time": "2022-11-11T13:18:04.515Z"
   },
   {
    "duration": 0,
    "start_time": "2022-11-11T13:18:04.516Z"
   },
   {
    "duration": 0,
    "start_time": "2022-11-11T13:18:04.517Z"
   },
   {
    "duration": 0,
    "start_time": "2022-11-11T13:18:04.518Z"
   },
   {
    "duration": 6,
    "start_time": "2022-11-11T13:19:08.430Z"
   },
   {
    "duration": 24062,
    "start_time": "2022-11-11T13:19:09.470Z"
   },
   {
    "duration": 7,
    "start_time": "2022-11-11T13:20:37.765Z"
   },
   {
    "duration": 76,
    "start_time": "2022-11-11T13:21:16.979Z"
   },
   {
    "duration": 12,
    "start_time": "2022-11-11T13:21:25.090Z"
   },
   {
    "duration": 2321,
    "start_time": "2022-11-11T13:21:36.877Z"
   },
   {
    "duration": 2217,
    "start_time": "2022-11-11T13:21:39.201Z"
   },
   {
    "duration": 1879,
    "start_time": "2022-11-11T13:21:41.420Z"
   },
   {
    "duration": 29,
    "start_time": "2022-11-11T13:21:43.301Z"
   },
   {
    "duration": 15,
    "start_time": "2022-11-11T13:21:43.331Z"
   },
   {
    "duration": 20,
    "start_time": "2022-11-11T13:21:43.348Z"
   },
   {
    "duration": 55,
    "start_time": "2022-11-11T13:21:43.370Z"
   },
   {
    "duration": 14,
    "start_time": "2022-11-11T13:21:43.427Z"
   },
   {
    "duration": 25,
    "start_time": "2022-11-11T13:21:43.442Z"
   },
   {
    "duration": 16,
    "start_time": "2022-11-11T13:21:43.471Z"
   },
   {
    "duration": 16,
    "start_time": "2022-11-11T13:21:43.489Z"
   },
   {
    "duration": 17,
    "start_time": "2022-11-11T13:21:43.507Z"
   },
   {
    "duration": 11,
    "start_time": "2022-11-11T13:21:43.525Z"
   },
   {
    "duration": 31,
    "start_time": "2022-11-11T13:21:43.538Z"
   },
   {
    "duration": 33,
    "start_time": "2022-11-11T13:21:43.570Z"
   },
   {
    "duration": 647,
    "start_time": "2022-11-11T13:21:43.606Z"
   },
   {
    "duration": 380,
    "start_time": "2022-11-11T13:21:44.255Z"
   },
   {
    "duration": 1117,
    "start_time": "2022-11-11T13:21:44.637Z"
   },
   {
    "duration": 512,
    "start_time": "2022-11-11T13:21:45.756Z"
   },
   {
    "duration": 284,
    "start_time": "2022-11-11T13:21:46.270Z"
   },
   {
    "duration": 8,
    "start_time": "2022-11-11T13:21:46.556Z"
   },
   {
    "duration": 35,
    "start_time": "2022-11-11T13:21:46.566Z"
   },
   {
    "duration": 32,
    "start_time": "2022-11-11T13:21:46.603Z"
   },
   {
    "duration": 23,
    "start_time": "2022-11-11T13:21:46.637Z"
   },
   {
    "duration": 16,
    "start_time": "2022-11-11T13:21:46.662Z"
   },
   {
    "duration": 40,
    "start_time": "2022-11-11T13:21:46.680Z"
   },
   {
    "duration": 24839,
    "start_time": "2022-11-11T13:21:46.722Z"
   },
   {
    "duration": 9,
    "start_time": "2022-11-11T13:22:11.564Z"
   },
   {
    "duration": 3717,
    "start_time": "2022-11-11T13:22:11.575Z"
   },
   {
    "duration": 2,
    "start_time": "2022-11-11T13:22:15.294Z"
   },
   {
    "duration": 497,
    "start_time": "2022-11-11T13:22:15.301Z"
   },
   {
    "duration": 3,
    "start_time": "2022-11-11T13:22:15.800Z"
   },
   {
    "duration": 587890,
    "start_time": "2022-11-11T13:22:15.805Z"
   },
   {
    "duration": 7,
    "start_time": "2022-11-11T13:32:03.697Z"
   },
   {
    "duration": 9,
    "start_time": "2022-11-11T13:32:03.705Z"
   },
   {
    "duration": 493,
    "start_time": "2022-11-11T13:32:03.715Z"
   },
   {
    "duration": 9,
    "start_time": "2022-11-11T13:36:49.194Z"
   },
   {
    "duration": 214,
    "start_time": "2022-11-11T13:36:53.608Z"
   },
   {
    "duration": 6,
    "start_time": "2022-11-11T13:37:43.067Z"
   },
   {
    "duration": 86,
    "start_time": "2022-11-11T13:37:45.190Z"
   },
   {
    "duration": 88,
    "start_time": "2022-11-11T13:37:56.746Z"
   },
   {
    "duration": 3343,
    "start_time": "2022-11-11T13:38:08.158Z"
   },
   {
    "duration": 5571,
    "start_time": "2022-11-11T13:38:22.641Z"
   },
   {
    "duration": 4560,
    "start_time": "2022-11-11T13:38:41.008Z"
   },
   {
    "duration": 2413,
    "start_time": "2022-11-11T13:39:25.105Z"
   },
   {
    "duration": 2336,
    "start_time": "2022-11-11T13:39:27.522Z"
   },
   {
    "duration": 1955,
    "start_time": "2022-11-11T13:39:29.861Z"
   },
   {
    "duration": 28,
    "start_time": "2022-11-11T13:39:31.818Z"
   },
   {
    "duration": 21,
    "start_time": "2022-11-11T13:39:31.848Z"
   },
   {
    "duration": 50,
    "start_time": "2022-11-11T13:39:31.871Z"
   },
   {
    "duration": 42,
    "start_time": "2022-11-11T13:39:31.923Z"
   },
   {
    "duration": 4,
    "start_time": "2022-11-11T13:39:31.967Z"
   },
   {
    "duration": 34,
    "start_time": "2022-11-11T13:39:31.973Z"
   },
   {
    "duration": 24,
    "start_time": "2022-11-11T13:39:32.009Z"
   },
   {
    "duration": 15,
    "start_time": "2022-11-11T13:39:32.034Z"
   },
   {
    "duration": 12,
    "start_time": "2022-11-11T13:39:32.050Z"
   },
   {
    "duration": 19,
    "start_time": "2022-11-11T13:39:32.064Z"
   },
   {
    "duration": 14,
    "start_time": "2022-11-11T13:39:32.091Z"
   },
   {
    "duration": 24,
    "start_time": "2022-11-11T13:39:32.107Z"
   },
   {
    "duration": 801,
    "start_time": "2022-11-11T13:39:32.133Z"
   },
   {
    "duration": 388,
    "start_time": "2022-11-11T13:39:32.936Z"
   },
   {
    "duration": 1032,
    "start_time": "2022-11-11T13:39:33.326Z"
   },
   {
    "duration": 500,
    "start_time": "2022-11-11T13:39:34.359Z"
   },
   {
    "duration": 291,
    "start_time": "2022-11-11T13:39:34.861Z"
   },
   {
    "duration": 13,
    "start_time": "2022-11-11T13:39:35.154Z"
   },
   {
    "duration": 66,
    "start_time": "2022-11-11T13:39:35.179Z"
   },
   {
    "duration": 34,
    "start_time": "2022-11-11T13:39:35.247Z"
   },
   {
    "duration": 61,
    "start_time": "2022-11-11T13:39:35.282Z"
   },
   {
    "duration": 58,
    "start_time": "2022-11-11T13:39:35.345Z"
   },
   {
    "duration": 60,
    "start_time": "2022-11-11T13:39:35.405Z"
   },
   {
    "duration": 26437,
    "start_time": "2022-11-11T13:39:35.468Z"
   },
   {
    "duration": 6,
    "start_time": "2022-11-11T13:40:01.909Z"
   },
   {
    "duration": 220,
    "start_time": "2022-11-11T13:40:01.917Z"
   },
   {
    "duration": 10,
    "start_time": "2022-11-11T13:40:02.139Z"
   },
   {
    "duration": 1,
    "start_time": "2022-11-11T13:40:02.150Z"
   },
   {
    "duration": 0,
    "start_time": "2022-11-11T13:40:02.152Z"
   },
   {
    "duration": 0,
    "start_time": "2022-11-11T13:40:02.153Z"
   },
   {
    "duration": 0,
    "start_time": "2022-11-11T13:40:02.155Z"
   },
   {
    "duration": 0,
    "start_time": "2022-11-11T13:40:02.156Z"
   },
   {
    "duration": 0,
    "start_time": "2022-11-11T13:40:02.157Z"
   },
   {
    "duration": 11,
    "start_time": "2022-11-11T13:40:46.922Z"
   },
   {
    "duration": 4334,
    "start_time": "2022-11-11T13:40:48.194Z"
   },
   {
    "duration": 4054,
    "start_time": "2022-11-11T13:41:23.367Z"
   },
   {
    "duration": 4501,
    "start_time": "2022-11-11T13:41:31.111Z"
   },
   {
    "duration": 4292,
    "start_time": "2022-11-11T13:41:38.896Z"
   },
   {
    "duration": 4223,
    "start_time": "2022-11-11T13:41:46.649Z"
   },
   {
    "duration": 4256,
    "start_time": "2022-11-11T13:41:54.900Z"
   },
   {
    "duration": 4198,
    "start_time": "2022-11-11T13:42:03.405Z"
   },
   {
    "duration": 4213,
    "start_time": "2022-11-11T13:42:11.124Z"
   },
   {
    "duration": 4255,
    "start_time": "2022-11-11T13:42:19.413Z"
   },
   {
    "duration": 4248,
    "start_time": "2022-11-11T13:42:50.256Z"
   },
   {
    "duration": 4164,
    "start_time": "2022-11-11T13:42:58.393Z"
   },
   {
    "duration": 4241,
    "start_time": "2022-11-11T13:43:07.124Z"
   },
   {
    "duration": 4267,
    "start_time": "2022-11-11T13:43:16.138Z"
   },
   {
    "duration": 4100,
    "start_time": "2022-11-11T13:43:23.809Z"
   },
   {
    "duration": 4539,
    "start_time": "2022-11-11T13:43:31.278Z"
   },
   {
    "duration": 4173,
    "start_time": "2022-11-11T13:43:43.153Z"
   },
   {
    "duration": 4329,
    "start_time": "2022-11-11T13:43:54.622Z"
   },
   {
    "duration": 4202,
    "start_time": "2022-11-11T13:44:03.442Z"
   },
   {
    "duration": 4129,
    "start_time": "2022-11-11T13:44:10.695Z"
   },
   {
    "duration": 4285,
    "start_time": "2022-11-11T13:44:19.240Z"
   },
   {
    "duration": 4157,
    "start_time": "2022-11-11T13:44:38.991Z"
   },
   {
    "duration": 6028,
    "start_time": "2022-11-11T13:44:51.917Z"
   },
   {
    "duration": 4282,
    "start_time": "2022-11-11T13:45:05.064Z"
   },
   {
    "duration": 4228,
    "start_time": "2022-11-11T13:45:12.744Z"
   },
   {
    "duration": 4349,
    "start_time": "2022-11-11T13:45:21.351Z"
   },
   {
    "duration": 4205,
    "start_time": "2022-11-11T13:45:35.600Z"
   },
   {
    "duration": 4258,
    "start_time": "2022-11-11T13:46:47.548Z"
   },
   {
    "duration": 4305,
    "start_time": "2022-11-11T13:47:03.858Z"
   },
   {
    "duration": 7105,
    "start_time": "2022-11-11T13:49:59.409Z"
   },
   {
    "duration": 13728,
    "start_time": "2022-11-11T13:50:13.973Z"
   },
   {
    "duration": 3434,
    "start_time": "2022-11-11T13:50:53.370Z"
   },
   {
    "duration": 3469,
    "start_time": "2022-11-11T13:51:10.575Z"
   },
   {
    "duration": 3502,
    "start_time": "2022-11-11T13:51:18.549Z"
   },
   {
    "duration": 3427,
    "start_time": "2022-11-11T13:51:29.359Z"
   },
   {
    "duration": 7253,
    "start_time": "2022-11-11T13:51:43.198Z"
   },
   {
    "duration": 3386,
    "start_time": "2022-11-11T13:52:01.514Z"
   },
   {
    "duration": 3520,
    "start_time": "2022-11-11T13:52:13.680Z"
   },
   {
    "duration": 3493,
    "start_time": "2022-11-11T13:52:21.774Z"
   },
   {
    "duration": 25387,
    "start_time": "2022-11-11T13:52:44.414Z"
   },
   {
    "duration": 2327,
    "start_time": "2022-11-11T13:53:34.699Z"
   },
   {
    "duration": 2477,
    "start_time": "2022-11-11T13:53:37.028Z"
   },
   {
    "duration": 1958,
    "start_time": "2022-11-11T13:53:39.508Z"
   },
   {
    "duration": 45,
    "start_time": "2022-11-11T13:53:41.468Z"
   },
   {
    "duration": 16,
    "start_time": "2022-11-11T13:53:41.515Z"
   },
   {
    "duration": 12,
    "start_time": "2022-11-11T13:53:41.533Z"
   },
   {
    "duration": 26,
    "start_time": "2022-11-11T13:53:41.547Z"
   },
   {
    "duration": 24,
    "start_time": "2022-11-11T13:53:41.575Z"
   },
   {
    "duration": 20,
    "start_time": "2022-11-11T13:53:41.600Z"
   },
   {
    "duration": 11,
    "start_time": "2022-11-11T13:53:41.624Z"
   },
   {
    "duration": 11,
    "start_time": "2022-11-11T13:53:41.637Z"
   },
   {
    "duration": 18,
    "start_time": "2022-11-11T13:53:41.650Z"
   },
   {
    "duration": 35,
    "start_time": "2022-11-11T13:53:41.670Z"
   },
   {
    "duration": 13,
    "start_time": "2022-11-11T13:53:41.707Z"
   },
   {
    "duration": 14,
    "start_time": "2022-11-11T13:53:41.722Z"
   },
   {
    "duration": 828,
    "start_time": "2022-11-11T13:53:41.737Z"
   },
   {
    "duration": 378,
    "start_time": "2022-11-11T13:53:42.567Z"
   },
   {
    "duration": 1051,
    "start_time": "2022-11-11T13:53:42.947Z"
   },
   {
    "duration": 483,
    "start_time": "2022-11-11T13:53:44.000Z"
   },
   {
    "duration": 277,
    "start_time": "2022-11-11T13:53:44.485Z"
   },
   {
    "duration": 17,
    "start_time": "2022-11-11T13:53:44.763Z"
   },
   {
    "duration": 23,
    "start_time": "2022-11-11T13:53:44.786Z"
   },
   {
    "duration": 31,
    "start_time": "2022-11-11T13:53:44.811Z"
   },
   {
    "duration": 8,
    "start_time": "2022-11-11T13:53:44.844Z"
   },
   {
    "duration": 12,
    "start_time": "2022-11-11T13:53:44.853Z"
   },
   {
    "duration": 10,
    "start_time": "2022-11-11T13:53:44.867Z"
   },
   {
    "duration": 27179,
    "start_time": "2022-11-11T13:53:44.879Z"
   },
   {
    "duration": 6,
    "start_time": "2022-11-11T13:54:12.062Z"
   },
   {
    "duration": 3630,
    "start_time": "2022-11-11T13:54:12.070Z"
   },
   {
    "duration": 155,
    "start_time": "2022-11-11T13:54:15.703Z"
   },
   {
    "duration": 0,
    "start_time": "2022-11-11T13:54:15.860Z"
   },
   {
    "duration": 0,
    "start_time": "2022-11-11T13:54:15.862Z"
   },
   {
    "duration": 0,
    "start_time": "2022-11-11T13:54:15.864Z"
   },
   {
    "duration": 0,
    "start_time": "2022-11-11T13:54:15.866Z"
   },
   {
    "duration": 1,
    "start_time": "2022-11-11T13:54:15.880Z"
   },
   {
    "duration": 0,
    "start_time": "2022-11-11T13:54:15.884Z"
   },
   {
    "duration": 509,
    "start_time": "2022-11-11T13:56:39.403Z"
   },
   {
    "duration": 5,
    "start_time": "2022-11-11T13:56:53.993Z"
   },
   {
    "duration": 6,
    "start_time": "2022-11-11T14:01:13.004Z"
   },
   {
    "duration": 24801,
    "start_time": "2022-11-11T14:01:14.801Z"
   },
   {
    "duration": 3482,
    "start_time": "2022-11-11T14:01:49.710Z"
   },
   {
    "duration": 6,
    "start_time": "2022-11-11T14:02:28.952Z"
   },
   {
    "duration": 3345,
    "start_time": "2022-11-11T14:02:35.803Z"
   },
   {
    "duration": 6,
    "start_time": "2022-11-11T14:04:01.963Z"
   },
   {
    "duration": 3239,
    "start_time": "2022-11-11T14:04:02.901Z"
   },
   {
    "duration": 4,
    "start_time": "2022-11-11T14:04:42.554Z"
   },
   {
    "duration": 490660,
    "start_time": "2022-11-11T14:04:44.447Z"
   },
   {
    "duration": 7,
    "start_time": "2022-11-11T14:12:55.109Z"
   },
   {
    "duration": 2276,
    "start_time": "2022-11-11T14:17:58.530Z"
   },
   {
    "duration": 2357,
    "start_time": "2022-11-11T14:18:00.809Z"
   },
   {
    "duration": 2027,
    "start_time": "2022-11-11T14:18:03.169Z"
   },
   {
    "duration": 28,
    "start_time": "2022-11-11T14:18:05.198Z"
   },
   {
    "duration": 16,
    "start_time": "2022-11-11T14:18:05.228Z"
   },
   {
    "duration": 11,
    "start_time": "2022-11-11T14:18:05.246Z"
   },
   {
    "duration": 34,
    "start_time": "2022-11-11T14:18:05.259Z"
   },
   {
    "duration": 7,
    "start_time": "2022-11-11T14:18:05.295Z"
   },
   {
    "duration": 17,
    "start_time": "2022-11-11T14:18:05.305Z"
   },
   {
    "duration": 16,
    "start_time": "2022-11-11T14:18:05.324Z"
   },
   {
    "duration": 23,
    "start_time": "2022-11-11T14:18:05.341Z"
   },
   {
    "duration": 14,
    "start_time": "2022-11-11T14:18:05.366Z"
   },
   {
    "duration": 36,
    "start_time": "2022-11-11T14:18:05.382Z"
   },
   {
    "duration": 11,
    "start_time": "2022-11-11T14:18:05.422Z"
   },
   {
    "duration": 23,
    "start_time": "2022-11-11T14:18:05.435Z"
   },
   {
    "duration": 636,
    "start_time": "2022-11-11T14:18:05.460Z"
   },
   {
    "duration": 325,
    "start_time": "2022-11-11T14:18:06.098Z"
   },
   {
    "duration": 1025,
    "start_time": "2022-11-11T14:18:06.425Z"
   },
   {
    "duration": 479,
    "start_time": "2022-11-11T14:18:07.452Z"
   },
   {
    "duration": 271,
    "start_time": "2022-11-11T14:18:07.933Z"
   },
   {
    "duration": 8,
    "start_time": "2022-11-11T14:18:08.205Z"
   },
   {
    "duration": 21,
    "start_time": "2022-11-11T14:18:08.215Z"
   },
   {
    "duration": 15,
    "start_time": "2022-11-11T14:18:08.238Z"
   },
   {
    "duration": 11,
    "start_time": "2022-11-11T14:18:08.255Z"
   },
   {
    "duration": 32,
    "start_time": "2022-11-11T14:18:08.268Z"
   },
   {
    "duration": 12,
    "start_time": "2022-11-11T14:18:08.302Z"
   },
   {
    "duration": 24312,
    "start_time": "2022-11-11T14:18:08.316Z"
   },
   {
    "duration": 7,
    "start_time": "2022-11-11T14:18:32.631Z"
   },
   {
    "duration": 3346,
    "start_time": "2022-11-11T14:18:32.640Z"
   },
   {
    "duration": 152,
    "start_time": "2022-11-11T14:18:35.988Z"
   },
   {
    "duration": 0,
    "start_time": "2022-11-11T14:18:36.142Z"
   },
   {
    "duration": 0,
    "start_time": "2022-11-11T14:18:36.143Z"
   },
   {
    "duration": 0,
    "start_time": "2022-11-11T14:18:36.144Z"
   },
   {
    "duration": 0,
    "start_time": "2022-11-11T14:18:36.145Z"
   },
   {
    "duration": 0,
    "start_time": "2022-11-11T14:18:36.146Z"
   },
   {
    "duration": 0,
    "start_time": "2022-11-11T14:18:36.147Z"
   },
   {
    "duration": 463,
    "start_time": "2022-11-11T14:26:42.790Z"
   },
   {
    "duration": 3,
    "start_time": "2022-11-11T14:26:46.202Z"
   },
   {
    "duration": 3161,
    "start_time": "2022-11-11T14:27:16.839Z"
   },
   {
    "duration": 3,
    "start_time": "2022-11-11T14:27:30.100Z"
   },
   {
    "duration": 316624,
    "start_time": "2022-11-11T14:27:44.490Z"
   },
   {
    "duration": 6,
    "start_time": "2022-11-11T14:33:01.116Z"
   },
   {
    "duration": 8,
    "start_time": "2022-11-11T14:33:19.123Z"
   },
   {
    "duration": 299062,
    "start_time": "2022-11-11T14:34:55.966Z"
   },
   {
    "duration": 7,
    "start_time": "2022-11-11T14:39:55.030Z"
   },
   {
    "duration": 834294,
    "start_time": "2022-11-11T14:42:55.024Z"
   },
   {
    "duration": 7,
    "start_time": "2022-11-11T14:56:49.320Z"
   },
   {
    "duration": 2246,
    "start_time": "2022-11-11T15:00:12.230Z"
   },
   {
    "duration": 2321,
    "start_time": "2022-11-11T15:00:14.479Z"
   },
   {
    "duration": 1863,
    "start_time": "2022-11-11T15:00:16.802Z"
   },
   {
    "duration": 48,
    "start_time": "2022-11-11T15:00:18.668Z"
   },
   {
    "duration": 16,
    "start_time": "2022-11-11T15:00:18.718Z"
   },
   {
    "duration": 24,
    "start_time": "2022-11-11T15:00:18.735Z"
   },
   {
    "duration": 38,
    "start_time": "2022-11-11T15:00:18.761Z"
   },
   {
    "duration": 14,
    "start_time": "2022-11-11T15:00:18.801Z"
   },
   {
    "duration": 54,
    "start_time": "2022-11-11T15:00:18.817Z"
   },
   {
    "duration": 64,
    "start_time": "2022-11-11T15:00:18.874Z"
   },
   {
    "duration": 25,
    "start_time": "2022-11-11T15:00:18.939Z"
   },
   {
    "duration": 31,
    "start_time": "2022-11-11T15:00:18.966Z"
   },
   {
    "duration": 10,
    "start_time": "2022-11-11T15:00:18.998Z"
   },
   {
    "duration": 11,
    "start_time": "2022-11-11T15:00:19.010Z"
   },
   {
    "duration": 24,
    "start_time": "2022-11-11T15:00:19.025Z"
   },
   {
    "duration": 726,
    "start_time": "2022-11-11T15:00:19.051Z"
   },
   {
    "duration": 338,
    "start_time": "2022-11-11T15:00:19.778Z"
   },
   {
    "duration": 1012,
    "start_time": "2022-11-11T15:00:20.117Z"
   },
   {
    "duration": 492,
    "start_time": "2022-11-11T15:00:21.131Z"
   },
   {
    "duration": 272,
    "start_time": "2022-11-11T15:00:21.625Z"
   },
   {
    "duration": 8,
    "start_time": "2022-11-11T15:00:21.898Z"
   },
   {
    "duration": 15,
    "start_time": "2022-11-11T15:00:21.908Z"
   },
   {
    "duration": 36,
    "start_time": "2022-11-11T15:00:21.925Z"
   },
   {
    "duration": 35,
    "start_time": "2022-11-11T15:00:21.962Z"
   },
   {
    "duration": 66,
    "start_time": "2022-11-11T15:00:21.998Z"
   },
   {
    "duration": 45,
    "start_time": "2022-11-11T15:00:22.065Z"
   },
   {
    "duration": 24585,
    "start_time": "2022-11-11T15:00:22.112Z"
   },
   {
    "duration": 6,
    "start_time": "2022-11-11T15:00:46.701Z"
   },
   {
    "duration": 3385,
    "start_time": "2022-11-11T15:00:46.709Z"
   },
   {
    "duration": 146,
    "start_time": "2022-11-11T15:00:50.096Z"
   },
   {
    "duration": 0,
    "start_time": "2022-11-11T15:00:50.244Z"
   },
   {
    "duration": 0,
    "start_time": "2022-11-11T15:00:50.246Z"
   },
   {
    "duration": 0,
    "start_time": "2022-11-11T15:00:50.247Z"
   },
   {
    "duration": 0,
    "start_time": "2022-11-11T15:00:50.249Z"
   },
   {
    "duration": 0,
    "start_time": "2022-11-11T15:00:50.250Z"
   },
   {
    "duration": 0,
    "start_time": "2022-11-11T15:00:50.252Z"
   },
   {
    "duration": 454,
    "start_time": "2022-11-11T15:12:17.538Z"
   },
   {
    "duration": 4,
    "start_time": "2022-11-11T15:12:20.436Z"
   },
   {
    "duration": 293535,
    "start_time": "2022-11-11T15:12:22.298Z"
   },
   {
    "duration": 11,
    "start_time": "2022-11-11T15:17:15.886Z"
   },
   {
    "duration": 8,
    "start_time": "2022-11-11T15:19:23.777Z"
   },
   {
    "duration": 5,
    "start_time": "2022-11-11T15:19:24.734Z"
   },
   {
    "duration": 11,
    "start_time": "2022-11-11T15:19:26.052Z"
   },
   {
    "duration": 3,
    "start_time": "2022-11-11T15:19:38.336Z"
   },
   {
    "duration": 4,
    "start_time": "2022-11-11T15:19:44.056Z"
   },
   {
    "duration": 21,
    "start_time": "2022-11-11T15:19:48.174Z"
   },
   {
    "duration": 17,
    "start_time": "2022-11-11T15:20:52.997Z"
   },
   {
    "duration": 20,
    "start_time": "2022-11-11T15:21:31.022Z"
   },
   {
    "duration": 6,
    "start_time": "2022-11-11T15:21:52.752Z"
   },
   {
    "duration": 45,
    "start_time": "2022-11-11T15:22:12.524Z"
   },
   {
    "duration": 41,
    "start_time": "2022-11-11T15:23:02.731Z"
   },
   {
    "duration": 3,
    "start_time": "2022-11-11T15:23:14.850Z"
   },
   {
    "duration": 5,
    "start_time": "2022-11-11T15:23:16.771Z"
   },
   {
    "duration": 38,
    "start_time": "2022-11-11T15:23:17.026Z"
   },
   {
    "duration": 3,
    "start_time": "2022-11-11T15:23:37.516Z"
   },
   {
    "duration": 4,
    "start_time": "2022-11-11T15:23:38.933Z"
   },
   {
    "duration": 37,
    "start_time": "2022-11-11T15:23:39.298Z"
   },
   {
    "duration": 167,
    "start_time": "2022-11-11T15:25:00.094Z"
   },
   {
    "duration": 2253,
    "start_time": "2022-11-11T15:25:19.235Z"
   },
   {
    "duration": 2404,
    "start_time": "2022-11-11T15:25:21.494Z"
   },
   {
    "duration": 2005,
    "start_time": "2022-11-11T15:25:23.900Z"
   },
   {
    "duration": 28,
    "start_time": "2022-11-11T15:25:25.907Z"
   },
   {
    "duration": 15,
    "start_time": "2022-11-11T15:25:25.937Z"
   },
   {
    "duration": 47,
    "start_time": "2022-11-11T15:25:25.954Z"
   },
   {
    "duration": 43,
    "start_time": "2022-11-11T15:25:26.003Z"
   },
   {
    "duration": 5,
    "start_time": "2022-11-11T15:25:26.048Z"
   },
   {
    "duration": 53,
    "start_time": "2022-11-11T15:25:26.055Z"
   },
   {
    "duration": 20,
    "start_time": "2022-11-11T15:25:26.112Z"
   },
   {
    "duration": 22,
    "start_time": "2022-11-11T15:25:26.134Z"
   },
   {
    "duration": 59,
    "start_time": "2022-11-11T15:25:26.157Z"
   },
   {
    "duration": 35,
    "start_time": "2022-11-11T15:25:26.218Z"
   },
   {
    "duration": 42,
    "start_time": "2022-11-11T15:25:26.255Z"
   },
   {
    "duration": 27,
    "start_time": "2022-11-11T15:25:26.299Z"
   },
   {
    "duration": 660,
    "start_time": "2022-11-11T15:25:26.327Z"
   },
   {
    "duration": 367,
    "start_time": "2022-11-11T15:25:26.988Z"
   },
   {
    "duration": 1000,
    "start_time": "2022-11-11T15:25:27.357Z"
   },
   {
    "duration": 508,
    "start_time": "2022-11-11T15:25:28.359Z"
   },
   {
    "duration": 280,
    "start_time": "2022-11-11T15:25:28.868Z"
   },
   {
    "duration": 8,
    "start_time": "2022-11-11T15:25:29.150Z"
   },
   {
    "duration": 33,
    "start_time": "2022-11-11T15:25:29.159Z"
   },
   {
    "duration": 19,
    "start_time": "2022-11-11T15:25:29.195Z"
   },
   {
    "duration": 12,
    "start_time": "2022-11-11T15:25:29.215Z"
   },
   {
    "duration": 14,
    "start_time": "2022-11-11T15:25:29.228Z"
   },
   {
    "duration": 12,
    "start_time": "2022-11-11T15:25:29.243Z"
   },
   {
    "duration": 25088,
    "start_time": "2022-11-11T15:25:29.257Z"
   },
   {
    "duration": 8,
    "start_time": "2022-11-11T15:25:54.349Z"
   },
   {
    "duration": 3345,
    "start_time": "2022-11-11T15:25:54.359Z"
   },
   {
    "duration": 144,
    "start_time": "2022-11-11T15:25:57.706Z"
   },
   {
    "duration": 0,
    "start_time": "2022-11-11T15:25:57.851Z"
   },
   {
    "duration": 0,
    "start_time": "2022-11-11T15:25:57.853Z"
   },
   {
    "duration": 0,
    "start_time": "2022-11-11T15:25:57.854Z"
   },
   {
    "duration": 0,
    "start_time": "2022-11-11T15:25:57.855Z"
   },
   {
    "duration": 0,
    "start_time": "2022-11-11T15:25:57.857Z"
   },
   {
    "duration": 0,
    "start_time": "2022-11-11T15:25:57.858Z"
   },
   {
    "duration": 473,
    "start_time": "2022-11-11T15:27:58.158Z"
   },
   {
    "duration": 4,
    "start_time": "2022-11-11T15:28:00.903Z"
   },
   {
    "duration": 352669,
    "start_time": "2022-11-11T15:28:02.325Z"
   },
   {
    "duration": 7,
    "start_time": "2022-11-11T15:33:54.998Z"
   },
   {
    "duration": 2194,
    "start_time": "2022-11-11T15:34:51.270Z"
   },
   {
    "duration": 2183,
    "start_time": "2022-11-11T15:34:53.466Z"
   },
   {
    "duration": 1918,
    "start_time": "2022-11-11T15:34:55.651Z"
   },
   {
    "duration": 37,
    "start_time": "2022-11-11T15:34:57.571Z"
   },
   {
    "duration": 15,
    "start_time": "2022-11-11T15:34:57.611Z"
   },
   {
    "duration": 15,
    "start_time": "2022-11-11T15:34:57.627Z"
   },
   {
    "duration": 32,
    "start_time": "2022-11-11T15:34:57.644Z"
   },
   {
    "duration": 17,
    "start_time": "2022-11-11T15:34:57.677Z"
   },
   {
    "duration": 51,
    "start_time": "2022-11-11T15:34:57.695Z"
   },
   {
    "duration": 54,
    "start_time": "2022-11-11T15:34:57.748Z"
   },
   {
    "duration": 37,
    "start_time": "2022-11-11T15:34:57.803Z"
   },
   {
    "duration": 30,
    "start_time": "2022-11-11T15:34:57.841Z"
   },
   {
    "duration": 43,
    "start_time": "2022-11-11T15:34:57.872Z"
   },
   {
    "duration": 44,
    "start_time": "2022-11-11T15:34:57.918Z"
   },
   {
    "duration": 36,
    "start_time": "2022-11-11T15:34:57.963Z"
   },
   {
    "duration": 741,
    "start_time": "2022-11-11T15:34:58.000Z"
   },
   {
    "duration": 372,
    "start_time": "2022-11-11T15:34:58.743Z"
   },
   {
    "duration": 971,
    "start_time": "2022-11-11T15:34:59.117Z"
   },
   {
    "duration": 465,
    "start_time": "2022-11-11T15:35:00.090Z"
   },
   {
    "duration": 282,
    "start_time": "2022-11-11T15:35:00.557Z"
   },
   {
    "duration": 8,
    "start_time": "2022-11-11T15:35:00.840Z"
   },
   {
    "duration": 50,
    "start_time": "2022-11-11T15:35:00.849Z"
   },
   {
    "duration": 48,
    "start_time": "2022-11-11T15:35:00.901Z"
   },
   {
    "duration": 14,
    "start_time": "2022-11-11T15:35:00.951Z"
   },
   {
    "duration": 22,
    "start_time": "2022-11-11T15:35:00.967Z"
   },
   {
    "duration": 16,
    "start_time": "2022-11-11T15:35:00.991Z"
   },
   {
    "duration": 25548,
    "start_time": "2022-11-11T15:35:01.009Z"
   },
   {
    "duration": 6,
    "start_time": "2022-11-11T15:35:26.559Z"
   },
   {
    "duration": 3201,
    "start_time": "2022-11-11T15:35:26.567Z"
   },
   {
    "duration": 2,
    "start_time": "2022-11-11T15:35:29.770Z"
   },
   {
    "duration": 478,
    "start_time": "2022-11-11T15:35:29.781Z"
   },
   {
    "duration": 3,
    "start_time": "2022-11-11T15:35:30.261Z"
   },
   {
    "duration": 344410,
    "start_time": "2022-11-11T15:35:30.266Z"
   },
   {
    "duration": 20,
    "start_time": "2022-11-11T15:41:14.678Z"
   },
   {
    "duration": 59,
    "start_time": "2022-11-11T15:41:14.700Z"
   },
   {
    "duration": 593,
    "start_time": "2022-11-11T15:41:14.762Z"
   },
   {
    "duration": 2167,
    "start_time": "2022-11-11T16:04:15.527Z"
   },
   {
    "duration": 2326,
    "start_time": "2022-11-11T16:04:17.696Z"
   },
   {
    "duration": 1834,
    "start_time": "2022-11-11T16:04:20.024Z"
   },
   {
    "duration": 33,
    "start_time": "2022-11-11T16:04:21.860Z"
   },
   {
    "duration": 15,
    "start_time": "2022-11-11T16:04:21.894Z"
   },
   {
    "duration": 10,
    "start_time": "2022-11-11T16:04:21.911Z"
   },
   {
    "duration": 28,
    "start_time": "2022-11-11T16:04:21.923Z"
   },
   {
    "duration": 13,
    "start_time": "2022-11-11T16:04:21.952Z"
   },
   {
    "duration": 43,
    "start_time": "2022-11-11T16:04:21.967Z"
   },
   {
    "duration": 22,
    "start_time": "2022-11-11T16:04:22.013Z"
   },
   {
    "duration": 28,
    "start_time": "2022-11-11T16:04:22.036Z"
   },
   {
    "duration": 41,
    "start_time": "2022-11-11T16:04:22.065Z"
   },
   {
    "duration": 43,
    "start_time": "2022-11-11T16:04:22.108Z"
   },
   {
    "duration": 49,
    "start_time": "2022-11-11T16:04:22.152Z"
   },
   {
    "duration": 13,
    "start_time": "2022-11-11T16:04:22.203Z"
   },
   {
    "duration": 720,
    "start_time": "2022-11-11T16:04:22.217Z"
   },
   {
    "duration": 360,
    "start_time": "2022-11-11T16:04:22.939Z"
   },
   {
    "duration": 992,
    "start_time": "2022-11-11T16:04:23.301Z"
   },
   {
    "duration": 459,
    "start_time": "2022-11-11T16:04:24.295Z"
   },
   {
    "duration": 261,
    "start_time": "2022-11-11T16:04:24.756Z"
   },
   {
    "duration": 7,
    "start_time": "2022-11-11T16:04:25.018Z"
   },
   {
    "duration": 43,
    "start_time": "2022-11-11T16:04:25.027Z"
   },
   {
    "duration": 38,
    "start_time": "2022-11-11T16:04:25.072Z"
   },
   {
    "duration": 30,
    "start_time": "2022-11-11T16:04:25.112Z"
   },
   {
    "duration": 24,
    "start_time": "2022-11-11T16:04:25.144Z"
   },
   {
    "duration": 37,
    "start_time": "2022-11-11T16:04:25.170Z"
   },
   {
    "duration": 22775,
    "start_time": "2022-11-11T16:04:25.209Z"
   },
   {
    "duration": 6,
    "start_time": "2022-11-11T16:04:47.990Z"
   },
   {
    "duration": 3137,
    "start_time": "2022-11-11T16:04:47.998Z"
   },
   {
    "duration": 2,
    "start_time": "2022-11-11T16:04:51.137Z"
   },
   {
    "duration": 459,
    "start_time": "2022-11-11T16:04:51.141Z"
   },
   {
    "duration": 3,
    "start_time": "2022-11-11T16:04:51.602Z"
   },
   {
    "duration": 344343,
    "start_time": "2022-11-11T16:04:51.606Z"
   },
   {
    "duration": 8,
    "start_time": "2022-11-11T16:10:35.951Z"
   },
   {
    "duration": 35,
    "start_time": "2022-11-11T16:10:35.961Z"
   },
   {
    "duration": 587,
    "start_time": "2022-11-11T16:10:35.998Z"
   },
   {
    "duration": 2228,
    "start_time": "2022-11-11T16:18:07.493Z"
   },
   {
    "duration": 2260,
    "start_time": "2022-11-11T16:18:09.724Z"
   },
   {
    "duration": 1880,
    "start_time": "2022-11-11T16:18:11.986Z"
   },
   {
    "duration": 38,
    "start_time": "2022-11-11T16:18:13.868Z"
   },
   {
    "duration": 14,
    "start_time": "2022-11-11T16:18:13.909Z"
   },
   {
    "duration": 10,
    "start_time": "2022-11-11T16:18:13.924Z"
   },
   {
    "duration": 33,
    "start_time": "2022-11-11T16:18:13.935Z"
   },
   {
    "duration": 6,
    "start_time": "2022-11-11T16:18:13.970Z"
   },
   {
    "duration": 30,
    "start_time": "2022-11-11T16:18:13.978Z"
   },
   {
    "duration": 8,
    "start_time": "2022-11-11T16:18:14.010Z"
   },
   {
    "duration": 16,
    "start_time": "2022-11-11T16:18:14.019Z"
   },
   {
    "duration": 15,
    "start_time": "2022-11-11T16:18:14.037Z"
   },
   {
    "duration": 8,
    "start_time": "2022-11-11T16:18:14.054Z"
   },
   {
    "duration": 5,
    "start_time": "2022-11-11T16:18:14.065Z"
   },
   {
    "duration": 20,
    "start_time": "2022-11-11T16:18:14.072Z"
   },
   {
    "duration": 582,
    "start_time": "2022-11-11T16:18:14.093Z"
   },
   {
    "duration": 328,
    "start_time": "2022-11-11T16:18:14.679Z"
   },
   {
    "duration": 981,
    "start_time": "2022-11-11T16:18:15.009Z"
   },
   {
    "duration": 440,
    "start_time": "2022-11-11T16:18:15.991Z"
   },
   {
    "duration": 264,
    "start_time": "2022-11-11T16:18:16.433Z"
   },
   {
    "duration": 7,
    "start_time": "2022-11-11T16:18:16.699Z"
   },
   {
    "duration": 20,
    "start_time": "2022-11-11T16:18:16.707Z"
   },
   {
    "duration": 14,
    "start_time": "2022-11-11T16:18:16.729Z"
   },
   {
    "duration": 18,
    "start_time": "2022-11-11T16:18:16.745Z"
   },
   {
    "duration": 17,
    "start_time": "2022-11-11T16:18:16.764Z"
   },
   {
    "duration": 37,
    "start_time": "2022-11-11T16:18:16.783Z"
   },
   {
    "duration": 23612,
    "start_time": "2022-11-11T16:18:16.822Z"
   },
   {
    "duration": 6,
    "start_time": "2022-11-11T16:18:40.436Z"
   },
   {
    "duration": 3129,
    "start_time": "2022-11-11T16:18:40.443Z"
   },
   {
    "duration": 6,
    "start_time": "2022-11-11T16:18:43.573Z"
   },
   {
    "duration": 460,
    "start_time": "2022-11-11T16:18:43.591Z"
   },
   {
    "duration": 3,
    "start_time": "2022-11-11T16:18:44.052Z"
   },
   {
    "duration": 340614,
    "start_time": "2022-11-11T16:18:44.057Z"
   },
   {
    "duration": 10,
    "start_time": "2022-11-11T16:24:24.673Z"
   },
   {
    "duration": 25,
    "start_time": "2022-11-11T16:24:24.687Z"
   },
   {
    "duration": 497,
    "start_time": "2022-11-11T16:24:24.714Z"
   },
   {
    "duration": 2547,
    "start_time": "2022-11-12T09:35:05.629Z"
   },
   {
    "duration": 3156,
    "start_time": "2022-11-12T09:35:08.179Z"
   },
   {
    "duration": 2393,
    "start_time": "2022-11-12T09:35:11.337Z"
   },
   {
    "duration": 79,
    "start_time": "2022-11-12T09:35:13.732Z"
   },
   {
    "duration": 14,
    "start_time": "2022-11-12T09:35:13.814Z"
   },
   {
    "duration": 17,
    "start_time": "2022-11-12T09:35:13.829Z"
   },
   {
    "duration": 26,
    "start_time": "2022-11-12T09:35:13.848Z"
   },
   {
    "duration": 7,
    "start_time": "2022-11-12T09:35:13.876Z"
   },
   {
    "duration": 23,
    "start_time": "2022-11-12T09:35:13.885Z"
   },
   {
    "duration": 23,
    "start_time": "2022-11-12T09:35:13.910Z"
   },
   {
    "duration": 16,
    "start_time": "2022-11-12T09:35:13.935Z"
   },
   {
    "duration": 26,
    "start_time": "2022-11-12T09:35:13.953Z"
   },
   {
    "duration": 20,
    "start_time": "2022-11-12T09:35:13.981Z"
   },
   {
    "duration": 7,
    "start_time": "2022-11-12T09:35:14.004Z"
   },
   {
    "duration": 24,
    "start_time": "2022-11-12T09:35:14.013Z"
   },
   {
    "duration": 160,
    "start_time": "2022-11-12T09:35:35.160Z"
   },
   {
    "duration": 193,
    "start_time": "2022-11-12T09:35:40.512Z"
   },
   {
    "duration": 181,
    "start_time": "2022-11-12T09:36:16.822Z"
   },
   {
    "duration": 1043,
    "start_time": "2022-11-12T09:36:38.848Z"
   },
   {
    "duration": 151,
    "start_time": "2022-11-12T09:36:47.575Z"
   },
   {
    "duration": 154,
    "start_time": "2022-11-12T09:37:00.601Z"
   },
   {
    "duration": 2287,
    "start_time": "2022-11-12T09:46:51.511Z"
   },
   {
    "duration": 2242,
    "start_time": "2022-11-12T09:46:53.801Z"
   },
   {
    "duration": 2312,
    "start_time": "2022-11-12T09:46:56.045Z"
   },
   {
    "duration": 34,
    "start_time": "2022-11-12T09:46:58.359Z"
   },
   {
    "duration": 16,
    "start_time": "2022-11-12T09:46:58.395Z"
   },
   {
    "duration": 16,
    "start_time": "2022-11-12T09:46:58.412Z"
   },
   {
    "duration": 28,
    "start_time": "2022-11-12T09:46:58.430Z"
   },
   {
    "duration": 3,
    "start_time": "2022-11-12T09:46:58.460Z"
   },
   {
    "duration": 37,
    "start_time": "2022-11-12T09:46:58.464Z"
   },
   {
    "duration": 25,
    "start_time": "2022-11-12T09:46:58.503Z"
   },
   {
    "duration": 12,
    "start_time": "2022-11-12T09:46:58.529Z"
   },
   {
    "duration": 23,
    "start_time": "2022-11-12T09:46:58.543Z"
   },
   {
    "duration": 10,
    "start_time": "2022-11-12T09:46:58.567Z"
   },
   {
    "duration": 23,
    "start_time": "2022-11-12T09:46:58.580Z"
   },
   {
    "duration": 26,
    "start_time": "2022-11-12T09:46:58.605Z"
   },
   {
    "duration": 688,
    "start_time": "2022-11-12T09:46:58.633Z"
   },
   {
    "duration": 339,
    "start_time": "2022-11-12T09:46:59.323Z"
   },
   {
    "duration": 958,
    "start_time": "2022-11-12T09:46:59.663Z"
   },
   {
    "duration": 503,
    "start_time": "2022-11-12T09:47:00.623Z"
   },
   {
    "duration": 292,
    "start_time": "2022-11-12T09:47:01.127Z"
   },
   {
    "duration": 8,
    "start_time": "2022-11-12T09:47:01.421Z"
   },
   {
    "duration": 143,
    "start_time": "2022-11-12T09:48:09.275Z"
   },
   {
    "duration": 23,
    "start_time": "2022-11-12T09:48:25.483Z"
   },
   {
    "duration": 4,
    "start_time": "2022-11-12T09:48:31.624Z"
   },
   {
    "duration": 22,
    "start_time": "2022-11-12T09:48:48.370Z"
   },
   {
    "duration": 2274,
    "start_time": "2022-11-12T09:49:01.847Z"
   },
   {
    "duration": 2228,
    "start_time": "2022-11-12T09:49:04.123Z"
   },
   {
    "duration": 2314,
    "start_time": "2022-11-12T09:49:06.353Z"
   },
   {
    "duration": 33,
    "start_time": "2022-11-12T09:49:08.668Z"
   },
   {
    "duration": 14,
    "start_time": "2022-11-12T09:49:08.703Z"
   },
   {
    "duration": 11,
    "start_time": "2022-11-12T09:49:08.718Z"
   },
   {
    "duration": 26,
    "start_time": "2022-11-12T09:49:08.731Z"
   },
   {
    "duration": 4,
    "start_time": "2022-11-12T09:49:08.758Z"
   },
   {
    "duration": 27,
    "start_time": "2022-11-12T09:49:08.763Z"
   },
   {
    "duration": 11,
    "start_time": "2022-11-12T09:49:08.792Z"
   },
   {
    "duration": 7,
    "start_time": "2022-11-12T09:49:08.805Z"
   },
   {
    "duration": 12,
    "start_time": "2022-11-12T09:49:08.813Z"
   },
   {
    "duration": 6,
    "start_time": "2022-11-12T09:49:08.827Z"
   },
   {
    "duration": 4,
    "start_time": "2022-11-12T09:49:08.836Z"
   },
   {
    "duration": 7,
    "start_time": "2022-11-12T09:49:08.842Z"
   },
   {
    "duration": 652,
    "start_time": "2022-11-12T09:49:08.850Z"
   },
   {
    "duration": 328,
    "start_time": "2022-11-12T09:49:09.504Z"
   },
   {
    "duration": 988,
    "start_time": "2022-11-12T09:49:09.833Z"
   },
   {
    "duration": 477,
    "start_time": "2022-11-12T09:49:10.823Z"
   },
   {
    "duration": 264,
    "start_time": "2022-11-12T09:49:11.302Z"
   },
   {
    "duration": 21,
    "start_time": "2022-11-12T09:49:11.568Z"
   },
   {
    "duration": 16,
    "start_time": "2022-11-12T09:49:14.790Z"
   },
   {
    "duration": 5,
    "start_time": "2022-11-12T09:49:16.146Z"
   },
   {
    "duration": 2119,
    "start_time": "2022-11-12T09:51:13.702Z"
   },
   {
    "duration": 2149,
    "start_time": "2022-11-12T09:51:15.823Z"
   },
   {
    "duration": 2234,
    "start_time": "2022-11-12T09:51:17.974Z"
   },
   {
    "duration": 29,
    "start_time": "2022-11-12T09:51:20.209Z"
   },
   {
    "duration": 16,
    "start_time": "2022-11-12T09:51:20.240Z"
   },
   {
    "duration": 11,
    "start_time": "2022-11-12T09:51:20.258Z"
   },
   {
    "duration": 39,
    "start_time": "2022-11-12T09:51:20.271Z"
   },
   {
    "duration": 4,
    "start_time": "2022-11-12T09:51:20.311Z"
   },
   {
    "duration": 11,
    "start_time": "2022-11-12T09:51:20.317Z"
   },
   {
    "duration": 15,
    "start_time": "2022-11-12T09:51:20.330Z"
   },
   {
    "duration": 17,
    "start_time": "2022-11-12T09:51:20.346Z"
   },
   {
    "duration": 21,
    "start_time": "2022-11-12T09:51:20.365Z"
   },
   {
    "duration": 9,
    "start_time": "2022-11-12T09:51:20.388Z"
   },
   {
    "duration": 8,
    "start_time": "2022-11-12T09:51:20.400Z"
   },
   {
    "duration": 8,
    "start_time": "2022-11-12T09:51:20.409Z"
   },
   {
    "duration": 582,
    "start_time": "2022-11-12T09:51:20.419Z"
   },
   {
    "duration": 319,
    "start_time": "2022-11-12T09:51:21.003Z"
   },
   {
    "duration": 953,
    "start_time": "2022-11-12T09:51:21.324Z"
   },
   {
    "duration": 529,
    "start_time": "2022-11-12T09:51:22.279Z"
   },
   {
    "duration": 273,
    "start_time": "2022-11-12T09:51:22.809Z"
   },
   {
    "duration": 7,
    "start_time": "2022-11-12T09:51:23.084Z"
   },
   {
    "duration": 19,
    "start_time": "2022-11-12T09:51:32.453Z"
   },
   {
    "duration": 11,
    "start_time": "2022-11-12T09:57:37.277Z"
   },
   {
    "duration": 7,
    "start_time": "2022-11-12T09:57:37.426Z"
   },
   {
    "duration": 2253,
    "start_time": "2022-11-13T11:58:51.495Z"
   },
   {
    "duration": 3036,
    "start_time": "2022-11-13T11:58:53.751Z"
   },
   {
    "duration": 1914,
    "start_time": "2022-11-13T11:58:56.789Z"
   },
   {
    "duration": 77,
    "start_time": "2022-11-13T11:58:58.705Z"
   },
   {
    "duration": 14,
    "start_time": "2022-11-13T11:58:58.784Z"
   },
   {
    "duration": 14,
    "start_time": "2022-11-13T11:58:58.800Z"
   },
   {
    "duration": 31,
    "start_time": "2022-11-13T11:58:58.815Z"
   },
   {
    "duration": 4,
    "start_time": "2022-11-13T11:58:58.848Z"
   },
   {
    "duration": 18,
    "start_time": "2022-11-13T11:58:58.854Z"
   },
   {
    "duration": 13,
    "start_time": "2022-11-13T11:58:58.874Z"
   },
   {
    "duration": 6,
    "start_time": "2022-11-13T11:58:58.889Z"
   },
   {
    "duration": 17,
    "start_time": "2022-11-13T11:58:58.896Z"
   },
   {
    "duration": 19,
    "start_time": "2022-11-13T11:58:58.915Z"
   },
   {
    "duration": 21,
    "start_time": "2022-11-13T11:58:58.937Z"
   },
   {
    "duration": 14,
    "start_time": "2022-11-13T11:58:58.960Z"
   },
   {
    "duration": 500,
    "start_time": "2022-11-13T11:58:58.976Z"
   },
   {
    "duration": 387,
    "start_time": "2022-11-13T11:58:59.478Z"
   },
   {
    "duration": 901,
    "start_time": "2022-11-13T11:58:59.866Z"
   },
   {
    "duration": 330,
    "start_time": "2022-11-13T11:59:00.768Z"
   },
   {
    "duration": 250,
    "start_time": "2022-11-13T11:59:01.100Z"
   },
   {
    "duration": 7,
    "start_time": "2022-11-13T11:59:01.352Z"
   },
   {
    "duration": 24,
    "start_time": "2022-11-13T11:59:01.361Z"
   },
   {
    "duration": 46,
    "start_time": "2022-11-13T11:59:01.387Z"
   },
   {
    "duration": 24,
    "start_time": "2022-11-13T11:59:01.435Z"
   },
   {
    "duration": 21,
    "start_time": "2022-11-13T11:59:01.460Z"
   },
   {
    "duration": 8,
    "start_time": "2022-11-13T11:59:01.483Z"
   },
   {
    "duration": 30,
    "start_time": "2022-11-13T11:59:01.492Z"
   },
   {
    "duration": 43,
    "start_time": "2022-11-13T11:59:01.523Z"
   },
   {
    "duration": 24487,
    "start_time": "2022-11-13T11:59:01.568Z"
   },
   {
    "duration": 6,
    "start_time": "2022-11-13T11:59:26.056Z"
   },
   {
    "duration": 3047,
    "start_time": "2022-11-13T11:59:26.064Z"
   },
   {
    "duration": 2,
    "start_time": "2022-11-13T11:59:29.113Z"
   },
   {
    "duration": 426,
    "start_time": "2022-11-13T11:59:29.117Z"
   },
   {
    "duration": 2,
    "start_time": "2022-11-13T11:59:29.545Z"
   },
   {
    "duration": 307713,
    "start_time": "2022-11-13T11:59:29.549Z"
   },
   {
    "duration": 5,
    "start_time": "2022-11-13T12:04:37.264Z"
   },
   {
    "duration": 7,
    "start_time": "2022-11-13T12:04:37.271Z"
   },
   {
    "duration": 478,
    "start_time": "2022-11-13T12:04:37.280Z"
   },
   {
    "duration": 4,
    "start_time": "2022-11-13T12:05:58.275Z"
   },
   {
    "duration": 7,
    "start_time": "2022-11-13T12:05:58.281Z"
   },
   {
    "duration": 1721,
    "start_time": "2022-11-13T12:05:58.289Z"
   },
   {
    "duration": 26,
    "start_time": "2022-11-13T12:06:00.011Z"
   },
   {
    "duration": 13,
    "start_time": "2022-11-13T12:06:00.039Z"
   },
   {
    "duration": 19,
    "start_time": "2022-11-13T12:06:00.053Z"
   },
   {
    "duration": 32,
    "start_time": "2022-11-13T12:06:00.074Z"
   },
   {
    "duration": 16,
    "start_time": "2022-11-13T12:06:00.108Z"
   },
   {
    "duration": 30,
    "start_time": "2022-11-13T12:06:00.125Z"
   },
   {
    "duration": 36,
    "start_time": "2022-11-13T12:06:00.156Z"
   },
   {
    "duration": 56,
    "start_time": "2022-11-13T12:06:00.194Z"
   },
   {
    "duration": 45,
    "start_time": "2022-11-13T12:06:00.251Z"
   },
   {
    "duration": 35,
    "start_time": "2022-11-13T12:06:00.298Z"
   },
   {
    "duration": 37,
    "start_time": "2022-11-13T12:06:00.335Z"
   },
   {
    "duration": 36,
    "start_time": "2022-11-13T12:06:00.374Z"
   },
   {
    "duration": 627,
    "start_time": "2022-11-13T12:06:00.412Z"
   },
   {
    "duration": 318,
    "start_time": "2022-11-13T12:06:01.040Z"
   },
   {
    "duration": 983,
    "start_time": "2022-11-13T12:06:01.360Z"
   },
   {
    "duration": 459,
    "start_time": "2022-11-13T12:06:02.344Z"
   },
   {
    "duration": 272,
    "start_time": "2022-11-13T12:06:02.806Z"
   },
   {
    "duration": 9,
    "start_time": "2022-11-13T12:06:03.080Z"
   },
   {
    "duration": 18,
    "start_time": "2022-11-13T12:06:03.090Z"
   },
   {
    "duration": 28,
    "start_time": "2022-11-13T12:06:03.110Z"
   },
   {
    "duration": 3,
    "start_time": "2022-11-13T12:06:03.140Z"
   },
   {
    "duration": 14,
    "start_time": "2022-11-13T12:06:03.145Z"
   },
   {
    "duration": 16,
    "start_time": "2022-11-13T12:06:03.160Z"
   },
   {
    "duration": 11,
    "start_time": "2022-11-13T12:06:03.178Z"
   },
   {
    "duration": 11,
    "start_time": "2022-11-13T12:06:03.190Z"
   },
   {
    "duration": 24614,
    "start_time": "2022-11-13T12:06:03.203Z"
   },
   {
    "duration": 11,
    "start_time": "2022-11-13T12:06:27.819Z"
   },
   {
    "duration": 3215,
    "start_time": "2022-11-13T12:06:27.832Z"
   },
   {
    "duration": 2,
    "start_time": "2022-11-13T12:06:31.048Z"
   },
   {
    "duration": 461,
    "start_time": "2022-11-13T12:06:31.052Z"
   },
   {
    "duration": 4,
    "start_time": "2022-11-13T12:06:31.515Z"
   },
   {
    "duration": 309170,
    "start_time": "2022-11-13T12:06:31.520Z"
   },
   {
    "duration": 6,
    "start_time": "2022-11-13T12:11:40.692Z"
   },
   {
    "duration": 9,
    "start_time": "2022-11-13T12:11:40.700Z"
   },
   {
    "duration": 472,
    "start_time": "2022-11-13T12:11:40.710Z"
   },
   {
    "duration": 155,
    "start_time": "2022-11-13T13:19:15.883Z"
   },
   {
    "duration": 4,
    "start_time": "2022-11-13T13:19:24.212Z"
   },
   {
    "duration": 23,
    "start_time": "2022-11-13T13:19:35.044Z"
   },
   {
    "duration": 17,
    "start_time": "2022-11-13T13:19:48.303Z"
   },
   {
    "duration": 14,
    "start_time": "2022-11-13T13:19:58.976Z"
   },
   {
    "duration": 20,
    "start_time": "2022-11-13T13:30:56.591Z"
   },
   {
    "duration": 20,
    "start_time": "2022-11-13T13:31:01.445Z"
   },
   {
    "duration": 7,
    "start_time": "2022-11-13T13:50:16.793Z"
   },
   {
    "duration": 7,
    "start_time": "2022-11-13T13:50:18.668Z"
   },
   {
    "duration": 5,
    "start_time": "2022-11-13T13:50:27.585Z"
   },
   {
    "duration": 9,
    "start_time": "2022-11-13T13:50:42.027Z"
   },
   {
    "duration": 7,
    "start_time": "2022-11-13T13:50:58.495Z"
   },
   {
    "duration": 8,
    "start_time": "2022-11-13T13:51:11.126Z"
   },
   {
    "duration": 7,
    "start_time": "2022-11-13T13:51:17.103Z"
   },
   {
    "duration": 7,
    "start_time": "2022-11-13T13:51:22.040Z"
   },
   {
    "duration": 7,
    "start_time": "2022-11-13T13:51:34.324Z"
   },
   {
    "duration": 13,
    "start_time": "2022-11-13T13:51:47.275Z"
   },
   {
    "duration": 8,
    "start_time": "2022-11-13T13:52:01.731Z"
   },
   {
    "duration": 6,
    "start_time": "2022-11-13T13:56:49.603Z"
   },
   {
    "duration": 11,
    "start_time": "2022-11-13T13:56:50.246Z"
   },
   {
    "duration": 17,
    "start_time": "2022-11-13T13:57:09.253Z"
   },
   {
    "duration": 9,
    "start_time": "2022-11-13T13:57:31.465Z"
   },
   {
    "duration": 8,
    "start_time": "2022-11-13T14:06:12.995Z"
   },
   {
    "duration": 7,
    "start_time": "2022-11-13T14:06:17.676Z"
   },
   {
    "duration": 4,
    "start_time": "2022-11-13T14:06:22.613Z"
   },
   {
    "duration": 17,
    "start_time": "2022-11-13T14:06:23.148Z"
   },
   {
    "duration": 19,
    "start_time": "2022-11-13T14:09:49.457Z"
   },
   {
    "duration": 23,
    "start_time": "2022-11-13T14:09:56.250Z"
   },
   {
    "duration": 4,
    "start_time": "2022-11-13T14:21:33.447Z"
   },
   {
    "duration": 10,
    "start_time": "2022-11-13T14:21:33.453Z"
   },
   {
    "duration": 1926,
    "start_time": "2022-11-13T14:21:33.464Z"
   },
   {
    "duration": 29,
    "start_time": "2022-11-13T14:21:35.392Z"
   },
   {
    "duration": 18,
    "start_time": "2022-11-13T14:21:35.423Z"
   },
   {
    "duration": 78,
    "start_time": "2022-11-13T14:21:35.443Z"
   },
   {
    "duration": 68,
    "start_time": "2022-11-13T14:21:35.523Z"
   },
   {
    "duration": 11,
    "start_time": "2022-11-13T14:21:35.592Z"
   },
   {
    "duration": 38,
    "start_time": "2022-11-13T14:21:35.604Z"
   },
   {
    "duration": 31,
    "start_time": "2022-11-13T14:21:35.644Z"
   },
   {
    "duration": 5,
    "start_time": "2022-11-13T14:21:35.676Z"
   },
   {
    "duration": 22,
    "start_time": "2022-11-13T14:21:35.683Z"
   },
   {
    "duration": 13,
    "start_time": "2022-11-13T14:21:35.706Z"
   },
   {
    "duration": 12,
    "start_time": "2022-11-13T14:21:35.723Z"
   },
   {
    "duration": 15,
    "start_time": "2022-11-13T14:21:35.738Z"
   },
   {
    "duration": 647,
    "start_time": "2022-11-13T14:21:35.755Z"
   },
   {
    "duration": 356,
    "start_time": "2022-11-13T14:21:36.404Z"
   },
   {
    "duration": 1009,
    "start_time": "2022-11-13T14:21:36.762Z"
   },
   {
    "duration": 516,
    "start_time": "2022-11-13T14:21:37.773Z"
   },
   {
    "duration": 280,
    "start_time": "2022-11-13T14:21:38.290Z"
   },
   {
    "duration": 6,
    "start_time": "2022-11-13T14:21:38.572Z"
   },
   {
    "duration": 14,
    "start_time": "2022-11-13T14:21:38.580Z"
   },
   {
    "duration": 11,
    "start_time": "2022-11-13T14:21:38.596Z"
   },
   {
    "duration": 27,
    "start_time": "2022-11-13T14:21:38.608Z"
   },
   {
    "duration": 15,
    "start_time": "2022-11-13T14:21:38.637Z"
   },
   {
    "duration": 7,
    "start_time": "2022-11-13T14:21:38.654Z"
   },
   {
    "duration": 7,
    "start_time": "2022-11-13T14:21:38.663Z"
   },
   {
    "duration": 14,
    "start_time": "2022-11-13T14:21:38.672Z"
   },
   {
    "duration": 26805,
    "start_time": "2022-11-13T14:21:38.688Z"
   },
   {
    "duration": 8,
    "start_time": "2022-11-13T14:22:05.495Z"
   },
   {
    "duration": 3593,
    "start_time": "2022-11-13T14:22:05.504Z"
   },
   {
    "duration": 3,
    "start_time": "2022-11-13T14:22:09.098Z"
   },
   {
    "duration": 503,
    "start_time": "2022-11-13T14:22:09.103Z"
   },
   {
    "duration": 3,
    "start_time": "2022-11-13T14:22:09.607Z"
   },
   {
    "duration": 347423,
    "start_time": "2022-11-13T14:22:09.612Z"
   },
   {
    "duration": 8,
    "start_time": "2022-11-13T14:27:57.037Z"
   },
   {
    "duration": 18,
    "start_time": "2022-11-13T14:27:57.047Z"
   },
   {
    "duration": 567,
    "start_time": "2022-11-13T14:27:57.067Z"
   }
  ],
  "kernelspec": {
   "display_name": "Python 3 (ipykernel)",
   "language": "python",
   "name": "python3"
  },
  "language_info": {
   "codemirror_mode": {
    "name": "ipython",
    "version": 3
   },
   "file_extension": ".py",
   "mimetype": "text/x-python",
   "name": "python",
   "nbconvert_exporter": "python",
   "pygments_lexer": "ipython3",
   "version": "3.9.5"
  },
  "toc": {
   "base_numbering": 1,
   "nav_menu": {},
   "number_sections": false,
   "sideBar": true,
   "skip_h1_title": false,
   "title_cell": "Table of Contents",
   "title_sidebar": "Contents",
   "toc_cell": false,
   "toc_position": {
    "height": "calc(100% - 180px)",
    "left": "10px",
    "top": "150px",
    "width": "384.905px"
   },
   "toc_section_display": true,
   "toc_window_display": true
  },
  "varInspector": {
   "cols": {
    "lenName": 16,
    "lenType": 16,
    "lenVar": 40
   },
   "kernels_config": {
    "python": {
     "delete_cmd_postfix": "",
     "delete_cmd_prefix": "del ",
     "library": "var_list.py",
     "varRefreshCmd": "print(var_dic_list())"
    },
    "r": {
     "delete_cmd_postfix": ") ",
     "delete_cmd_prefix": "rm(",
     "library": "var_list.r",
     "varRefreshCmd": "cat(var_dic_list()) "
    }
   },
   "types_to_exclude": [
    "module",
    "function",
    "builtin_function_or_method",
    "instance",
    "_Feature"
   ],
   "window_display": false
  }
 },
 "nbformat": 4,
 "nbformat_minor": 5
}

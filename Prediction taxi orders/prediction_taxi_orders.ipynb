{
 "cells": [
  {
   "cell_type": "markdown",
   "metadata": {
    "toc": true
   },
   "source": [
    "<h1>Содержание<span class=\"tocSkip\"></span></h1>\n",
    "<div class=\"toc\"><ul class=\"toc-item\"><li><span><a href=\"#Подготовка\" data-toc-modified-id=\"Подготовка-1\"><span class=\"toc-item-num\">1&nbsp;&nbsp;</span>Подготовка</a></span></li><li><span><a href=\"#Анализ\" data-toc-modified-id=\"Анализ-2\"><span class=\"toc-item-num\">2&nbsp;&nbsp;</span>Анализ</a></span><ul class=\"toc-item\"><li><span><a href=\"#Скользящее-среднее-и-среднеквадратичное-отклонение\" data-toc-modified-id=\"Скользящее-среднее-и-среднеквадратичное-отклонение-2.1\"><span class=\"toc-item-num\">2.1&nbsp;&nbsp;</span>Скользящее среднее и среднеквадратичное отклонение</a></span></li><li><span><a href=\"#Сезонность\" data-toc-modified-id=\"Сезонность-2.2\"><span class=\"toc-item-num\">2.2&nbsp;&nbsp;</span>Сезонность</a></span></li><li><span><a href=\"#Тренд\" data-toc-modified-id=\"Тренд-2.3\"><span class=\"toc-item-num\">2.3&nbsp;&nbsp;</span>Тренд</a></span></li><li><span><a href=\"#Вывод\" data-toc-modified-id=\"Вывод-2.4\"><span class=\"toc-item-num\">2.4&nbsp;&nbsp;</span>Вывод</a></span></li></ul></li><li><span><a href=\"#Создание-моделей-и-обучение\" data-toc-modified-id=\"Создание-моделей-и-обучение-3\"><span class=\"toc-item-num\">3&nbsp;&nbsp;</span>Создание моделей и обучение</a></span><ul class=\"toc-item\"><li><span><a href=\"#Подготовка-и-разделение-на-выборки\" data-toc-modified-id=\"Подготовка-и-разделение-на-выборки-3.1\"><span class=\"toc-item-num\">3.1&nbsp;&nbsp;</span>Подготовка и разделение на выборки</a></span></li><li><span><a href=\"#Базовая-модель\" data-toc-modified-id=\"Базовая-модель-3.2\"><span class=\"toc-item-num\">3.2&nbsp;&nbsp;</span>Базовая модель</a></span></li><li><span><a href=\"#Linear-Regression\" data-toc-modified-id=\"Linear-Regression-3.3\"><span class=\"toc-item-num\">3.3&nbsp;&nbsp;</span>Linear Regression</a></span></li><li><span><a href=\"#RandomForest\" data-toc-modified-id=\"RandomForest-3.4\"><span class=\"toc-item-num\">3.4&nbsp;&nbsp;</span>RandomForest</a></span></li><li><span><a href=\"#LightGBM\" data-toc-modified-id=\"LightGBM-3.5\"><span class=\"toc-item-num\">3.5&nbsp;&nbsp;</span>LightGBM</a></span></li><li><span><a href=\"#Вывод\" data-toc-modified-id=\"Вывод-3.6\"><span class=\"toc-item-num\">3.6&nbsp;&nbsp;</span>Вывод</a></span></li></ul></li><li><span><a href=\"#Тестирование\" data-toc-modified-id=\"Тестирование-4\"><span class=\"toc-item-num\">4&nbsp;&nbsp;</span>Тестирование</a></span></li><li><span><a href=\"#Вывод\" data-toc-modified-id=\"Вывод-5\"><span class=\"toc-item-num\">5&nbsp;&nbsp;</span>Вывод</a></span></li></ul></div>"
   ]
  },
  {
   "cell_type": "markdown",
   "metadata": {},
   "source": [
    "#  Прогнозирование заказов такси"
   ]
  },
  {
   "cell_type": "markdown",
   "metadata": {},
   "source": [
    "Компания «Чётенькое такси» собрала исторические данные о заказах такси в аэропортах. Чтобы привлекать больше водителей в период пиковой нагрузки, нужно спрогнозировать количество заказов такси на следующий час. Постройте модель для такого предсказания.\n",
    "\n",
    "Значение метрики *RMSE* на тестовой выборке должно быть не больше 48.\n",
    "\n",
    "Вам нужно:\n",
    "\n",
    "1. Загрузить данные и выполнить их ресемплирование по одному часу.\n",
    "2. Проанализировать данные.\n",
    "3. Обучить разные модели с различными гиперпараметрами. Сделать тестовую выборку размером 10% от исходных данных.\n",
    "4. Проверить данные на тестовой выборке и сделать выводы.\n",
    "\n",
    "\n",
    "Данные лежат в файле `taxi.csv`. Количество заказов находится в столбце `num_orders` (от англ. *number of orders*, «число заказов»)."
   ]
  },
  {
   "cell_type": "markdown",
   "metadata": {},
   "source": [
    "## Подготовка"
   ]
  },
  {
   "cell_type": "markdown",
   "metadata": {},
   "source": [
    "Установим и нмпортируем необходимые библиотеки"
   ]
  },
  {
   "cell_type": "code",
   "execution_count": 1,
   "metadata": {},
   "outputs": [
    {
     "name": "stdout",
     "output_type": "stream",
     "text": [
      "Requirement already satisfied: statsmodels in /opt/conda/lib/python3.9/site-packages (0.13.2)\r\n",
      "Requirement already satisfied: patsy>=0.5.2 in /opt/conda/lib/python3.9/site-packages (from statsmodels) (0.5.2)\r\n",
      "Requirement already satisfied: scipy>=1.3 in /opt/conda/lib/python3.9/site-packages (from statsmodels) (1.9.1)\r\n",
      "Requirement already satisfied: packaging>=21.3 in /opt/conda/lib/python3.9/site-packages (from statsmodels) (21.3)\r\n",
      "Requirement already satisfied: pandas>=0.25 in /opt/conda/lib/python3.9/site-packages (from statsmodels) (1.2.4)\r\n",
      "Requirement already satisfied: numpy>=1.17 in /opt/conda/lib/python3.9/site-packages (from statsmodels) (1.21.1)\r\n",
      "Requirement already satisfied: pyparsing!=3.0.5,>=2.0.2 in /opt/conda/lib/python3.9/site-packages (from packaging>=21.3->statsmodels) (2.4.7)\r\n",
      "Requirement already satisfied: python-dateutil>=2.7.3 in /opt/conda/lib/python3.9/site-packages (from pandas>=0.25->statsmodels) (2.8.1)\r\n",
      "Requirement already satisfied: pytz>=2017.3 in /opt/conda/lib/python3.9/site-packages (from pandas>=0.25->statsmodels) (2021.1)\r\n",
      "Requirement already satisfied: six in /opt/conda/lib/python3.9/site-packages (from patsy>=0.5.2->statsmodels) (1.16.0)\r\n"
     ]
    }
   ],
   "source": [
    "!pip install statsmodels"
   ]
  },
  {
   "cell_type": "code",
   "execution_count": 2,
   "metadata": {},
   "outputs": [],
   "source": [
    "import pandas as pd\n",
    "import numpy as np\n",
    "import matplotlib.pyplot as plt\n",
    "\n",
    "from statsmodels.tsa.seasonal import seasonal_decompose\n",
    "from sklearn.model_selection import train_test_split, GridSearchCV, TimeSeriesSplit\n",
    "from sklearn.metrics import mean_squared_error\n",
    "\n",
    "from sklearn.linear_model import LinearRegression\n",
    "from sklearn.ensemble import RandomForestRegressor\n",
    "from lightgbm import LGBMRegressor\n",
    "\n",
    "SEED=777"
   ]
  },
  {
   "cell_type": "markdown",
   "metadata": {},
   "source": [
    "Прочитаем датасет и сохраним в переменную:"
   ]
  },
  {
   "cell_type": "code",
   "execution_count": 3,
   "metadata": {},
   "outputs": [],
   "source": [
    "data = pd.read_csv('/datasets/taxi.csv', index_col=[0], parse_dates=[0])"
   ]
  },
  {
   "cell_type": "markdown",
   "metadata": {},
   "source": [
    "Выведем первые строки и общую информацию о данных в датасете:"
   ]
  },
  {
   "cell_type": "code",
   "execution_count": 4,
   "metadata": {},
   "outputs": [
    {
     "data": {
      "text/html": [
       "<div>\n",
       "<style scoped>\n",
       "    .dataframe tbody tr th:only-of-type {\n",
       "        vertical-align: middle;\n",
       "    }\n",
       "\n",
       "    .dataframe tbody tr th {\n",
       "        vertical-align: top;\n",
       "    }\n",
       "\n",
       "    .dataframe thead th {\n",
       "        text-align: right;\n",
       "    }\n",
       "</style>\n",
       "<table border=\"1\" class=\"dataframe\">\n",
       "  <thead>\n",
       "    <tr style=\"text-align: right;\">\n",
       "      <th></th>\n",
       "      <th>num_orders</th>\n",
       "    </tr>\n",
       "    <tr>\n",
       "      <th>datetime</th>\n",
       "      <th></th>\n",
       "    </tr>\n",
       "  </thead>\n",
       "  <tbody>\n",
       "    <tr>\n",
       "      <th>2018-03-01 00:00:00</th>\n",
       "      <td>9</td>\n",
       "    </tr>\n",
       "    <tr>\n",
       "      <th>2018-03-01 00:10:00</th>\n",
       "      <td>14</td>\n",
       "    </tr>\n",
       "    <tr>\n",
       "      <th>2018-03-01 00:20:00</th>\n",
       "      <td>28</td>\n",
       "    </tr>\n",
       "    <tr>\n",
       "      <th>2018-03-01 00:30:00</th>\n",
       "      <td>20</td>\n",
       "    </tr>\n",
       "    <tr>\n",
       "      <th>2018-03-01 00:40:00</th>\n",
       "      <td>32</td>\n",
       "    </tr>\n",
       "  </tbody>\n",
       "</table>\n",
       "</div>"
      ],
      "text/plain": [
       "                     num_orders\n",
       "datetime                       \n",
       "2018-03-01 00:00:00           9\n",
       "2018-03-01 00:10:00          14\n",
       "2018-03-01 00:20:00          28\n",
       "2018-03-01 00:30:00          20\n",
       "2018-03-01 00:40:00          32"
      ]
     },
     "metadata": {},
     "output_type": "display_data"
    },
    {
     "name": "stdout",
     "output_type": "stream",
     "text": [
      "<class 'pandas.core.frame.DataFrame'>\n",
      "DatetimeIndex: 26496 entries, 2018-03-01 00:00:00 to 2018-08-31 23:50:00\n",
      "Data columns (total 1 columns):\n",
      " #   Column      Non-Null Count  Dtype\n",
      "---  ------      --------------  -----\n",
      " 0   num_orders  26496 non-null  int64\n",
      "dtypes: int64(1)\n",
      "memory usage: 414.0 KB\n"
     ]
    }
   ],
   "source": [
    "display(data.head())\n",
    "data.info()"
   ]
  },
  {
   "cell_type": "markdown",
   "metadata": {},
   "source": [
    "Как видно из полученных данных:\n",
    "- Столбец datetime является индексом таблицы и имеет тип данных Datetime64.\n",
    "- В столбце num_orders содержится информация о количестве заказов.\n",
    "- таймфрейм между записями - 10 минут."
   ]
  },
  {
   "cell_type": "markdown",
   "metadata": {},
   "source": [
    "Проверим расположены ли данные в хронологическом порядке, поскольку это является важным условием при анализе временных рядов:"
   ]
  },
  {
   "cell_type": "code",
   "execution_count": 5,
   "metadata": {},
   "outputs": [
    {
     "name": "stdout",
     "output_type": "stream",
     "text": [
      "Данные расположены в хронологическом порядке\n"
     ]
    }
   ],
   "source": [
    "if data.index.is_monotonic:\n",
    "    print('Данные расположены в хронологическом порядке')\n",
    "else:\n",
    "    print('Хронология данных нарушена')"
   ]
  },
  {
   "cell_type": "markdown",
   "metadata": {},
   "source": [
    "Поскольку нам необходимо сделать предсказания на таймфрейм в 1 час, ресемплируем данные по 1 часу, просуммировав промежуточные данные:"
   ]
  },
  {
   "cell_type": "code",
   "execution_count": 6,
   "metadata": {},
   "outputs": [
    {
     "data": {
      "text/html": [
       "<div>\n",
       "<style scoped>\n",
       "    .dataframe tbody tr th:only-of-type {\n",
       "        vertical-align: middle;\n",
       "    }\n",
       "\n",
       "    .dataframe tbody tr th {\n",
       "        vertical-align: top;\n",
       "    }\n",
       "\n",
       "    .dataframe thead th {\n",
       "        text-align: right;\n",
       "    }\n",
       "</style>\n",
       "<table border=\"1\" class=\"dataframe\">\n",
       "  <thead>\n",
       "    <tr style=\"text-align: right;\">\n",
       "      <th></th>\n",
       "      <th>num_orders</th>\n",
       "    </tr>\n",
       "    <tr>\n",
       "      <th>datetime</th>\n",
       "      <th></th>\n",
       "    </tr>\n",
       "  </thead>\n",
       "  <tbody>\n",
       "    <tr>\n",
       "      <th>2018-03-01 00:00:00</th>\n",
       "      <td>124</td>\n",
       "    </tr>\n",
       "    <tr>\n",
       "      <th>2018-03-01 01:00:00</th>\n",
       "      <td>85</td>\n",
       "    </tr>\n",
       "    <tr>\n",
       "      <th>2018-03-01 02:00:00</th>\n",
       "      <td>71</td>\n",
       "    </tr>\n",
       "    <tr>\n",
       "      <th>2018-03-01 03:00:00</th>\n",
       "      <td>66</td>\n",
       "    </tr>\n",
       "    <tr>\n",
       "      <th>2018-03-01 04:00:00</th>\n",
       "      <td>43</td>\n",
       "    </tr>\n",
       "  </tbody>\n",
       "</table>\n",
       "</div>"
      ],
      "text/plain": [
       "                     num_orders\n",
       "datetime                       \n",
       "2018-03-01 00:00:00         124\n",
       "2018-03-01 01:00:00          85\n",
       "2018-03-01 02:00:00          71\n",
       "2018-03-01 03:00:00          66\n",
       "2018-03-01 04:00:00          43"
      ]
     },
     "execution_count": 6,
     "metadata": {},
     "output_type": "execute_result"
    }
   ],
   "source": [
    "data = data.resample('1H').sum()\n",
    "data.head()"
   ]
  },
  {
   "cell_type": "markdown",
   "metadata": {},
   "source": [
    "Ресемплирование сделали, посмотрим на границы рассматриваемой выборки:"
   ]
  },
  {
   "cell_type": "code",
   "execution_count": 7,
   "metadata": {},
   "outputs": [
    {
     "name": "stdout",
     "output_type": "stream",
     "text": [
      "Временные границы выборки:\n",
      "2018-03-01 00:00:00 - 2018-08-31 23:00:00\n"
     ]
    }
   ],
   "source": [
    "print(f'Временные границы выборки:\\n{data.index.min()} - {data.index.max()}')"
   ]
  },
  {
   "cell_type": "markdown",
   "metadata": {},
   "source": [
    "В датасете данные за полгода 2018 года - с начала весны по конец лета."
   ]
  },
  {
   "cell_type": "markdown",
   "metadata": {},
   "source": [
    "## Анализ"
   ]
  },
  {
   "cell_type": "markdown",
   "metadata": {},
   "source": [
    "### Скользящее среднее и среднеквадратичное отклонение"
   ]
  },
  {
   "cell_type": "markdown",
   "metadata": {},
   "source": [
    "Найдем скользящее среднее и скользящее среднеквадратичное отклонение, задав ширину окна равной 72, и построим графики:"
   ]
  },
  {
   "cell_type": "code",
   "execution_count": 8,
   "metadata": {},
   "outputs": [],
   "source": [
    "rolling_df = data[['num_orders']].copy()\n",
    "rolling_df['rolling_mean'] = rolling_df['num_orders'].rolling(72).mean()\n",
    "rolling_df['rolling_std'] = rolling_df['num_orders'].rolling(72).std()"
   ]
  },
  {
   "cell_type": "code",
   "execution_count": 9,
   "metadata": {},
   "outputs": [
    {
     "data": {
      "image/png": "[encoded data removed]",
      "text/plain": [
       "<Figure size 1008x504 with 1 Axes>"
      ]
     },
     "metadata": {
      "needs_background": "light"
     },
     "output_type": "display_data"
    }
   ],
   "source": [
    "fig = plt.figure(figsize=(14, 7))\n",
    "\n",
    "ax = fig.add_subplot(1, 1, 1)\n",
    "ax.grid()\n",
    "ax.plot(rolling_df['num_orders'], alpha=0.66)\n",
    "ax.plot(rolling_df[['rolling_mean', 'rolling_std']])\n",
    "plt.legend(['num_orders', 'rolling mean', 'rolling std'])\n",
    "plt.title('Скользящие среднее и среднеквадратичное отклонение', fontsize=16)\n",
    "plt.xlabel('Дата', fontsize=14)\n",
    "plt.ylabel('Значения показателя', fontsize=14)\n",
    "plt.show()"
   ]
  },
  {
   "cell_type": "markdown",
   "metadata": {},
   "source": [
    "Исходя из полученнйо визуализации, видно, что скользящие среднее и среднеквадратичное отклонение имеют восходящий тренд. То есть временной ряд нестационарный.\n",
    "\n",
    "Разложим временной ряд на компоненты и поищем в них возможные закономерности."
   ]
  },
  {
   "cell_type": "markdown",
   "metadata": {},
   "source": [
    "### Сезонность"
   ]
  },
  {
   "cell_type": "markdown",
   "metadata": {},
   "source": [
    "С помощью метода seasonal_decompose разложим временной ряд на следующие составляющие: сезонность, тренд и шум. Из данных составляющих нас интересуют только сезонность и тренд.\n",
    "\n",
    "Проанализируем сезонность для периодов неделя и день:"
   ]
  },
  {
   "cell_type": "code",
   "execution_count": 10,
   "metadata": {},
   "outputs": [
    {
     "data": {
      "image/png": "[encoded data removed]",
      "text/plain": [
       "<Figure size 1008x720 with 2 Axes>"
      ]
     },
     "metadata": {
      "needs_background": "light"
     },
     "output_type": "display_data"
    }
   ],
   "source": [
    "decompose = seasonal_decompose(data[['num_orders']])\n",
    "\n",
    "fig = plt.figure(figsize=(14, 10))\n",
    "plt.subplots_adjust(hspace=0.35)\n",
    "ax1 = fig.add_subplot(2, 1, 1)\n",
    "ax1.plot(decompose.seasonal['2018-07-20':'2018-07-27'], color='green')\n",
    "ax1.grid()\n",
    "ax1.set_title('Сезонность в разрезе недели', fontsize=16)\n",
    "plt.xlabel('Дата', fontsize=14)\n",
    "plt.ylabel('Значения показателя', fontsize=14)\n",
    "\n",
    "ax2 = fig.add_subplot(2, 1, 2)\n",
    "ax2.plot(decompose.seasonal['2018-08-31'], color='purple')\n",
    "ax2.grid()\n",
    "ax2.set_title('Сезонность в разрезе дня', fontsize=16)\n",
    "plt.xlabel('Дата', fontsize=14)\n",
    "plt.ylabel('Значения показателя', fontsize=14)\n",
    "plt.show()"
   ]
  },
  {
   "cell_type": "markdown",
   "metadata": {},
   "source": [
    "На графиках сезонности для случайной недели и дня можно увидеть следующую закономерность: унижение числа заказов ранним утром (6 часов утра) и пик заказов около полуночи. Вероятно, это связано с тем, что в эти часы не работает общественный транспорт."
   ]
  },
  {
   "cell_type": "markdown",
   "metadata": {},
   "source": [
    "### Тренд"
   ]
  },
  {
   "cell_type": "markdown",
   "metadata": {},
   "source": [
    "Проанализируем тренд:"
   ]
  },
  {
   "cell_type": "code",
   "execution_count": 11,
   "metadata": {},
   "outputs": [
    {
     "data": {
      "image/png": "[encoded data removed]",
      "text/plain": [
       "<Figure size 1008x720 with 2 Axes>"
      ]
     },
     "metadata": {
      "needs_background": "light"
     },
     "output_type": "display_data"
    }
   ],
   "source": [
    "fig = plt.figure(figsize=(14, 10))\n",
    "plt.subplots_adjust(hspace=0.3)\n",
    "\n",
    "ax1 = fig.add_subplot(2, 1, 1)\n",
    "ax1.plot(decompose.trend, color='green')\n",
    "ax1.grid()\n",
    "ax1.set_title('Тренд  разрезе полугода', fontsize=16)\n",
    "plt.xlabel('Дата', fontsize=14)\n",
    "plt.ylabel('Значения показателя', fontsize=14)\n",
    "\n",
    "ax2 = fig.add_subplot(2, 1, 2)\n",
    "ax2.plot(decompose.trend['2018-08'], color='purple')\n",
    "ax2.grid()\n",
    "ax2.set_title('Тренд в разрезе месяца', fontsize=16)\n",
    "plt.xlabel('Дата', fontsize=14)\n",
    "plt.ylabel('Значения показателя', fontsize=14)\n",
    "plt.show()"
   ]
  },
  {
   "cell_type": "markdown",
   "metadata": {},
   "source": [
    "Как видно из полученных визуализаций, наблюдается тренд на увеличение числа заказов к концу лета."
   ]
  },
  {
   "cell_type": "markdown",
   "metadata": {},
   "source": [
    "### Вывод"
   ]
  },
  {
   "cell_type": "markdown",
   "metadata": {},
   "source": [
    "Датасет представляют собой информацию о количестве заказов за таймфрейм, равный 10 минутам. Рассматриваемый период - с марта по август 2018 года. В рамках этапа предподготовки данные были ресемплированы по 1 часу с суммироваем значений в рамках одного окна.\n",
    "\n",
    "В ходе анализа данных были замечены следующие закономерности:\n",
    "\n",
    "- наблюдается тренд на увеличение скользящего среднего и среднеквадратического отклонения, и, соответственно, имеется тренд на увеличение заказов;\n",
    "- количество заказов менятся в течении дня: наибольшее количество - около 12 часов ночи, наименьшее - около 6 утра.\n",
    "\n",
    "Для предсказания количества заказов важными будут являться: месяц, день недели и час дня. Необходимо выделить эти параметры как отдельные признаки в обучающей и тестовой выборках."
   ]
  },
  {
   "cell_type": "markdown",
   "metadata": {},
   "source": [
    "## Создание моделей и обучение"
   ]
  },
  {
   "cell_type": "markdown",
   "metadata": {},
   "source": [
    "### Подготовка и разделение на выборки"
   ]
  },
  {
   "cell_type": "markdown",
   "metadata": {},
   "source": [
    "Подготовим наборы данных, для этого создадим функции:"
   ]
  },
  {
   "cell_type": "code",
   "execution_count": 12,
   "metadata": {},
   "outputs": [],
   "source": [
    "def features_target_split(df, y_name='num_orders'):\n",
    "    x = df.drop([y_name], axis=1)\n",
    "    y = df[y_name]\n",
    "    return x, y\n",
    "\n",
    "def make_sets(df, rolling_size, max_lag):\n",
    "    df = df.copy()\n",
    "    df['dayofweek'] = df.index.dayofweek\n",
    "    df['hour'] = df.index.hour\n",
    "\n",
    "    for lag in range(max_lag):\n",
    "        df[f'lag_{lag+1}'] = df['num_orders'].shift(lag+1)\n",
    "\n",
    "    df['rolling_mean'] = df['num_orders'].shift().rolling(rolling_size).mean()\n",
    "    \n",
    "    df = df.dropna(axis=0)\n",
    "    x, y = features_target_split(df)\n",
    "    return x, y\n",
    "\n",
    "def rmse(model, x, y):\n",
    "    predictions = model.predict(x)\n",
    "    return round(mean_squared_error(y, predictions)**0.5, 3) "
   ]
  },
  {
   "cell_type": "markdown",
   "metadata": {},
   "source": [
    "Разделим датасет на обучающую, валидационную и тестовую выборки:"
   ]
  },
  {
   "cell_type": "code",
   "execution_count": 13,
   "metadata": {},
   "outputs": [
    {
     "name": "stdout",
     "output_type": "stream",
     "text": [
      "Размеры получившихся выборок:\n",
      " Тренировочная выборка: (3532, 1) \n",
      " Валидационная выборка: (442, 1) \n",
      " Тестовая выборка: (442, 1) \n",
      "\n"
     ]
    }
   ],
   "source": [
    "train_valid, test = train_test_split(data.copy(), shuffle=False, train_size=0.9)\n",
    "train, valid = train_test_split(train_valid.copy(), shuffle=False, test_size=test.shape[0])\n",
    "\n",
    "print('Размеры получившихся выборок:\\n '\n",
    "      'Тренировочная выборка:',train.shape, '\\n',\n",
    "      'Валидационная выборка:', valid.shape, '\\n',\n",
    "      'Тестовая выборка:', test.shape, '\\n')"
   ]
  },
  {
   "cell_type": "markdown",
   "metadata": {},
   "source": [
    "Проверим, что при разделении данных сохранилась последовательность записей:"
   ]
  },
  {
   "cell_type": "code",
   "execution_count": 14,
   "metadata": {},
   "outputs": [
    {
     "name": "stdout",
     "output_type": "stream",
     "text": [
      "Временной период выборок:\n",
      "train: 2018-03-01 00:00:00 - 2018-07-26 03:00:00\n",
      "valid: 2018-07-26 04:00:00 - 2018-08-13 13:00:00\n",
      "test: 2018-08-13 14:00:00 - 2018-08-31 23:00:00\n"
     ]
    }
   ],
   "source": [
    "print('Временной период выборок:\\ntrain: {} - {}\\nvalid: {} - {}\\ntest: {} - {}'\n",
    "      .format(train.index.min(), train.index.max(),\n",
    "              valid.index.min(), valid.index.max(),\n",
    "              test.index.min(), test.index.max()\n",
    "             ))"
   ]
  },
  {
   "cell_type": "markdown",
   "metadata": {},
   "source": [
    "Разделение прошло корректно."
   ]
  },
  {
   "cell_type": "markdown",
   "metadata": {},
   "source": [
    "### Базовая модель"
   ]
  },
  {
   "cell_type": "markdown",
   "metadata": {},
   "source": [
    "Для оценки адекватности модели создадим базовую модель, которая будет предсказывать количество заказов по последнему значению. В качестве метрики качества будет использовать метрику RMSE:"
   ]
  },
  {
   "cell_type": "code",
   "execution_count": 15,
   "metadata": {},
   "outputs": [
    {
     "data": {
      "text/html": [
       "<div>\n",
       "<style scoped>\n",
       "    .dataframe tbody tr th:only-of-type {\n",
       "        vertical-align: middle;\n",
       "    }\n",
       "\n",
       "    .dataframe tbody tr th {\n",
       "        vertical-align: top;\n",
       "    }\n",
       "\n",
       "    .dataframe thead th {\n",
       "        text-align: right;\n",
       "    }\n",
       "</style>\n",
       "<table border=\"1\" class=\"dataframe\">\n",
       "  <thead>\n",
       "    <tr style=\"text-align: right;\">\n",
       "      <th></th>\n",
       "      <th>rmse</th>\n",
       "    </tr>\n",
       "  </thead>\n",
       "  <tbody>\n",
       "    <tr>\n",
       "      <th>Base model</th>\n",
       "      <td>47.246</td>\n",
       "    </tr>\n",
       "  </tbody>\n",
       "</table>\n",
       "</div>"
      ],
      "text/plain": [
       "              rmse\n",
       "Base model  47.246"
      ]
     },
     "execution_count": 15,
     "metadata": {},
     "output_type": "execute_result"
    }
   ],
   "source": [
    "predictions = valid.shift(fill_value=train.iloc[-1, 0])\n",
    "results = pd.DataFrame([round(mean_squared_error(valid, predictions)**0.5, 3)],\n",
    "                       columns=['rmse'],\n",
    "                       index=['Base model'])\n",
    "results"
   ]
  },
  {
   "cell_type": "markdown",
   "metadata": {},
   "source": [
    "### Linear Regression"
   ]
  },
  {
   "cell_type": "markdown",
   "metadata": {},
   "source": [
    "Рассмотрим модель линейной регрессии. Для этой моделе подберем гиперпараметры для выделения новых признаков из временного ряда, такие как ширина окна для скользящего среднего и число прошлых значений целевого признака:"
   ]
  },
  {
   "cell_type": "code",
   "execution_count": 16,
   "metadata": {},
   "outputs": [
    {
     "data": {
      "text/html": [
       "<div>\n",
       "<style scoped>\n",
       "    .dataframe tbody tr th:only-of-type {\n",
       "        vertical-align: middle;\n",
       "    }\n",
       "\n",
       "    .dataframe tbody tr th {\n",
       "        vertical-align: top;\n",
       "    }\n",
       "\n",
       "    .dataframe thead th {\n",
       "        text-align: right;\n",
       "    }\n",
       "</style>\n",
       "<table border=\"1\" class=\"dataframe\">\n",
       "  <thead>\n",
       "    <tr style=\"text-align: right;\">\n",
       "      <th></th>\n",
       "      <th>rolling_size</th>\n",
       "      <th>max_lag</th>\n",
       "      <th>rmse</th>\n",
       "    </tr>\n",
       "  </thead>\n",
       "  <tbody>\n",
       "    <tr>\n",
       "      <th>0</th>\n",
       "      <td>24.0</td>\n",
       "      <td>12.0</td>\n",
       "      <td>40.478</td>\n",
       "    </tr>\n",
       "    <tr>\n",
       "      <th>1</th>\n",
       "      <td>24.0</td>\n",
       "      <td>24.0</td>\n",
       "      <td>34.469</td>\n",
       "    </tr>\n",
       "    <tr>\n",
       "      <th>2</th>\n",
       "      <td>24.0</td>\n",
       "      <td>48.0</td>\n",
       "      <td>31.586</td>\n",
       "    </tr>\n",
       "    <tr>\n",
       "      <th>3</th>\n",
       "      <td>48.0</td>\n",
       "      <td>12.0</td>\n",
       "      <td>40.240</td>\n",
       "    </tr>\n",
       "    <tr>\n",
       "      <th>4</th>\n",
       "      <td>48.0</td>\n",
       "      <td>24.0</td>\n",
       "      <td>34.375</td>\n",
       "    </tr>\n",
       "    <tr>\n",
       "      <th>5</th>\n",
       "      <td>48.0</td>\n",
       "      <td>48.0</td>\n",
       "      <td>31.589</td>\n",
       "    </tr>\n",
       "    <tr>\n",
       "      <th>6</th>\n",
       "      <td>72.0</td>\n",
       "      <td>12.0</td>\n",
       "      <td>40.144</td>\n",
       "    </tr>\n",
       "    <tr>\n",
       "      <th>7</th>\n",
       "      <td>72.0</td>\n",
       "      <td>24.0</td>\n",
       "      <td>34.059</td>\n",
       "    </tr>\n",
       "    <tr>\n",
       "      <th>8</th>\n",
       "      <td>72.0</td>\n",
       "      <td>48.0</td>\n",
       "      <td>31.581</td>\n",
       "    </tr>\n",
       "  </tbody>\n",
       "</table>\n",
       "</div>"
      ],
      "text/plain": [
       "   rolling_size  max_lag    rmse\n",
       "0          24.0     12.0  40.478\n",
       "1          24.0     24.0  34.469\n",
       "2          24.0     48.0  31.586\n",
       "3          48.0     12.0  40.240\n",
       "4          48.0     24.0  34.375\n",
       "5          48.0     48.0  31.589\n",
       "6          72.0     12.0  40.144\n",
       "7          72.0     24.0  34.059\n",
       "8          72.0     48.0  31.581"
      ]
     },
     "metadata": {},
     "output_type": "display_data"
    },
    {
     "data": {
      "text/html": [
       "<div>\n",
       "<style scoped>\n",
       "    .dataframe tbody tr th:only-of-type {\n",
       "        vertical-align: middle;\n",
       "    }\n",
       "\n",
       "    .dataframe tbody tr th {\n",
       "        vertical-align: top;\n",
       "    }\n",
       "\n",
       "    .dataframe thead th {\n",
       "        text-align: right;\n",
       "    }\n",
       "</style>\n",
       "<table border=\"1\" class=\"dataframe\">\n",
       "  <thead>\n",
       "    <tr style=\"text-align: right;\">\n",
       "      <th></th>\n",
       "      <th>rolling_size</th>\n",
       "      <th>max_lag</th>\n",
       "      <th>rmse</th>\n",
       "    </tr>\n",
       "  </thead>\n",
       "  <tbody>\n",
       "    <tr>\n",
       "      <th>8</th>\n",
       "      <td>72.0</td>\n",
       "      <td>48.0</td>\n",
       "      <td>31.581</td>\n",
       "    </tr>\n",
       "  </tbody>\n",
       "</table>\n",
       "</div>"
      ],
      "text/plain": [
       "   rolling_size  max_lag    rmse\n",
       "8          72.0     48.0  31.581"
      ]
     },
     "metadata": {},
     "output_type": "display_data"
    }
   ],
   "source": [
    "params = {\n",
    "    'rolling_size': [24, 48, 72],\n",
    "    'max_lag': [12, 24, 48]\n",
    "}\n",
    "grid_result = pd.DataFrame(columns=['rolling_size', 'max_lag', 'rmse'])\n",
    "\n",
    "for rolling_size in params['rolling_size']: \n",
    "    for max_lag in params['max_lag']:\n",
    "        \n",
    "        train_features, train_target = make_sets(train, rolling_size, max_lag)\n",
    "        valid_features, valid_target = make_sets(valid, rolling_size, max_lag)\n",
    "        \n",
    "        model = LinearRegression()\n",
    "        model.fit(train_features, train_target)\n",
    "        metric = rmse(model, valid_features, valid_target)\n",
    "        grid_result.loc[grid_result.shape[0]] = [rolling_size, max_lag, metric]\n",
    "        \n",
    "        \n",
    "display(grid_result)\n",
    "display(grid_result[grid_result['rmse']==grid_result['rmse'].min()])"
   ]
  },
  {
   "cell_type": "markdown",
   "metadata": {},
   "source": [
    "Лучшие результаты удалось получить со значениями ширины окна 24 и числа предыдущих значений 48. Используем эти параметры, обучим модель заново и сохраним результат в таблицу."
   ]
  },
  {
   "cell_type": "code",
   "execution_count": 17,
   "metadata": {},
   "outputs": [
    {
     "data": {
      "text/html": [
       "<div>\n",
       "<style scoped>\n",
       "    .dataframe tbody tr th:only-of-type {\n",
       "        vertical-align: middle;\n",
       "    }\n",
       "\n",
       "    .dataframe tbody tr th {\n",
       "        vertical-align: top;\n",
       "    }\n",
       "\n",
       "    .dataframe thead th {\n",
       "        text-align: right;\n",
       "    }\n",
       "</style>\n",
       "<table border=\"1\" class=\"dataframe\">\n",
       "  <thead>\n",
       "    <tr style=\"text-align: right;\">\n",
       "      <th></th>\n",
       "      <th>rmse</th>\n",
       "    </tr>\n",
       "  </thead>\n",
       "  <tbody>\n",
       "    <tr>\n",
       "      <th>Base model</th>\n",
       "      <td>47.246</td>\n",
       "    </tr>\n",
       "    <tr>\n",
       "      <th>LinearRegression</th>\n",
       "      <td>31.586</td>\n",
       "    </tr>\n",
       "  </tbody>\n",
       "</table>\n",
       "</div>"
      ],
      "text/plain": [
       "                    rmse\n",
       "Base model        47.246\n",
       "LinearRegression  31.586"
      ]
     },
     "execution_count": 17,
     "metadata": {},
     "output_type": "execute_result"
    }
   ],
   "source": [
    "train_features, train_target = make_sets(train, 24, 48)\n",
    "valid_features, valid_target = make_sets(valid, 24, 48)\n",
    "\n",
    "model = LinearRegression()\n",
    "model.fit(train_features, train_target)\n",
    "results.loc['LinearRegression'] = rmse(model, valid_features, valid_target)\n",
    "results"
   ]
  },
  {
   "cell_type": "markdown",
   "metadata": {},
   "source": [
    "Результат LinearRegression значительно лучше базовой модели."
   ]
  },
  {
   "cell_type": "markdown",
   "metadata": {},
   "source": [
    "### RandomForest"
   ]
  },
  {
   "cell_type": "markdown",
   "metadata": {},
   "source": [
    "Подберем гиперпараметры глубины деревьев и минимального числа объектов для разделения. Подбор гиперпараметров произведем с помощью функции GridSearchCV, которая использует кросс-валидацию. Для разделения выборки на обучающую и валидационную не подойдет стандартный метод. Для временных рядов используют метод TimeSeriesSplit, который не допускает обучения на данных \"из будущего\"."
   ]
  },
  {
   "cell_type": "code",
   "execution_count": 18,
   "metadata": {},
   "outputs": [
    {
     "data": {
      "text/html": [
       "<div>\n",
       "<style scoped>\n",
       "    .dataframe tbody tr th:only-of-type {\n",
       "        vertical-align: middle;\n",
       "    }\n",
       "\n",
       "    .dataframe tbody tr th {\n",
       "        vertical-align: top;\n",
       "    }\n",
       "\n",
       "    .dataframe thead th {\n",
       "        text-align: right;\n",
       "    }\n",
       "</style>\n",
       "<table border=\"1\" class=\"dataframe\">\n",
       "  <thead>\n",
       "    <tr style=\"text-align: right;\">\n",
       "      <th></th>\n",
       "      <th>max_depth</th>\n",
       "      <th>min_samples_split</th>\n",
       "      <th>mse</th>\n",
       "    </tr>\n",
       "  </thead>\n",
       "  <tbody>\n",
       "    <tr>\n",
       "      <th>0</th>\n",
       "      <td>9</td>\n",
       "      <td>3</td>\n",
       "      <td>-511.547176</td>\n",
       "    </tr>\n",
       "    <tr>\n",
       "      <th>1</th>\n",
       "      <td>9</td>\n",
       "      <td>6</td>\n",
       "      <td>-511.482183</td>\n",
       "    </tr>\n",
       "    <tr>\n",
       "      <th>2</th>\n",
       "      <td>9</td>\n",
       "      <td>9</td>\n",
       "      <td>-511.708312</td>\n",
       "    </tr>\n",
       "    <tr>\n",
       "      <th>3</th>\n",
       "      <td>12</td>\n",
       "      <td>3</td>\n",
       "      <td>-507.490228</td>\n",
       "    </tr>\n",
       "    <tr>\n",
       "      <th>4</th>\n",
       "      <td>12</td>\n",
       "      <td>6</td>\n",
       "      <td>-507.199690</td>\n",
       "    </tr>\n",
       "    <tr>\n",
       "      <th>5</th>\n",
       "      <td>12</td>\n",
       "      <td>9</td>\n",
       "      <td>-508.378203</td>\n",
       "    </tr>\n",
       "    <tr>\n",
       "      <th>6</th>\n",
       "      <td>15</td>\n",
       "      <td>3</td>\n",
       "      <td>-507.142393</td>\n",
       "    </tr>\n",
       "    <tr>\n",
       "      <th>7</th>\n",
       "      <td>15</td>\n",
       "      <td>6</td>\n",
       "      <td>-507.445887</td>\n",
       "    </tr>\n",
       "    <tr>\n",
       "      <th>8</th>\n",
       "      <td>15</td>\n",
       "      <td>9</td>\n",
       "      <td>-507.112212</td>\n",
       "    </tr>\n",
       "  </tbody>\n",
       "</table>\n",
       "</div>"
      ],
      "text/plain": [
       "  max_depth min_samples_split         mse\n",
       "0         9                 3 -511.547176\n",
       "1         9                 6 -511.482183\n",
       "2         9                 9 -511.708312\n",
       "3        12                 3 -507.490228\n",
       "4        12                 6 -507.199690\n",
       "5        12                 9 -508.378203\n",
       "6        15                 3 -507.142393\n",
       "7        15                 6 -507.445887\n",
       "8        15                 9 -507.112212"
      ]
     },
     "metadata": {},
     "output_type": "display_data"
    },
    {
     "data": {
      "text/html": [
       "<div>\n",
       "<style scoped>\n",
       "    .dataframe tbody tr th:only-of-type {\n",
       "        vertical-align: middle;\n",
       "    }\n",
       "\n",
       "    .dataframe tbody tr th {\n",
       "        vertical-align: top;\n",
       "    }\n",
       "\n",
       "    .dataframe thead th {\n",
       "        text-align: right;\n",
       "    }\n",
       "</style>\n",
       "<table border=\"1\" class=\"dataframe\">\n",
       "  <thead>\n",
       "    <tr style=\"text-align: right;\">\n",
       "      <th></th>\n",
       "      <th>max_depth</th>\n",
       "      <th>min_samples_split</th>\n",
       "      <th>mse</th>\n",
       "    </tr>\n",
       "  </thead>\n",
       "  <tbody>\n",
       "    <tr>\n",
       "      <th>8</th>\n",
       "      <td>15</td>\n",
       "      <td>9</td>\n",
       "      <td>-507.112212</td>\n",
       "    </tr>\n",
       "  </tbody>\n",
       "</table>\n",
       "</div>"
      ],
      "text/plain": [
       "  max_depth min_samples_split         mse\n",
       "8        15                 9 -507.112212"
      ]
     },
     "metadata": {},
     "output_type": "display_data"
    },
    {
     "name": "stdout",
     "output_type": "stream",
     "text": [
      "CPU times: user 1min 41s, sys: 163 ms, total: 1min 41s\n",
      "Wall time: 1min 42s\n"
     ]
    }
   ],
   "source": [
    "%%time\n",
    "params = {\n",
    "    'max_depth': [9, 12, 15],\n",
    "    'min_samples_split': [3, 6, 9]\n",
    "}\n",
    "ts_folds = TimeSeriesSplit(n_splits=8)\n",
    "\n",
    "model = RandomForestRegressor(n_estimators=50, random_state=SEED, criterion='mse')\n",
    "grid = GridSearchCV(model, params, scoring='neg_mean_squared_error', cv=ts_folds, refit=False, n_jobs=-1)\n",
    "grid.fit(train_features, train_target)\n",
    "\n",
    "grid_result = pd.DataFrame(grid.cv_results_)[['param_max_depth', 'param_min_samples_split', 'mean_test_score']]\n",
    "grid_result.columns = ['max_depth', 'min_samples_split', 'mse']\n",
    "display(grid_result)\n",
    "display(grid_result[grid_result['mse']==grid_result['mse'].max()])"
   ]
  },
  {
   "cell_type": "markdown",
   "metadata": {},
   "source": [
    "Лучший результат получили с гиперпараметрами глубины деревьев 15 и числом объектов для разделения 6. Обучим модель заново и получим предсказания на валидационной выборке:"
   ]
  },
  {
   "cell_type": "code",
   "execution_count": 19,
   "metadata": {},
   "outputs": [
    {
     "data": {
      "text/html": [
       "<div>\n",
       "<style scoped>\n",
       "    .dataframe tbody tr th:only-of-type {\n",
       "        vertical-align: middle;\n",
       "    }\n",
       "\n",
       "    .dataframe tbody tr th {\n",
       "        vertical-align: top;\n",
       "    }\n",
       "\n",
       "    .dataframe thead th {\n",
       "        text-align: right;\n",
       "    }\n",
       "</style>\n",
       "<table border=\"1\" class=\"dataframe\">\n",
       "  <thead>\n",
       "    <tr style=\"text-align: right;\">\n",
       "      <th></th>\n",
       "      <th>rmse</th>\n",
       "    </tr>\n",
       "  </thead>\n",
       "  <tbody>\n",
       "    <tr>\n",
       "      <th>Base model</th>\n",
       "      <td>47.246</td>\n",
       "    </tr>\n",
       "    <tr>\n",
       "      <th>LinearRegression</th>\n",
       "      <td>31.586</td>\n",
       "    </tr>\n",
       "    <tr>\n",
       "      <th>RandomForest</th>\n",
       "      <td>32.574</td>\n",
       "    </tr>\n",
       "  </tbody>\n",
       "</table>\n",
       "</div>"
      ],
      "text/plain": [
       "                    rmse\n",
       "Base model        47.246\n",
       "LinearRegression  31.586\n",
       "RandomForest      32.574"
      ]
     },
     "execution_count": 19,
     "metadata": {},
     "output_type": "execute_result"
    }
   ],
   "source": [
    "model = RandomForestRegressor(n_estimators=50,\n",
    "                                 random_state=SEED,\n",
    "                                 criterion='mse',\n",
    "                                 max_depth=15, \n",
    "                                 min_samples_split=6, \n",
    "                                 n_jobs=-1)\n",
    "model.fit(train_features, train_target)\n",
    "\n",
    "results.loc['RandomForest'] = rmse(model, valid_features, valid_target)\n",
    "results"
   ]
  },
  {
   "cell_type": "markdown",
   "metadata": {},
   "source": [
    "### LightGBM"
   ]
  },
  {
   "cell_type": "markdown",
   "metadata": {},
   "source": [
    "Подберем гиперпараметры глубины деревьев и шаг обучения:"
   ]
  },
  {
   "cell_type": "code",
   "execution_count": 20,
   "metadata": {},
   "outputs": [
    {
     "data": {
      "text/html": [
       "<div>\n",
       "<style scoped>\n",
       "    .dataframe tbody tr th:only-of-type {\n",
       "        vertical-align: middle;\n",
       "    }\n",
       "\n",
       "    .dataframe tbody tr th {\n",
       "        vertical-align: top;\n",
       "    }\n",
       "\n",
       "    .dataframe thead th {\n",
       "        text-align: right;\n",
       "    }\n",
       "</style>\n",
       "<table border=\"1\" class=\"dataframe\">\n",
       "  <thead>\n",
       "    <tr style=\"text-align: right;\">\n",
       "      <th></th>\n",
       "      <th>max_depth</th>\n",
       "      <th>learning_rate</th>\n",
       "      <th>mse</th>\n",
       "    </tr>\n",
       "  </thead>\n",
       "  <tbody>\n",
       "    <tr>\n",
       "      <th>0</th>\n",
       "      <td>6</td>\n",
       "      <td>0.1</td>\n",
       "      <td>-498.580632</td>\n",
       "    </tr>\n",
       "    <tr>\n",
       "      <th>1</th>\n",
       "      <td>8</td>\n",
       "      <td>0.1</td>\n",
       "      <td>-495.173386</td>\n",
       "    </tr>\n",
       "    <tr>\n",
       "      <th>2</th>\n",
       "      <td>10</td>\n",
       "      <td>0.1</td>\n",
       "      <td>-495.987050</td>\n",
       "    </tr>\n",
       "    <tr>\n",
       "      <th>3</th>\n",
       "      <td>6</td>\n",
       "      <td>0.12</td>\n",
       "      <td>-495.303660</td>\n",
       "    </tr>\n",
       "    <tr>\n",
       "      <th>4</th>\n",
       "      <td>8</td>\n",
       "      <td>0.12</td>\n",
       "      <td>-504.298377</td>\n",
       "    </tr>\n",
       "    <tr>\n",
       "      <th>5</th>\n",
       "      <td>10</td>\n",
       "      <td>0.12</td>\n",
       "      <td>-497.229050</td>\n",
       "    </tr>\n",
       "    <tr>\n",
       "      <th>6</th>\n",
       "      <td>6</td>\n",
       "      <td>0.15</td>\n",
       "      <td>-509.189664</td>\n",
       "    </tr>\n",
       "    <tr>\n",
       "      <th>7</th>\n",
       "      <td>8</td>\n",
       "      <td>0.15</td>\n",
       "      <td>-499.438930</td>\n",
       "    </tr>\n",
       "    <tr>\n",
       "      <th>8</th>\n",
       "      <td>10</td>\n",
       "      <td>0.15</td>\n",
       "      <td>-503.182208</td>\n",
       "    </tr>\n",
       "  </tbody>\n",
       "</table>\n",
       "</div>"
      ],
      "text/plain": [
       "  max_depth learning_rate         mse\n",
       "0         6           0.1 -498.580632\n",
       "1         8           0.1 -495.173386\n",
       "2        10           0.1 -495.987050\n",
       "3         6          0.12 -495.303660\n",
       "4         8          0.12 -504.298377\n",
       "5        10          0.12 -497.229050\n",
       "6         6          0.15 -509.189664\n",
       "7         8          0.15 -499.438930\n",
       "8        10          0.15 -503.182208"
      ]
     },
     "metadata": {},
     "output_type": "display_data"
    },
    {
     "data": {
      "text/html": [
       "<div>\n",
       "<style scoped>\n",
       "    .dataframe tbody tr th:only-of-type {\n",
       "        vertical-align: middle;\n",
       "    }\n",
       "\n",
       "    .dataframe tbody tr th {\n",
       "        vertical-align: top;\n",
       "    }\n",
       "\n",
       "    .dataframe thead th {\n",
       "        text-align: right;\n",
       "    }\n",
       "</style>\n",
       "<table border=\"1\" class=\"dataframe\">\n",
       "  <thead>\n",
       "    <tr style=\"text-align: right;\">\n",
       "      <th></th>\n",
       "      <th>max_depth</th>\n",
       "      <th>learning_rate</th>\n",
       "      <th>mse</th>\n",
       "    </tr>\n",
       "  </thead>\n",
       "  <tbody>\n",
       "    <tr>\n",
       "      <th>1</th>\n",
       "      <td>8</td>\n",
       "      <td>0.1</td>\n",
       "      <td>-495.173386</td>\n",
       "    </tr>\n",
       "  </tbody>\n",
       "</table>\n",
       "</div>"
      ],
      "text/plain": [
       "  max_depth learning_rate         mse\n",
       "1         8           0.1 -495.173386"
      ]
     },
     "metadata": {},
     "output_type": "display_data"
    },
    {
     "name": "stdout",
     "output_type": "stream",
     "text": [
      "CPU times: user 1min 15s, sys: 388 ms, total: 1min 15s\n",
      "Wall time: 1min 16s\n"
     ]
    }
   ],
   "source": [
    "%%time\n",
    "params = {\n",
    "    'max_depth': [6, 8, 10],\n",
    "    'learning_rate': [0.1, 0.12, 0.15]\n",
    "}\n",
    "ts_folds = TimeSeriesSplit(n_splits=8)\n",
    "\n",
    "model = LGBMRegressor(n_estimators=100, random_state=SEED)\n",
    "grid = GridSearchCV(model, params, scoring='neg_mean_squared_error', cv=ts_folds, refit=False)\n",
    "grid.fit(train_features, train_target)\n",
    "\n",
    "grid_result = pd.DataFrame(grid.cv_results_)[['param_max_depth', 'param_learning_rate', 'mean_test_score']]\n",
    "grid_result.columns = ['max_depth', 'learning_rate', 'mse']\n",
    "display(grid_result)\n",
    "display(grid_result[grid_result['mse']==grid_result['mse'].max()])"
   ]
  },
  {
   "cell_type": "markdown",
   "metadata": {},
   "source": [
    "Лучшие результаты получили с гиперпараметрами глубины деревьев 8 и шагом обучения 0.1:"
   ]
  },
  {
   "cell_type": "code",
   "execution_count": 21,
   "metadata": {},
   "outputs": [
    {
     "data": {
      "text/html": [
       "<div>\n",
       "<style scoped>\n",
       "    .dataframe tbody tr th:only-of-type {\n",
       "        vertical-align: middle;\n",
       "    }\n",
       "\n",
       "    .dataframe tbody tr th {\n",
       "        vertical-align: top;\n",
       "    }\n",
       "\n",
       "    .dataframe thead th {\n",
       "        text-align: right;\n",
       "    }\n",
       "</style>\n",
       "<table border=\"1\" class=\"dataframe\">\n",
       "  <thead>\n",
       "    <tr style=\"text-align: right;\">\n",
       "      <th></th>\n",
       "      <th>rmse</th>\n",
       "    </tr>\n",
       "  </thead>\n",
       "  <tbody>\n",
       "    <tr>\n",
       "      <th>Base model</th>\n",
       "      <td>47.246</td>\n",
       "    </tr>\n",
       "    <tr>\n",
       "      <th>LinearRegression</th>\n",
       "      <td>31.586</td>\n",
       "    </tr>\n",
       "    <tr>\n",
       "      <th>RandomForest</th>\n",
       "      <td>32.574</td>\n",
       "    </tr>\n",
       "    <tr>\n",
       "      <th>Light GBM</th>\n",
       "      <td>30.803</td>\n",
       "    </tr>\n",
       "  </tbody>\n",
       "</table>\n",
       "</div>"
      ],
      "text/plain": [
       "                    rmse\n",
       "Base model        47.246\n",
       "LinearRegression  31.586\n",
       "RandomForest      32.574\n",
       "Light GBM         30.803"
      ]
     },
     "execution_count": 21,
     "metadata": {},
     "output_type": "execute_result"
    }
   ],
   "source": [
    "model = LGBMRegressor(n_estimators=100, random_state=SEED, max_depth=8, learning_rate=0.1)\n",
    "model.fit(train_features, train_target)\n",
    "\n",
    "results.loc['Light GBM'] = rmse(model, valid_features, valid_target)\n",
    "results"
   ]
  },
  {
   "cell_type": "markdown",
   "metadata": {},
   "source": [
    "### Вывод"
   ]
  },
  {
   "cell_type": "markdown",
   "metadata": {},
   "source": [
    "В рамках данного этапа были обучены различные модели машинного обучения, среди которых базовая модель, линейная регрессия, случайный лес и градиентный бустинг. Заказчиком заявлен максимальный RMSE, равный 48. Результаты всех моделей оказались лучше порогового значения. Наилучший результат на обучении показала модель LightGBM, эту модель будем использовать для предсказаний на тестовой выборке."
   ]
  },
  {
   "cell_type": "markdown",
   "metadata": {},
   "source": [
    "## Тестирование"
   ]
  },
  {
   "cell_type": "markdown",
   "metadata": {},
   "source": [
    "Составим новую обучающую выборку, совместно с валидационной выборкой:"
   ]
  },
  {
   "cell_type": "code",
   "execution_count": 22,
   "metadata": {},
   "outputs": [],
   "source": [
    "train_features, train_target = make_sets(train_valid, 24, 48)\n",
    "test_features, test_target = make_sets(test, 24, 48)"
   ]
  },
  {
   "cell_type": "markdown",
   "metadata": {},
   "source": [
    "Получим предсказания на тестовой выборке и вычислим среднюю абсолютную ошибку предсказаний:"
   ]
  },
  {
   "cell_type": "code",
   "execution_count": 23,
   "metadata": {},
   "outputs": [
    {
     "name": "stdout",
     "output_type": "stream",
     "text": [
      "RMSE на тестовой выборке: 40.691\n"
     ]
    }
   ],
   "source": [
    "model = LGBMRegressor(n_estimators=100, random_state=SEED, max_depth=8, learning_rate=0.1)\n",
    "model.fit(train_features, train_target)\n",
    "\n",
    "print('RMSE на тестовой выборке: {:.3f}'.format(rmse(model, test_features, test_target)))"
   ]
  },
  {
   "cell_type": "markdown",
   "metadata": {},
   "source": [
    "Представим на графике результаты предсказаний на тестовой выборке и реальные значения количества заказов и сравним их:"
   ]
  },
  {
   "cell_type": "code",
   "execution_count": 24,
   "metadata": {
    "scrolled": false
   },
   "outputs": [
    {
     "data": {
      "image/png": "[encoded data removed]",
      "text/plain": [
       "<Figure size 792x432 with 1 Axes>"
      ]
     },
     "metadata": {
      "needs_background": "light"
     },
     "output_type": "display_data"
    }
   ],
   "source": [
    "predictions = pd.Series(model.predict(test_features), index=test_target.index)\n",
    "fig = plt.figure(figsize=(11,6))\n",
    "\n",
    "ax = fig.add_subplot(1, 1, 1)\n",
    "ax.grid()\n",
    "ax.plot(test_target)\n",
    "ax.plot(predictions)\n",
    "plt.legend(['истинные значения', 'предсказания'])\n",
    "plt.title('Истинные значения и предсказания', fontsize=16)\n",
    "plt.xlabel('Дата', fontsize=14)\n",
    "plt.ylabel('Значения показателя', fontsize=14)\n",
    "plt.show()"
   ]
  },
  {
   "cell_type": "markdown",
   "metadata": {},
   "source": [
    "На графике видно, что предсказания довольно точно повторяют реальные данные, за исключением участков с очевидными выбросами."
   ]
  },
  {
   "cell_type": "markdown",
   "metadata": {},
   "source": [
    "## Вывод"
   ]
  },
  {
   "cell_type": "markdown",
   "metadata": {},
   "source": [
    "В рамках данной работы был проведен анализ исходных данных и построены новые признаки для обучения моделей. В ходе анализа удалось установить ряд закономерностей:\n",
    "\n",
    "- наблюдается тренд на увеличение скользящего среднего и среднеквадратического отклонения, и, соответственно, имеется тренд на увеличение заказов в рамках рассматриваемого периода;\n",
    "- количество заказов менятся в течении дня: наибольшее количество - около 12 часов ночи, наименьшее - около 6 утра.\n",
    "\n",
    "Эти закономерности указывают на признаки, оказывающие влияние на количество заказов, такие как месяц года, день недели и время суток. Другие построенные признаки: скользящее среднее и значения за предыдущие периоды. Параметры для их определения были определены подбором. В результате были получены наборы данных, готовые к обучению.\n",
    "\n",
    "Для предсказаний были выбраны модели линейной регрессии, случайного леса, градиентного бустинга. Результаты оценивались метрикой RMSE, и ошибка всех моделей оказалась лучше максимальной заявленной по условию задач. \n",
    "\n",
    "Тем не менее лучшей моделью оказалась модель, построенная по алгоритму LIghtGBM. Эту модель использовали для предсказаний на тестовой выборке. Метрика качества RMSE получилась равной 40.691, что, как было отмечено выше, удовлетворяет требованиям задачи."
   ]
  }
 ],
 "metadata": {
  "ExecuteTimeLog": [
   {
    "duration": 2414,
    "start_time": "2022-12-22T19:58:21.791Z"
   },
   {
    "duration": 1554,
    "start_time": "2022-12-22T19:58:30.744Z"
   },
   {
    "duration": 132,
    "start_time": "2022-12-22T19:58:34.353Z"
   },
   {
    "duration": 36,
    "start_time": "2022-12-22T19:58:46.359Z"
   },
   {
    "duration": 107,
    "start_time": "2022-12-22T19:59:27.115Z"
   },
   {
    "duration": 11,
    "start_time": "2022-12-22T19:59:31.970Z"
   },
   {
    "duration": 9,
    "start_time": "2022-12-22T19:59:43.437Z"
   },
   {
    "duration": 16,
    "start_time": "2022-12-22T19:59:48.324Z"
   },
   {
    "duration": 4,
    "start_time": "2022-12-22T20:04:07.110Z"
   },
   {
    "duration": 12,
    "start_time": "2022-12-22T20:06:46.345Z"
   },
   {
    "duration": 3,
    "start_time": "2022-12-22T20:07:54.432Z"
   },
   {
    "duration": 8,
    "start_time": "2022-12-22T20:13:07.834Z"
   },
   {
    "duration": 325,
    "start_time": "2022-12-22T20:13:17.404Z"
   },
   {
    "duration": 235,
    "start_time": "2022-12-22T20:13:25.346Z"
   },
   {
    "duration": 387,
    "start_time": "2022-12-22T20:13:32.325Z"
   },
   {
    "duration": 256,
    "start_time": "2022-12-22T20:13:38.805Z"
   },
   {
    "duration": 263,
    "start_time": "2022-12-22T20:14:13.342Z"
   },
   {
    "duration": 242,
    "start_time": "2022-12-22T20:14:37.150Z"
   },
   {
    "duration": 275,
    "start_time": "2022-12-22T20:14:42.254Z"
   },
   {
    "duration": 247,
    "start_time": "2022-12-22T20:14:51.623Z"
   },
   {
    "duration": 251,
    "start_time": "2022-12-22T20:15:50.239Z"
   },
   {
    "duration": 291,
    "start_time": "2022-12-22T20:16:01.796Z"
   },
   {
    "duration": 230,
    "start_time": "2022-12-22T20:16:07.063Z"
   },
   {
    "duration": 243,
    "start_time": "2022-12-22T20:16:12.973Z"
   },
   {
    "duration": 293,
    "start_time": "2022-12-22T20:16:19.019Z"
   },
   {
    "duration": 247,
    "start_time": "2022-12-22T20:16:22.904Z"
   },
   {
    "duration": 352,
    "start_time": "2022-12-22T20:16:26.758Z"
   },
   {
    "duration": 299,
    "start_time": "2022-12-22T20:21:21.022Z"
   },
   {
    "duration": 329,
    "start_time": "2022-12-22T20:21:32.224Z"
   },
   {
    "duration": 324,
    "start_time": "2022-12-22T20:21:42.674Z"
   },
   {
    "duration": 354,
    "start_time": "2022-12-22T20:21:53.904Z"
   },
   {
    "duration": 379,
    "start_time": "2022-12-22T20:22:07.863Z"
   },
   {
    "duration": 311,
    "start_time": "2022-12-22T20:22:30.028Z"
   },
   {
    "duration": 325,
    "start_time": "2022-12-22T20:22:33.967Z"
   },
   {
    "duration": 332,
    "start_time": "2022-12-22T20:22:38.254Z"
   },
   {
    "duration": 335,
    "start_time": "2022-12-22T20:22:41.580Z"
   },
   {
    "duration": 340,
    "start_time": "2022-12-22T20:22:45.988Z"
   },
   {
    "duration": 431,
    "start_time": "2022-12-22T20:22:50.995Z"
   },
   {
    "duration": 317,
    "start_time": "2022-12-22T20:22:57.799Z"
   },
   {
    "duration": 340,
    "start_time": "2022-12-22T20:23:29.769Z"
   },
   {
    "duration": 317,
    "start_time": "2022-12-22T20:23:39.668Z"
   },
   {
    "duration": 315,
    "start_time": "2022-12-22T20:26:34.475Z"
   },
   {
    "duration": 304,
    "start_time": "2022-12-22T20:26:55.921Z"
   },
   {
    "duration": 331,
    "start_time": "2022-12-22T20:27:00.923Z"
   },
   {
    "duration": 343,
    "start_time": "2022-12-22T20:27:06.984Z"
   },
   {
    "duration": 322,
    "start_time": "2022-12-22T20:27:15.645Z"
   },
   {
    "duration": 329,
    "start_time": "2022-12-22T20:27:39.792Z"
   },
   {
    "duration": 331,
    "start_time": "2022-12-22T20:27:46.125Z"
   },
   {
    "duration": 449,
    "start_time": "2022-12-22T20:28:00.865Z"
   },
   {
    "duration": 320,
    "start_time": "2022-12-22T20:28:12.045Z"
   },
   {
    "duration": 318,
    "start_time": "2022-12-22T20:28:23.347Z"
   },
   {
    "duration": 340,
    "start_time": "2022-12-22T20:29:06.480Z"
   },
   {
    "duration": 317,
    "start_time": "2022-12-22T20:29:13.201Z"
   },
   {
    "duration": 425,
    "start_time": "2022-12-22T20:29:20.018Z"
   },
   {
    "duration": 327,
    "start_time": "2022-12-22T20:29:33.504Z"
   },
   {
    "duration": 313,
    "start_time": "2022-12-22T20:34:04.815Z"
   },
   {
    "duration": 286,
    "start_time": "2022-12-22T20:34:54.249Z"
   },
   {
    "duration": 299,
    "start_time": "2022-12-22T20:35:41.292Z"
   },
   {
    "duration": 336,
    "start_time": "2022-12-22T20:36:46.789Z"
   },
   {
    "duration": 517,
    "start_time": "2022-12-22T20:38:08.101Z"
   },
   {
    "duration": 388,
    "start_time": "2022-12-22T20:38:24.168Z"
   },
   {
    "duration": 452,
    "start_time": "2022-12-22T20:38:35.815Z"
   },
   {
    "duration": 434,
    "start_time": "2022-12-22T20:38:54.277Z"
   },
   {
    "duration": 450,
    "start_time": "2022-12-22T20:39:14.946Z"
   },
   {
    "duration": 642,
    "start_time": "2022-12-22T20:39:42.285Z"
   },
   {
    "duration": 448,
    "start_time": "2022-12-22T20:39:46.907Z"
   },
   {
    "duration": 429,
    "start_time": "2022-12-22T20:41:40.782Z"
   },
   {
    "duration": 447,
    "start_time": "2022-12-22T20:41:47.748Z"
   },
   {
    "duration": 343,
    "start_time": "2022-12-22T20:41:53.863Z"
   },
   {
    "duration": 463,
    "start_time": "2022-12-22T20:41:59.424Z"
   },
   {
    "duration": 406,
    "start_time": "2022-12-22T20:42:34.595Z"
   },
   {
    "duration": 299,
    "start_time": "2022-12-22T20:42:58.273Z"
   },
   {
    "duration": 290,
    "start_time": "2022-12-22T20:43:05.645Z"
   },
   {
    "duration": 313,
    "start_time": "2022-12-22T20:43:27.908Z"
   },
   {
    "duration": 275,
    "start_time": "2022-12-22T20:43:31.673Z"
   },
   {
    "duration": 297,
    "start_time": "2022-12-22T20:43:37.344Z"
   },
   {
    "duration": 303,
    "start_time": "2022-12-22T20:44:05.829Z"
   },
   {
    "duration": 299,
    "start_time": "2022-12-22T20:44:08.408Z"
   },
   {
    "duration": 298,
    "start_time": "2022-12-22T20:44:47.013Z"
   },
   {
    "duration": 300,
    "start_time": "2022-12-22T20:45:15.631Z"
   },
   {
    "duration": 140,
    "start_time": "2022-12-22T20:45:24.594Z"
   },
   {
    "duration": 433,
    "start_time": "2022-12-22T20:45:28.650Z"
   },
   {
    "duration": 354,
    "start_time": "2022-12-22T20:46:02.568Z"
   },
   {
    "duration": 318,
    "start_time": "2022-12-22T20:46:16.693Z"
   },
   {
    "duration": 294,
    "start_time": "2022-12-22T20:46:24.409Z"
   },
   {
    "duration": 316,
    "start_time": "2022-12-22T20:46:50.920Z"
   },
   {
    "duration": 361,
    "start_time": "2022-12-22T20:47:07.831Z"
   },
   {
    "duration": 353,
    "start_time": "2022-12-22T20:47:33.227Z"
   },
   {
    "duration": 366,
    "start_time": "2022-12-22T20:47:48.338Z"
   },
   {
    "duration": 380,
    "start_time": "2022-12-22T20:49:42.023Z"
   },
   {
    "duration": 5,
    "start_time": "2022-12-22T21:36:15.316Z"
   },
   {
    "duration": 8,
    "start_time": "2022-12-22T21:37:05.046Z"
   },
   {
    "duration": 7,
    "start_time": "2022-12-22T21:38:25.086Z"
   },
   {
    "duration": 11,
    "start_time": "2022-12-22T21:39:45.568Z"
   },
   {
    "duration": 10,
    "start_time": "2022-12-22T21:40:28.246Z"
   },
   {
    "duration": 10,
    "start_time": "2022-12-22T21:40:48.112Z"
   },
   {
    "duration": 4,
    "start_time": "2022-12-22T21:42:17.027Z"
   },
   {
    "duration": 3,
    "start_time": "2022-12-22T21:44:24.268Z"
   },
   {
    "duration": 4,
    "start_time": "2022-12-22T21:44:36.845Z"
   },
   {
    "duration": 12,
    "start_time": "2022-12-22T21:47:10.782Z"
   },
   {
    "duration": 2394,
    "start_time": "2022-12-22T23:07:22.243Z"
   },
   {
    "duration": 249,
    "start_time": "2022-12-22T23:07:49.587Z"
   },
   {
    "duration": 11,
    "start_time": "2022-12-22T23:08:40.599Z"
   },
   {
    "duration": 3,
    "start_time": "2022-12-22T23:08:52.054Z"
   },
   {
    "duration": 39713,
    "start_time": "2022-12-22T23:08:55.941Z"
   },
   {
    "duration": 3290,
    "start_time": "2022-12-22T23:09:35.656Z"
   },
   {
    "duration": 26818,
    "start_time": "2022-12-22T23:10:46.832Z"
   },
   {
    "duration": 2596,
    "start_time": "2022-12-22T23:11:13.652Z"
   },
   {
    "duration": 74,
    "start_time": "2022-12-22T23:13:25.028Z"
   },
   {
    "duration": 1360,
    "start_time": "2022-12-22T23:13:42.478Z"
   },
   {
    "duration": 227,
    "start_time": "2022-12-22T23:14:34.263Z"
   },
   {
    "duration": 335,
    "start_time": "2022-12-22T23:15:52.897Z"
   },
   {
    "duration": 221,
    "start_time": "2022-12-22T23:16:09.966Z"
   },
   {
    "duration": 218,
    "start_time": "2022-12-22T23:16:15.276Z"
   },
   {
    "duration": 2060,
    "start_time": "2022-12-22T23:16:56.167Z"
   },
   {
    "duration": 1354,
    "start_time": "2022-12-22T23:16:58.230Z"
   },
   {
    "duration": 46,
    "start_time": "2022-12-22T23:16:59.585Z"
   },
   {
    "duration": 16,
    "start_time": "2022-12-22T23:16:59.633Z"
   },
   {
    "duration": 3,
    "start_time": "2022-12-22T23:16:59.651Z"
   },
   {
    "duration": 17,
    "start_time": "2022-12-22T23:16:59.656Z"
   },
   {
    "duration": 3,
    "start_time": "2022-12-22T23:16:59.674Z"
   },
   {
    "duration": 26,
    "start_time": "2022-12-22T23:16:59.679Z"
   },
   {
    "duration": 355,
    "start_time": "2022-12-22T23:16:59.706Z"
   },
   {
    "duration": 327,
    "start_time": "2022-12-22T23:17:00.064Z"
   },
   {
    "duration": 415,
    "start_time": "2022-12-22T23:17:00.392Z"
   },
   {
    "duration": 5,
    "start_time": "2022-12-22T23:17:00.808Z"
   },
   {
    "duration": 57,
    "start_time": "2022-12-22T23:17:00.814Z"
   },
   {
    "duration": 30,
    "start_time": "2022-12-22T23:17:00.873Z"
   },
   {
    "duration": 22,
    "start_time": "2022-12-22T23:17:00.904Z"
   },
   {
    "duration": 2217,
    "start_time": "2022-12-22T23:17:00.928Z"
   },
   {
    "duration": 289,
    "start_time": "2022-12-22T23:17:03.147Z"
   },
   {
    "duration": 39428,
    "start_time": "2022-12-22T23:17:03.438Z"
   },
   {
    "duration": 3239,
    "start_time": "2022-12-22T23:17:42.868Z"
   },
   {
    "duration": 27439,
    "start_time": "2022-12-22T23:17:46.108Z"
   },
   {
    "duration": 1300,
    "start_time": "2022-12-22T23:18:13.549Z"
   },
   {
    "duration": 152,
    "start_time": "2022-12-22T23:18:14.850Z"
   },
   {
    "duration": 2634,
    "start_time": "2022-12-22T23:18:15.004Z"
   },
   {
    "duration": 275,
    "start_time": "2022-12-22T23:18:17.640Z"
   },
   {
    "duration": 2042,
    "start_time": "2022-12-22T23:23:56.215Z"
   },
   {
    "duration": 1351,
    "start_time": "2022-12-22T23:23:58.259Z"
   },
   {
    "duration": 47,
    "start_time": "2022-12-22T23:23:59.612Z"
   },
   {
    "duration": 17,
    "start_time": "2022-12-22T23:23:59.660Z"
   },
   {
    "duration": 15,
    "start_time": "2022-12-22T23:23:59.679Z"
   },
   {
    "duration": 46,
    "start_time": "2022-12-22T23:23:59.695Z"
   },
   {
    "duration": 3,
    "start_time": "2022-12-22T23:23:59.743Z"
   },
   {
    "duration": 32,
    "start_time": "2022-12-22T23:23:59.748Z"
   },
   {
    "duration": 355,
    "start_time": "2022-12-22T23:23:59.782Z"
   },
   {
    "duration": 340,
    "start_time": "2022-12-22T23:24:00.139Z"
   },
   {
    "duration": 428,
    "start_time": "2022-12-22T23:24:00.481Z"
   },
   {
    "duration": 5,
    "start_time": "2022-12-22T23:24:00.911Z"
   },
   {
    "duration": 56,
    "start_time": "2022-12-22T23:24:00.918Z"
   },
   {
    "duration": 23,
    "start_time": "2022-12-22T23:24:00.976Z"
   },
   {
    "duration": 24,
    "start_time": "2022-12-22T23:24:01.000Z"
   },
   {
    "duration": 2417,
    "start_time": "2022-12-22T23:24:01.026Z"
   },
   {
    "duration": 299,
    "start_time": "2022-12-22T23:24:03.445Z"
   },
   {
    "duration": 39227,
    "start_time": "2022-12-22T23:24:03.746Z"
   },
   {
    "duration": 3251,
    "start_time": "2022-12-22T23:24:42.975Z"
   },
   {
    "duration": 27728,
    "start_time": "2022-12-22T23:24:46.228Z"
   },
   {
    "duration": 1792,
    "start_time": "2022-12-22T23:25:13.957Z"
   },
   {
    "duration": 127,
    "start_time": "2022-12-22T23:25:15.751Z"
   },
   {
    "duration": 1564,
    "start_time": "2022-12-22T23:25:15.880Z"
   },
   {
    "duration": 309,
    "start_time": "2022-12-22T23:25:17.445Z"
   },
   {
    "duration": 2051,
    "start_time": "2022-12-22T23:30:59.647Z"
   },
   {
    "duration": 1449,
    "start_time": "2022-12-22T23:31:01.702Z"
   },
   {
    "duration": 49,
    "start_time": "2022-12-22T23:31:03.152Z"
   },
   {
    "duration": 17,
    "start_time": "2022-12-22T23:31:03.203Z"
   },
   {
    "duration": 3,
    "start_time": "2022-12-22T23:31:03.222Z"
   },
   {
    "duration": 25,
    "start_time": "2022-12-22T23:31:03.227Z"
   },
   {
    "duration": 9,
    "start_time": "2022-12-22T23:31:03.254Z"
   },
   {
    "duration": 29,
    "start_time": "2022-12-22T23:31:03.265Z"
   },
   {
    "duration": 393,
    "start_time": "2022-12-22T23:31:03.296Z"
   },
   {
    "duration": 369,
    "start_time": "2022-12-22T23:31:03.691Z"
   },
   {
    "duration": 449,
    "start_time": "2022-12-22T23:31:04.062Z"
   },
   {
    "duration": 5,
    "start_time": "2022-12-22T23:31:04.513Z"
   },
   {
    "duration": 27,
    "start_time": "2022-12-22T23:31:04.520Z"
   },
   {
    "duration": 12,
    "start_time": "2022-12-22T23:31:04.551Z"
   },
   {
    "duration": 56,
    "start_time": "2022-12-22T23:31:04.565Z"
   },
   {
    "duration": 2427,
    "start_time": "2022-12-22T23:31:04.623Z"
   },
   {
    "duration": 300,
    "start_time": "2022-12-22T23:31:07.136Z"
   },
   {
    "duration": 39703,
    "start_time": "2022-12-22T23:31:07.438Z"
   },
   {
    "duration": 3515,
    "start_time": "2022-12-22T23:31:47.142Z"
   },
   {
    "duration": 0,
    "start_time": "2022-12-22T23:31:50.659Z"
   },
   {
    "duration": 0,
    "start_time": "2022-12-22T23:31:50.660Z"
   },
   {
    "duration": 0,
    "start_time": "2022-12-22T23:31:50.661Z"
   },
   {
    "duration": 0,
    "start_time": "2022-12-22T23:31:50.661Z"
   },
   {
    "duration": 0,
    "start_time": "2022-12-22T23:31:50.662Z"
   },
   {
    "duration": 3381,
    "start_time": "2022-12-22T23:32:08.768Z"
   },
   {
    "duration": 32526,
    "start_time": "2022-12-22T23:32:15.829Z"
   },
   {
    "duration": 1398,
    "start_time": "2022-12-22T23:32:52.449Z"
   },
   {
    "duration": 1614,
    "start_time": "2022-12-22T23:33:06.828Z"
   },
   {
    "duration": 69,
    "start_time": "2022-12-22T23:33:15.123Z"
   },
   {
    "duration": 1586,
    "start_time": "2022-12-22T23:33:16.454Z"
   },
   {
    "duration": 216,
    "start_time": "2022-12-22T23:33:20.690Z"
   },
   {
    "duration": 2020,
    "start_time": "2022-12-22T23:33:45.090Z"
   },
   {
    "duration": 1343,
    "start_time": "2022-12-22T23:33:47.113Z"
   },
   {
    "duration": 45,
    "start_time": "2022-12-22T23:33:48.458Z"
   },
   {
    "duration": 16,
    "start_time": "2022-12-22T23:33:48.505Z"
   },
   {
    "duration": 3,
    "start_time": "2022-12-22T23:33:48.522Z"
   },
   {
    "duration": 14,
    "start_time": "2022-12-22T23:33:48.527Z"
   },
   {
    "duration": 9,
    "start_time": "2022-12-22T23:33:48.543Z"
   },
   {
    "duration": 15,
    "start_time": "2022-12-22T23:33:48.554Z"
   },
   {
    "duration": 343,
    "start_time": "2022-12-22T23:33:48.570Z"
   },
   {
    "duration": 349,
    "start_time": "2022-12-22T23:33:48.916Z"
   },
   {
    "duration": 429,
    "start_time": "2022-12-22T23:33:49.267Z"
   },
   {
    "duration": 6,
    "start_time": "2022-12-22T23:33:49.698Z"
   },
   {
    "duration": 9,
    "start_time": "2022-12-22T23:33:49.706Z"
   },
   {
    "duration": 19,
    "start_time": "2022-12-22T23:33:49.716Z"
   },
   {
    "duration": 26,
    "start_time": "2022-12-22T23:33:49.737Z"
   },
   {
    "duration": 2279,
    "start_time": "2022-12-22T23:33:49.764Z"
   },
   {
    "duration": 195,
    "start_time": "2022-12-22T23:33:52.044Z"
   },
   {
    "duration": 39722,
    "start_time": "2022-12-22T23:33:52.241Z"
   },
   {
    "duration": 3384,
    "start_time": "2022-12-22T23:34:31.965Z"
   },
   {
    "duration": 27891,
    "start_time": "2022-12-22T23:34:35.351Z"
   },
   {
    "duration": 1305,
    "start_time": "2022-12-22T23:35:03.244Z"
   },
   {
    "duration": 126,
    "start_time": "2022-12-22T23:35:04.551Z"
   },
   {
    "duration": 1569,
    "start_time": "2022-12-22T23:35:04.679Z"
   },
   {
    "duration": 259,
    "start_time": "2022-12-22T23:35:06.336Z"
   },
   {
    "duration": 3,
    "start_time": "2022-12-22T23:36:47.897Z"
   },
   {
    "duration": 1421,
    "start_time": "2022-12-22T23:36:47.902Z"
   },
   {
    "duration": 49,
    "start_time": "2022-12-22T23:36:49.325Z"
   },
   {
    "duration": 18,
    "start_time": "2022-12-22T23:36:49.376Z"
   },
   {
    "duration": 3,
    "start_time": "2022-12-22T23:36:49.397Z"
   },
   {
    "duration": 22,
    "start_time": "2022-12-22T23:36:49.401Z"
   },
   {
    "duration": 9,
    "start_time": "2022-12-22T23:36:49.425Z"
   },
   {
    "duration": 23,
    "start_time": "2022-12-22T23:36:49.436Z"
   },
   {
    "duration": 364,
    "start_time": "2022-12-22T23:36:49.461Z"
   },
   {
    "duration": 368,
    "start_time": "2022-12-22T23:36:49.827Z"
   },
   {
    "duration": 450,
    "start_time": "2022-12-22T23:36:50.197Z"
   },
   {
    "duration": 5,
    "start_time": "2022-12-22T23:36:50.649Z"
   },
   {
    "duration": 29,
    "start_time": "2022-12-22T23:36:50.656Z"
   },
   {
    "duration": 7,
    "start_time": "2022-12-22T23:36:50.687Z"
   },
   {
    "duration": 19,
    "start_time": "2022-12-22T23:36:50.696Z"
   },
   {
    "duration": 2229,
    "start_time": "2022-12-22T23:36:50.717Z"
   },
   {
    "duration": 389,
    "start_time": "2022-12-22T23:36:52.948Z"
   },
   {
    "duration": 39728,
    "start_time": "2022-12-22T23:36:53.338Z"
   },
   {
    "duration": 3321,
    "start_time": "2022-12-22T23:37:33.068Z"
   },
   {
    "duration": 36147,
    "start_time": "2022-12-22T23:37:36.391Z"
   },
   {
    "duration": 1407,
    "start_time": "2022-12-22T23:38:12.540Z"
   },
   {
    "duration": 118,
    "start_time": "2022-12-22T23:38:13.949Z"
   },
   {
    "duration": 1467,
    "start_time": "2022-12-22T23:38:14.069Z"
   },
   {
    "duration": 261,
    "start_time": "2022-12-22T23:38:15.538Z"
   },
   {
    "duration": 2091,
    "start_time": "2022-12-23T08:59:59.191Z"
   },
   {
    "duration": 1234,
    "start_time": "2022-12-23T09:00:03.274Z"
   },
   {
    "duration": 49,
    "start_time": "2022-12-23T09:00:08.113Z"
   },
   {
    "duration": 17,
    "start_time": "2022-12-23T09:00:35.015Z"
   },
   {
    "duration": 3,
    "start_time": "2022-12-23T09:00:36.548Z"
   },
   {
    "duration": 12,
    "start_time": "2022-12-23T09:00:36.961Z"
   },
   {
    "duration": 4,
    "start_time": "2022-12-23T09:00:39.250Z"
   },
   {
    "duration": 10,
    "start_time": "2022-12-23T09:01:04.990Z"
   },
   {
    "duration": 334,
    "start_time": "2022-12-23T09:01:05.770Z"
   },
   {
    "duration": 323,
    "start_time": "2022-12-23T09:01:07.588Z"
   },
   {
    "duration": 324,
    "start_time": "2022-12-23T09:01:09.201Z"
   },
   {
    "duration": 6,
    "start_time": "2022-12-23T09:02:06.111Z"
   },
   {
    "duration": 6,
    "start_time": "2022-12-23T09:02:48.768Z"
   },
   {
    "duration": 4,
    "start_time": "2022-12-23T09:03:07.464Z"
   },
   {
    "duration": 73,
    "start_time": "2022-12-23T09:03:35.543Z"
   },
   {
    "duration": 202,
    "start_time": "2022-12-23T09:05:26.397Z"
   },
   {
    "duration": 2221,
    "start_time": "2022-12-26T18:42:58.782Z"
   },
   {
    "duration": 1610,
    "start_time": "2022-12-26T18:43:01.005Z"
   },
   {
    "duration": 280,
    "start_time": "2022-12-26T18:43:02.616Z"
   },
   {
    "duration": 20,
    "start_time": "2022-12-26T18:43:02.897Z"
   },
   {
    "duration": 5,
    "start_time": "2022-12-26T18:43:02.919Z"
   },
   {
    "duration": 16,
    "start_time": "2022-12-26T18:43:02.925Z"
   },
   {
    "duration": 4,
    "start_time": "2022-12-26T18:43:02.943Z"
   },
   {
    "duration": 16,
    "start_time": "2022-12-26T18:43:02.949Z"
   },
   {
    "duration": 341,
    "start_time": "2022-12-26T18:43:02.967Z"
   },
   {
    "duration": 339,
    "start_time": "2022-12-26T18:43:03.325Z"
   },
   {
    "duration": 423,
    "start_time": "2022-12-26T18:43:03.666Z"
   },
   {
    "duration": 5,
    "start_time": "2022-12-26T18:43:04.091Z"
   },
   {
    "duration": 13,
    "start_time": "2022-12-26T18:43:04.097Z"
   },
   {
    "duration": 12,
    "start_time": "2022-12-26T18:43:04.111Z"
   },
   {
    "duration": 22,
    "start_time": "2022-12-26T18:43:04.125Z"
   },
   {
    "duration": 2177,
    "start_time": "2022-12-26T18:43:04.149Z"
   },
   {
    "duration": 296,
    "start_time": "2022-12-26T18:43:06.327Z"
   },
   {
    "duration": 100904,
    "start_time": "2022-12-26T18:43:06.625Z"
   },
   {
    "duration": 3230,
    "start_time": "2022-12-26T18:44:47.531Z"
   },
   {
    "duration": 28081,
    "start_time": "2022-12-26T18:44:50.763Z"
   },
   {
    "duration": 1992,
    "start_time": "2022-12-26T18:45:18.845Z"
   },
   {
    "duration": 116,
    "start_time": "2022-12-26T18:45:20.839Z"
   },
   {
    "duration": 1680,
    "start_time": "2022-12-26T18:45:20.956Z"
   },
   {
    "duration": 340,
    "start_time": "2022-12-26T18:45:22.638Z"
   },
   {
    "duration": 77700,
    "start_time": "2022-12-26T18:48:36.637Z"
   },
   {
    "duration": 1312,
    "start_time": "2022-12-26T18:50:05.816Z"
   },
   {
    "duration": 72,
    "start_time": "2022-12-26T18:50:17.026Z"
   },
   {
    "duration": 2584,
    "start_time": "2022-12-26T18:50:18.651Z"
   },
   {
    "duration": 1937,
    "start_time": "2022-12-26T18:50:30.661Z"
   },
   {
    "duration": 1404,
    "start_time": "2022-12-26T18:50:32.600Z"
   },
   {
    "duration": 45,
    "start_time": "2022-12-26T18:50:34.006Z"
   },
   {
    "duration": 20,
    "start_time": "2022-12-26T18:50:34.053Z"
   },
   {
    "duration": 16,
    "start_time": "2022-12-26T18:50:34.075Z"
   },
   {
    "duration": 18,
    "start_time": "2022-12-26T18:50:34.093Z"
   },
   {
    "duration": 6,
    "start_time": "2022-12-26T18:50:34.113Z"
   },
   {
    "duration": 17,
    "start_time": "2022-12-26T18:50:34.121Z"
   },
   {
    "duration": 363,
    "start_time": "2022-12-26T18:50:34.140Z"
   },
   {
    "duration": 338,
    "start_time": "2022-12-26T18:50:34.505Z"
   },
   {
    "duration": 434,
    "start_time": "2022-12-26T18:50:34.845Z"
   },
   {
    "duration": 5,
    "start_time": "2022-12-26T18:50:35.280Z"
   },
   {
    "duration": 10,
    "start_time": "2022-12-26T18:50:35.286Z"
   },
   {
    "duration": 6,
    "start_time": "2022-12-26T18:50:35.299Z"
   },
   {
    "duration": 23,
    "start_time": "2022-12-26T18:50:35.307Z"
   },
   {
    "duration": 2192,
    "start_time": "2022-12-26T18:50:35.331Z"
   },
   {
    "duration": 303,
    "start_time": "2022-12-26T18:50:37.525Z"
   },
   {
    "duration": 102079,
    "start_time": "2022-12-26T18:50:37.830Z"
   },
   {
    "duration": 3289,
    "start_time": "2022-12-26T18:52:19.911Z"
   },
   {
    "duration": 76425,
    "start_time": "2022-12-26T18:52:23.201Z"
   },
   {
    "duration": 1200,
    "start_time": "2022-12-26T18:53:39.628Z"
   },
   {
    "duration": 92,
    "start_time": "2022-12-26T18:53:40.830Z"
   },
   {
    "duration": 1303,
    "start_time": "2022-12-26T18:53:40.924Z"
   },
   {
    "duration": 314,
    "start_time": "2022-12-26T18:53:42.228Z"
   }
  ],
  "kernelspec": {
   "display_name": "Python 3 (ipykernel)",
   "language": "python",
   "name": "python3"
  },
  "language_info": {
   "codemirror_mode": {
    "name": "ipython",
    "version": 3
   },
   "file_extension": ".py",
   "mimetype": "text/x-python",
   "name": "python",
   "nbconvert_exporter": "python",
   "pygments_lexer": "ipython3",
   "version": "3.9.5"
  },
  "toc": {
   "base_numbering": 1,
   "nav_menu": {},
   "number_sections": true,
   "sideBar": true,
   "skip_h1_title": true,
   "title_cell": "Содержание",
   "title_sidebar": "Contents",
   "toc_cell": true,
   "toc_position": {
    "height": "calc(100% - 180px)",
    "left": "10px",
    "top": "150px",
    "width": "548.85px"
   },
   "toc_section_display": true,
   "toc_window_display": true
  }
 },
 "nbformat": 4,
 "nbformat_minor": 2
}

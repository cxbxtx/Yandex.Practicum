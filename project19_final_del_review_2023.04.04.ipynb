{
 "cells": [
  {
   "cell_type": "markdown",
   "metadata": {
    "toc": true
   },
   "source": [
    "<h1>Содержание<span class=\"tocSkip\"></span></h1>\n",
    "<div class=\"toc\"><ul class=\"toc-item\"><li><span><a href=\"#Анализ-и-предобработка-данных\" data-toc-modified-id=\"Анализ-и-предобработка-данных-1\"><span class=\"toc-item-num\">1&nbsp;&nbsp;</span>Анализ и предобработка данных</a></span></li><li><span><a href=\"#Обучение-моделей-и-расчет-целевой-метрики-качества\" data-toc-modified-id=\"Обучение-моделей-и-расчет-целевой-метрики-качества-2\"><span class=\"toc-item-num\">2&nbsp;&nbsp;</span>Обучение моделей и расчет целевой метрики качества</a></span><ul class=\"toc-item\"><li><span><a href=\"#Техника-TF-IDF\" data-toc-modified-id=\"Техника-TF-IDF-2.1\"><span class=\"toc-item-num\">2.1&nbsp;&nbsp;</span>Техника TF-IDF</a></span></li><li><span><a href=\"#Модель-по-алгоритму-LogisticRegression\" data-toc-modified-id=\"Модель-по-алгоритму-LogisticRegression-2.2\"><span class=\"toc-item-num\">2.2&nbsp;&nbsp;</span>Модель по алгоритму LogisticRegression</a></span></li><li><span><a href=\"#Модель-по-алгоритму-LinearSVC\" data-toc-modified-id=\"Модель-по-алгоритму-LinearSVC-2.3\"><span class=\"toc-item-num\">2.3&nbsp;&nbsp;</span>Модель по алгоритму LinearSVC</a></span></li><li><span><a href=\"#Модель-по-алгоритму-LGBMClassifier\" data-toc-modified-id=\"Модель-по-алгоритму-LGBMClassifier-2.4\"><span class=\"toc-item-num\">2.4&nbsp;&nbsp;</span>Модель по алгоритму LGBMClassifier</a></span></li></ul></li><li><span><a href=\"#Анализ-моделей\" data-toc-modified-id=\"Анализ-моделей-3\"><span class=\"toc-item-num\">3&nbsp;&nbsp;</span>Анализ моделей</a></span></li><li><span><a href=\"#Техника-BERT\" data-toc-modified-id=\"Техника-BERT-4\"><span class=\"toc-item-num\">4&nbsp;&nbsp;</span>Техника BERT</a></span></li><li><span><a href=\"#Выводы\" data-toc-modified-id=\"Выводы-5\"><span class=\"toc-item-num\">5&nbsp;&nbsp;</span>Выводы</a></span></li></ul></div>"
   ]
  },
  {
   "cell_type": "markdown",
   "metadata": {},
   "source": [
    "# Проект для «Викишоп»"
   ]
  },
  {
   "cell_type": "markdown",
   "metadata": {},
   "source": [
    "Интернет-магазин «Викишоп» запускает новый сервис. Теперь пользователи могут редактировать и дополнять описания товаров, как в вики-сообществах. То есть клиенты предлагают свои правки и комментируют изменения других. Магазину нужен инструмент, который будет искать токсичные комментарии и отправлять их на модерацию. \n",
    "\n",
    "Необходимо обучить модель классифицировать комментарии на позитивные и негативные. В распоряжении набор данных с разметкой о токсичности правок.\n",
    "\n",
    "Метрика качества *F1* должна быть не меньше 0.75. "
   ]
  },
  {
   "cell_type": "markdown",
   "metadata": {},
   "source": [
    "## Анализ и предобработка данных"
   ]
  },
  {
   "cell_type": "markdown",
   "metadata": {},
   "source": [
    "Установим необходимые библиотеки:"
   ]
  },
  {
   "cell_type": "code",
   "execution_count": 1,
   "metadata": {
    "scrolled": true
   },
   "outputs": [
    {
     "name": "stdout",
     "output_type": "stream",
     "text": [
      "Requirement already satisfied: spacy in /opt/conda/lib/python3.9/site-packages (3.2.0)\n",
      "Requirement already satisfied: numpy>=1.15.0 in /opt/conda/lib/python3.9/site-packages (from spacy) (1.21.1)\n",
      "Requirement already satisfied: requests<3.0.0,>=2.13.0 in /opt/conda/lib/python3.9/site-packages (from spacy) (2.25.1)\n",
      "Requirement already satisfied: tqdm<5.0.0,>=4.38.0 in /opt/conda/lib/python3.9/site-packages (from spacy) (4.61.2)\n",
      "Requirement already satisfied: thinc<8.1.0,>=8.0.12 in /opt/conda/lib/python3.9/site-packages (from spacy) (8.0.17)\n",
      "Requirement already satisfied: murmurhash<1.1.0,>=0.28.0 in /opt/conda/lib/python3.9/site-packages (from spacy) (1.0.8)\n",
      "Requirement already satisfied: langcodes<4.0.0,>=3.2.0 in /opt/conda/lib/python3.9/site-packages (from spacy) (3.3.0)\n",
      "Requirement already satisfied: setuptools in /opt/conda/lib/python3.9/site-packages (from spacy) (49.6.0.post20210108)\n",
      "Requirement already satisfied: spacy-loggers<2.0.0,>=1.0.0 in /opt/conda/lib/python3.9/site-packages (from spacy) (1.0.3)\n",
      "Requirement already satisfied: spacy-legacy<3.1.0,>=3.0.8 in /opt/conda/lib/python3.9/site-packages (from spacy) (3.0.10)\n",
      "Requirement already satisfied: srsly<3.0.0,>=2.4.1 in /opt/conda/lib/python3.9/site-packages (from spacy) (2.4.4)\n",
      "Requirement already satisfied: catalogue<2.1.0,>=2.0.6 in /opt/conda/lib/python3.9/site-packages (from spacy) (2.0.8)\n",
      "Requirement already satisfied: cymem<2.1.0,>=2.0.2 in /opt/conda/lib/python3.9/site-packages (from spacy) (2.0.6)\n",
      "Requirement already satisfied: wasabi<1.1.0,>=0.8.1 in /opt/conda/lib/python3.9/site-packages (from spacy) (0.10.1)\n",
      "Requirement already satisfied: blis<0.8.0,>=0.4.0 in /opt/conda/lib/python3.9/site-packages (from spacy) (0.7.8)\n",
      "Requirement already satisfied: typer<0.5.0,>=0.3.0 in /opt/conda/lib/python3.9/site-packages (from spacy) (0.4.2)\n",
      "Requirement already satisfied: preshed<3.1.0,>=3.0.2 in /opt/conda/lib/python3.9/site-packages (from spacy) (3.0.7)\n",
      "Requirement already satisfied: packaging>=20.0 in /opt/conda/lib/python3.9/site-packages (from spacy) (21.3)\n",
      "Requirement already satisfied: pathy>=0.3.5 in /opt/conda/lib/python3.9/site-packages (from spacy) (0.6.2)\n",
      "Requirement already satisfied: jinja2 in /opt/conda/lib/python3.9/site-packages (from spacy) (3.0.1)\n",
      "Requirement already satisfied: pydantic!=1.8,!=1.8.1,<1.9.0,>=1.7.4 in /opt/conda/lib/python3.9/site-packages (from spacy) (1.8.2)\n",
      "Requirement already satisfied: pyparsing!=3.0.5,>=2.0.2 in /opt/conda/lib/python3.9/site-packages (from packaging>=20.0->spacy) (2.4.7)\n",
      "Requirement already satisfied: smart-open<6.0.0,>=5.2.1 in /opt/conda/lib/python3.9/site-packages (from pathy>=0.3.5->spacy) (5.2.1)\n",
      "Requirement already satisfied: typing-extensions>=3.7.4.3 in /opt/conda/lib/python3.9/site-packages (from pydantic!=1.8,!=1.8.1,<1.9.0,>=1.7.4->spacy) (4.3.0)\n",
      "Requirement already satisfied: chardet<5,>=3.0.2 in /opt/conda/lib/python3.9/site-packages (from requests<3.0.0,>=2.13.0->spacy) (4.0.0)\n",
      "Requirement already satisfied: urllib3<1.27,>=1.21.1 in /opt/conda/lib/python3.9/site-packages (from requests<3.0.0,>=2.13.0->spacy) (1.26.6)\n",
      "Requirement already satisfied: idna<3,>=2.5 in /opt/conda/lib/python3.9/site-packages (from requests<3.0.0,>=2.13.0->spacy) (2.10)\n",
      "Requirement already satisfied: certifi>=2017.4.17 in /opt/conda/lib/python3.9/site-packages (from requests<3.0.0,>=2.13.0->spacy) (2022.6.15)\n",
      "Requirement already satisfied: click<9.0.0,>=7.1.1 in /opt/conda/lib/python3.9/site-packages (from typer<0.5.0,>=0.3.0->spacy) (8.1.3)\n",
      "Requirement already satisfied: MarkupSafe>=2.0 in /opt/conda/lib/python3.9/site-packages (from jinja2->spacy) (2.1.1)\n",
      "Collecting en-core-web-sm==3.2.0\n",
      "  Downloading https://github.com/explosion/spacy-models/releases/download/en_core_web_sm-3.2.0/en_core_web_sm-3.2.0-py3-none-any.whl (13.9 MB)\n",
      "\u001b[K     |████████████████████████████████| 13.9 MB 1.3 MB/s eta 0:00:01\n",
      "\u001b[?25hRequirement already satisfied: spacy<3.3.0,>=3.2.0 in /opt/conda/lib/python3.9/site-packages (from en-core-web-sm==3.2.0) (3.2.0)\n",
      "Requirement already satisfied: pydantic!=1.8,!=1.8.1,<1.9.0,>=1.7.4 in /opt/conda/lib/python3.9/site-packages (from spacy<3.3.0,>=3.2.0->en-core-web-sm==3.2.0) (1.8.2)\n",
      "Requirement already satisfied: spacy-loggers<2.0.0,>=1.0.0 in /opt/conda/lib/python3.9/site-packages (from spacy<3.3.0,>=3.2.0->en-core-web-sm==3.2.0) (1.0.3)\n",
      "Requirement already satisfied: numpy>=1.15.0 in /opt/conda/lib/python3.9/site-packages (from spacy<3.3.0,>=3.2.0->en-core-web-sm==3.2.0) (1.21.1)\n",
      "Requirement already satisfied: wasabi<1.1.0,>=0.8.1 in /opt/conda/lib/python3.9/site-packages (from spacy<3.3.0,>=3.2.0->en-core-web-sm==3.2.0) (0.10.1)\n",
      "Requirement already satisfied: murmurhash<1.1.0,>=0.28.0 in /opt/conda/lib/python3.9/site-packages (from spacy<3.3.0,>=3.2.0->en-core-web-sm==3.2.0) (1.0.8)\n",
      "Requirement already satisfied: preshed<3.1.0,>=3.0.2 in /opt/conda/lib/python3.9/site-packages (from spacy<3.3.0,>=3.2.0->en-core-web-sm==3.2.0) (3.0.7)\n",
      "Requirement already satisfied: catalogue<2.1.0,>=2.0.6 in /opt/conda/lib/python3.9/site-packages (from spacy<3.3.0,>=3.2.0->en-core-web-sm==3.2.0) (2.0.8)\n",
      "Requirement already satisfied: packaging>=20.0 in /opt/conda/lib/python3.9/site-packages (from spacy<3.3.0,>=3.2.0->en-core-web-sm==3.2.0) (21.3)\n",
      "Requirement already satisfied: typer<0.5.0,>=0.3.0 in /opt/conda/lib/python3.9/site-packages (from spacy<3.3.0,>=3.2.0->en-core-web-sm==3.2.0) (0.4.2)\n",
      "Requirement already satisfied: langcodes<4.0.0,>=3.2.0 in /opt/conda/lib/python3.9/site-packages (from spacy<3.3.0,>=3.2.0->en-core-web-sm==3.2.0) (3.3.0)\n",
      "Requirement already satisfied: requests<3.0.0,>=2.13.0 in /opt/conda/lib/python3.9/site-packages (from spacy<3.3.0,>=3.2.0->en-core-web-sm==3.2.0) (2.25.1)\n",
      "Requirement already satisfied: tqdm<5.0.0,>=4.38.0 in /opt/conda/lib/python3.9/site-packages (from spacy<3.3.0,>=3.2.0->en-core-web-sm==3.2.0) (4.61.2)\n",
      "Requirement already satisfied: jinja2 in /opt/conda/lib/python3.9/site-packages (from spacy<3.3.0,>=3.2.0->en-core-web-sm==3.2.0) (3.0.1)\n",
      "Requirement already satisfied: srsly<3.0.0,>=2.4.1 in /opt/conda/lib/python3.9/site-packages (from spacy<3.3.0,>=3.2.0->en-core-web-sm==3.2.0) (2.4.4)\n",
      "Requirement already satisfied: blis<0.8.0,>=0.4.0 in /opt/conda/lib/python3.9/site-packages (from spacy<3.3.0,>=3.2.0->en-core-web-sm==3.2.0) (0.7.8)\n",
      "Requirement already satisfied: thinc<8.1.0,>=8.0.12 in /opt/conda/lib/python3.9/site-packages (from spacy<3.3.0,>=3.2.0->en-core-web-sm==3.2.0) (8.0.17)\n",
      "Requirement already satisfied: setuptools in /opt/conda/lib/python3.9/site-packages (from spacy<3.3.0,>=3.2.0->en-core-web-sm==3.2.0) (49.6.0.post20210108)\n",
      "Requirement already satisfied: pathy>=0.3.5 in /opt/conda/lib/python3.9/site-packages (from spacy<3.3.0,>=3.2.0->en-core-web-sm==3.2.0) (0.6.2)\n",
      "Requirement already satisfied: cymem<2.1.0,>=2.0.2 in /opt/conda/lib/python3.9/site-packages (from spacy<3.3.0,>=3.2.0->en-core-web-sm==3.2.0) (2.0.6)\n",
      "Requirement already satisfied: spacy-legacy<3.1.0,>=3.0.8 in /opt/conda/lib/python3.9/site-packages (from spacy<3.3.0,>=3.2.0->en-core-web-sm==3.2.0) (3.0.10)\n",
      "Requirement already satisfied: pyparsing!=3.0.5,>=2.0.2 in /opt/conda/lib/python3.9/site-packages (from packaging>=20.0->spacy<3.3.0,>=3.2.0->en-core-web-sm==3.2.0) (2.4.7)\n",
      "Requirement already satisfied: smart-open<6.0.0,>=5.2.1 in /opt/conda/lib/python3.9/site-packages (from pathy>=0.3.5->spacy<3.3.0,>=3.2.0->en-core-web-sm==3.2.0) (5.2.1)\n",
      "Requirement already satisfied: typing-extensions>=3.7.4.3 in /opt/conda/lib/python3.9/site-packages (from pydantic!=1.8,!=1.8.1,<1.9.0,>=1.7.4->spacy<3.3.0,>=3.2.0->en-core-web-sm==3.2.0) (4.3.0)\n",
      "Requirement already satisfied: idna<3,>=2.5 in /opt/conda/lib/python3.9/site-packages (from requests<3.0.0,>=2.13.0->spacy<3.3.0,>=3.2.0->en-core-web-sm==3.2.0) (2.10)\n",
      "Requirement already satisfied: certifi>=2017.4.17 in /opt/conda/lib/python3.9/site-packages (from requests<3.0.0,>=2.13.0->spacy<3.3.0,>=3.2.0->en-core-web-sm==3.2.0) (2022.6.15)\n",
      "Requirement already satisfied: chardet<5,>=3.0.2 in /opt/conda/lib/python3.9/site-packages (from requests<3.0.0,>=2.13.0->spacy<3.3.0,>=3.2.0->en-core-web-sm==3.2.0) (4.0.0)\n",
      "Requirement already satisfied: urllib3<1.27,>=1.21.1 in /opt/conda/lib/python3.9/site-packages (from requests<3.0.0,>=2.13.0->spacy<3.3.0,>=3.2.0->en-core-web-sm==3.2.0) (1.26.6)\n"
     ]
    },
    {
     "name": "stdout",
     "output_type": "stream",
     "text": [
      "Requirement already satisfied: click<9.0.0,>=7.1.1 in /opt/conda/lib/python3.9/site-packages (from typer<0.5.0,>=0.3.0->spacy<3.3.0,>=3.2.0->en-core-web-sm==3.2.0) (8.1.3)\n",
      "Requirement already satisfied: MarkupSafe>=2.0 in /opt/conda/lib/python3.9/site-packages (from jinja2->spacy<3.3.0,>=3.2.0->en-core-web-sm==3.2.0) (2.1.1)\n",
      "\u001b[38;5;2m✔ Download and installation successful\u001b[0m\n",
      "You can now load the package via spacy.load('en_core_web_sm')\n"
     ]
    }
   ],
   "source": [
    "import sys\n",
    "!{sys.executable} -m pip install spacy\n",
    "!{sys.executable} -m spacy download en_core_web_sm"
   ]
  },
  {
   "cell_type": "markdown",
   "metadata": {},
   "source": [
    "Импортируем библиотеки:"
   ]
  },
  {
   "cell_type": "code",
   "execution_count": 2,
   "metadata": {},
   "outputs": [],
   "source": [
    "import re\n",
    "import torch\n",
    "import transformers\n",
    "import warnings\n",
    "warnings.simplefilter('ignore')\n",
    "\n",
    "import pandas as pd\n",
    "import numpy as np\n",
    "import matplotlib.pyplot as plt\n",
    "import seaborn as sns\n",
    "\n",
    "from pymystem3 import Mystem\n",
    "import nltk\n",
    "from nltk.stem import WordNetLemmatizer\n",
    "from nltk.corpus import stopwords\n",
    "import spacy\n",
    "\n",
    "from tqdm import tqdm\n",
    "from tqdm._tqdm_notebook import tqdm_notebook\n",
    "tqdm_notebook.pandas()\n",
    "\n",
    "from sklearn.feature_extraction.text import TfidfVectorizer\n",
    "from sklearn.model_selection import cross_val_score, train_test_split, GridSearchCV\n",
    "from sklearn.metrics import f1_score\n",
    "from sklearn.linear_model import LogisticRegression\n",
    "from sklearn.svm import LinearSVC\n",
    "from sklearn.metrics import confusion_matrix\n",
    "from sklearn.pipeline import Pipeline\n",
    "from lightgbm import LGBMClassifier \n",
    "from catboost import CatBoostClassifier\n",
    "\n",
    "SEED=777"
   ]
  },
  {
   "cell_type": "code",
   "execution_count": 3,
   "metadata": {},
   "outputs": [
    {
     "name": "stderr",
     "output_type": "stream",
     "text": [
      "[nltk_data] Downloading package stopwords to /home/jovyan/nltk_data...\n",
      "[nltk_data]   Package stopwords is already up-to-date!\n"
     ]
    }
   ],
   "source": [
    "nltk.download('stopwords')\n",
    "stopwords = set(stopwords.words('english'))"
   ]
  },
  {
   "cell_type": "markdown",
   "metadata": {},
   "source": [
    "Загрузим датасет и сохраним в переменной:"
   ]
  },
  {
   "cell_type": "code",
   "execution_count": 4,
   "metadata": {},
   "outputs": [],
   "source": [
    "toxic_comments = pd.read_csv('/datasets/toxic_comments.csv', index_col=0)"
   ]
  },
  {
   "cell_type": "markdown",
   "metadata": {},
   "source": [
    "Выведем 5 случайных строк датасета:"
   ]
  },
  {
   "cell_type": "code",
   "execution_count": 5,
   "metadata": {},
   "outputs": [
    {
     "data": {
      "text/html": [
       "<div>\n",
       "<style scoped>\n",
       "    .dataframe tbody tr th:only-of-type {\n",
       "        vertical-align: middle;\n",
       "    }\n",
       "\n",
       "    .dataframe tbody tr th {\n",
       "        vertical-align: top;\n",
       "    }\n",
       "\n",
       "    .dataframe thead th {\n",
       "        text-align: right;\n",
       "    }\n",
       "</style>\n",
       "<table border=\"1\" class=\"dataframe\">\n",
       "  <thead>\n",
       "    <tr style=\"text-align: right;\">\n",
       "      <th></th>\n",
       "      <th>text</th>\n",
       "      <th>toxic</th>\n",
       "    </tr>\n",
       "  </thead>\n",
       "  <tbody>\n",
       "    <tr>\n",
       "      <th>50917</th>\n",
       "      <td>Hi there, in response to your question above, ...</td>\n",
       "      <td>0</td>\n",
       "    </tr>\n",
       "    <tr>\n",
       "      <th>11727</th>\n",
       "      <td>Hello. I am on a public computer where there h...</td>\n",
       "      <td>0</td>\n",
       "    </tr>\n",
       "    <tr>\n",
       "      <th>104476</th>\n",
       "      <td>I'm confused. My plea for help was ignored abo...</td>\n",
       "      <td>0</td>\n",
       "    </tr>\n",
       "    <tr>\n",
       "      <th>88677</th>\n",
       "      <td>She should throw away the glasses and let her ...</td>\n",
       "      <td>0</td>\n",
       "    </tr>\n",
       "    <tr>\n",
       "      <th>152435</th>\n",
       "      <td>.sO YOU BITCH NIGGAS MUST NOT SAY SHIT.......Y...</td>\n",
       "      <td>1</td>\n",
       "    </tr>\n",
       "  </tbody>\n",
       "</table>\n",
       "</div>"
      ],
      "text/plain": [
       "                                                     text  toxic\n",
       "50917   Hi there, in response to your question above, ...      0\n",
       "11727   Hello. I am on a public computer where there h...      0\n",
       "104476  I'm confused. My plea for help was ignored abo...      0\n",
       "88677   She should throw away the glasses and let her ...      0\n",
       "152435  .sO YOU BITCH NIGGAS MUST NOT SAY SHIT.......Y...      1"
      ]
     },
     "execution_count": 5,
     "metadata": {},
     "output_type": "execute_result"
    }
   ],
   "source": [
    "toxic_comments.sample(5)"
   ]
  },
  {
   "cell_type": "markdown",
   "metadata": {},
   "source": [
    "Тексты на английском языке, их необходимо будет очистить от стоп-слов, а отдельные слова привести к начальной словарной форме (лемме)."
   ]
  },
  {
   "cell_type": "markdown",
   "metadata": {},
   "source": [
    "Посмотрим общую информацию о датасете:"
   ]
  },
  {
   "cell_type": "code",
   "execution_count": 6,
   "metadata": {},
   "outputs": [
    {
     "name": "stdout",
     "output_type": "stream",
     "text": [
      "<class 'pandas.core.frame.DataFrame'>\n",
      "Int64Index: 159292 entries, 0 to 159450\n",
      "Data columns (total 2 columns):\n",
      " #   Column  Non-Null Count   Dtype \n",
      "---  ------  --------------   ----- \n",
      " 0   text    159292 non-null  object\n",
      " 1   toxic   159292 non-null  int64 \n",
      "dtypes: int64(1), object(1)\n",
      "memory usage: 3.6+ MB\n"
     ]
    },
    {
     "data": {
      "text/html": [
       "<div>\n",
       "<style scoped>\n",
       "    .dataframe tbody tr th:only-of-type {\n",
       "        vertical-align: middle;\n",
       "    }\n",
       "\n",
       "    .dataframe tbody tr th {\n",
       "        vertical-align: top;\n",
       "    }\n",
       "\n",
       "    .dataframe thead th {\n",
       "        text-align: right;\n",
       "    }\n",
       "</style>\n",
       "<table border=\"1\" class=\"dataframe\">\n",
       "  <thead>\n",
       "    <tr style=\"text-align: right;\">\n",
       "      <th></th>\n",
       "      <th>toxic</th>\n",
       "    </tr>\n",
       "  </thead>\n",
       "  <tbody>\n",
       "    <tr>\n",
       "      <th>count</th>\n",
       "      <td>159292.000000</td>\n",
       "    </tr>\n",
       "    <tr>\n",
       "      <th>mean</th>\n",
       "      <td>0.101612</td>\n",
       "    </tr>\n",
       "    <tr>\n",
       "      <th>std</th>\n",
       "      <td>0.302139</td>\n",
       "    </tr>\n",
       "    <tr>\n",
       "      <th>min</th>\n",
       "      <td>0.000000</td>\n",
       "    </tr>\n",
       "    <tr>\n",
       "      <th>25%</th>\n",
       "      <td>0.000000</td>\n",
       "    </tr>\n",
       "    <tr>\n",
       "      <th>50%</th>\n",
       "      <td>0.000000</td>\n",
       "    </tr>\n",
       "    <tr>\n",
       "      <th>75%</th>\n",
       "      <td>0.000000</td>\n",
       "    </tr>\n",
       "    <tr>\n",
       "      <th>max</th>\n",
       "      <td>1.000000</td>\n",
       "    </tr>\n",
       "  </tbody>\n",
       "</table>\n",
       "</div>"
      ],
      "text/plain": [
       "               toxic\n",
       "count  159292.000000\n",
       "mean        0.101612\n",
       "std         0.302139\n",
       "min         0.000000\n",
       "25%         0.000000\n",
       "50%         0.000000\n",
       "75%         0.000000\n",
       "max         1.000000"
      ]
     },
     "execution_count": 6,
     "metadata": {},
     "output_type": "execute_result"
    }
   ],
   "source": [
    "toxic_comments.info()\n",
    "toxic_comments.describe()"
   ]
  },
  {
   "cell_type": "markdown",
   "metadata": {},
   "source": [
    "Пропусков в данных нет, типы данных соответсвуют ожидаемым.\n",
    "\n",
    "Проверим наличие явных дубликатов:"
   ]
  },
  {
   "cell_type": "code",
   "execution_count": 7,
   "metadata": {},
   "outputs": [
    {
     "data": {
      "text/plain": [
       "0"
      ]
     },
     "execution_count": 7,
     "metadata": {},
     "output_type": "execute_result"
    }
   ],
   "source": [
    "toxic_comments.duplicated().sum()"
   ]
  },
  {
   "cell_type": "markdown",
   "metadata": {},
   "source": [
    "В датасете нет явных дубликатов. \n",
    "\n",
    "Проверим баланс классов:"
   ]
  },
  {
   "cell_type": "code",
   "execution_count": 8,
   "metadata": {},
   "outputs": [
    {
     "data": {
      "text/plain": [
       "0    0.898388\n",
       "1    0.101612\n",
       "Name: toxic, dtype: float64"
      ]
     },
     "execution_count": 8,
     "metadata": {},
     "output_type": "execute_result"
    }
   ],
   "source": [
    "toxic_comments['toxic'].value_counts(normalize=True)"
   ]
  },
  {
   "cell_type": "markdown",
   "metadata": {},
   "source": [
    "В данных присутствует сильный дисбаланс классов, это надо будет учесть при разделении датасета на обучающую и тестовую выборки."
   ]
  },
  {
   "cell_type": "markdown",
   "metadata": {},
   "source": [
    "Проведем предобработку текстов - токенизацию и лемматизацию, для этого создадим функцию:"
   ]
  },
  {
   "cell_type": "code",
   "execution_count": 9,
   "metadata": {},
   "outputs": [],
   "source": [
    "lemmatizer = spacy.load('en_core_web_sm', disable=['parser', 'ner'])"
   ]
  },
  {
   "cell_type": "code",
   "execution_count": 10,
   "metadata": {},
   "outputs": [],
   "source": [
    "def func_lemm_text(text):\n",
    "    text = re.sub(r\"[^a-zA-Z']\", ' ', text)\n",
    "    text = ' '.join(text.lower().split())\n",
    "    doc = lemmatizer(text)\n",
    "    clear_text = \" \".join([token.lemma_ for token in doc if token.lemma_ not in stopwords])\n",
    "    return clear_text"
   ]
  },
  {
   "cell_type": "code",
   "execution_count": 11,
   "metadata": {},
   "outputs": [
    {
     "data": {
      "application/vnd.jupyter.widget-view+json": {
       "model_id": "c7e495e9062e451d91ccebc1e3d2018f",
       "version_major": 2,
       "version_minor": 0
      },
      "text/plain": [
       "  0%|          | 0/159292 [00:00<?, ?it/s]"
      ]
     },
     "metadata": {},
     "output_type": "display_data"
    },
    {
     "data": {
      "text/html": [
       "<div>\n",
       "<style scoped>\n",
       "    .dataframe tbody tr th:only-of-type {\n",
       "        vertical-align: middle;\n",
       "    }\n",
       "\n",
       "    .dataframe tbody tr th {\n",
       "        vertical-align: top;\n",
       "    }\n",
       "\n",
       "    .dataframe thead th {\n",
       "        text-align: right;\n",
       "    }\n",
       "</style>\n",
       "<table border=\"1\" class=\"dataframe\">\n",
       "  <thead>\n",
       "    <tr style=\"text-align: right;\">\n",
       "      <th></th>\n",
       "      <th>text</th>\n",
       "      <th>toxic</th>\n",
       "      <th>clear_text</th>\n",
       "    </tr>\n",
       "  </thead>\n",
       "  <tbody>\n",
       "    <tr>\n",
       "      <th>0</th>\n",
       "      <td>Explanation\\nWhy the edits made under my usern...</td>\n",
       "      <td>0</td>\n",
       "      <td>explanation edit make username hardcore metall...</td>\n",
       "    </tr>\n",
       "    <tr>\n",
       "      <th>1</th>\n",
       "      <td>D'aww! He matches this background colour I'm s...</td>\n",
       "      <td>0</td>\n",
       "      <td>d'aww match background colour I seemingly stuc...</td>\n",
       "    </tr>\n",
       "    <tr>\n",
       "      <th>2</th>\n",
       "      <td>Hey man, I'm really not trying to edit war. It...</td>\n",
       "      <td>0</td>\n",
       "      <td>hey man I really try edit war guy constantly r...</td>\n",
       "    </tr>\n",
       "    <tr>\n",
       "      <th>3</th>\n",
       "      <td>\"\\nMore\\nI can't make any real suggestions on ...</td>\n",
       "      <td>0</td>\n",
       "      <td>I make real suggestion improvement I wonder se...</td>\n",
       "    </tr>\n",
       "    <tr>\n",
       "      <th>4</th>\n",
       "      <td>You, sir, are my hero. Any chance you remember...</td>\n",
       "      <td>0</td>\n",
       "      <td>sir hero chance remember page</td>\n",
       "    </tr>\n",
       "  </tbody>\n",
       "</table>\n",
       "</div>"
      ],
      "text/plain": [
       "                                                text  toxic  \\\n",
       "0  Explanation\\nWhy the edits made under my usern...      0   \n",
       "1  D'aww! He matches this background colour I'm s...      0   \n",
       "2  Hey man, I'm really not trying to edit war. It...      0   \n",
       "3  \"\\nMore\\nI can't make any real suggestions on ...      0   \n",
       "4  You, sir, are my hero. Any chance you remember...      0   \n",
       "\n",
       "                                          clear_text  \n",
       "0  explanation edit make username hardcore metall...  \n",
       "1  d'aww match background colour I seemingly stuc...  \n",
       "2  hey man I really try edit war guy constantly r...  \n",
       "3  I make real suggestion improvement I wonder se...  \n",
       "4                      sir hero chance remember page  "
      ]
     },
     "execution_count": 11,
     "metadata": {},
     "output_type": "execute_result"
    }
   ],
   "source": [
    "toxic_comments['clear_text'] = toxic_comments['text'].progress_apply(lambda x: func_lemm_text(x))\n",
    "toxic_comments.head()"
   ]
  },
  {
   "cell_type": "markdown",
   "metadata": {},
   "source": [
    "Разделим датасет на обучающую и тестовую выборки (чтобы выборка была более репрезентативной при разбиении будем использовать параметр stratify):"
   ]
  },
  {
   "cell_type": "code",
   "execution_count": 12,
   "metadata": {},
   "outputs": [],
   "source": [
    "X, y = toxic_comments.drop(['text', 'toxic'], axis=1), toxic_comments['toxic']\n",
    "X_train, X_test, y_train, y_test = train_test_split(X, y, test_size=0.3, random_state=SEED, stratify=y)"
   ]
  },
  {
   "cell_type": "code",
   "execution_count": 13,
   "metadata": {},
   "outputs": [
    {
     "name": "stdout",
     "output_type": "stream",
     "text": [
      "Размеры получившихся выборок:\n",
      " Признаки, обучающая выборка: (111504, 1) \n",
      " Признаки, тестовая выборка: (47788, 1) \n",
      " Целевой признак, обучающая выборка: (111504,) \n",
      " Целевой признак, тестовая выборка: (47788,) \n",
      "\n"
     ]
    }
   ],
   "source": [
    "print('Размеры получившихся выборок:\\n '\n",
    "      'Признаки, обучающая выборка:', X_train.shape, '\\n',\n",
    "      'Признаки, тестовая выборка:', X_test.shape, '\\n',\n",
    "      'Целевой признак, обучающая выборка:', y_train.shape, '\\n',\n",
    "      'Целевой признак, тестовая выборка:', y_test.shape, '\\n')"
   ]
  },
  {
   "cell_type": "markdown",
   "metadata": {},
   "source": [
    "## Обучение моделей и расчет целевой метрики качества"
   ]
  },
  {
   "cell_type": "markdown",
   "metadata": {},
   "source": [
    "### Техника TF-IDF"
   ]
  },
  {
   "cell_type": "markdown",
   "metadata": {},
   "source": [
    "Создадим новые признаки с помощью техники TF-IDF:"
   ]
  },
  {
   "cell_type": "code",
   "execution_count": 14,
   "metadata": {},
   "outputs": [],
   "source": [
    "count_tf_idf = TfidfVectorizer(lowercase=True)\n",
    "X_train_tf_idf = count_tf_idf.fit_transform(X_train['clear_text'])\n",
    "X_test_tf_idf = count_tf_idf.transform(X_test['clear_text']) # transform(), чтобы не было утечки тестовых данных"
   ]
  },
  {
   "cell_type": "markdown",
   "metadata": {},
   "source": [
    "Далее обучим и рассчитаем метрики качества на моделях, построенных по следующим алгоритмам:\n",
    "- логистической регрессии LogisticRegression;\n",
    "- линейной классификации методом опорных векторов LinearSVC;\n",
    "- градиентного бустинга LGBMClassifier."
   ]
  },
  {
   "cell_type": "markdown",
   "metadata": {},
   "source": [
    "### Модель по алгоритму LogisticRegression"
   ]
  },
  {
   "cell_type": "markdown",
   "metadata": {},
   "source": [
    "Подберем гиперпараметры модели, построенной по алгоритму логистической регрессии LogisticRegression, используя GridSearchCV. Для того чтобы не было утечки данных из тестовых фолдов при кросс-валидации, используем Pipeline:"
   ]
  },
  {
   "cell_type": "code",
   "execution_count": 15,
   "metadata": {},
   "outputs": [],
   "source": [
    "lr_pipe = Pipeline([\n",
    "    ('tfidf', TfidfVectorizer()),\n",
    "    ('lr', LogisticRegression(random_state=SEED, class_weight = 'balanced')),\n",
    "])\n",
    "\n",
    "lr_params = [{\n",
    "    #'tfidf__max_df': (0.71, 0.85, 0.99),\n",
    "    #'tfidf__max_features': (None, 5000, 10000, 50000),\n",
    "    #'tfidf__ngram_range': ((1, 1), (1, 2), (1,3)), \n",
    "    #'tfidf__use_idf': (True, False),\n",
    "    #'tfidf__norm': ('l1', 'l2', None),\n",
    "    'lr__solver': ('saga',), #saga для больших датасетов\n",
    "    #'lr__penalty': ('l1', 'l2'),\n",
    "    'lr__C': (1.0, 10),\n",
    "    'lr__tol': (0.0001, 0.001)\n",
    "}]\n",
    "\n",
    "lr_grid = GridSearchCV(estimator=lr_pipe, param_grid=lr_params, cv=3, scoring='f1', n_jobs=-1)"
   ]
  },
  {
   "cell_type": "markdown",
   "metadata": {},
   "source": [
    "Обучим модель:"
   ]
  },
  {
   "cell_type": "code",
   "execution_count": 16,
   "metadata": {},
   "outputs": [
    {
     "name": "stdout",
     "output_type": "stream",
     "text": [
      "CPU times: user 2min 2s, sys: 377 ms, total: 2min 3s\n",
      "Wall time: 2min 3s\n"
     ]
    },
    {
     "data": {
      "text/plain": [
       "GridSearchCV(cv=3,\n",
       "             estimator=Pipeline(steps=[('tfidf', TfidfVectorizer()),\n",
       "                                       ('lr',\n",
       "                                        LogisticRegression(class_weight='balanced',\n",
       "                                                           random_state=777))]),\n",
       "             n_jobs=-1,\n",
       "             param_grid=[{'lr__C': (1.0, 10), 'lr__solver': ('saga',),\n",
       "                          'lr__tol': (0.0001, 0.001)}],\n",
       "             scoring='f1')"
      ]
     },
     "execution_count": 16,
     "metadata": {},
     "output_type": "execute_result"
    }
   ],
   "source": [
    "%%time\n",
    "lr_grid.fit(X_train['clear_text'], y_train)\n",
    "#Wall time: 1min 49s"
   ]
  },
  {
   "cell_type": "markdown",
   "metadata": {},
   "source": [
    "Найдем гиперпараметры лучшей модели:"
   ]
  },
  {
   "cell_type": "code",
   "execution_count": 17,
   "metadata": {},
   "outputs": [
    {
     "data": {
      "text/plain": [
       "{'lr__C': 10, 'lr__solver': 'saga', 'lr__tol': 0.0001}"
      ]
     },
     "execution_count": 17,
     "metadata": {},
     "output_type": "execute_result"
    }
   ],
   "source": [
    "lr_grid.best_params_"
   ]
  },
  {
   "cell_type": "markdown",
   "metadata": {},
   "source": [
    "Найдем метрику качества f1-мера модели с наилучшими гиперпараметрами:"
   ]
  },
  {
   "cell_type": "code",
   "execution_count": 18,
   "metadata": {},
   "outputs": [
    {
     "data": {
      "text/plain": [
       "0.7652034184514843"
      ]
     },
     "execution_count": 18,
     "metadata": {},
     "output_type": "execute_result"
    }
   ],
   "source": [
    "lr_grid.best_score_"
   ]
  },
  {
   "cell_type": "markdown",
   "metadata": {},
   "source": [
    "Таким образом, метрика качества f1-мера для модели, построенной по алгоритму LogisticRegression, на тренировочный выборке получилась равной 0.7652."
   ]
  },
  {
   "cell_type": "markdown",
   "metadata": {},
   "source": [
    "### Модель по алгоритму LinearSVC"
   ]
  },
  {
   "cell_type": "markdown",
   "metadata": {},
   "source": [
    "Аналогичный pipeline создадим для модели, построенной по алгоритму линейной классификации методом опорных векторов LinearSVC:"
   ]
  },
  {
   "cell_type": "code",
   "execution_count": 19,
   "metadata": {},
   "outputs": [],
   "source": [
    "lsvc_pipe = Pipeline([\n",
    "    ('tfidf', TfidfVectorizer()),\n",
    "    ('lsvc', LinearSVC(random_state=SEED, class_weight = 'balanced')),\n",
    "])\n",
    "\n",
    "lsvc_params = [{\n",
    "    #'lsvc__penalty': ('l1', 'l2'),\n",
    "    'lsvc__C': (1.0, 10.0),\n",
    "    'lsvc__tol': (0.0001, 0.001, 0.01),\n",
    "    'lsvc__max_iter': range(70, 120, 10)\n",
    "}]\n",
    "\n",
    "lsvc_grid = GridSearchCV(estimator=lsvc_pipe, param_grid=lsvc_params, cv=3, scoring='f1', n_jobs=-1, verbose=0)"
   ]
  },
  {
   "cell_type": "markdown",
   "metadata": {},
   "source": [
    "Обучим модель:"
   ]
  },
  {
   "cell_type": "code",
   "execution_count": 20,
   "metadata": {
    "scrolled": false
   },
   "outputs": [
    {
     "name": "stdout",
     "output_type": "stream",
     "text": [
      "CPU times: user 6min 30s, sys: 1.99 s, total: 6min 32s\n",
      "Wall time: 6min 32s\n"
     ]
    },
    {
     "data": {
      "text/plain": [
       "GridSearchCV(cv=3,\n",
       "             estimator=Pipeline(steps=[('tfidf', TfidfVectorizer()),\n",
       "                                       ('lsvc',\n",
       "                                        LinearSVC(class_weight='balanced',\n",
       "                                                  random_state=777))]),\n",
       "             n_jobs=-1,\n",
       "             param_grid=[{'lsvc__C': (1.0, 10.0),\n",
       "                          'lsvc__max_iter': range(70, 120, 10),\n",
       "                          'lsvc__tol': (0.0001, 0.001, 0.01)}],\n",
       "             scoring='f1')"
      ]
     },
     "execution_count": 20,
     "metadata": {},
     "output_type": "execute_result"
    }
   ],
   "source": [
    "%%time\n",
    "lsvc_grid.fit(X_train['clear_text'], y_train)\n",
    "# Wall time: 5min 55s"
   ]
  },
  {
   "cell_type": "markdown",
   "metadata": {},
   "source": [
    "Найдем гиперпараметры лучшей модели:"
   ]
  },
  {
   "cell_type": "code",
   "execution_count": 21,
   "metadata": {},
   "outputs": [
    {
     "data": {
      "text/plain": [
       "{'lsvc__C': 1.0, 'lsvc__max_iter': 70, 'lsvc__tol': 0.0001}"
      ]
     },
     "execution_count": 21,
     "metadata": {},
     "output_type": "execute_result"
    }
   ],
   "source": [
    "lsvc_grid.best_params_"
   ]
  },
  {
   "cell_type": "markdown",
   "metadata": {},
   "source": [
    "Найдем метрику качества f1-мера модели с наилучшими гиперпараметрами:"
   ]
  },
  {
   "cell_type": "code",
   "execution_count": 22,
   "metadata": {},
   "outputs": [
    {
     "data": {
      "text/plain": [
       "0.758761280264963"
      ]
     },
     "execution_count": 22,
     "metadata": {},
     "output_type": "execute_result"
    }
   ],
   "source": [
    "lsvc_grid.best_score_"
   ]
  },
  {
   "cell_type": "markdown",
   "metadata": {},
   "source": [
    "Таким образом, метрика качества f1-мера для модели, построенной по алгоритму LinearSVC, на тренировочный выборке получилась равной 0.7588."
   ]
  },
  {
   "cell_type": "markdown",
   "metadata": {},
   "source": [
    "### Модель по алгоритму LGBMClassifier"
   ]
  },
  {
   "cell_type": "markdown",
   "metadata": {},
   "source": [
    "Аналогичный pipeline сделаем для градиентного бустинга LGBMClassifier:"
   ]
  },
  {
   "cell_type": "code",
   "execution_count": 23,
   "metadata": {},
   "outputs": [],
   "source": [
    "lgbm_pipe = Pipeline([\n",
    "    ('tfidf', TfidfVectorizer()),\n",
    "    ('lgbm', LGBMClassifier(random_state=SEED, class_weight = 'balanced')),\n",
    "])\n",
    "\n",
    "lgbm_params = {\n",
    "    'lgbm__n_estimators': (100, 200),\n",
    "    #'lgbm__learning_rate': (0.1, 1.0),\n",
    "    #'lgbm__max_depth': (-1, 5, 10),\n",
    "    'lgbm__num_leaves': (11, 21, 31)\n",
    "}\n",
    "\n",
    "lgbm_grid = GridSearchCV(estimator=lgbm_pipe, param_grid=lgbm_params, cv=3, scoring='f1', n_jobs=-1, verbose=0)"
   ]
  },
  {
   "cell_type": "markdown",
   "metadata": {},
   "source": [
    "Обучим модель:"
   ]
  },
  {
   "cell_type": "code",
   "execution_count": 24,
   "metadata": {},
   "outputs": [
    {
     "name": "stdout",
     "output_type": "stream",
     "text": [
      "CPU times: user 28min 56s, sys: 7.05 s, total: 29min 3s\n",
      "Wall time: 29min 10s\n"
     ]
    },
    {
     "data": {
      "text/plain": [
       "GridSearchCV(cv=3,\n",
       "             estimator=Pipeline(steps=[('tfidf', TfidfVectorizer()),\n",
       "                                       ('lgbm',\n",
       "                                        LGBMClassifier(class_weight='balanced',\n",
       "                                                       random_state=777))]),\n",
       "             n_jobs=-1,\n",
       "             param_grid={'lgbm__n_estimators': (100, 200),\n",
       "                         'lgbm__num_leaves': (11, 21, 31)},\n",
       "             scoring='f1')"
      ]
     },
     "execution_count": 24,
     "metadata": {},
     "output_type": "execute_result"
    }
   ],
   "source": [
    "%%time\n",
    "lgbm_grid.fit(X_train['clear_text'], y_train)\n",
    "# Wall time: Wall time: 22min 29s"
   ]
  },
  {
   "cell_type": "markdown",
   "metadata": {},
   "source": [
    "Найдем гиперпараметры лучшей модели:"
   ]
  },
  {
   "cell_type": "code",
   "execution_count": 25,
   "metadata": {},
   "outputs": [
    {
     "data": {
      "text/plain": [
       "{'lgbm__n_estimators': 200, 'lgbm__num_leaves': 31}"
      ]
     },
     "execution_count": 25,
     "metadata": {},
     "output_type": "execute_result"
    }
   ],
   "source": [
    "lgbm_grid.best_params_"
   ]
  },
  {
   "cell_type": "markdown",
   "metadata": {},
   "source": [
    "Рассчитаем метрику качества f1-мера модели с наилучшими гиперпараметрами:"
   ]
  },
  {
   "cell_type": "code",
   "execution_count": 26,
   "metadata": {},
   "outputs": [
    {
     "data": {
      "text/plain": [
       "0.750058561464133"
      ]
     },
     "execution_count": 26,
     "metadata": {},
     "output_type": "execute_result"
    }
   ],
   "source": [
    "lgbm_grid.best_score_"
   ]
  },
  {
   "cell_type": "markdown",
   "metadata": {},
   "source": [
    "Таким образом, метрика качества f1-мера для модели, построенной по алгоритму LGBMClassifier, на тренировочный выборке получилась равной 0.7652."
   ]
  },
  {
   "cell_type": "markdown",
   "metadata": {},
   "source": [
    "## Анализ моделей"
   ]
  },
  {
   "cell_type": "markdown",
   "metadata": {},
   "source": [
    "Представим итоговый результат и сравним получившиеся метрики качества моделей.  \n",
    "Сохраним получившиеся наилучшие метрики по каждой модели в соответствующих переменных:"
   ]
  },
  {
   "cell_type": "code",
   "execution_count": 27,
   "metadata": {},
   "outputs": [
    {
     "data": {
      "text/plain": [
       "0.7652034184514843"
      ]
     },
     "execution_count": 27,
     "metadata": {},
     "output_type": "execute_result"
    }
   ],
   "source": [
    "lr_grid_score = lr_grid.best_score_\n",
    "lr_grid_score"
   ]
  },
  {
   "cell_type": "code",
   "execution_count": 28,
   "metadata": {},
   "outputs": [
    {
     "data": {
      "text/plain": [
       "0.758761280264963"
      ]
     },
     "execution_count": 28,
     "metadata": {},
     "output_type": "execute_result"
    }
   ],
   "source": [
    "lsvc_grid_score = lsvc_grid.best_score_\n",
    "lsvc_grid_score"
   ]
  },
  {
   "cell_type": "code",
   "execution_count": 29,
   "metadata": {},
   "outputs": [
    {
     "data": {
      "text/plain": [
       "0.750058561464133"
      ]
     },
     "execution_count": 29,
     "metadata": {},
     "output_type": "execute_result"
    }
   ],
   "source": [
    "lgbm_grid_score = lgbm_grid.best_score_\n",
    "lgbm_grid_score"
   ]
  },
  {
   "cell_type": "markdown",
   "metadata": {},
   "source": [
    "Результат сохраним в датафрейм:"
   ]
  },
  {
   "cell_type": "code",
   "execution_count": 30,
   "metadata": {},
   "outputs": [
    {
     "data": {
      "text/html": [
       "<style  type=\"text/css\" >\n",
       "#T_a741c_row0_col0{\n",
       "            background-color:  #f7fcf5;\n",
       "            color:  #000000;\n",
       "        }#T_a741c_row1_col0{\n",
       "            background-color:  #55b567;\n",
       "            color:  #000000;\n",
       "        }#T_a741c_row2_col0{\n",
       "            background-color:  #00441b;\n",
       "            color:  #f1f1f1;\n",
       "        }</style><table id=\"T_a741c_\" ><thead>    <tr>        <th class=\"blank level0\" ></th>        <th class=\"col_heading level0 col0\" >f1_train</th>    </tr></thead><tbody>\n",
       "                <tr>\n",
       "                        <th id=\"T_a741c_level0_row0\" class=\"row_heading level0 row0\" >LightGBM</th>\n",
       "                        <td id=\"T_a741c_row0_col0\" class=\"data row0 col0\" >0.750059</td>\n",
       "            </tr>\n",
       "            <tr>\n",
       "                        <th id=\"T_a741c_level0_row1\" class=\"row_heading level0 row1\" >LinearSVC</th>\n",
       "                        <td id=\"T_a741c_row1_col0\" class=\"data row1 col0\" >0.758761</td>\n",
       "            </tr>\n",
       "            <tr>\n",
       "                        <th id=\"T_a741c_level0_row2\" class=\"row_heading level0 row2\" >LogisticRegression</th>\n",
       "                        <td id=\"T_a741c_row2_col0\" class=\"data row2 col0\" >0.765203</td>\n",
       "            </tr>\n",
       "    </tbody></table>"
      ],
      "text/plain": [
       "<pandas.io.formats.style.Styler at 0x7fc56a164a30>"
      ]
     },
     "execution_count": 30,
     "metadata": {},
     "output_type": "execute_result"
    }
   ],
   "source": [
    "f1_metrics_df = pd.DataFrame(\n",
    "    data=[lr_grid_score, lsvc_grid_score, lgbm_grid_score],\n",
    "    index=['LogisticRegression', 'LinearSVC', 'LightGBM'],\n",
    "    columns=['f1_train']\n",
    ")\n",
    "f1_metrics_df.sort_values('f1_train').style.background_gradient(subset=['f1_train'], cmap='Greens')"
   ]
  },
  {
   "cell_type": "markdown",
   "metadata": {},
   "source": [
    "Таким образом, по метрике f1-мера наилучшей моделью оказалась модель, обученная по алгоритму LogisticRegression, с результатом 0.765203.\n",
    "\n",
    "Найдем метрику f1-мера лучшей модели (по алгоритму LogisticRegression) на тестовой выборке:"
   ]
  },
  {
   "cell_type": "code",
   "execution_count": 31,
   "metadata": {},
   "outputs": [
    {
     "data": {
      "text/plain": [
       "{'lr__C': 10, 'lr__solver': 'saga', 'lr__tol': 0.0001}"
      ]
     },
     "execution_count": 31,
     "metadata": {},
     "output_type": "execute_result"
    }
   ],
   "source": [
    "lr_grid.best_params_ #параметры наилучшей модели, полученной на тренировочной выборке"
   ]
  },
  {
   "cell_type": "code",
   "execution_count": 32,
   "metadata": {},
   "outputs": [
    {
     "name": "stdout",
     "output_type": "stream",
     "text": [
      "CPU times: user 9.28 s, sys: 20.2 ms, total: 9.3 s\n",
      "Wall time: 9.3 s\n"
     ]
    },
    {
     "data": {
      "text/plain": [
       "LogisticRegression(C=10, class_weight='balanced', random_state=777,\n",
       "                   solver='saga')"
      ]
     },
     "execution_count": 32,
     "metadata": {},
     "output_type": "execute_result"
    }
   ],
   "source": [
    "%%time\n",
    "lr_best_params = {'C': 10, 'solver': 'saga', 'tol': 0.0001}\n",
    "\n",
    "best_model = LogisticRegression(\n",
    "    random_state=SEED, \n",
    "    class_weight='balanced'\n",
    ").set_params(**lr_best_params)\n",
    "\n",
    "best_model.fit(X_train_tf_idf, y_train)\n",
    "#Wall time: 11.2 s"
   ]
  },
  {
   "cell_type": "markdown",
   "metadata": {},
   "source": [
    "Рассчитаем метрику качества f1-мера на тестовой выборке:"
   ]
  },
  {
   "cell_type": "code",
   "execution_count": 33,
   "metadata": {},
   "outputs": [
    {
     "name": "stdout",
     "output_type": "stream",
     "text": [
      "Метрика качества f1-мера лучшей модели: 0.7584\n"
     ]
    }
   ],
   "source": [
    "y_pred = best_model.predict(X_test_tf_idf)\n",
    "f1_best_model = f1_score(y_test, y_pred)\n",
    "print('Метрика качества f1-мера лучшей модели: {:.4f}'.format(f1_best_model))"
   ]
  },
  {
   "cell_type": "markdown",
   "metadata": {},
   "source": [
    "Полученное значение метрики f1-мера на тестовой выборке получилось равным 0.7584, что больше 0.75, а значит полученная модель удовлетворяет исходным требованиям к проекту."
   ]
  },
  {
   "cell_type": "markdown",
   "metadata": {},
   "source": [
    "Создадим матрицу ошибок предсказаний данной модели:"
   ]
  },
  {
   "cell_type": "code",
   "execution_count": 34,
   "metadata": {},
   "outputs": [
    {
     "data": {
      "image/png": "[encoded data removed]",
      "text/plain": [
       "<Figure size 576x432 with 2 Axes>"
      ]
     },
     "metadata": {
      "needs_background": "light"
     },
     "output_type": "display_data"
    }
   ],
   "source": [
    "plt.figure(figsize=(8,6))\n",
    "sns.heatmap(confusion_matrix(y_test, y_pred), linewidths=.5, annot=True, fmt='d', cmap='YlOrBr')\n",
    "plt.xlabel('Предсказания', fontsize=12)\n",
    "plt.ylabel('Ответы', fontsize=12)\n",
    "plt.title('Матрица ошибок LinearSVC на тестовых данных', fontsize=14)\n",
    "plt.show()"
   ]
  },
  {
   "cell_type": "markdown",
   "metadata": {},
   "source": [
    "Согласно полученной матрице, общее число ошибок равно 2536. Большая часть из этих ошибок - это неправильно размеченные негативные комментарии - 1661."
   ]
  },
  {
   "cell_type": "markdown",
   "metadata": {},
   "source": [
    "## Техника BERT"
   ]
  },
  {
   "cell_type": "markdown",
   "metadata": {},
   "source": [
    "Попробуем улучшить качество модели, заменив технику TF-IDF на BERT. Но в силу некоторых технических ограничений, связанных с BERT, ограничим длину текстов 128 символами и возьмем небольшую выборку из 3000 текстов. Загрузим предобученную модели toxic-bert и токенизатор:"
   ]
  },
  {
   "cell_type": "code",
   "execution_count": 35,
   "metadata": {},
   "outputs": [
    {
     "name": "stderr",
     "output_type": "stream",
     "text": [
      "Some weights of the model checkpoint at unitary/toxic-bert were not used when initializing BertModel: ['classifier.bias', 'classifier.weight']\n",
      "- This IS expected if you are initializing BertModel from the checkpoint of a model trained on another task or with another architecture (e.g. initializing a BertForSequenceClassification model from a BertForPreTraining model).\n",
      "- This IS NOT expected if you are initializing BertModel from the checkpoint of a model that you expect to be exactly identical (initializing a BertForSequenceClassification model from a BertForSequenceClassification model).\n"
     ]
    }
   ],
   "source": [
    "# Модель toxic-bert\n",
    "model_class, tokenizer_class, pretrained_weights = (\n",
    "    transformers.BertModel, transformers.BertTokenizer, 'unitary/toxic-bert'\n",
    ")\n",
    "\n",
    "tokenizer = tokenizer_class.from_pretrained(pretrained_weights)\n",
    "model_bert = model_class.from_pretrained(pretrained_weights)"
   ]
  },
  {
   "cell_type": "markdown",
   "metadata": {},
   "source": [
    "Как было оговорено выше, возьмем для проверки только 3000 текстов и ограничим длину текстов 128 символами:"
   ]
  },
  {
   "cell_type": "code",
   "execution_count": 36,
   "metadata": {},
   "outputs": [],
   "source": [
    "toxic_comments_bert = toxic_comments.query('toxic==1').sample(200).append(toxic_comments.query('toxic==0').sample(1800)).sample(frac=1)\n",
    "toxic_comments_bert['text'] = toxic_comments_bert['text'].str[:128]"
   ]
  },
  {
   "cell_type": "code",
   "execution_count": 37,
   "metadata": {},
   "outputs": [
    {
     "data": {
      "application/vnd.jupyter.widget-view+json": {
       "model_id": "8839e5504be540d29e77ac37e4bf9406",
       "version_major": 2,
       "version_minor": 0
      },
      "text/plain": [
       "  0%|          | 0/2000 [00:00<?, ?it/s]"
      ]
     },
     "metadata": {},
     "output_type": "display_data"
    }
   ],
   "source": [
    "tokenized = toxic_comments_bert['text'].progress_apply((lambda x: tokenizer.encode(x, add_special_tokens=True)))"
   ]
  },
  {
   "cell_type": "markdown",
   "metadata": {},
   "source": [
    "Приведем векторы признаков к одному размеру путем добавления нулей к более коротким векторам"
   ]
  },
  {
   "cell_type": "code",
   "execution_count": 38,
   "metadata": {},
   "outputs": [],
   "source": [
    "max_len = 0\n",
    "for i in tokenized.values:\n",
    "    if len(i) > max_len:\n",
    "        max_len = len(i)\n",
    "\n",
    "padded = np.array([i + [0]*(max_len-len(i)) for i in tokenized.values])"
   ]
  },
  {
   "cell_type": "markdown",
   "metadata": {},
   "source": [
    "Поскольку эти нули не несут значимой информации, отбросим эти токены и «создадим маску» для действительно важных токенов:"
   ]
  },
  {
   "cell_type": "code",
   "execution_count": 39,
   "metadata": {},
   "outputs": [
    {
     "name": "stdout",
     "output_type": "stream",
     "text": [
      "(2000, 69)\n"
     ]
    }
   ],
   "source": [
    "attention_mask = np.where(padded != 0, 1, 0)\n",
    "print(attention_mask.shape)"
   ]
  },
  {
   "cell_type": "markdown",
   "metadata": {},
   "source": [
    "Создадим эмбеддинги для текстов, ограничив размер батча 50 объектами:"
   ]
  },
  {
   "cell_type": "code",
   "execution_count": 40,
   "metadata": {},
   "outputs": [
    {
     "name": "stderr",
     "output_type": "stream",
     "text": [
      "100%|██████████| 40/40 [07:38<00:00, 11.46s/it]\n"
     ]
    }
   ],
   "source": [
    "batch_size = 50\n",
    "embeddings = []\n",
    "for i in tqdm(range(padded.shape[0] // batch_size)):\n",
    "        batch = torch.LongTensor(padded[batch_size*i:batch_size*(i+1)]) \n",
    "        attention_mask_batch = torch.LongTensor(attention_mask[batch_size*i:batch_size*(i+1)])\n",
    "        \n",
    "        with torch.no_grad():\n",
    "            batch_embeddings = model_bert(batch, attention_mask=attention_mask_batch)\n",
    "        \n",
    "        embeddings.append(batch_embeddings[0][:,0,:].numpy())"
   ]
  },
  {
   "cell_type": "markdown",
   "metadata": {},
   "source": [
    "Запишем все эмбеддинги в матрицу признаков, выделим целевой признак и разделим данные на выборки:"
   ]
  },
  {
   "cell_type": "code",
   "execution_count": 41,
   "metadata": {},
   "outputs": [],
   "source": [
    "X_bert = np.concatenate(embeddings)\n",
    "y_bert = toxic_comments_bert['toxic']"
   ]
  },
  {
   "cell_type": "code",
   "execution_count": 42,
   "metadata": {},
   "outputs": [],
   "source": [
    "X_bert_train, X_bert_test, y_bert_train, y_bert_test = train_test_split(\n",
    "    X_bert, y_bert, test_size = 0.3, random_state=SEED, stratify=y_bert\n",
    ")"
   ]
  },
  {
   "cell_type": "code",
   "execution_count": 43,
   "metadata": {},
   "outputs": [
    {
     "name": "stdout",
     "output_type": "stream",
     "text": [
      "Метрика качества f1-мера лучшей модели: 0.8065\n",
      "CPU times: user 1.24 s, sys: 247 µs, total: 1.24 s\n",
      "Wall time: 1.23 s\n"
     ]
    }
   ],
   "source": [
    "%%time\n",
    "model_lr_bert = best_model\n",
    "model_lr_bert.fit(X_bert_train, y_bert_train)\n",
    "y_pred_bert = model_lr_bert.predict(X_bert_test)\n",
    "f1_model_lr_bert = f1_score(y_bert_test, y_pred_bert)\n",
    "print('Метрика качества f1-мера лучшей модели: {:.4f}'.format(f1_model_lr_bert))\n",
    "#2 Метрика качества f1-мера лучшей модели: 0.8235\n",
    "#1 Метрика качества f1-мера лучшей модели: 0.8000"
   ]
  },
  {
   "cell_type": "markdown",
   "metadata": {},
   "source": [
    "Модель, построенная по алгоритму LogisticRegression совместно с моделью toxic-bert, показала результат лучше (0.8065 на тесте), чем модель с TF-IDF, даже несмотря на большие ограничения, наложенные при создании признаков техникой BERT. Таким образом, модель, построенная по алгоритму LogisticRegression совместно с моделью toxic-bert, является лучшей."
   ]
  },
  {
   "cell_type": "markdown",
   "metadata": {},
   "source": [
    "## Выводы"
   ]
  },
  {
   "cell_type": "markdown",
   "metadata": {},
   "source": [
    "В рамках данного проекта необходимо было разработать модель для классифицикации комментарией на позитивные и негативные. В качестве оценки качества необходимой модели выбрана f1-мера, и качество итоговой модели по этой метрике должно быть не менее 0.75.\n",
    "На первом этапе была проведена предобработка данных - токенизация и лемматизация корпуса текстов, также были созданы признаки с помощью техники TF-IDF.\n",
    "\n",
    "Далее были обучены и рассчитаны метрики качества на моделях, построенных по следующим алгоритмам:\n",
    "- логистической регрессии LogisticRegression;\n",
    "- линейной классификации методом опорных векторов LinearSVC;\n",
    "- градиентного бустинга CatBoostClassifier.\n",
    "\n",
    "В результате наилучший результат на тестовой выборке по метрике качества f1-мера, равной 0.774, получился у модели, построенной по алгоритму линейной классификации методом опорных векторов LinearSVC. Полученное значение метрики качества больше 0.75, что удовлетворяет исходным требованиям к проекту. \n",
    "\n",
    "Также была предпринята попытка улучшить качество модели, заменив технику TF-IDF на BERT (с моделью toxic-bert). Несмотря на серьезные ограничения, наложенные при создании признаков техникой BERT, модель, построенная по алгоритму LogisticRegression совместно с моделью toxic-bert, оказалась лучшей моделью с результатом 0.8065 по метрике качества f1-мера."
   ]
  },
  {
   "cell_type": "code",
   "execution_count": null,
   "metadata": {},
   "outputs": [],
   "source": []
  }
 ],
 "metadata": {
  "ExecuteTimeLog": [
   {
    "duration": 64,
    "start_time": "2023-01-23T21:54:53.969Z"
   },
   {
    "duration": 899,
    "start_time": "2023-01-23T21:54:58.490Z"
   },
   {
    "duration": 12921,
    "start_time": "2023-01-23T21:55:09.748Z"
   },
   {
    "duration": 2608,
    "start_time": "2023-01-25T20:50:04.589Z"
   },
   {
    "duration": 138,
    "start_time": "2023-01-25T20:50:11.429Z"
   },
   {
    "duration": 2151,
    "start_time": "2023-01-25T20:52:28.086Z"
   },
   {
    "duration": 12,
    "start_time": "2023-01-25T20:52:39.339Z"
   },
   {
    "duration": 723,
    "start_time": "2023-01-25T20:53:53.235Z"
   },
   {
    "duration": 7,
    "start_time": "2023-01-25T20:53:53.960Z"
   },
   {
    "duration": 14,
    "start_time": "2023-01-25T20:54:06.416Z"
   },
   {
    "duration": 5,
    "start_time": "2023-01-25T20:55:00.318Z"
   },
   {
    "duration": 63,
    "start_time": "2023-01-25T20:57:31.761Z"
   },
   {
    "duration": 235,
    "start_time": "2023-01-25T21:01:43.189Z"
   },
   {
    "duration": 18,
    "start_time": "2023-01-25T21:02:33.826Z"
   },
   {
    "duration": 3,
    "start_time": "2023-01-25T21:10:40.013Z"
   },
   {
    "duration": 174,
    "start_time": "2023-01-25T21:10:47.235Z"
   },
   {
    "duration": 13,
    "start_time": "2023-01-25T21:12:06.037Z"
   },
   {
    "duration": 11,
    "start_time": "2023-01-25T21:12:18.404Z"
   },
   {
    "duration": 5,
    "start_time": "2023-01-25T21:12:49.588Z"
   },
   {
    "duration": 161509,
    "start_time": "2023-01-25T21:12:54.204Z"
   },
   {
    "duration": 8,
    "start_time": "2023-01-25T21:16:30.567Z"
   },
   {
    "duration": 32,
    "start_time": "2023-01-25T21:16:39.766Z"
   },
   {
    "duration": 12,
    "start_time": "2023-01-25T21:17:12.108Z"
   },
   {
    "duration": 12,
    "start_time": "2023-01-25T21:17:51.798Z"
   },
   {
    "duration": 87,
    "start_time": "2023-01-25T21:18:42.923Z"
   },
   {
    "duration": 17,
    "start_time": "2023-01-25T21:18:46.488Z"
   },
   {
    "duration": 7,
    "start_time": "2023-01-25T21:19:41.462Z"
   },
   {
    "duration": 68,
    "start_time": "2023-01-25T21:23:53.596Z"
   },
   {
    "duration": 4,
    "start_time": "2023-01-25T21:24:28.799Z"
   },
   {
    "duration": 6,
    "start_time": "2023-01-25T21:27:50.491Z"
   },
   {
    "duration": 1413,
    "start_time": "2023-01-25T21:29:28.747Z"
   },
   {
    "duration": 809,
    "start_time": "2023-01-25T21:30:37.438Z"
   },
   {
    "duration": 4,
    "start_time": "2023-01-25T21:31:24.440Z"
   },
   {
    "duration": 6396,
    "start_time": "2023-01-25T21:31:24.447Z"
   },
   {
    "duration": 183,
    "start_time": "2023-01-25T21:31:30.845Z"
   },
   {
    "duration": 0,
    "start_time": "2023-01-25T21:31:31.030Z"
   },
   {
    "duration": 0,
    "start_time": "2023-01-25T21:31:31.032Z"
   },
   {
    "duration": 0,
    "start_time": "2023-01-25T21:31:31.033Z"
   },
   {
    "duration": 0,
    "start_time": "2023-01-25T21:31:31.033Z"
   },
   {
    "duration": 0,
    "start_time": "2023-01-25T21:31:31.034Z"
   },
   {
    "duration": 0,
    "start_time": "2023-01-25T21:31:31.038Z"
   },
   {
    "duration": 0,
    "start_time": "2023-01-25T21:31:31.039Z"
   },
   {
    "duration": 0,
    "start_time": "2023-01-25T21:31:31.040Z"
   },
   {
    "duration": 0,
    "start_time": "2023-01-25T21:31:31.041Z"
   },
   {
    "duration": 0,
    "start_time": "2023-01-25T21:31:31.042Z"
   },
   {
    "duration": 4,
    "start_time": "2023-01-25T21:32:05.177Z"
   },
   {
    "duration": 6,
    "start_time": "2023-01-25T21:32:05.184Z"
   },
   {
    "duration": 3124,
    "start_time": "2023-01-25T21:32:05.194Z"
   },
   {
    "duration": 1895,
    "start_time": "2023-01-25T21:32:08.320Z"
   },
   {
    "duration": 15,
    "start_time": "2023-01-25T21:32:10.218Z"
   },
   {
    "duration": 50,
    "start_time": "2023-01-25T21:32:10.235Z"
   },
   {
    "duration": 248,
    "start_time": "2023-01-25T21:32:10.287Z"
   },
   {
    "duration": 7,
    "start_time": "2023-01-25T21:32:10.537Z"
   },
   {
    "duration": 3,
    "start_time": "2023-01-25T21:32:10.546Z"
   },
   {
    "duration": 169921,
    "start_time": "2023-01-25T21:32:10.551Z"
   },
   {
    "duration": 105,
    "start_time": "2023-01-25T21:35:00.474Z"
   },
   {
    "duration": 17,
    "start_time": "2023-01-25T21:35:00.581Z"
   },
   {
    "duration": 10638,
    "start_time": "2023-01-25T21:35:00.600Z"
   },
   {
    "duration": 5,
    "start_time": "2023-01-25T22:40:53.960Z"
   },
   {
    "duration": 2,
    "start_time": "2023-01-25T22:41:07.540Z"
   },
   {
    "duration": 132974,
    "start_time": "2023-01-25T22:41:14.924Z"
   },
   {
    "duration": 2,
    "start_time": "2023-01-25T22:43:27.900Z"
   },
   {
    "duration": 3,
    "start_time": "2023-01-25T22:44:18.011Z"
   },
   {
    "duration": 138873,
    "start_time": "2023-01-25T22:44:18.743Z"
   },
   {
    "duration": 3,
    "start_time": "2023-01-25T22:46:37.618Z"
   },
   {
    "duration": 2890,
    "start_time": "2023-01-25T22:46:37.623Z"
   },
   {
    "duration": 3,
    "start_time": "2023-01-25T22:46:40.515Z"
   },
   {
    "duration": 7,
    "start_time": "2023-01-25T22:46:40.519Z"
   },
   {
    "duration": 2996,
    "start_time": "2023-01-27T12:07:21.293Z"
   },
   {
    "duration": 199,
    "start_time": "2023-01-27T12:07:24.291Z"
   },
   {
    "duration": 3,
    "start_time": "2023-01-27T12:07:24.492Z"
   },
   {
    "duration": 2370,
    "start_time": "2023-01-27T12:07:24.497Z"
   },
   {
    "duration": 15,
    "start_time": "2023-01-27T12:07:26.869Z"
   },
   {
    "duration": 47,
    "start_time": "2023-01-27T12:07:26.886Z"
   },
   {
    "duration": 239,
    "start_time": "2023-01-27T12:07:26.935Z"
   },
   {
    "duration": 8,
    "start_time": "2023-01-27T12:07:27.176Z"
   },
   {
    "duration": 4,
    "start_time": "2023-01-27T12:07:27.185Z"
   },
   {
    "duration": 160198,
    "start_time": "2023-01-27T12:07:27.190Z"
   },
   {
    "duration": 109,
    "start_time": "2023-01-27T12:10:07.390Z"
   },
   {
    "duration": 5,
    "start_time": "2023-01-27T12:10:07.501Z"
   },
   {
    "duration": 10861,
    "start_time": "2023-01-27T12:10:07.521Z"
   },
   {
    "duration": 4,
    "start_time": "2023-01-27T12:10:18.385Z"
   },
   {
    "duration": 50,
    "start_time": "2023-01-27T12:10:18.391Z"
   },
   {
    "duration": 148595,
    "start_time": "2023-01-27T12:10:18.443Z"
   },
   {
    "duration": 2,
    "start_time": "2023-01-27T12:12:47.040Z"
   },
   {
    "duration": 3026,
    "start_time": "2023-01-27T12:12:47.044Z"
   },
   {
    "duration": 3,
    "start_time": "2023-01-27T12:12:50.072Z"
   },
   {
    "duration": 6,
    "start_time": "2023-01-27T12:12:50.076Z"
   },
   {
    "duration": 1810692,
    "start_time": "2023-01-27T12:12:50.083Z"
   },
   {
    "duration": 61,
    "start_time": "2023-01-27T12:43:00.777Z"
   },
   {
    "duration": 23,
    "start_time": "2023-01-27T12:48:40.234Z"
   },
   {
    "duration": 20,
    "start_time": "2023-01-27T12:48:43.982Z"
   },
   {
    "duration": 15,
    "start_time": "2023-01-27T12:50:03.376Z"
   },
   {
    "duration": 15,
    "start_time": "2023-01-27T12:51:04.681Z"
   },
   {
    "duration": 2380,
    "start_time": "2023-01-27T13:07:53.305Z"
   },
   {
    "duration": 206,
    "start_time": "2023-01-27T13:07:55.687Z"
   },
   {
    "duration": 3,
    "start_time": "2023-01-27T13:07:55.896Z"
   },
   {
    "duration": 866,
    "start_time": "2023-01-27T13:07:55.901Z"
   },
   {
    "duration": 16,
    "start_time": "2023-01-27T13:07:56.769Z"
   },
   {
    "duration": 55,
    "start_time": "2023-01-27T13:07:56.787Z"
   },
   {
    "duration": 245,
    "start_time": "2023-01-27T13:07:56.845Z"
   },
   {
    "duration": 8,
    "start_time": "2023-01-27T13:07:57.092Z"
   },
   {
    "duration": 4,
    "start_time": "2023-01-27T13:07:57.101Z"
   },
   {
    "duration": 169810,
    "start_time": "2023-01-27T13:07:57.120Z"
   },
   {
    "duration": 120,
    "start_time": "2023-01-27T13:10:46.932Z"
   },
   {
    "duration": 8,
    "start_time": "2023-01-27T13:10:47.055Z"
   },
   {
    "duration": 10867,
    "start_time": "2023-01-27T13:10:47.065Z"
   },
   {
    "duration": 5,
    "start_time": "2023-01-27T13:10:57.936Z"
   },
   {
    "duration": 9,
    "start_time": "2023-01-27T13:10:57.943Z"
   },
   {
    "duration": 6,
    "start_time": "2023-01-27T13:10:57.955Z"
   },
   {
    "duration": 0,
    "start_time": "2023-01-27T13:10:57.963Z"
   },
   {
    "duration": 0,
    "start_time": "2023-01-27T13:10:57.965Z"
   },
   {
    "duration": 0,
    "start_time": "2023-01-27T13:10:57.966Z"
   },
   {
    "duration": 0,
    "start_time": "2023-01-27T13:10:57.969Z"
   },
   {
    "duration": 0,
    "start_time": "2023-01-27T13:10:57.970Z"
   },
   {
    "duration": 2465,
    "start_time": "2023-01-27T13:11:39.017Z"
   },
   {
    "duration": 203,
    "start_time": "2023-01-27T13:11:41.486Z"
   },
   {
    "duration": 3,
    "start_time": "2023-01-27T13:11:41.691Z"
   },
   {
    "duration": 945,
    "start_time": "2023-01-27T13:11:41.696Z"
   },
   {
    "duration": 20,
    "start_time": "2023-01-27T13:11:42.644Z"
   },
   {
    "duration": 67,
    "start_time": "2023-01-27T13:11:42.666Z"
   },
   {
    "duration": 269,
    "start_time": "2023-01-27T13:11:42.736Z"
   },
   {
    "duration": 16,
    "start_time": "2023-01-27T13:11:43.006Z"
   },
   {
    "duration": 8,
    "start_time": "2023-01-27T13:11:43.024Z"
   },
   {
    "duration": 167113,
    "start_time": "2023-01-27T13:11:43.034Z"
   },
   {
    "duration": 103,
    "start_time": "2023-01-27T13:14:30.149Z"
   },
   {
    "duration": 5,
    "start_time": "2023-01-27T13:14:30.254Z"
   },
   {
    "duration": 10860,
    "start_time": "2023-01-27T13:14:30.261Z"
   },
   {
    "duration": 4,
    "start_time": "2023-01-27T13:14:41.124Z"
   },
   {
    "duration": 6,
    "start_time": "2023-01-27T13:14:41.130Z"
   },
   {
    "duration": 143003,
    "start_time": "2023-01-27T13:14:41.138Z"
   },
   {
    "duration": 3,
    "start_time": "2023-01-27T13:17:04.142Z"
   },
   {
    "duration": 1800770,
    "start_time": "2023-01-27T13:17:04.147Z"
   },
   {
    "duration": 3,
    "start_time": "2023-01-27T13:47:04.920Z"
   },
   {
    "duration": 2904,
    "start_time": "2023-01-27T13:47:04.925Z"
   },
   {
    "duration": 46,
    "start_time": "2023-01-27T13:47:07.831Z"
   },
   {
    "duration": 171,
    "start_time": "2023-01-27T13:47:07.878Z"
   },
   {
    "duration": 4053,
    "start_time": "2023-01-27T13:47:48.218Z"
   },
   {
    "duration": 92,
    "start_time": "2023-01-27T13:47:55.159Z"
   },
   {
    "duration": 92,
    "start_time": "2023-01-27T13:48:18.734Z"
   },
   {
    "duration": 79,
    "start_time": "2023-01-27T13:48:35.987Z"
   },
   {
    "duration": 83960,
    "start_time": "2023-01-27T13:48:44.616Z"
   },
   {
    "duration": 119,
    "start_time": "2023-01-27T13:51:38.100Z"
   },
   {
    "duration": 12,
    "start_time": "2023-01-27T13:52:04.872Z"
   },
   {
    "duration": 12,
    "start_time": "2023-01-27T13:52:14.839Z"
   },
   {
    "duration": 17,
    "start_time": "2023-01-27T13:52:26.299Z"
   },
   {
    "duration": 12,
    "start_time": "2023-01-27T13:52:35.978Z"
   },
   {
    "duration": 11,
    "start_time": "2023-01-27T13:52:40.450Z"
   },
   {
    "duration": 85468,
    "start_time": "2023-01-27T13:55:07.907Z"
   },
   {
    "duration": 4,
    "start_time": "2023-01-27T13:56:33.377Z"
   },
   {
    "duration": 5,
    "start_time": "2023-01-27T13:59:19.989Z"
   },
   {
    "duration": 167,
    "start_time": "2023-01-27T13:59:22.240Z"
   },
   {
    "duration": 218,
    "start_time": "2023-01-27T13:59:48.435Z"
   },
   {
    "duration": 5,
    "start_time": "2023-01-27T13:59:50.834Z"
   },
   {
    "duration": 87,
    "start_time": "2023-01-27T13:59:51.897Z"
   },
   {
    "duration": 4,
    "start_time": "2023-01-27T14:00:02.833Z"
   },
   {
    "duration": 4,
    "start_time": "2023-01-27T14:00:09.325Z"
   },
   {
    "duration": 197,
    "start_time": "2023-01-27T14:00:09.984Z"
   },
   {
    "duration": 3,
    "start_time": "2023-01-27T14:00:26.842Z"
   },
   {
    "duration": 132,
    "start_time": "2023-01-27T14:00:27.446Z"
   },
   {
    "duration": 5,
    "start_time": "2023-01-27T14:02:41.764Z"
   },
   {
    "duration": 97,
    "start_time": "2023-01-27T14:02:42.575Z"
   },
   {
    "duration": 4,
    "start_time": "2023-01-27T14:03:13.252Z"
   },
   {
    "duration": 149,
    "start_time": "2023-01-27T14:03:13.879Z"
   },
   {
    "duration": 5,
    "start_time": "2023-01-27T14:03:45.927Z"
   },
   {
    "duration": 78,
    "start_time": "2023-01-27T14:03:46.326Z"
   },
   {
    "duration": 4,
    "start_time": "2023-01-27T14:03:56.155Z"
   },
   {
    "duration": 1004,
    "start_time": "2023-01-27T14:03:56.782Z"
   },
   {
    "duration": 1108,
    "start_time": "2023-01-27T14:04:19.523Z"
   },
   {
    "duration": 401,
    "start_time": "2023-01-27T14:04:21.961Z"
   },
   {
    "duration": 322,
    "start_time": "2023-01-27T14:06:18.320Z"
   },
   {
    "duration": 297,
    "start_time": "2023-01-27T14:06:58.826Z"
   },
   {
    "duration": 336,
    "start_time": "2023-01-27T14:07:33.848Z"
   },
   {
    "duration": 3,
    "start_time": "2023-01-27T14:08:56.973Z"
   },
   {
    "duration": 16,
    "start_time": "2023-01-27T14:11:05.335Z"
   },
   {
    "duration": 1004,
    "start_time": "2023-01-27T14:12:17.321Z"
   },
   {
    "duration": 1901,
    "start_time": "2023-01-27T14:12:25.774Z"
   },
   {
    "duration": 13959,
    "start_time": "2023-01-27T14:12:55.773Z"
   },
   {
    "duration": 88,
    "start_time": "2023-01-27T14:14:07.061Z"
   },
   {
    "duration": 1178,
    "start_time": "2023-01-27T14:14:16.490Z"
   },
   {
    "duration": 22,
    "start_time": "2023-01-27T14:14:24.367Z"
   },
   {
    "duration": 4,
    "start_time": "2023-01-27T14:14:29.205Z"
   },
   {
    "duration": 23,
    "start_time": "2023-01-27T14:14:44.895Z"
   },
   {
    "duration": 23,
    "start_time": "2023-01-27T14:15:24.081Z"
   },
   {
    "duration": 222,
    "start_time": "2023-01-27T14:21:09.056Z"
   },
   {
    "duration": 3889,
    "start_time": "2023-01-27T14:22:07.202Z"
   },
   {
    "duration": 2435,
    "start_time": "2023-01-27T14:22:18.955Z"
   },
   {
    "duration": 5,
    "start_time": "2023-01-27T14:22:35.953Z"
   },
   {
    "duration": 33,
    "start_time": "2023-01-27T14:22:35.960Z"
   },
   {
    "duration": 27,
    "start_time": "2023-01-27T14:22:35.995Z"
   },
   {
    "duration": 4239,
    "start_time": "2023-01-27T14:22:36.024Z"
   },
   {
    "duration": 949,
    "start_time": "2023-01-27T14:22:40.266Z"
   },
   {
    "duration": 22,
    "start_time": "2023-01-27T14:22:41.217Z"
   },
   {
    "duration": 68,
    "start_time": "2023-01-27T14:22:41.241Z"
   },
   {
    "duration": 256,
    "start_time": "2023-01-27T14:22:41.311Z"
   },
   {
    "duration": 8,
    "start_time": "2023-01-27T14:22:41.569Z"
   },
   {
    "duration": 12,
    "start_time": "2023-01-27T14:22:41.579Z"
   },
   {
    "duration": 166655,
    "start_time": "2023-01-27T14:22:41.593Z"
   },
   {
    "duration": 114,
    "start_time": "2023-01-27T14:25:28.250Z"
   },
   {
    "duration": 6,
    "start_time": "2023-01-27T14:25:28.366Z"
   },
   {
    "duration": 11300,
    "start_time": "2023-01-27T14:25:28.375Z"
   },
   {
    "duration": 4,
    "start_time": "2023-01-27T14:25:39.677Z"
   },
   {
    "duration": 190,
    "start_time": "2023-01-27T14:25:39.683Z"
   },
   {
    "duration": 0,
    "start_time": "2023-01-27T14:25:39.875Z"
   },
   {
    "duration": 0,
    "start_time": "2023-01-27T14:25:39.877Z"
   },
   {
    "duration": 0,
    "start_time": "2023-01-27T14:25:39.878Z"
   },
   {
    "duration": 0,
    "start_time": "2023-01-27T14:25:39.880Z"
   },
   {
    "duration": 0,
    "start_time": "2023-01-27T14:25:39.882Z"
   },
   {
    "duration": 0,
    "start_time": "2023-01-27T14:25:39.883Z"
   },
   {
    "duration": 0,
    "start_time": "2023-01-27T14:25:39.885Z"
   },
   {
    "duration": 0,
    "start_time": "2023-01-27T14:25:39.886Z"
   },
   {
    "duration": 0,
    "start_time": "2023-01-27T14:25:39.888Z"
   },
   {
    "duration": 0,
    "start_time": "2023-01-27T14:25:39.889Z"
   },
   {
    "duration": 0,
    "start_time": "2023-01-27T14:25:39.890Z"
   },
   {
    "duration": 0,
    "start_time": "2023-01-27T14:25:39.891Z"
   },
   {
    "duration": 0,
    "start_time": "2023-01-27T14:25:39.920Z"
   },
   {
    "duration": 0,
    "start_time": "2023-01-27T14:25:39.922Z"
   },
   {
    "duration": 0,
    "start_time": "2023-01-27T14:25:39.923Z"
   },
   {
    "duration": 0,
    "start_time": "2023-01-27T14:25:39.925Z"
   },
   {
    "duration": 0,
    "start_time": "2023-01-27T14:25:39.926Z"
   },
   {
    "duration": 0,
    "start_time": "2023-01-27T14:25:39.927Z"
   },
   {
    "duration": 0,
    "start_time": "2023-01-27T14:25:39.928Z"
   },
   {
    "duration": 0,
    "start_time": "2023-01-27T14:25:39.930Z"
   },
   {
    "duration": 0,
    "start_time": "2023-01-27T14:25:39.932Z"
   },
   {
    "duration": 12251,
    "start_time": "2023-01-27T14:26:49.173Z"
   },
   {
    "duration": 41,
    "start_time": "2023-01-27T14:27:05.643Z"
   },
   {
    "duration": 1105,
    "start_time": "2023-01-27T14:27:27.272Z"
   },
   {
    "duration": 29,
    "start_time": "2023-01-27T14:27:33.503Z"
   },
   {
    "duration": 5,
    "start_time": "2023-01-27T14:27:35.885Z"
   },
   {
    "duration": 4,
    "start_time": "2023-01-27T14:30:58.984Z"
   },
   {
    "duration": 6,
    "start_time": "2023-01-27T14:30:58.990Z"
   },
   {
    "duration": 7,
    "start_time": "2023-01-27T14:30:58.997Z"
   },
   {
    "duration": 4214,
    "start_time": "2023-01-27T14:30:59.006Z"
   },
   {
    "duration": 2463,
    "start_time": "2023-01-27T14:31:03.223Z"
   },
   {
    "duration": 19,
    "start_time": "2023-01-27T14:31:05.688Z"
   },
   {
    "duration": 47,
    "start_time": "2023-01-27T14:31:05.709Z"
   },
   {
    "duration": 249,
    "start_time": "2023-01-27T14:31:05.758Z"
   },
   {
    "duration": 19,
    "start_time": "2023-01-27T14:31:06.009Z"
   },
   {
    "duration": 4,
    "start_time": "2023-01-27T14:31:06.030Z"
   },
   {
    "duration": 161241,
    "start_time": "2023-01-27T14:31:06.036Z"
   },
   {
    "duration": 112,
    "start_time": "2023-01-27T14:33:47.279Z"
   },
   {
    "duration": 5,
    "start_time": "2023-01-27T14:33:47.393Z"
   },
   {
    "duration": 11033,
    "start_time": "2023-01-27T14:33:47.402Z"
   },
   {
    "duration": 4,
    "start_time": "2023-01-27T14:33:58.437Z"
   },
   {
    "duration": 190,
    "start_time": "2023-01-27T14:33:58.444Z"
   },
   {
    "duration": 0,
    "start_time": "2023-01-27T14:33:58.636Z"
   },
   {
    "duration": 0,
    "start_time": "2023-01-27T14:33:58.638Z"
   },
   {
    "duration": 0,
    "start_time": "2023-01-27T14:33:58.640Z"
   },
   {
    "duration": 0,
    "start_time": "2023-01-27T14:33:58.641Z"
   },
   {
    "duration": 0,
    "start_time": "2023-01-27T14:33:58.643Z"
   },
   {
    "duration": 0,
    "start_time": "2023-01-27T14:33:58.645Z"
   },
   {
    "duration": 0,
    "start_time": "2023-01-27T14:33:58.646Z"
   },
   {
    "duration": 0,
    "start_time": "2023-01-27T14:33:58.648Z"
   },
   {
    "duration": 0,
    "start_time": "2023-01-27T14:33:58.649Z"
   },
   {
    "duration": 0,
    "start_time": "2023-01-27T14:33:58.650Z"
   },
   {
    "duration": 0,
    "start_time": "2023-01-27T14:33:58.652Z"
   },
   {
    "duration": 0,
    "start_time": "2023-01-27T14:33:58.654Z"
   },
   {
    "duration": 0,
    "start_time": "2023-01-27T14:33:58.656Z"
   },
   {
    "duration": 0,
    "start_time": "2023-01-27T14:33:58.658Z"
   },
   {
    "duration": 0,
    "start_time": "2023-01-27T14:33:58.659Z"
   },
   {
    "duration": 0,
    "start_time": "2023-01-27T14:33:58.661Z"
   },
   {
    "duration": 0,
    "start_time": "2023-01-27T14:33:58.662Z"
   },
   {
    "duration": 0,
    "start_time": "2023-01-27T14:33:58.664Z"
   },
   {
    "duration": 0,
    "start_time": "2023-01-27T14:33:58.665Z"
   },
   {
    "duration": 0,
    "start_time": "2023-01-27T14:33:58.667Z"
   },
   {
    "duration": 0,
    "start_time": "2023-01-27T14:33:58.722Z"
   },
   {
    "duration": 11887,
    "start_time": "2023-01-27T14:35:21.940Z"
   },
   {
    "duration": 41,
    "start_time": "2023-01-27T14:35:33.830Z"
   },
   {
    "duration": 675,
    "start_time": "2023-01-27T14:35:33.873Z"
   },
   {
    "duration": 13,
    "start_time": "2023-01-27T14:35:34.550Z"
   },
   {
    "duration": 14,
    "start_time": "2023-01-27T14:35:34.566Z"
   },
   {
    "duration": 101459,
    "start_time": "2023-01-27T14:35:34.583Z"
   },
   {
    "duration": 5,
    "start_time": "2023-01-27T14:37:30.172Z"
   },
   {
    "duration": 7,
    "start_time": "2023-01-27T14:37:50.683Z"
   },
   {
    "duration": 211,
    "start_time": "2023-01-27T14:38:11.685Z"
   },
   {
    "duration": 1649,
    "start_time": "2023-01-27T14:38:33.373Z"
   },
   {
    "duration": 6099,
    "start_time": "2023-01-27T14:38:54.549Z"
   },
   {
    "duration": 40,
    "start_time": "2023-01-27T14:39:03.784Z"
   },
   {
    "duration": 1061,
    "start_time": "2023-01-27T14:39:06.669Z"
   },
   {
    "duration": 18,
    "start_time": "2023-01-27T14:39:12.564Z"
   },
   {
    "duration": 4,
    "start_time": "2023-01-27T14:39:15.244Z"
   },
   {
    "duration": 214295,
    "start_time": "2023-01-27T14:39:17.347Z"
   },
   {
    "duration": 6,
    "start_time": "2023-01-27T14:43:07.670Z"
   },
   {
    "duration": 9,
    "start_time": "2023-01-27T14:43:08.589Z"
   },
   {
    "duration": 2827,
    "start_time": "2023-01-27T14:43:09.498Z"
   },
   {
    "duration": 41,
    "start_time": "2023-01-27T14:43:35.239Z"
   },
   {
    "duration": 1615,
    "start_time": "2023-01-27T14:43:37.208Z"
   },
   {
    "duration": 45,
    "start_time": "2023-01-27T14:43:40.345Z"
   },
   {
    "duration": 5,
    "start_time": "2023-01-27T14:43:40.991Z"
   },
   {
    "duration": 5,
    "start_time": "2023-01-27T14:46:37.053Z"
   },
   {
    "duration": 11,
    "start_time": "2023-01-27T14:46:37.060Z"
   },
   {
    "duration": 2,
    "start_time": "2023-01-27T14:46:37.085Z"
   },
   {
    "duration": 3477,
    "start_time": "2023-01-27T14:46:37.090Z"
   },
   {
    "duration": 2380,
    "start_time": "2023-01-27T14:46:40.568Z"
   },
   {
    "duration": 18,
    "start_time": "2023-01-27T14:46:42.950Z"
   },
   {
    "duration": 59,
    "start_time": "2023-01-27T14:46:42.982Z"
   },
   {
    "duration": 250,
    "start_time": "2023-01-27T14:46:43.044Z"
   },
   {
    "duration": 9,
    "start_time": "2023-01-27T14:46:43.296Z"
   },
   {
    "duration": 19,
    "start_time": "2023-01-27T14:46:43.306Z"
   },
   {
    "duration": 163640,
    "start_time": "2023-01-27T14:46:43.327Z"
   },
   {
    "duration": 116,
    "start_time": "2023-01-27T14:49:26.969Z"
   },
   {
    "duration": 5,
    "start_time": "2023-01-27T14:49:27.087Z"
   },
   {
    "duration": 11089,
    "start_time": "2023-01-27T14:49:27.094Z"
   },
   {
    "duration": 5,
    "start_time": "2023-01-27T14:49:38.186Z"
   },
   {
    "duration": 246,
    "start_time": "2023-01-27T14:49:38.195Z"
   },
   {
    "duration": 0,
    "start_time": "2023-01-27T14:49:38.443Z"
   },
   {
    "duration": 0,
    "start_time": "2023-01-27T14:49:38.444Z"
   },
   {
    "duration": 0,
    "start_time": "2023-01-27T14:49:38.445Z"
   },
   {
    "duration": 0,
    "start_time": "2023-01-27T14:49:38.447Z"
   },
   {
    "duration": 0,
    "start_time": "2023-01-27T14:49:38.448Z"
   },
   {
    "duration": 0,
    "start_time": "2023-01-27T14:49:38.449Z"
   },
   {
    "duration": 0,
    "start_time": "2023-01-27T14:49:38.450Z"
   },
   {
    "duration": 0,
    "start_time": "2023-01-27T14:49:38.451Z"
   },
   {
    "duration": 0,
    "start_time": "2023-01-27T14:49:38.452Z"
   },
   {
    "duration": 0,
    "start_time": "2023-01-27T14:49:38.453Z"
   },
   {
    "duration": 0,
    "start_time": "2023-01-27T14:49:38.455Z"
   },
   {
    "duration": 0,
    "start_time": "2023-01-27T14:49:38.456Z"
   },
   {
    "duration": 0,
    "start_time": "2023-01-27T14:49:38.457Z"
   },
   {
    "duration": 0,
    "start_time": "2023-01-27T14:49:38.459Z"
   },
   {
    "duration": 0,
    "start_time": "2023-01-27T14:49:38.459Z"
   },
   {
    "duration": 0,
    "start_time": "2023-01-27T14:49:38.461Z"
   },
   {
    "duration": 0,
    "start_time": "2023-01-27T14:49:38.462Z"
   },
   {
    "duration": 0,
    "start_time": "2023-01-27T14:49:38.464Z"
   },
   {
    "duration": 0,
    "start_time": "2023-01-27T14:49:38.465Z"
   },
   {
    "duration": 0,
    "start_time": "2023-01-27T14:49:38.466Z"
   },
   {
    "duration": 0,
    "start_time": "2023-01-27T14:49:38.468Z"
   },
   {
    "duration": 0,
    "start_time": "2023-01-27T14:49:38.469Z"
   },
   {
    "duration": 0,
    "start_time": "2023-01-27T14:49:38.470Z"
   },
   {
    "duration": 0,
    "start_time": "2023-01-27T14:49:38.471Z"
   },
   {
    "duration": 11767,
    "start_time": "2023-01-27T14:53:07.677Z"
   },
   {
    "duration": 119,
    "start_time": "2023-01-27T14:53:19.446Z"
   },
   {
    "duration": 1203,
    "start_time": "2023-01-27T14:53:23.680Z"
   },
   {
    "duration": 40,
    "start_time": "2023-01-27T14:53:25.067Z"
   },
   {
    "duration": 5,
    "start_time": "2023-01-27T14:53:25.809Z"
   },
   {
    "duration": 282847,
    "start_time": "2023-01-27T14:53:26.681Z"
   },
   {
    "duration": 6,
    "start_time": "2023-01-27T14:58:12.428Z"
   },
   {
    "duration": 8,
    "start_time": "2023-01-27T14:58:13.066Z"
   },
   {
    "duration": 5293,
    "start_time": "2023-01-27T14:58:13.628Z"
   },
   {
    "duration": 4,
    "start_time": "2023-01-27T15:03:33.075Z"
   },
   {
    "duration": 12,
    "start_time": "2023-01-27T15:03:33.082Z"
   },
   {
    "duration": 10,
    "start_time": "2023-01-27T15:03:33.096Z"
   },
   {
    "duration": 3640,
    "start_time": "2023-01-27T15:03:33.109Z"
   },
   {
    "duration": 2392,
    "start_time": "2023-01-27T15:03:36.752Z"
   },
   {
    "duration": 14,
    "start_time": "2023-01-27T15:03:39.146Z"
   },
   {
    "duration": 54,
    "start_time": "2023-01-27T15:03:39.162Z"
   },
   {
    "duration": 245,
    "start_time": "2023-01-27T15:03:39.217Z"
   },
   {
    "duration": 11,
    "start_time": "2023-01-27T15:03:39.464Z"
   },
   {
    "duration": 17,
    "start_time": "2023-01-27T15:03:39.477Z"
   },
   {
    "duration": 152629,
    "start_time": "2023-01-27T15:03:39.497Z"
   },
   {
    "duration": 103,
    "start_time": "2023-01-27T15:06:12.128Z"
   },
   {
    "duration": 6,
    "start_time": "2023-01-27T15:06:12.234Z"
   },
   {
    "duration": 10535,
    "start_time": "2023-01-27T15:06:12.242Z"
   },
   {
    "duration": 4,
    "start_time": "2023-01-27T15:06:22.779Z"
   },
   {
    "duration": 182,
    "start_time": "2023-01-27T15:06:22.785Z"
   },
   {
    "duration": 0,
    "start_time": "2023-01-27T15:06:22.969Z"
   },
   {
    "duration": 1,
    "start_time": "2023-01-27T15:06:22.970Z"
   },
   {
    "duration": 0,
    "start_time": "2023-01-27T15:06:22.972Z"
   },
   {
    "duration": 0,
    "start_time": "2023-01-27T15:06:22.973Z"
   },
   {
    "duration": 0,
    "start_time": "2023-01-27T15:06:22.974Z"
   },
   {
    "duration": 0,
    "start_time": "2023-01-27T15:06:22.976Z"
   },
   {
    "duration": 0,
    "start_time": "2023-01-27T15:06:22.977Z"
   },
   {
    "duration": 0,
    "start_time": "2023-01-27T15:06:22.978Z"
   },
   {
    "duration": 0,
    "start_time": "2023-01-27T15:06:22.979Z"
   },
   {
    "duration": 0,
    "start_time": "2023-01-27T15:06:22.980Z"
   },
   {
    "duration": 0,
    "start_time": "2023-01-27T15:06:22.981Z"
   },
   {
    "duration": 0,
    "start_time": "2023-01-27T15:06:22.983Z"
   },
   {
    "duration": 0,
    "start_time": "2023-01-27T15:06:22.984Z"
   },
   {
    "duration": 0,
    "start_time": "2023-01-27T15:06:22.985Z"
   },
   {
    "duration": 0,
    "start_time": "2023-01-27T15:06:22.987Z"
   },
   {
    "duration": 0,
    "start_time": "2023-01-27T15:06:22.988Z"
   },
   {
    "duration": 0,
    "start_time": "2023-01-27T15:06:23.021Z"
   },
   {
    "duration": 0,
    "start_time": "2023-01-27T15:06:23.022Z"
   },
   {
    "duration": 0,
    "start_time": "2023-01-27T15:06:23.023Z"
   },
   {
    "duration": 0,
    "start_time": "2023-01-27T15:06:23.025Z"
   },
   {
    "duration": 0,
    "start_time": "2023-01-27T15:06:23.026Z"
   },
   {
    "duration": 0,
    "start_time": "2023-01-27T15:06:23.027Z"
   },
   {
    "duration": 0,
    "start_time": "2023-01-27T15:06:23.028Z"
   },
   {
    "duration": 0,
    "start_time": "2023-01-27T15:06:23.029Z"
   },
   {
    "duration": 11725,
    "start_time": "2023-01-27T15:07:16.109Z"
   },
   {
    "duration": 111,
    "start_time": "2023-01-27T15:07:27.836Z"
   },
   {
    "duration": 1108,
    "start_time": "2023-01-27T15:07:27.949Z"
   },
   {
    "duration": 25,
    "start_time": "2023-01-27T15:07:29.060Z"
   },
   {
    "duration": 4,
    "start_time": "2023-01-27T15:07:32.653Z"
   },
   {
    "duration": 274973,
    "start_time": "2023-01-27T15:07:33.379Z"
   },
   {
    "duration": 67,
    "start_time": "2023-01-27T15:12:08.355Z"
   },
   {
    "duration": 6,
    "start_time": "2023-01-27T15:12:39.225Z"
   },
   {
    "duration": 7,
    "start_time": "2023-01-27T15:12:40.835Z"
   },
   {
    "duration": 2948,
    "start_time": "2023-01-27T15:12:41.674Z"
   },
   {
    "duration": 43,
    "start_time": "2023-01-27T15:13:15.155Z"
   },
   {
    "duration": 1518,
    "start_time": "2023-01-27T15:13:15.781Z"
   },
   {
    "duration": 47,
    "start_time": "2023-01-27T15:13:18.288Z"
   },
   {
    "duration": 5,
    "start_time": "2023-01-27T15:13:19.351Z"
   },
   {
    "duration": 4,
    "start_time": "2023-01-27T15:18:16.640Z"
   },
   {
    "duration": 5,
    "start_time": "2023-01-27T15:18:16.646Z"
   },
   {
    "duration": 5,
    "start_time": "2023-01-27T15:18:16.653Z"
   },
   {
    "duration": 3518,
    "start_time": "2023-01-27T15:18:16.659Z"
   },
   {
    "duration": 2362,
    "start_time": "2023-01-27T15:18:20.179Z"
   },
   {
    "duration": 15,
    "start_time": "2023-01-27T15:18:22.543Z"
   },
   {
    "duration": 53,
    "start_time": "2023-01-27T15:18:22.559Z"
   },
   {
    "duration": 239,
    "start_time": "2023-01-27T15:18:22.614Z"
   },
   {
    "duration": 8,
    "start_time": "2023-01-27T15:18:22.855Z"
   },
   {
    "duration": 13,
    "start_time": "2023-01-27T15:18:22.866Z"
   },
   {
    "duration": 153774,
    "start_time": "2023-01-27T15:18:22.881Z"
   },
   {
    "duration": 102,
    "start_time": "2023-01-27T15:20:56.657Z"
   },
   {
    "duration": 6,
    "start_time": "2023-01-27T15:20:56.761Z"
   },
   {
    "duration": 10943,
    "start_time": "2023-01-27T15:20:56.770Z"
   },
   {
    "duration": 5,
    "start_time": "2023-01-27T15:21:07.715Z"
   },
   {
    "duration": 171,
    "start_time": "2023-01-27T15:21:07.722Z"
   },
   {
    "duration": 0,
    "start_time": "2023-01-27T15:21:07.895Z"
   },
   {
    "duration": 0,
    "start_time": "2023-01-27T15:21:07.896Z"
   },
   {
    "duration": 0,
    "start_time": "2023-01-27T15:21:07.898Z"
   },
   {
    "duration": 0,
    "start_time": "2023-01-27T15:21:07.899Z"
   },
   {
    "duration": 0,
    "start_time": "2023-01-27T15:21:07.901Z"
   },
   {
    "duration": 0,
    "start_time": "2023-01-27T15:21:07.902Z"
   },
   {
    "duration": 0,
    "start_time": "2023-01-27T15:21:07.920Z"
   },
   {
    "duration": 0,
    "start_time": "2023-01-27T15:21:07.922Z"
   },
   {
    "duration": 0,
    "start_time": "2023-01-27T15:21:07.924Z"
   },
   {
    "duration": 0,
    "start_time": "2023-01-27T15:21:07.925Z"
   },
   {
    "duration": 0,
    "start_time": "2023-01-27T15:21:07.927Z"
   },
   {
    "duration": 0,
    "start_time": "2023-01-27T15:21:07.928Z"
   },
   {
    "duration": 0,
    "start_time": "2023-01-27T15:21:07.929Z"
   },
   {
    "duration": 0,
    "start_time": "2023-01-27T15:21:07.931Z"
   },
   {
    "duration": 0,
    "start_time": "2023-01-27T15:21:07.932Z"
   },
   {
    "duration": 0,
    "start_time": "2023-01-27T15:21:07.934Z"
   },
   {
    "duration": 1,
    "start_time": "2023-01-27T15:21:07.935Z"
   },
   {
    "duration": 0,
    "start_time": "2023-01-27T15:21:07.937Z"
   },
   {
    "duration": 0,
    "start_time": "2023-01-27T15:21:07.939Z"
   },
   {
    "duration": 0,
    "start_time": "2023-01-27T15:21:07.940Z"
   },
   {
    "duration": 0,
    "start_time": "2023-01-27T15:21:07.942Z"
   },
   {
    "duration": 0,
    "start_time": "2023-01-27T15:21:07.944Z"
   },
   {
    "duration": 0,
    "start_time": "2023-01-27T15:21:07.945Z"
   },
   {
    "duration": 0,
    "start_time": "2023-01-27T15:21:07.946Z"
   },
   {
    "duration": 11516,
    "start_time": "2023-01-27T15:22:12.908Z"
   },
   {
    "duration": 57,
    "start_time": "2023-01-27T15:22:24.427Z"
   },
   {
    "duration": 1170,
    "start_time": "2023-01-27T15:22:24.485Z"
   },
   {
    "duration": 25,
    "start_time": "2023-01-27T15:22:25.657Z"
   },
   {
    "duration": 7,
    "start_time": "2023-01-27T15:22:25.683Z"
   },
   {
    "duration": 3128,
    "start_time": "2023-01-27T15:28:30.481Z"
   },
   {
    "duration": 129,
    "start_time": "2023-01-27T15:28:33.611Z"
   },
   {
    "duration": 3,
    "start_time": "2023-01-27T15:28:33.742Z"
   },
   {
    "duration": 2371,
    "start_time": "2023-01-27T15:28:33.747Z"
   },
   {
    "duration": 14,
    "start_time": "2023-01-27T15:28:36.120Z"
   },
   {
    "duration": 49,
    "start_time": "2023-01-27T15:28:36.135Z"
   },
   {
    "duration": 260,
    "start_time": "2023-01-27T15:28:36.186Z"
   },
   {
    "duration": 9,
    "start_time": "2023-01-27T15:28:36.447Z"
   },
   {
    "duration": 3,
    "start_time": "2023-01-27T15:28:36.458Z"
   },
   {
    "duration": 148505,
    "start_time": "2023-01-27T15:28:36.463Z"
   },
   {
    "duration": 115,
    "start_time": "2023-01-27T15:31:04.970Z"
   },
   {
    "duration": 6,
    "start_time": "2023-01-27T15:31:05.086Z"
   },
   {
    "duration": 10366,
    "start_time": "2023-01-27T15:31:05.094Z"
   },
   {
    "duration": 4,
    "start_time": "2023-01-27T15:31:15.463Z"
   },
   {
    "duration": 179,
    "start_time": "2023-01-27T15:31:15.468Z"
   },
   {
    "duration": 0,
    "start_time": "2023-01-27T15:31:15.648Z"
   },
   {
    "duration": 0,
    "start_time": "2023-01-27T15:31:15.650Z"
   },
   {
    "duration": 0,
    "start_time": "2023-01-27T15:31:15.651Z"
   },
   {
    "duration": 0,
    "start_time": "2023-01-27T15:31:15.652Z"
   },
   {
    "duration": 0,
    "start_time": "2023-01-27T15:31:15.653Z"
   },
   {
    "duration": 0,
    "start_time": "2023-01-27T15:31:15.655Z"
   },
   {
    "duration": 0,
    "start_time": "2023-01-27T15:31:15.656Z"
   },
   {
    "duration": 0,
    "start_time": "2023-01-27T15:31:15.658Z"
   },
   {
    "duration": 0,
    "start_time": "2023-01-27T15:31:15.660Z"
   },
   {
    "duration": 0,
    "start_time": "2023-01-27T15:31:15.662Z"
   },
   {
    "duration": 0,
    "start_time": "2023-01-27T15:31:15.663Z"
   },
   {
    "duration": 0,
    "start_time": "2023-01-27T15:31:15.665Z"
   },
   {
    "duration": 0,
    "start_time": "2023-01-27T15:31:15.667Z"
   },
   {
    "duration": 0,
    "start_time": "2023-01-27T15:31:15.669Z"
   },
   {
    "duration": 0,
    "start_time": "2023-01-27T15:31:15.671Z"
   },
   {
    "duration": 0,
    "start_time": "2023-01-27T15:31:15.672Z"
   },
   {
    "duration": 0,
    "start_time": "2023-01-27T15:31:15.674Z"
   },
   {
    "duration": 0,
    "start_time": "2023-01-27T15:31:15.675Z"
   },
   {
    "duration": 11793,
    "start_time": "2023-01-27T15:32:08.240Z"
   },
   {
    "duration": 43,
    "start_time": "2023-01-27T15:33:22.426Z"
   },
   {
    "duration": 864,
    "start_time": "2023-01-27T15:33:23.357Z"
   },
   {
    "duration": 13,
    "start_time": "2023-01-27T15:33:26.152Z"
   },
   {
    "duration": 3,
    "start_time": "2023-01-27T15:33:27.444Z"
   },
   {
    "duration": 185,
    "start_time": "2023-01-27T15:33:29.445Z"
   },
   {
    "duration": 6,
    "start_time": "2023-01-27T15:34:12.559Z"
   },
   {
    "duration": 19,
    "start_time": "2023-01-27T15:34:16.990Z"
   },
   {
    "duration": 22,
    "start_time": "2023-01-27T15:34:19.469Z"
   },
   {
    "duration": 41,
    "start_time": "2023-01-27T15:34:35.643Z"
   },
   {
    "duration": 131578,
    "start_time": "2023-01-27T15:34:41.051Z"
   },
   {
    "duration": 6,
    "start_time": "2023-01-27T15:37:03.622Z"
   },
   {
    "duration": 12,
    "start_time": "2023-01-27T15:37:04.157Z"
   },
   {
    "duration": 4207,
    "start_time": "2023-01-27T15:37:04.621Z"
   },
   {
    "duration": 5,
    "start_time": "2023-01-27T15:37:27.755Z"
   },
   {
    "duration": 40,
    "start_time": "2023-01-27T15:37:40.038Z"
   },
   {
    "duration": 1254,
    "start_time": "2023-01-27T15:37:40.617Z"
   },
   {
    "duration": 28,
    "start_time": "2023-01-27T15:37:43.146Z"
   },
   {
    "duration": 4,
    "start_time": "2023-01-27T15:37:44.379Z"
   },
   {
    "duration": 24,
    "start_time": "2023-01-27T15:37:46.077Z"
   },
   {
    "duration": 7,
    "start_time": "2023-01-27T15:38:24.580Z"
   },
   {
    "duration": 3139,
    "start_time": "2023-01-27T15:42:50.975Z"
   },
   {
    "duration": 217,
    "start_time": "2023-01-27T15:42:54.116Z"
   },
   {
    "duration": 3,
    "start_time": "2023-01-27T15:42:54.336Z"
   },
   {
    "duration": 2371,
    "start_time": "2023-01-27T15:42:54.341Z"
   },
   {
    "duration": 15,
    "start_time": "2023-01-27T15:42:56.714Z"
   },
   {
    "duration": 56,
    "start_time": "2023-01-27T15:42:56.731Z"
   },
   {
    "duration": 242,
    "start_time": "2023-01-27T15:42:56.790Z"
   },
   {
    "duration": 8,
    "start_time": "2023-01-27T15:42:57.034Z"
   },
   {
    "duration": 4,
    "start_time": "2023-01-27T15:42:57.043Z"
   },
   {
    "duration": 151808,
    "start_time": "2023-01-27T15:42:57.048Z"
   },
   {
    "duration": 103,
    "start_time": "2023-01-27T15:45:28.858Z"
   },
   {
    "duration": 5,
    "start_time": "2023-01-27T15:45:28.963Z"
   },
   {
    "duration": 10202,
    "start_time": "2023-01-27T15:45:28.970Z"
   },
   {
    "duration": 4,
    "start_time": "2023-01-27T15:45:39.175Z"
   },
   {
    "duration": 191,
    "start_time": "2023-01-27T15:45:39.181Z"
   },
   {
    "duration": 0,
    "start_time": "2023-01-27T15:45:39.374Z"
   },
   {
    "duration": 0,
    "start_time": "2023-01-27T15:45:39.375Z"
   },
   {
    "duration": 0,
    "start_time": "2023-01-27T15:45:39.376Z"
   },
   {
    "duration": 0,
    "start_time": "2023-01-27T15:45:39.377Z"
   },
   {
    "duration": 0,
    "start_time": "2023-01-27T15:45:39.378Z"
   },
   {
    "duration": 0,
    "start_time": "2023-01-27T15:45:39.380Z"
   },
   {
    "duration": 0,
    "start_time": "2023-01-27T15:45:39.380Z"
   },
   {
    "duration": 0,
    "start_time": "2023-01-27T15:45:39.381Z"
   },
   {
    "duration": 0,
    "start_time": "2023-01-27T15:45:39.383Z"
   },
   {
    "duration": 0,
    "start_time": "2023-01-27T15:45:39.384Z"
   },
   {
    "duration": 0,
    "start_time": "2023-01-27T15:45:39.385Z"
   },
   {
    "duration": 0,
    "start_time": "2023-01-27T15:45:39.386Z"
   },
   {
    "duration": 0,
    "start_time": "2023-01-27T15:45:39.388Z"
   },
   {
    "duration": 0,
    "start_time": "2023-01-27T15:45:39.389Z"
   },
   {
    "duration": 0,
    "start_time": "2023-01-27T15:45:39.390Z"
   },
   {
    "duration": 0,
    "start_time": "2023-01-27T15:45:39.391Z"
   },
   {
    "duration": 0,
    "start_time": "2023-01-27T15:45:39.420Z"
   },
   {
    "duration": 0,
    "start_time": "2023-01-27T15:45:39.422Z"
   },
   {
    "duration": 11961,
    "start_time": "2023-01-27T15:46:24.995Z"
   },
   {
    "duration": 42,
    "start_time": "2023-01-27T15:46:37.021Z"
   },
   {
    "duration": 1289,
    "start_time": "2023-01-27T15:46:37.064Z"
   },
   {
    "duration": 37,
    "start_time": "2023-01-27T15:46:38.355Z"
   },
   {
    "duration": 7,
    "start_time": "2023-01-27T15:46:38.394Z"
   },
   {
    "duration": 3123,
    "start_time": "2023-01-27T15:49:26.780Z"
   },
   {
    "duration": 117,
    "start_time": "2023-01-27T15:49:29.906Z"
   },
   {
    "duration": 4,
    "start_time": "2023-01-27T15:49:30.025Z"
   },
   {
    "duration": 2402,
    "start_time": "2023-01-27T15:49:30.031Z"
   },
   {
    "duration": 16,
    "start_time": "2023-01-27T15:49:32.435Z"
   },
   {
    "duration": 46,
    "start_time": "2023-01-27T15:49:32.452Z"
   },
   {
    "duration": 237,
    "start_time": "2023-01-27T15:49:32.499Z"
   },
   {
    "duration": 8,
    "start_time": "2023-01-27T15:49:32.737Z"
   },
   {
    "duration": 4,
    "start_time": "2023-01-27T15:49:32.746Z"
   },
   {
    "duration": 148253,
    "start_time": "2023-01-27T15:49:32.751Z"
   },
   {
    "duration": 102,
    "start_time": "2023-01-27T15:52:01.021Z"
   },
   {
    "duration": 5,
    "start_time": "2023-01-27T15:52:01.125Z"
   },
   {
    "duration": 9925,
    "start_time": "2023-01-27T15:52:01.133Z"
   },
   {
    "duration": 4,
    "start_time": "2023-01-27T15:52:11.061Z"
   },
   {
    "duration": 163,
    "start_time": "2023-01-27T15:52:11.066Z"
   },
   {
    "duration": 0,
    "start_time": "2023-01-27T15:52:11.231Z"
   },
   {
    "duration": 0,
    "start_time": "2023-01-27T15:52:11.232Z"
   },
   {
    "duration": 0,
    "start_time": "2023-01-27T15:52:11.233Z"
   },
   {
    "duration": 0,
    "start_time": "2023-01-27T15:52:11.234Z"
   },
   {
    "duration": 0,
    "start_time": "2023-01-27T15:52:11.235Z"
   },
   {
    "duration": 0,
    "start_time": "2023-01-27T15:52:11.237Z"
   },
   {
    "duration": 0,
    "start_time": "2023-01-27T15:52:11.238Z"
   },
   {
    "duration": 0,
    "start_time": "2023-01-27T15:52:11.239Z"
   },
   {
    "duration": 0,
    "start_time": "2023-01-27T15:52:11.240Z"
   },
   {
    "duration": 0,
    "start_time": "2023-01-27T15:52:11.241Z"
   },
   {
    "duration": 0,
    "start_time": "2023-01-27T15:52:11.242Z"
   },
   {
    "duration": 0,
    "start_time": "2023-01-27T15:52:11.243Z"
   },
   {
    "duration": 0,
    "start_time": "2023-01-27T15:52:11.244Z"
   },
   {
    "duration": 0,
    "start_time": "2023-01-27T15:52:11.245Z"
   },
   {
    "duration": 0,
    "start_time": "2023-01-27T15:52:11.246Z"
   },
   {
    "duration": 0,
    "start_time": "2023-01-27T15:52:11.247Z"
   },
   {
    "duration": 0,
    "start_time": "2023-01-27T15:52:11.248Z"
   },
   {
    "duration": 0,
    "start_time": "2023-01-27T15:52:11.249Z"
   },
   {
    "duration": 11633,
    "start_time": "2023-01-27T15:53:08.812Z"
   },
   {
    "duration": 109,
    "start_time": "2023-01-27T15:53:20.448Z"
   },
   {
    "duration": 977,
    "start_time": "2023-01-27T15:53:20.559Z"
   },
   {
    "duration": 18,
    "start_time": "2023-01-27T15:53:21.538Z"
   },
   {
    "duration": 7,
    "start_time": "2023-01-27T15:53:21.557Z"
   },
   {
    "duration": 54,
    "start_time": "2023-01-27T15:56:47.800Z"
   },
   {
    "duration": 3187,
    "start_time": "2023-01-27T15:56:56.242Z"
   },
   {
    "duration": 143,
    "start_time": "2023-01-27T15:56:59.431Z"
   },
   {
    "duration": 3,
    "start_time": "2023-01-27T15:56:59.576Z"
   },
   {
    "duration": 2370,
    "start_time": "2023-01-27T15:56:59.581Z"
   },
   {
    "duration": 15,
    "start_time": "2023-01-27T15:57:01.954Z"
   },
   {
    "duration": 79,
    "start_time": "2023-01-27T15:57:01.971Z"
   },
   {
    "duration": 242,
    "start_time": "2023-01-27T15:57:02.052Z"
   },
   {
    "duration": 9,
    "start_time": "2023-01-27T15:57:02.296Z"
   },
   {
    "duration": 4,
    "start_time": "2023-01-27T15:57:02.320Z"
   },
   {
    "duration": 150863,
    "start_time": "2023-01-27T15:57:02.326Z"
   },
   {
    "duration": 113,
    "start_time": "2023-01-27T15:59:33.191Z"
   },
   {
    "duration": 5,
    "start_time": "2023-01-27T15:59:33.306Z"
   },
   {
    "duration": 10839,
    "start_time": "2023-01-27T15:59:33.312Z"
   },
   {
    "duration": 4,
    "start_time": "2023-01-27T15:59:44.154Z"
   },
   {
    "duration": 173,
    "start_time": "2023-01-27T15:59:44.160Z"
   },
   {
    "duration": 0,
    "start_time": "2023-01-27T15:59:44.334Z"
   },
   {
    "duration": 0,
    "start_time": "2023-01-27T15:59:44.336Z"
   },
   {
    "duration": 0,
    "start_time": "2023-01-27T15:59:44.337Z"
   },
   {
    "duration": 0,
    "start_time": "2023-01-27T15:59:44.338Z"
   },
   {
    "duration": 0,
    "start_time": "2023-01-27T15:59:44.339Z"
   },
   {
    "duration": 0,
    "start_time": "2023-01-27T15:59:44.343Z"
   },
   {
    "duration": 0,
    "start_time": "2023-01-27T15:59:44.344Z"
   },
   {
    "duration": 0,
    "start_time": "2023-01-27T15:59:44.346Z"
   },
   {
    "duration": 1,
    "start_time": "2023-01-27T15:59:44.347Z"
   },
   {
    "duration": 0,
    "start_time": "2023-01-27T15:59:44.348Z"
   },
   {
    "duration": 0,
    "start_time": "2023-01-27T15:59:44.349Z"
   },
   {
    "duration": 0,
    "start_time": "2023-01-27T15:59:44.350Z"
   },
   {
    "duration": 0,
    "start_time": "2023-01-27T15:59:44.351Z"
   },
   {
    "duration": 0,
    "start_time": "2023-01-27T15:59:44.353Z"
   },
   {
    "duration": 0,
    "start_time": "2023-01-27T15:59:44.354Z"
   },
   {
    "duration": 0,
    "start_time": "2023-01-27T15:59:44.356Z"
   },
   {
    "duration": 0,
    "start_time": "2023-01-27T15:59:44.357Z"
   },
   {
    "duration": 0,
    "start_time": "2023-01-27T15:59:44.358Z"
   },
   {
    "duration": 12018,
    "start_time": "2023-01-27T15:59:48.827Z"
   },
   {
    "duration": 113,
    "start_time": "2023-01-27T16:00:00.848Z"
   },
   {
    "duration": 1160,
    "start_time": "2023-01-27T16:00:00.963Z"
   },
   {
    "duration": 20,
    "start_time": "2023-01-27T16:00:02.125Z"
   },
   {
    "duration": 30,
    "start_time": "2023-01-27T16:00:02.147Z"
   },
   {
    "duration": 3496,
    "start_time": "2023-01-27T16:03:19.532Z"
   },
   {
    "duration": 208,
    "start_time": "2023-01-27T16:03:23.030Z"
   },
   {
    "duration": 3,
    "start_time": "2023-01-27T16:03:23.240Z"
   },
   {
    "duration": 2430,
    "start_time": "2023-01-27T16:03:23.246Z"
   },
   {
    "duration": 15,
    "start_time": "2023-01-27T16:03:25.678Z"
   },
   {
    "duration": 49,
    "start_time": "2023-01-27T16:03:25.695Z"
   },
   {
    "duration": 242,
    "start_time": "2023-01-27T16:03:25.746Z"
   },
   {
    "duration": 10,
    "start_time": "2023-01-27T16:03:25.991Z"
   },
   {
    "duration": 5,
    "start_time": "2023-01-27T16:03:26.002Z"
   },
   {
    "duration": 151322,
    "start_time": "2023-01-27T16:03:26.023Z"
   },
   {
    "duration": 106,
    "start_time": "2023-01-27T16:05:57.346Z"
   },
   {
    "duration": 5,
    "start_time": "2023-01-27T16:05:57.454Z"
   },
   {
    "duration": 10298,
    "start_time": "2023-01-27T16:05:57.460Z"
   },
   {
    "duration": 4,
    "start_time": "2023-01-27T16:06:07.760Z"
   },
   {
    "duration": 181,
    "start_time": "2023-01-27T16:06:07.765Z"
   },
   {
    "duration": 0,
    "start_time": "2023-01-27T16:06:07.947Z"
   },
   {
    "duration": 0,
    "start_time": "2023-01-27T16:06:07.949Z"
   },
   {
    "duration": 0,
    "start_time": "2023-01-27T16:06:07.950Z"
   },
   {
    "duration": 0,
    "start_time": "2023-01-27T16:06:07.951Z"
   },
   {
    "duration": 0,
    "start_time": "2023-01-27T16:06:07.952Z"
   },
   {
    "duration": 0,
    "start_time": "2023-01-27T16:06:07.953Z"
   },
   {
    "duration": 0,
    "start_time": "2023-01-27T16:06:07.955Z"
   },
   {
    "duration": 0,
    "start_time": "2023-01-27T16:06:07.956Z"
   },
   {
    "duration": 0,
    "start_time": "2023-01-27T16:06:07.957Z"
   },
   {
    "duration": 0,
    "start_time": "2023-01-27T16:06:07.959Z"
   },
   {
    "duration": 0,
    "start_time": "2023-01-27T16:06:07.960Z"
   },
   {
    "duration": 0,
    "start_time": "2023-01-27T16:06:07.961Z"
   },
   {
    "duration": 0,
    "start_time": "2023-01-27T16:06:07.962Z"
   },
   {
    "duration": 0,
    "start_time": "2023-01-27T16:06:07.963Z"
   },
   {
    "duration": 0,
    "start_time": "2023-01-27T16:06:07.965Z"
   },
   {
    "duration": 0,
    "start_time": "2023-01-27T16:06:07.966Z"
   },
   {
    "duration": 0,
    "start_time": "2023-01-27T16:06:07.968Z"
   },
   {
    "duration": 0,
    "start_time": "2023-01-27T16:06:07.969Z"
   },
   {
    "duration": 11761,
    "start_time": "2023-01-27T16:06:26.790Z"
   },
   {
    "duration": 111,
    "start_time": "2023-01-27T16:06:38.554Z"
   },
   {
    "duration": 1070,
    "start_time": "2023-01-27T16:06:38.667Z"
   },
   {
    "duration": 24,
    "start_time": "2023-01-27T16:06:39.740Z"
   },
   {
    "duration": 7,
    "start_time": "2023-01-27T16:06:39.766Z"
   },
   {
    "duration": 3577,
    "start_time": "2023-01-27T16:10:01.841Z"
   },
   {
    "duration": 205,
    "start_time": "2023-01-27T16:10:05.420Z"
   },
   {
    "duration": 3,
    "start_time": "2023-01-27T16:10:05.627Z"
   },
   {
    "duration": 2447,
    "start_time": "2023-01-27T16:10:05.632Z"
   },
   {
    "duration": 15,
    "start_time": "2023-01-27T16:10:08.081Z"
   },
   {
    "duration": 48,
    "start_time": "2023-01-27T16:10:08.098Z"
   },
   {
    "duration": 245,
    "start_time": "2023-01-27T16:10:08.148Z"
   },
   {
    "duration": 8,
    "start_time": "2023-01-27T16:10:08.395Z"
   },
   {
    "duration": 3,
    "start_time": "2023-01-27T16:10:08.405Z"
   },
   {
    "duration": 148263,
    "start_time": "2023-01-27T16:10:08.421Z"
   },
   {
    "duration": 106,
    "start_time": "2023-01-27T16:12:36.685Z"
   },
   {
    "duration": 5,
    "start_time": "2023-01-27T16:12:36.792Z"
   },
   {
    "duration": 10480,
    "start_time": "2023-01-27T16:12:36.799Z"
   },
   {
    "duration": 5,
    "start_time": "2023-01-27T16:12:47.282Z"
   },
   {
    "duration": 172,
    "start_time": "2023-01-27T16:12:47.288Z"
   },
   {
    "duration": 0,
    "start_time": "2023-01-27T16:12:47.461Z"
   },
   {
    "duration": 0,
    "start_time": "2023-01-27T16:12:47.462Z"
   },
   {
    "duration": 0,
    "start_time": "2023-01-27T16:12:47.463Z"
   },
   {
    "duration": 0,
    "start_time": "2023-01-27T16:12:47.465Z"
   },
   {
    "duration": 0,
    "start_time": "2023-01-27T16:12:47.465Z"
   },
   {
    "duration": 0,
    "start_time": "2023-01-27T16:12:47.467Z"
   },
   {
    "duration": 0,
    "start_time": "2023-01-27T16:12:47.468Z"
   },
   {
    "duration": 0,
    "start_time": "2023-01-27T16:12:47.469Z"
   },
   {
    "duration": 0,
    "start_time": "2023-01-27T16:12:47.470Z"
   },
   {
    "duration": 0,
    "start_time": "2023-01-27T16:12:47.471Z"
   },
   {
    "duration": 0,
    "start_time": "2023-01-27T16:12:47.473Z"
   },
   {
    "duration": 0,
    "start_time": "2023-01-27T16:12:47.474Z"
   },
   {
    "duration": 0,
    "start_time": "2023-01-27T16:12:47.475Z"
   },
   {
    "duration": 0,
    "start_time": "2023-01-27T16:12:47.476Z"
   },
   {
    "duration": 0,
    "start_time": "2023-01-27T16:12:47.477Z"
   },
   {
    "duration": 0,
    "start_time": "2023-01-27T16:12:47.479Z"
   },
   {
    "duration": 0,
    "start_time": "2023-01-27T16:12:47.479Z"
   },
   {
    "duration": 0,
    "start_time": "2023-01-27T16:12:47.481Z"
   },
   {
    "duration": 11642,
    "start_time": "2023-01-27T16:13:05.300Z"
   },
   {
    "duration": 106,
    "start_time": "2023-01-27T16:13:16.944Z"
   },
   {
    "duration": 555,
    "start_time": "2023-01-27T16:13:17.052Z"
   },
   {
    "duration": 18,
    "start_time": "2023-01-27T16:13:17.610Z"
   },
   {
    "duration": 7,
    "start_time": "2023-01-27T16:13:17.630Z"
   },
   {
    "duration": 87584,
    "start_time": "2023-01-27T16:13:17.639Z"
   },
   {
    "duration": 4,
    "start_time": "2023-01-27T16:14:45.225Z"
   },
   {
    "duration": 9,
    "start_time": "2023-01-27T16:14:45.231Z"
   },
   {
    "duration": 1787,
    "start_time": "2023-01-27T16:14:45.242Z"
   },
   {
    "duration": 3117,
    "start_time": "2023-01-27T16:16:15.339Z"
   },
   {
    "duration": 176,
    "start_time": "2023-01-27T16:16:18.458Z"
   },
   {
    "duration": 2297,
    "start_time": "2023-01-27T16:16:18.636Z"
   },
   {
    "duration": 15,
    "start_time": "2023-01-27T16:16:20.935Z"
   },
   {
    "duration": 48,
    "start_time": "2023-01-27T16:16:20.953Z"
   },
   {
    "duration": 237,
    "start_time": "2023-01-27T16:16:21.003Z"
   },
   {
    "duration": 8,
    "start_time": "2023-01-27T16:16:21.242Z"
   },
   {
    "duration": 7,
    "start_time": "2023-01-27T16:16:21.252Z"
   },
   {
    "duration": 145562,
    "start_time": "2023-01-27T16:16:21.260Z"
   },
   {
    "duration": 99,
    "start_time": "2023-01-27T16:18:46.823Z"
   },
   {
    "duration": 5,
    "start_time": "2023-01-27T16:18:46.924Z"
   },
   {
    "duration": 10116,
    "start_time": "2023-01-27T16:18:46.930Z"
   },
   {
    "duration": 4,
    "start_time": "2023-01-27T16:18:57.048Z"
   },
   {
    "duration": 8,
    "start_time": "2023-01-27T16:18:57.056Z"
   },
   {
    "duration": 148382,
    "start_time": "2023-01-27T16:18:57.065Z"
   },
   {
    "duration": 3,
    "start_time": "2023-01-27T16:21:25.449Z"
   },
   {
    "duration": 1753387,
    "start_time": "2023-01-27T16:21:25.454Z"
   },
   {
    "duration": 3,
    "start_time": "2023-01-27T16:50:38.843Z"
   },
   {
    "duration": 2815,
    "start_time": "2023-01-27T16:50:38.847Z"
   },
   {
    "duration": 69,
    "start_time": "2023-01-27T16:50:41.664Z"
   },
   {
    "duration": 1032,
    "start_time": "2023-01-27T16:50:41.734Z"
   },
   {
    "duration": 183,
    "start_time": "2023-01-27T16:50:42.768Z"
   },
   {
    "duration": 0,
    "start_time": "2023-01-27T16:50:42.953Z"
   },
   {
    "duration": 0,
    "start_time": "2023-01-27T16:50:42.955Z"
   },
   {
    "duration": 1,
    "start_time": "2023-01-27T16:50:42.956Z"
   },
   {
    "duration": 0,
    "start_time": "2023-01-27T16:50:42.958Z"
   },
   {
    "duration": 0,
    "start_time": "2023-01-27T16:50:42.959Z"
   },
   {
    "duration": 0,
    "start_time": "2023-01-27T16:50:42.960Z"
   },
   {
    "duration": 0,
    "start_time": "2023-01-27T16:50:42.961Z"
   },
   {
    "duration": 0,
    "start_time": "2023-01-27T16:50:42.962Z"
   },
   {
    "duration": 0,
    "start_time": "2023-01-27T16:50:42.964Z"
   },
   {
    "duration": 28,
    "start_time": "2023-01-27T16:55:35.479Z"
   },
   {
    "duration": 344,
    "start_time": "2023-01-27T16:55:42.757Z"
   },
   {
    "duration": 7780,
    "start_time": "2023-01-27T16:55:50.551Z"
   },
   {
    "duration": 41,
    "start_time": "2023-01-27T16:55:58.333Z"
   },
   {
    "duration": 582,
    "start_time": "2023-01-27T16:55:58.376Z"
   },
   {
    "duration": 12,
    "start_time": "2023-01-27T16:55:58.960Z"
   },
   {
    "duration": 5,
    "start_time": "2023-01-27T16:55:58.974Z"
   },
   {
    "duration": 3094,
    "start_time": "2023-01-27T16:56:54.018Z"
   },
   {
    "duration": 157,
    "start_time": "2023-01-27T16:56:57.114Z"
   },
   {
    "duration": 2283,
    "start_time": "2023-01-27T16:56:57.272Z"
   },
   {
    "duration": 15,
    "start_time": "2023-01-27T16:56:59.557Z"
   },
   {
    "duration": 46,
    "start_time": "2023-01-27T16:56:59.574Z"
   },
   {
    "duration": 230,
    "start_time": "2023-01-27T16:56:59.622Z"
   },
   {
    "duration": 7,
    "start_time": "2023-01-27T16:56:59.854Z"
   },
   {
    "duration": 6,
    "start_time": "2023-01-27T16:56:59.862Z"
   },
   {
    "duration": 144032,
    "start_time": "2023-01-27T16:56:59.870Z"
   },
   {
    "duration": 98,
    "start_time": "2023-01-27T16:59:23.904Z"
   },
   {
    "duration": 5,
    "start_time": "2023-01-27T16:59:24.004Z"
   },
   {
    "duration": 10169,
    "start_time": "2023-01-27T16:59:24.021Z"
   },
   {
    "duration": 4,
    "start_time": "2023-01-27T16:59:34.192Z"
   },
   {
    "duration": 174,
    "start_time": "2023-01-27T16:59:34.197Z"
   },
   {
    "duration": 0,
    "start_time": "2023-01-27T16:59:34.373Z"
   },
   {
    "duration": 0,
    "start_time": "2023-01-27T16:59:34.375Z"
   },
   {
    "duration": 0,
    "start_time": "2023-01-27T16:59:34.376Z"
   },
   {
    "duration": 0,
    "start_time": "2023-01-27T16:59:34.377Z"
   },
   {
    "duration": 0,
    "start_time": "2023-01-27T16:59:34.379Z"
   },
   {
    "duration": 0,
    "start_time": "2023-01-27T16:59:34.381Z"
   },
   {
    "duration": 0,
    "start_time": "2023-01-27T16:59:34.383Z"
   },
   {
    "duration": 0,
    "start_time": "2023-01-27T16:59:34.385Z"
   },
   {
    "duration": 0,
    "start_time": "2023-01-27T16:59:34.386Z"
   },
   {
    "duration": 0,
    "start_time": "2023-01-27T16:59:34.388Z"
   },
   {
    "duration": 0,
    "start_time": "2023-01-27T16:59:34.389Z"
   },
   {
    "duration": 0,
    "start_time": "2023-01-27T16:59:34.391Z"
   },
   {
    "duration": 0,
    "start_time": "2023-01-27T16:59:34.421Z"
   },
   {
    "duration": 0,
    "start_time": "2023-01-27T16:59:34.423Z"
   },
   {
    "duration": 0,
    "start_time": "2023-01-27T16:59:34.425Z"
   },
   {
    "duration": 0,
    "start_time": "2023-01-27T16:59:34.426Z"
   },
   {
    "duration": 0,
    "start_time": "2023-01-27T16:59:34.428Z"
   },
   {
    "duration": 0,
    "start_time": "2023-01-27T16:59:34.430Z"
   },
   {
    "duration": 11670,
    "start_time": "2023-01-27T17:00:01.368Z"
   },
   {
    "duration": 121,
    "start_time": "2023-01-27T17:00:13.041Z"
   },
   {
    "duration": 624,
    "start_time": "2023-01-27T17:00:13.164Z"
   },
   {
    "duration": 12,
    "start_time": "2023-01-27T17:00:13.790Z"
   },
   {
    "duration": 20,
    "start_time": "2023-01-27T17:00:13.803Z"
   },
   {
    "duration": 96606,
    "start_time": "2023-01-27T17:00:13.825Z"
   },
   {
    "duration": 4,
    "start_time": "2023-01-27T17:01:50.433Z"
   },
   {
    "duration": 8,
    "start_time": "2023-01-27T17:01:50.439Z"
   },
   {
    "duration": 1773,
    "start_time": "2023-01-27T17:01:50.449Z"
   },
   {
    "duration": 6611,
    "start_time": "2023-01-31T12:14:04.425Z"
   },
   {
    "duration": 152,
    "start_time": "2023-01-31T12:14:11.038Z"
   },
   {
    "duration": 11134,
    "start_time": "2023-01-31T12:14:34.525Z"
   },
   {
    "duration": 1960,
    "start_time": "2023-01-31T12:15:08.308Z"
   },
   {
    "duration": 3631,
    "start_time": "2023-01-31T12:15:14.332Z"
   },
   {
    "duration": 15,
    "start_time": "2023-01-31T12:15:21.411Z"
   },
   {
    "duration": 37,
    "start_time": "2023-01-31T12:15:31.029Z"
   },
   {
    "duration": 234,
    "start_time": "2023-01-31T12:15:33.986Z"
   },
   {
    "duration": 9,
    "start_time": "2023-01-31T12:15:37.108Z"
   },
   {
    "duration": 480,
    "start_time": "2023-01-31T12:17:27.173Z"
   },
   {
    "duration": 619,
    "start_time": "2023-01-31T12:17:40.782Z"
   },
   {
    "duration": 4,
    "start_time": "2023-01-31T12:23:35.798Z"
   },
   {
    "duration": 108803,
    "start_time": "2023-01-31T12:23:39.640Z"
   },
   {
    "duration": 4,
    "start_time": "2023-01-31T12:26:10.065Z"
   },
   {
    "duration": 909652,
    "start_time": "2023-01-31T12:26:13.448Z"
   },
   {
    "duration": 65,
    "start_time": "2023-01-31T12:43:17.545Z"
   },
   {
    "duration": 6,
    "start_time": "2023-01-31T12:43:18.253Z"
   },
   {
    "duration": 17,
    "start_time": "2023-01-31T12:43:22.233Z"
   },
   {
    "duration": 4459,
    "start_time": "2023-01-31T12:43:36.403Z"
   },
   {
    "duration": 4643,
    "start_time": "2023-01-31T12:44:46.705Z"
   },
   {
    "duration": 91,
    "start_time": "2023-01-31T14:44:36.111Z"
   },
   {
    "duration": 79,
    "start_time": "2023-01-31T14:45:12.348Z"
   },
   {
    "duration": 138,
    "start_time": "2023-01-31T14:45:38.812Z"
   },
   {
    "duration": 91,
    "start_time": "2023-01-31T14:45:43.557Z"
   },
   {
    "duration": 76,
    "start_time": "2023-01-31T14:46:06.001Z"
   },
   {
    "duration": 70,
    "start_time": "2023-01-31T14:46:10.322Z"
   },
   {
    "duration": 81,
    "start_time": "2023-01-31T14:46:13.370Z"
   },
   {
    "duration": 73,
    "start_time": "2023-01-31T14:46:16.564Z"
   },
   {
    "duration": 72,
    "start_time": "2023-01-31T14:46:27.219Z"
   },
   {
    "duration": 73,
    "start_time": "2023-01-31T14:46:30.063Z"
   },
   {
    "duration": 78,
    "start_time": "2023-01-31T14:46:32.789Z"
   },
   {
    "duration": 82,
    "start_time": "2023-01-31T14:46:36.259Z"
   },
   {
    "duration": 20,
    "start_time": "2023-01-31T14:46:40.671Z"
   },
   {
    "duration": 5,
    "start_time": "2023-01-31T14:46:59.333Z"
   },
   {
    "duration": 5,
    "start_time": "2023-01-31T14:50:09.415Z"
   },
   {
    "duration": 5,
    "start_time": "2023-01-31T14:50:13.827Z"
   },
   {
    "duration": 88,
    "start_time": "2023-01-31T14:50:25.617Z"
   },
   {
    "duration": 70,
    "start_time": "2023-01-31T14:51:46.322Z"
   },
   {
    "duration": 72,
    "start_time": "2023-01-31T14:52:06.066Z"
   },
   {
    "duration": 75,
    "start_time": "2023-01-31T14:52:16.243Z"
   },
   {
    "duration": 92,
    "start_time": "2023-01-31T14:52:23.870Z"
   },
   {
    "duration": 68,
    "start_time": "2023-01-31T14:54:24.302Z"
   },
   {
    "duration": 106,
    "start_time": "2023-01-31T14:54:35.659Z"
   },
   {
    "duration": 101,
    "start_time": "2023-01-31T14:54:39.930Z"
   },
   {
    "duration": 94,
    "start_time": "2023-01-31T14:55:35.526Z"
   },
   {
    "duration": 5,
    "start_time": "2023-01-31T14:55:56.338Z"
   },
   {
    "duration": 6,
    "start_time": "2023-01-31T14:56:22.532Z"
   },
   {
    "duration": 6,
    "start_time": "2023-01-31T14:57:31.763Z"
   },
   {
    "duration": 88,
    "start_time": "2023-01-31T14:58:26.660Z"
   },
   {
    "duration": 5,
    "start_time": "2023-01-31T14:58:36.188Z"
   },
   {
    "duration": 10259,
    "start_time": "2023-01-31T14:59:42.251Z"
   },
   {
    "duration": 5,
    "start_time": "2023-01-31T15:01:05.923Z"
   },
   {
    "duration": 9390,
    "start_time": "2023-01-31T15:01:09.150Z"
   },
   {
    "duration": 6,
    "start_time": "2023-01-31T15:01:36.310Z"
   },
   {
    "duration": 3953,
    "start_time": "2023-01-31T15:01:37.101Z"
   },
   {
    "duration": 6,
    "start_time": "2023-01-31T15:02:31.716Z"
   },
   {
    "duration": 9339,
    "start_time": "2023-01-31T15:02:33.560Z"
   },
   {
    "duration": 6,
    "start_time": "2023-01-31T20:40:11.824Z"
   },
   {
    "duration": 4119,
    "start_time": "2023-01-31T20:40:16.704Z"
   },
   {
    "duration": 39,
    "start_time": "2023-01-31T20:44:55.391Z"
   },
   {
    "duration": 4,
    "start_time": "2023-01-31T20:45:10.627Z"
   },
   {
    "duration": 41149,
    "start_time": "2023-01-31T20:45:14.815Z"
   },
   {
    "duration": 40843,
    "start_time": "2023-01-31T20:55:17.719Z"
   },
   {
    "duration": 40342,
    "start_time": "2023-01-31T20:56:16.909Z"
   },
   {
    "duration": 40365,
    "start_time": "2023-01-31T20:57:39.019Z"
   },
   {
    "duration": 2678716,
    "start_time": "2023-01-31T21:11:02.346Z"
   },
   {
    "duration": 31,
    "start_time": "2023-01-31T21:55:47.907Z"
   },
   {
    "duration": 22,
    "start_time": "2023-01-31T21:56:13.898Z"
   },
   {
    "duration": 5,
    "start_time": "2023-01-31T21:56:28.490Z"
   },
   {
    "duration": 29923,
    "start_time": "2023-01-31T21:56:41.141Z"
   },
   {
    "duration": 4,
    "start_time": "2023-01-31T21:57:24.208Z"
   },
   {
    "duration": 250626,
    "start_time": "2023-01-31T21:57:26.592Z"
   },
   {
    "duration": 4,
    "start_time": "2023-01-31T22:01:44.925Z"
   },
   {
    "duration": 6,
    "start_time": "2023-01-31T22:01:48.162Z"
   },
   {
    "duration": 5,
    "start_time": "2023-01-31T22:02:49.951Z"
   },
   {
    "duration": 485853,
    "start_time": "2023-01-31T22:02:52.356Z"
   },
   {
    "duration": 5,
    "start_time": "2023-01-31T22:11:03.746Z"
   },
   {
    "duration": 3,
    "start_time": "2023-01-31T22:11:06.244Z"
   },
   {
    "duration": 108,
    "start_time": "2023-01-31T22:15:33.546Z"
   },
   {
    "duration": 32,
    "start_time": "2023-01-31T22:15:42.562Z"
   },
   {
    "duration": 4,
    "start_time": "2023-01-31T22:15:49.648Z"
   },
   {
    "duration": 3091468,
    "start_time": "2023-01-31T22:15:52.525Z"
   },
   {
    "duration": 4,
    "start_time": "2023-01-31T23:16:10.338Z"
   },
   {
    "duration": 4,
    "start_time": "2023-01-31T23:16:13.981Z"
   },
   {
    "duration": 4,
    "start_time": "2023-01-31T23:17:33.760Z"
   },
   {
    "duration": 10248,
    "start_time": "2023-01-31T23:17:39.440Z"
   },
   {
    "duration": 4,
    "start_time": "2023-01-31T23:23:14.659Z"
   },
   {
    "duration": 14963,
    "start_time": "2023-01-31T23:23:16.508Z"
   },
   {
    "duration": 4,
    "start_time": "2023-01-31T23:23:35.233Z"
   },
   {
    "duration": 4,
    "start_time": "2023-01-31T23:23:35.886Z"
   },
   {
    "duration": 73,
    "start_time": "2023-01-31T23:27:58.909Z"
   },
   {
    "duration": 17,
    "start_time": "2023-01-31T23:28:20.112Z"
   },
   {
    "duration": 30,
    "start_time": "2023-01-31T23:28:43.080Z"
   },
   {
    "duration": 4,
    "start_time": "2023-01-31T23:28:43.479Z"
   },
   {
    "duration": 246983,
    "start_time": "2023-01-31T23:28:45.279Z"
   },
   {
    "duration": 4,
    "start_time": "2023-01-31T23:33:12.497Z"
   },
   {
    "duration": 3,
    "start_time": "2023-01-31T23:33:14.380Z"
   },
   {
    "duration": 18,
    "start_time": "2023-01-31T23:36:18.329Z"
   },
   {
    "duration": 14,
    "start_time": "2023-01-31T23:36:19.415Z"
   },
   {
    "duration": 10313,
    "start_time": "2023-01-31T23:36:22.074Z"
   },
   {
    "duration": 45,
    "start_time": "2023-01-31T23:36:53.464Z"
   },
   {
    "duration": 7,
    "start_time": "2023-01-31T23:37:07.518Z"
   },
   {
    "duration": 14,
    "start_time": "2023-01-31T23:37:09.788Z"
   },
   {
    "duration": 10140,
    "start_time": "2023-01-31T23:37:11.022Z"
   },
   {
    "duration": 2,
    "start_time": "2023-01-31T23:39:04.948Z"
   },
   {
    "duration": 2,
    "start_time": "2023-01-31T23:46:07.063Z"
   },
   {
    "duration": 16,
    "start_time": "2023-01-31T23:52:36.422Z"
   },
   {
    "duration": 4,
    "start_time": "2023-01-31T23:54:49.220Z"
   },
   {
    "duration": 11137,
    "start_time": "2023-02-01T09:09:17.550Z"
   },
   {
    "duration": 5092,
    "start_time": "2023-02-01T09:09:28.690Z"
   },
   {
    "duration": 126,
    "start_time": "2023-02-01T09:09:33.784Z"
   },
   {
    "duration": 2327,
    "start_time": "2023-02-01T09:09:33.912Z"
   },
   {
    "duration": 19,
    "start_time": "2023-02-01T09:09:36.241Z"
   },
   {
    "duration": 62,
    "start_time": "2023-02-01T09:09:36.261Z"
   },
   {
    "duration": 232,
    "start_time": "2023-02-01T09:09:36.325Z"
   },
   {
    "duration": 9,
    "start_time": "2023-02-01T09:09:36.558Z"
   },
   {
    "duration": 546,
    "start_time": "2023-02-01T09:09:36.570Z"
   },
   {
    "duration": 4,
    "start_time": "2023-02-01T09:09:37.119Z"
   },
   {
    "duration": 962415,
    "start_time": "2023-02-01T09:11:37.756Z"
   },
   {
    "duration": 1000292,
    "start_time": "2023-02-01T09:28:34.520Z"
   },
   {
    "duration": 89,
    "start_time": "2023-02-01T09:45:14.814Z"
   },
   {
    "duration": 5,
    "start_time": "2023-02-01T09:45:14.907Z"
   },
   {
    "duration": 4983,
    "start_time": "2023-02-01T09:45:14.914Z"
   },
   {
    "duration": 3,
    "start_time": "2023-02-01T09:45:19.900Z"
   },
   {
    "duration": 12,
    "start_time": "2023-02-01T09:45:19.905Z"
   },
   {
    "duration": 8,
    "start_time": "2023-02-01T09:45:19.919Z"
   },
   {
    "duration": 8,
    "start_time": "2023-02-01T09:45:19.929Z"
   },
   {
    "duration": 336,
    "start_time": "2023-02-01T09:45:19.939Z"
   },
   {
    "duration": 0,
    "start_time": "2023-02-01T09:45:20.277Z"
   },
   {
    "duration": 0,
    "start_time": "2023-02-01T09:45:20.280Z"
   },
   {
    "duration": 0,
    "start_time": "2023-02-01T09:45:20.281Z"
   },
   {
    "duration": 0,
    "start_time": "2023-02-01T09:45:20.283Z"
   },
   {
    "duration": 0,
    "start_time": "2023-02-01T09:45:20.284Z"
   },
   {
    "duration": 0,
    "start_time": "2023-02-01T09:45:20.285Z"
   },
   {
    "duration": 0,
    "start_time": "2023-02-01T09:45:20.286Z"
   },
   {
    "duration": 0,
    "start_time": "2023-02-01T09:45:20.287Z"
   },
   {
    "duration": 0,
    "start_time": "2023-02-01T09:45:20.288Z"
   },
   {
    "duration": 0,
    "start_time": "2023-02-01T09:45:20.289Z"
   },
   {
    "duration": 0,
    "start_time": "2023-02-01T09:45:20.290Z"
   },
   {
    "duration": 0,
    "start_time": "2023-02-01T09:45:20.291Z"
   },
   {
    "duration": 0,
    "start_time": "2023-02-01T09:45:20.292Z"
   },
   {
    "duration": 0,
    "start_time": "2023-02-01T09:45:20.293Z"
   },
   {
    "duration": 0,
    "start_time": "2023-02-01T09:45:20.294Z"
   },
   {
    "duration": 0,
    "start_time": "2023-02-01T09:45:20.295Z"
   },
   {
    "duration": 0,
    "start_time": "2023-02-01T09:45:20.296Z"
   },
   {
    "duration": 0,
    "start_time": "2023-02-01T09:45:20.297Z"
   },
   {
    "duration": 0,
    "start_time": "2023-02-01T09:45:20.298Z"
   },
   {
    "duration": 0,
    "start_time": "2023-02-01T09:45:20.298Z"
   },
   {
    "duration": 0,
    "start_time": "2023-02-01T09:45:20.299Z"
   },
   {
    "duration": 0,
    "start_time": "2023-02-01T09:45:20.300Z"
   },
   {
    "duration": 0,
    "start_time": "2023-02-01T09:45:20.301Z"
   },
   {
    "duration": 0,
    "start_time": "2023-02-01T09:45:20.302Z"
   },
   {
    "duration": 0,
    "start_time": "2023-02-01T09:45:20.303Z"
   },
   {
    "duration": 0,
    "start_time": "2023-02-01T09:45:20.304Z"
   },
   {
    "duration": 0,
    "start_time": "2023-02-01T09:45:20.305Z"
   },
   {
    "duration": 0,
    "start_time": "2023-02-01T09:45:20.305Z"
   },
   {
    "duration": 0,
    "start_time": "2023-02-01T09:45:20.307Z"
   },
   {
    "duration": 0,
    "start_time": "2023-02-01T09:45:20.308Z"
   },
   {
    "duration": 0,
    "start_time": "2023-02-01T09:45:20.309Z"
   },
   {
    "duration": 0,
    "start_time": "2023-02-01T09:45:20.311Z"
   },
   {
    "duration": 0,
    "start_time": "2023-02-01T09:45:20.312Z"
   },
   {
    "duration": 0,
    "start_time": "2023-02-01T09:45:20.314Z"
   },
   {
    "duration": 0,
    "start_time": "2023-02-01T09:45:20.315Z"
   },
   {
    "duration": 0,
    "start_time": "2023-02-01T09:45:20.316Z"
   },
   {
    "duration": 3,
    "start_time": "2023-02-01T09:48:24.965Z"
   },
   {
    "duration": 3,
    "start_time": "2023-02-01T09:48:32.861Z"
   },
   {
    "duration": 14,
    "start_time": "2023-02-01T09:48:32.866Z"
   },
   {
    "duration": 26,
    "start_time": "2023-02-01T09:48:32.881Z"
   },
   {
    "duration": 16,
    "start_time": "2023-02-01T09:48:32.909Z"
   },
   {
    "duration": 2008132,
    "start_time": "2023-02-01T09:48:32.926Z"
   },
   {
    "duration": 4,
    "start_time": "2023-02-01T10:22:01.059Z"
   },
   {
    "duration": 54,
    "start_time": "2023-02-01T10:22:01.065Z"
   },
   {
    "duration": 35,
    "start_time": "2023-02-01T10:22:01.121Z"
   },
   {
    "duration": 47,
    "start_time": "2023-02-01T10:22:01.158Z"
   },
   {
    "duration": 51,
    "start_time": "2023-02-01T10:22:01.208Z"
   },
   {
    "duration": 32,
    "start_time": "2023-02-01T10:22:01.261Z"
   },
   {
    "duration": 39,
    "start_time": "2023-02-01T10:22:01.295Z"
   },
   {
    "duration": 25,
    "start_time": "2023-02-01T10:22:01.336Z"
   },
   {
    "duration": 79389,
    "start_time": "2023-02-01T10:22:01.362Z"
   },
   {
    "duration": 4,
    "start_time": "2023-02-01T10:23:20.753Z"
   },
   {
    "duration": 15,
    "start_time": "2023-02-01T10:23:20.759Z"
   },
   {
    "duration": 29,
    "start_time": "2023-02-01T10:23:20.776Z"
   },
   {
    "duration": 4,
    "start_time": "2023-02-01T10:23:20.806Z"
   },
   {
    "duration": 1542302,
    "start_time": "2023-02-01T10:23:20.811Z"
   },
   {
    "duration": 4,
    "start_time": "2023-02-01T10:49:03.116Z"
   },
   {
    "duration": 31,
    "start_time": "2023-02-01T10:49:03.121Z"
   },
   {
    "duration": 55,
    "start_time": "2023-02-01T10:49:03.154Z"
   },
   {
    "duration": 0,
    "start_time": "2023-02-01T10:49:03.212Z"
   },
   {
    "duration": 0,
    "start_time": "2023-02-01T10:49:03.213Z"
   },
   {
    "duration": 0,
    "start_time": "2023-02-01T10:49:03.215Z"
   },
   {
    "duration": 0,
    "start_time": "2023-02-01T10:49:03.217Z"
   },
   {
    "duration": 0,
    "start_time": "2023-02-01T10:49:03.219Z"
   },
   {
    "duration": 0,
    "start_time": "2023-02-01T10:49:03.220Z"
   },
   {
    "duration": 0,
    "start_time": "2023-02-01T10:49:03.222Z"
   },
   {
    "duration": 0,
    "start_time": "2023-02-01T10:49:03.223Z"
   },
   {
    "duration": 0,
    "start_time": "2023-02-01T10:49:03.224Z"
   },
   {
    "duration": 0,
    "start_time": "2023-02-01T10:49:03.226Z"
   },
   {
    "duration": 0,
    "start_time": "2023-02-01T10:49:03.227Z"
   },
   {
    "duration": 0,
    "start_time": "2023-02-01T10:49:03.229Z"
   },
   {
    "duration": 0,
    "start_time": "2023-02-01T10:49:03.230Z"
   },
   {
    "duration": 0,
    "start_time": "2023-02-01T10:49:03.232Z"
   },
   {
    "duration": 0,
    "start_time": "2023-02-01T10:49:03.234Z"
   },
   {
    "duration": 0,
    "start_time": "2023-02-01T10:49:03.236Z"
   },
   {
    "duration": 0,
    "start_time": "2023-02-01T10:49:03.237Z"
   },
   {
    "duration": 0,
    "start_time": "2023-02-01T10:49:03.239Z"
   },
   {
    "duration": 0,
    "start_time": "2023-02-01T10:49:03.240Z"
   },
   {
    "duration": 0,
    "start_time": "2023-02-01T10:49:03.241Z"
   },
   {
    "duration": 0,
    "start_time": "2023-02-01T10:49:03.242Z"
   },
   {
    "duration": 0,
    "start_time": "2023-02-01T10:49:03.243Z"
   },
   {
    "duration": 0,
    "start_time": "2023-02-01T10:49:03.282Z"
   },
   {
    "duration": 0,
    "start_time": "2023-02-01T10:49:03.283Z"
   },
   {
    "duration": 0,
    "start_time": "2023-02-01T10:49:03.284Z"
   },
   {
    "duration": 2,
    "start_time": "2023-02-01T10:52:13.021Z"
   },
   {
    "duration": 5,
    "start_time": "2023-02-01T10:52:19.501Z"
   },
   {
    "duration": 5,
    "start_time": "2023-02-01T10:52:24.315Z"
   },
   {
    "duration": 5,
    "start_time": "2023-02-01T10:52:28.298Z"
   },
   {
    "duration": 22,
    "start_time": "2023-02-01T10:52:51.234Z"
   },
   {
    "duration": 49,
    "start_time": "2023-02-01T10:53:54.533Z"
   },
   {
    "duration": 30,
    "start_time": "2023-02-01T10:54:01.497Z"
   },
   {
    "duration": 12,
    "start_time": "2023-02-01T10:54:18.026Z"
   },
   {
    "duration": 7,
    "start_time": "2023-02-01T10:55:04.700Z"
   },
   {
    "duration": 6146804,
    "start_time": "2023-02-01T10:55:07.323Z"
   },
   {
    "duration": 4,
    "start_time": "2023-02-01T12:39:49.149Z"
   },
   {
    "duration": 5,
    "start_time": "2023-02-01T12:40:07.222Z"
   },
   {
    "duration": 51,
    "start_time": "2023-02-01T12:40:57.014Z"
   },
   {
    "duration": 38,
    "start_time": "2023-02-01T12:41:09.418Z"
   },
   {
    "duration": 324,
    "start_time": "2023-02-01T12:41:15.198Z"
   },
   {
    "duration": 4,
    "start_time": "2023-02-01T12:45:38.927Z"
   },
   {
    "duration": 323,
    "start_time": "2023-02-01T12:45:40.548Z"
   },
   {
    "duration": 12,
    "start_time": "2023-02-01T12:45:49.048Z"
   },
   {
    "duration": 82709,
    "start_time": "2023-02-01T12:45:56.922Z"
   },
   {
    "duration": 4,
    "start_time": "2023-02-01T12:48:13.664Z"
   },
   {
    "duration": 5,
    "start_time": "2023-02-01T12:48:17.402Z"
   },
   {
    "duration": 33466,
    "start_time": "2023-02-01T12:48:20.102Z"
   },
   {
    "duration": 4,
    "start_time": "2023-02-01T12:49:04.695Z"
   },
   {
    "duration": 2,
    "start_time": "2023-02-01T12:49:05.051Z"
   },
   {
    "duration": 32882,
    "start_time": "2023-02-01T12:49:05.354Z"
   },
   {
    "duration": 4,
    "start_time": "2023-02-01T12:49:47.954Z"
   },
   {
    "duration": 2,
    "start_time": "2023-02-01T12:49:48.407Z"
   },
   {
    "duration": 33887,
    "start_time": "2023-02-01T12:49:48.806Z"
   },
   {
    "duration": 5,
    "start_time": "2023-02-01T12:50:28.299Z"
   },
   {
    "duration": 3,
    "start_time": "2023-02-01T12:50:28.649Z"
   },
   {
    "duration": 32448,
    "start_time": "2023-02-01T12:50:29.068Z"
   },
   {
    "duration": 4,
    "start_time": "2023-02-01T12:51:13.855Z"
   },
   {
    "duration": 2,
    "start_time": "2023-02-01T12:51:14.595Z"
   },
   {
    "duration": 80778,
    "start_time": "2023-02-01T12:51:15.060Z"
   },
   {
    "duration": 4,
    "start_time": "2023-02-01T12:52:56.366Z"
   },
   {
    "duration": 20436,
    "start_time": "2023-02-01T14:03:27.383Z"
   },
   {
    "duration": 4971,
    "start_time": "2023-02-01T14:03:47.822Z"
   },
   {
    "duration": 201,
    "start_time": "2023-02-01T14:03:52.794Z"
   },
   {
    "duration": 2484,
    "start_time": "2023-02-01T14:03:52.996Z"
   },
   {
    "duration": 16,
    "start_time": "2023-02-01T14:03:55.482Z"
   },
   {
    "duration": 47,
    "start_time": "2023-02-01T14:03:55.499Z"
   },
   {
    "duration": 220,
    "start_time": "2023-02-01T14:03:55.548Z"
   },
   {
    "duration": 7,
    "start_time": "2023-02-01T14:03:55.769Z"
   },
   {
    "duration": 645,
    "start_time": "2023-02-01T14:03:55.778Z"
   },
   {
    "duration": 3,
    "start_time": "2023-02-01T14:03:56.425Z"
   },
   {
    "duration": 18,
    "start_time": "2023-02-01T14:03:56.430Z"
   },
   {
    "duration": 989757,
    "start_time": "2023-02-01T14:03:56.450Z"
   },
   {
    "duration": 107,
    "start_time": "2023-02-01T14:20:26.210Z"
   },
   {
    "duration": 6,
    "start_time": "2023-02-01T14:20:26.320Z"
   },
   {
    "duration": 5,
    "start_time": "2023-02-01T14:30:02.333Z"
   },
   {
    "duration": 123989,
    "start_time": "2023-02-01T14:30:03.902Z"
   },
   {
    "duration": 4,
    "start_time": "2023-02-01T15:55:01.303Z"
   },
   {
    "duration": 4,
    "start_time": "2023-02-01T15:55:10.750Z"
   },
   {
    "duration": 4,
    "start_time": "2023-02-01T15:59:39.737Z"
   },
   {
    "duration": 1821597,
    "start_time": "2023-02-01T15:59:40.158Z"
   },
   {
    "duration": 4,
    "start_time": "2023-02-01T16:38:52.623Z"
   },
   {
    "duration": 4,
    "start_time": "2023-02-01T16:38:55.192Z"
   },
   {
    "duration": 4,
    "start_time": "2023-02-01T16:39:54.033Z"
   },
   {
    "duration": 280419,
    "start_time": "2023-02-01T16:39:55.234Z"
   },
   {
    "duration": 4,
    "start_time": "2023-02-01T16:45:19.191Z"
   },
   {
    "duration": 4,
    "start_time": "2023-02-01T16:45:23.222Z"
   },
   {
    "duration": 4,
    "start_time": "2023-02-01T16:46:09.917Z"
   },
   {
    "duration": 109162,
    "start_time": "2023-02-01T16:46:11.434Z"
   },
   {
    "duration": 3,
    "start_time": "2023-02-01T16:48:58.850Z"
   },
   {
    "duration": 3,
    "start_time": "2023-02-01T16:49:01.447Z"
   },
   {
    "duration": 4,
    "start_time": "2023-02-01T16:51:55.134Z"
   },
   {
    "duration": 207074,
    "start_time": "2023-02-01T16:51:58.261Z"
   },
   {
    "duration": 3,
    "start_time": "2023-02-01T16:56:44.289Z"
   },
   {
    "duration": 4,
    "start_time": "2023-02-01T16:56:50.715Z"
   },
   {
    "duration": 4,
    "start_time": "2023-02-01T16:56:53.086Z"
   },
   {
    "duration": 4,
    "start_time": "2023-02-01T16:57:05.301Z"
   },
   {
    "duration": 4,
    "start_time": "2023-02-01T16:57:37.586Z"
   },
   {
    "duration": 27039,
    "start_time": "2023-02-01T16:57:39.298Z"
   },
   {
    "duration": 4,
    "start_time": "2023-02-01T16:58:11.823Z"
   },
   {
    "duration": 312715,
    "start_time": "2023-02-01T16:58:15.919Z"
   },
   {
    "duration": 3,
    "start_time": "2023-02-01T17:05:31.734Z"
   },
   {
    "duration": 3,
    "start_time": "2023-02-01T17:05:54.309Z"
   },
   {
    "duration": 4,
    "start_time": "2023-02-01T17:06:08.790Z"
   },
   {
    "duration": 6,
    "start_time": "2023-02-01T17:06:49.785Z"
   },
   {
    "duration": 199823,
    "start_time": "2023-02-01T17:06:53.827Z"
   },
   {
    "duration": 4,
    "start_time": "2023-02-01T17:11:16.617Z"
   },
   {
    "duration": 4,
    "start_time": "2023-02-01T17:11:20.152Z"
   },
   {
    "duration": 3,
    "start_time": "2023-02-01T17:12:43.995Z"
   },
   {
    "duration": 219554,
    "start_time": "2023-02-01T17:12:45.256Z"
   },
   {
    "duration": 4,
    "start_time": "2023-02-01T17:18:28.692Z"
   },
   {
    "duration": 4,
    "start_time": "2023-02-01T17:18:35.237Z"
   },
   {
    "duration": 4,
    "start_time": "2023-02-01T17:20:08.488Z"
   },
   {
    "duration": 15087,
    "start_time": "2023-02-01T17:20:11.602Z"
   },
   {
    "duration": 44,
    "start_time": "2023-02-01T17:20:33.394Z"
   },
   {
    "duration": 5,
    "start_time": "2023-02-01T17:20:38.619Z"
   },
   {
    "duration": 4914,
    "start_time": "2023-02-01T17:20:40.196Z"
   },
   {
    "duration": 4,
    "start_time": "2023-02-01T17:22:20.631Z"
   },
   {
    "duration": 22625,
    "start_time": "2023-02-01T17:22:21.861Z"
   },
   {
    "duration": 4,
    "start_time": "2023-02-01T17:22:58.219Z"
   },
   {
    "duration": 6702,
    "start_time": "2023-02-01T17:22:59.391Z"
   },
   {
    "duration": 4,
    "start_time": "2023-02-01T17:23:10.192Z"
   },
   {
    "duration": 40432,
    "start_time": "2023-02-01T17:23:11.004Z"
   },
   {
    "duration": 5,
    "start_time": "2023-02-01T17:23:57.121Z"
   },
   {
    "duration": 7892,
    "start_time": "2023-02-01T17:23:57.892Z"
   },
   {
    "duration": 4,
    "start_time": "2023-02-01T17:24:11.392Z"
   },
   {
    "duration": 119425,
    "start_time": "2023-02-01T17:24:12.205Z"
   },
   {
    "duration": 4,
    "start_time": "2023-02-01T17:26:27.840Z"
   },
   {
    "duration": 4,
    "start_time": "2023-02-01T17:26:35.792Z"
   },
   {
    "duration": 4,
    "start_time": "2023-02-01T17:27:26.996Z"
   },
   {
    "duration": 228355,
    "start_time": "2023-02-01T17:27:28.203Z"
   },
   {
    "duration": 4,
    "start_time": "2023-02-01T17:32:00.513Z"
   },
   {
    "duration": 4,
    "start_time": "2023-02-01T17:32:05.057Z"
   },
   {
    "duration": 4,
    "start_time": "2023-02-01T17:32:55.631Z"
   },
   {
    "duration": 355561,
    "start_time": "2023-02-01T17:32:57.457Z"
   },
   {
    "duration": 3,
    "start_time": "2023-02-01T17:40:37.020Z"
   },
   {
    "duration": 3,
    "start_time": "2023-02-01T17:40:41.418Z"
   },
   {
    "duration": 4,
    "start_time": "2023-02-01T17:43:27.816Z"
   },
   {
    "duration": 54601,
    "start_time": "2023-02-01T17:43:32.538Z"
   },
   {
    "duration": 4,
    "start_time": "2023-02-01T17:44:42.420Z"
   },
   {
    "duration": 1349240,
    "start_time": "2023-02-01T17:44:44.821Z"
   },
   {
    "duration": 4,
    "start_time": "2023-02-01T18:07:24.841Z"
   },
   {
    "duration": 5,
    "start_time": "2023-02-01T18:07:32.063Z"
   },
   {
    "duration": 4,
    "start_time": "2023-02-01T18:07:49.644Z"
   },
   {
    "duration": 4,
    "start_time": "2023-02-01T18:07:51.718Z"
   },
   {
    "duration": 5,
    "start_time": "2023-02-01T18:07:53.944Z"
   },
   {
    "duration": 29,
    "start_time": "2023-02-01T18:07:56.656Z"
   },
   {
    "duration": 11,
    "start_time": "2023-02-01T18:10:05.631Z"
   },
   {
    "duration": 101,
    "start_time": "2023-02-01T18:11:05.945Z"
   },
   {
    "duration": 82,
    "start_time": "2023-02-01T18:11:37.637Z"
   },
   {
    "duration": 4715,
    "start_time": "2023-02-01T18:11:48.049Z"
   },
   {
    "duration": 73,
    "start_time": "2023-02-01T18:11:59.385Z"
   },
   {
    "duration": 68,
    "start_time": "2023-02-01T18:12:30.740Z"
   },
   {
    "duration": 5398,
    "start_time": "2023-02-01T18:52:25.216Z"
   },
   {
    "duration": 70,
    "start_time": "2023-02-01T18:52:35.202Z"
   },
   {
    "duration": 94,
    "start_time": "2023-02-01T18:52:42.159Z"
   },
   {
    "duration": 5348,
    "start_time": "2023-02-01T18:59:52.086Z"
   },
   {
    "duration": 126,
    "start_time": "2023-02-01T19:00:03.991Z"
   },
   {
    "duration": 2,
    "start_time": "2023-02-01T19:05:45.939Z"
   },
   {
    "duration": 13182,
    "start_time": "2023-02-01T19:05:57.166Z"
   },
   {
    "duration": 41,
    "start_time": "2023-02-01T19:06:19.748Z"
   },
   {
    "duration": 40,
    "start_time": "2023-02-01T19:06:30.477Z"
   },
   {
    "duration": 13085,
    "start_time": "2023-02-01T19:07:05.023Z"
   },
   {
    "duration": 26,
    "start_time": "2023-02-01T19:07:20.971Z"
   },
   {
    "duration": 3,
    "start_time": "2023-02-01T19:09:13.686Z"
   },
   {
    "duration": 5,
    "start_time": "2023-02-01T19:09:17.278Z"
   },
   {
    "duration": 21,
    "start_time": "2023-02-01T19:09:45.806Z"
   },
   {
    "duration": 55,
    "start_time": "2023-02-01T19:09:59.172Z"
   },
   {
    "duration": 43,
    "start_time": "2023-02-01T19:10:04.047Z"
   },
   {
    "duration": 80,
    "start_time": "2023-02-01T19:14:38.499Z"
   },
   {
    "duration": 33,
    "start_time": "2023-02-01T19:14:42.577Z"
   },
   {
    "duration": 3,
    "start_time": "2023-02-01T19:16:18.968Z"
   },
   {
    "duration": 3,
    "start_time": "2023-02-01T19:16:21.217Z"
   },
   {
    "duration": 5,
    "start_time": "2023-02-01T19:16:56.965Z"
   },
   {
    "duration": 4,
    "start_time": "2023-02-01T19:17:04.483Z"
   },
   {
    "duration": 3,
    "start_time": "2023-02-01T19:18:18.742Z"
   },
   {
    "duration": 11224,
    "start_time": "2023-02-01T19:18:19.962Z"
   },
   {
    "duration": 22,
    "start_time": "2023-02-01T19:19:11.566Z"
   },
   {
    "duration": 25,
    "start_time": "2023-02-01T19:21:05.693Z"
   },
   {
    "duration": 363,
    "start_time": "2023-02-01T19:21:13.768Z"
   },
   {
    "duration": 16372,
    "start_time": "2023-02-01T19:22:48.186Z"
   },
   {
    "duration": 41,
    "start_time": "2023-02-01T19:23:07.967Z"
   },
   {
    "duration": 592,
    "start_time": "2023-02-01T19:23:09.982Z"
   },
   {
    "duration": 12,
    "start_time": "2023-02-01T19:23:14.132Z"
   },
   {
    "duration": 4,
    "start_time": "2023-02-01T19:23:15.984Z"
   },
   {
    "duration": 312587,
    "start_time": "2023-02-01T19:23:18.966Z"
   },
   {
    "duration": 5,
    "start_time": "2023-02-01T19:31:59.686Z"
   },
   {
    "duration": 8,
    "start_time": "2023-02-01T19:32:01.570Z"
   },
   {
    "duration": 758,
    "start_time": "2023-02-01T19:32:03.705Z"
   },
   {
    "duration": 56,
    "start_time": "2023-02-01T19:32:52.638Z"
   },
   {
    "duration": 1344,
    "start_time": "2023-02-01T19:32:54.007Z"
   },
   {
    "duration": 19,
    "start_time": "2023-02-01T19:32:58.304Z"
   },
   {
    "duration": 4,
    "start_time": "2023-02-01T19:33:03.627Z"
   },
   {
    "duration": 14198,
    "start_time": "2023-02-01T19:33:05.918Z"
   },
   {
    "duration": 25487,
    "start_time": "2023-02-01T19:33:23.203Z"
   },
   {
    "duration": 461910,
    "start_time": "2023-02-01T19:34:03.045Z"
   },
   {
    "duration": 4,
    "start_time": "2023-02-01T19:42:09.838Z"
   },
   {
    "duration": 6,
    "start_time": "2023-02-01T19:42:12.136Z"
   },
   {
    "duration": 1345,
    "start_time": "2023-02-01T19:42:13.208Z"
   },
   {
    "duration": 50,
    "start_time": "2023-02-01T19:42:52.969Z"
   },
   {
    "duration": 2643,
    "start_time": "2023-02-01T19:42:54.148Z"
   },
   {
    "duration": 54,
    "start_time": "2023-02-01T19:42:57.969Z"
   },
   {
    "duration": 4,
    "start_time": "2023-02-01T19:42:59.000Z"
   },
   {
    "duration": 64774,
    "start_time": "2023-02-01T19:43:02.009Z"
   },
   {
    "duration": 41,
    "start_time": "2023-02-01T19:44:14.905Z"
   },
   {
    "duration": 1565,
    "start_time": "2023-02-01T19:44:15.434Z"
   },
   {
    "duration": 65,
    "start_time": "2023-02-01T19:44:17.001Z"
   },
   {
    "duration": 5,
    "start_time": "2023-02-01T19:44:17.823Z"
   },
   {
    "duration": 127113,
    "start_time": "2023-02-01T19:44:19.465Z"
   },
   {
    "duration": 39,
    "start_time": "2023-02-01T19:46:33.367Z"
   },
   {
    "duration": 1122,
    "start_time": "2023-02-01T19:46:34.167Z"
   },
   {
    "duration": 22,
    "start_time": "2023-02-01T19:46:35.795Z"
   },
   {
    "duration": 4,
    "start_time": "2023-02-01T19:46:39.131Z"
   },
   {
    "duration": 597166,
    "start_time": "2023-02-01T19:46:44.593Z"
   },
   {
    "duration": 5,
    "start_time": "2023-02-01T19:56:41.765Z"
   },
   {
    "duration": 11,
    "start_time": "2023-02-01T19:56:41.771Z"
   },
   {
    "duration": 1269,
    "start_time": "2023-02-01T19:56:41.784Z"
   },
   {
    "duration": 12478,
    "start_time": "2023-02-01T19:58:12.121Z"
   },
   {
    "duration": 5306,
    "start_time": "2023-02-01T19:58:24.602Z"
   },
   {
    "duration": 129,
    "start_time": "2023-02-01T19:58:29.915Z"
   },
   {
    "duration": 2786,
    "start_time": "2023-02-01T19:58:30.046Z"
   },
   {
    "duration": 29,
    "start_time": "2023-02-01T19:58:32.834Z"
   },
   {
    "duration": 54,
    "start_time": "2023-02-01T19:58:32.865Z"
   },
   {
    "duration": 243,
    "start_time": "2023-02-01T19:58:32.922Z"
   },
   {
    "duration": 9,
    "start_time": "2023-02-01T19:58:33.167Z"
   },
   {
    "duration": 709,
    "start_time": "2023-02-01T19:58:33.179Z"
   },
   {
    "duration": 4,
    "start_time": "2023-02-01T19:58:33.889Z"
   },
   {
    "duration": 1092241,
    "start_time": "2023-02-01T19:58:33.895Z"
   },
   {
    "duration": 79,
    "start_time": "2023-02-01T20:16:46.160Z"
   },
   {
    "duration": 5,
    "start_time": "2023-02-01T20:16:46.240Z"
   },
   {
    "duration": 4718,
    "start_time": "2023-02-01T20:16:46.248Z"
   },
   {
    "duration": 5,
    "start_time": "2023-02-01T20:16:50.967Z"
   },
   {
    "duration": 123425,
    "start_time": "2023-02-01T20:16:50.974Z"
   },
   {
    "duration": 4,
    "start_time": "2023-02-01T20:18:54.400Z"
   },
   {
    "duration": 6,
    "start_time": "2023-02-01T20:18:54.406Z"
   },
   {
    "duration": 8,
    "start_time": "2023-02-01T20:18:54.414Z"
   },
   {
    "duration": 392763,
    "start_time": "2023-02-01T20:18:54.424Z"
   },
   {
    "duration": 4,
    "start_time": "2023-02-01T20:25:27.189Z"
   },
   {
    "duration": 9,
    "start_time": "2023-02-01T20:25:27.195Z"
   },
   {
    "duration": 6,
    "start_time": "2023-02-01T20:25:27.206Z"
   },
   {
    "duration": 1750448,
    "start_time": "2023-02-01T20:25:27.214Z"
   },
   {
    "duration": 7,
    "start_time": "2023-02-01T20:54:37.663Z"
   },
   {
    "duration": 7,
    "start_time": "2023-02-01T20:54:37.672Z"
   },
   {
    "duration": 8,
    "start_time": "2023-02-01T20:54:37.682Z"
   },
   {
    "duration": 5,
    "start_time": "2023-02-01T20:54:37.692Z"
   },
   {
    "duration": 6,
    "start_time": "2023-02-01T20:54:37.698Z"
   },
   {
    "duration": 62,
    "start_time": "2023-02-01T20:54:37.705Z"
   },
   {
    "duration": 4,
    "start_time": "2023-02-01T20:54:37.769Z"
   },
   {
    "duration": 9318,
    "start_time": "2023-02-01T20:54:37.775Z"
   },
   {
    "duration": 22,
    "start_time": "2023-02-01T20:54:47.095Z"
   },
   {
    "duration": 349,
    "start_time": "2023-02-01T20:54:47.118Z"
   },
   {
    "duration": 7895,
    "start_time": "2023-02-01T20:54:47.469Z"
   },
   {
    "duration": 38,
    "start_time": "2023-02-01T20:54:55.366Z"
   },
   {
    "duration": 1088,
    "start_time": "2023-02-01T20:54:55.405Z"
   },
   {
    "duration": 23,
    "start_time": "2023-02-01T20:54:56.494Z"
   },
   {
    "duration": 12,
    "start_time": "2023-02-01T20:54:56.519Z"
   },
   {
    "duration": 458525,
    "start_time": "2023-02-01T20:54:56.549Z"
   },
   {
    "duration": 10,
    "start_time": "2023-02-01T21:02:35.153Z"
   },
   {
    "duration": 26,
    "start_time": "2023-02-01T21:02:35.168Z"
   },
   {
    "duration": 1261,
    "start_time": "2023-02-01T21:02:35.196Z"
   }
  ],
  "kernelspec": {
   "display_name": "Python 3 (ipykernel)",
   "language": "python",
   "name": "python3"
  },
  "language_info": {
   "codemirror_mode": {
    "name": "ipython",
    "version": 3
   },
   "file_extension": ".py",
   "mimetype": "text/x-python",
   "name": "python",
   "nbconvert_exporter": "python",
   "pygments_lexer": "ipython3",
   "version": "3.9.5"
  },
  "toc": {
   "base_numbering": 1,
   "nav_menu": {
    "height": "433px",
    "width": "378.405px"
   },
   "number_sections": true,
   "sideBar": true,
   "skip_h1_title": true,
   "title_cell": "Содержание",
   "title_sidebar": "Contents",
   "toc_cell": true,
   "toc_position": {
    "height": "calc(100% - 180px)",
    "left": "10px",
    "top": "150px",
    "width": "234.476px"
   },
   "toc_section_display": true,
   "toc_window_display": true
  }
 },
 "nbformat": 4,
 "nbformat_minor": 2
}
